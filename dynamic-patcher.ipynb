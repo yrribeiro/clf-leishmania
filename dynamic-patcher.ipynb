{
 "cells": [
  {
   "cell_type": "markdown",
   "metadata": {},
   "source": [
    "# A recreation of [Gonçalves et al (2023)](https://www.mdpi.com/2076-3417/13/14/8076) dynamic patcher algorithm\n",
    "Dynamic sliding window size and stride based on leishmania presence/absence \\\n",
    "(its an open source code but that thing is unreadable)"
   ]
  },
  {
   "cell_type": "markdown",
   "metadata": {},
   "source": [
    "## Optimal hyperparameters discovered by paper authors\n",
    "\n",
    "| Hyper-Parameter                                         | Value     | Tested options                             |\n",
    "|---------------------------------------------------------|-----------|--------------------------------------------|\n",
    "| Dimensions of the clippings                             | 96 × 96   | [96 × 96, 128 × 128, 256 × 256, 512 × 512] |\n",
    "| Step between clippings with the presence of amastigotes | 12 pixels | [8, 12, 16, 32]                            |\n",
    "| Step between clippings with absence of amastigotes      | 96 pixels | [96, 128, 256]                             |\n",
    "| Minimum area of Leishmania inside the clipping (𝛼)      | 50%       | [40%, 50%]                                 |\n",
    "| Color model for the clippings                           | RGB       | [LUV, LAB, RGB]                            |"
   ]
  },
  {
   "cell_type": "markdown",
   "metadata": {},
   "source": [
    "## Imports, folder paths and constants"
   ]
  },
  {
   "cell_type": "code",
   "execution_count": 4,
   "metadata": {},
   "outputs": [],
   "source": [
    "import os\n",
    "import numpy as np\n",
    "import pandas as pd\n",
    "from tqdm import tqdm\n",
    "from matplotlib import pyplot as plt\n",
    "import cv2\n",
    "from skimage.measure import regionprops\n",
    "\n",
    "# IMGS_FOLDER_PATH = '../data/d1/images/' # preprocessed images with CLAHE\n",
    "# MASKS_FOLDER_PATH = '../data/d1/labels/'\n",
    "# LEISH_OUTPUT_PATH = './leish/'\n",
    "# LEISH_MASKS_OUTPUT_PATH = './leish/masks/'\n",
    "# NO_LEISH_OUTPUT_PATH = './no-leish/'\n",
    "# # print(\n",
    "# #     'image shape = ', cv2.imread(os.path.join(IMGS_FOLDER_PATH, 'D1.JPG')).shape, '\\n'\n",
    "# #     'mask shape = ', cv2.imread(os.path.join(MASKS_FOLDER_PATH, 'D1-mask.png')).shape,\n",
    "# # )\n",
    "# SHAPE = (2448, 3264, 3)\n",
    "# WITH_LEISH_STRIDE = 12\n",
    "# NO_LEISH_STRIDE = 98\n",
    "# ALPHA = 0.20"
   ]
  },
  {
   "cell_type": "markdown",
   "metadata": {},
   "source": [
    "## Auxiliary functions"
   ]
  },
  {
   "cell_type": "code",
   "execution_count": 5,
   "metadata": {},
   "outputs": [],
   "source": [
    "def is_alpha(mask_patch, tot_img_area, ALPHA):\n",
    "    leish_area = regionprops(mask_patch)[0].area\n",
    "    return (leish_area/tot_img_area) > ALPHA"
   ]
  },
  {
   "cell_type": "code",
   "execution_count": 6,
   "metadata": {},
   "outputs": [],
   "source": [
    "def crop(img, mask, img_id, dataset, WITH_LEISH_STRIDE, NO_LEISH_STRIDE, SHAPE):\n",
    "    x, y, i = 0,0,0\n",
    "    end_h, end_w = SHAPE[0], SHAPE[1]\n",
    "    WINDOW_SIZE = stride = 96\n",
    "    tot_img_area = WINDOW_SIZE*WINDOW_SIZE\n",
    "\n",
    "    is_looping = True\n",
    "    while((x + WINDOW_SIZE) <= end_h):\n",
    "        while((y + WINDOW_SIZE) <= end_w):\n",
    "            if (x + WINDOW_SIZE) > end_h or (y + WINDOW_SIZE) > end_w:\n",
    "                is_looping = False\n",
    "                break\n",
    "\n",
    "            img_patch = img[x:x+WINDOW_SIZE, y:y+WINDOW_SIZE]\n",
    "            mask_patch = mask[x:x+WINDOW_SIZE, y:y+WINDOW_SIZE]\n",
    "\n",
    "            label = 0\n",
    "            out_name = f'{img_id[0:-4]}-{x}-{y}.png'\n",
    "            mask_out_name = f'{img_id[0:-4]}-{x}-{y}.png'\n",
    "            if np.any(mask_patch == 1):\n",
    "                has_enough_leish = is_alpha(mask_patch, tot_img_area, ALPHA)\n",
    "                stride = WITH_LEISH_STRIDE\n",
    "                if has_enough_leish:\n",
    "                    label = 1\n",
    "                    cv2.imwrite(LEISH_OUTPUT_PATH+out_name, img_patch)\n",
    "                    # cv2.imwrite(LEISH_MASKS_OUTPUT_PATH+mask_out_name, mask_patch)\n",
    "            else:\n",
    "                stride = NO_LEISH_STRIDE\n",
    "                if np.count_nonzero(img_patch == 255) < 0.5 * tot_img_area:\n",
    "                    cv2.imwrite(NO_LEISH_OUTPUT_PATH+out_name, img_patch)\n",
    "\n",
    "            x += stride\n",
    "            y += stride\n",
    "            i += 1\n",
    "\n",
    "            # pd.concat(\n",
    "            #     [\n",
    "            #         dataset,\n",
    "            #         pd.Series({\n",
    "            #             'label': label,\n",
    "            #             'patch_id': out_name,\n",
    "            #             'patch_mask_id': mask_out_name,\n",
    "            #             'original_image_id': img_id,\n",
    "            #         })\n",
    "            #     ],\n",
    "            #     ignore_index=True\n",
    "            # )\n",
    "        if not is_looping:\n",
    "            break"
   ]
  },
  {
   "cell_type": "code",
   "execution_count": 16,
   "metadata": {},
   "outputs": [],
   "source": [
    "def generate_idv_masks(img_file, dataset, WINDOW_SIZE):\n",
    "    if dataset == 2:\n",
    "        ext = '.jpg'\n",
    "        ext_mask = '_label.jpg'\n",
    "        output_folder = './d2-tentativa2/leish/masks/'\n",
    "        mask_folder = './data-preproc/d2-pilEnhance/masks/'\n",
    "        img_id, coord_x, coord_y = img_file.split('-')\n",
    "        img_id += ext\n",
    "        orig_img = cv2.imread(img_id)\n",
    "\n",
    "        img_num, *_ = img_id.split('_')\n",
    "        mask_id = img_num + ext_mask\n",
    "        mask = cv2.imread(os.path.join(output_folder,mask_id))\n",
    "\n",
    "        if orig_img is not None:\n",
    "            x2, y2 = coord_x+WINDOW_SIZE, coord_y+WINDOW_SIZE\n",
    "            mask_idv = mask[coord_x:x2, coord_y:y2]\n",
    "            out_name = os.path.join(output_folder, f'{img_id}-mask-{coord_x}-{coord_y}.png')\n",
    "            cv2.imwrite(out_name, mask_idv)"
   ]
  },
  {
   "cell_type": "markdown",
   "metadata": {},
   "source": [
    "## Main function"
   ]
  },
  {
   "cell_type": "code",
   "execution_count": 28,
   "metadata": {},
   "outputs": [],
   "source": [
    "def dynamic_patcher(\n",
    "        IMGS_FOLDER_PATH=IMGS_FOLDER_PATH,\n",
    "        MASKS_FOLDER_PATH=MASKS_FOLDER_PATH,\n",
    "        SHAPE=SHAPE,\n",
    "        WITH_LEISH_STRIDE=WITH_LEISH_STRIDE,\n",
    "        NO_LEISH_STRIDE=NO_LEISH_STRIDE,\n",
    "        ALPHA=ALPHA):\n",
    "\n",
    "    dataset = pd.DataFrame(columns=['label', 'patch_id', 'patch_mask_id', 'original_image_id'])\n",
    "    all_imgs = os.listdir(IMGS_FOLDER_PATH)\n",
    "    all_masks = os.listdir(MASKS_FOLDER_PATH)\n",
    "    imgs_n_masks = zip(all_imgs, all_masks)\n",
    "    print('Total images = ', len(all_imgs), '\\nTotal masks = ', len(all_masks))\n",
    "\n",
    "    for img_id, mask_id in tqdm(imgs_n_masks, total=len(all_imgs)):\n",
    "        img = cv2.imread(os.path.join(IMGS_FOLDER_PATH,img_id))\n",
    "        img = cv2.cvtColor(img, cv2.COLOR_BGR2RGB)\n",
    "        # img = img / 255.0\n",
    "\n",
    "        mask = cv2.imread(os.path.join(MASKS_FOLDER_PATH,mask_id), 0)\n",
    "        mask = (mask > 0).astype(int)\n",
    "\n",
    "        crop(img, mask, img_id, dataset, WITH_LEISH_STRIDE, NO_LEISH_STRIDE, SHAPE)\n",
    "\n",
    "    # dataset.to_csv('data.csv', index=False)\n"
   ]
  },
  {
   "cell_type": "markdown",
   "metadata": {},
   "source": [
    "## Execution and results"
   ]
  },
  {
   "cell_type": "code",
   "execution_count": 9,
   "metadata": {},
   "outputs": [],
   "source": [
    "IMGS_FOLDER_PATH = './data-preproc/d1-imgRang/images/' # preprocessed images with PIL.Enhance\n",
    "\n",
    "# Path.cwd().joinpath('./d2-patches/leish/').mkdir(parents=True, exist_ok=False)\n",
    "LEISH_OUTPUT_PATH = './d1-tentativa2/leish/'\n",
    "\n",
    "# Path.cwd().joinpath('./d2-patches/no-leish/').mkdir(parents=True, exist_ok=False)\n",
    "NO_LEISH_OUTPUT_PATH = './d1-tentativa2/no-leish/'\n",
    "\n",
    "MASKS_FOLDER_PATH = './data-preproc/d1-imgRang/masks/'\n",
    "# LEISH_MASKS_OUTPUT_PATH = './d1-tentativa2/leish/masks/'\n",
    "# SHAPE = (2571, 2726, 3) # D2 IMG SHAPE\n",
    "SHAPE = (3264, 2448, 3) # D1 IMG SHAPE\n",
    "WITH_LEISH_STRIDE = 12\n",
    "NO_LEISH_STRIDE = 96\n",
    "ALPHA = 0.20"
   ]
  },
  {
   "cell_type": "code",
   "execution_count": 8,
   "metadata": {},
   "outputs": [
    {
     "name": "stdout",
     "output_type": "stream",
     "text": [
      "Total images =  45 \n",
      "Total masks =  45\n"
     ]
    },
    {
     "name": "stderr",
     "output_type": "stream",
     "text": [
      "  0%|          | 0/45 [02:08<?, ?it/s]\n"
     ]
    },
    {
     "ename": "KeyboardInterrupt",
     "evalue": "",
     "output_type": "error",
     "traceback": [
      "\u001b[1;31m---------------------------------------------------------------------------\u001b[0m",
      "\u001b[1;31mKeyboardInterrupt\u001b[0m                         Traceback (most recent call last)",
      "\u001b[1;32mc:\\Users\\ynk9a\\OneDrive\\Documentos\\TCC\\Leishmania\\semana18\\dynamic-patcher.ipynb Cell 13\u001b[0m line \u001b[0;36m1\n\u001b[1;32m----> <a href='vscode-notebook-cell:/c%3A/Users/ynk9a/OneDrive/Documentos/TCC/Leishmania/semana18/dynamic-patcher.ipynb#X21sZmlsZQ%3D%3D?line=0'>1</a>\u001b[0m dynamic_patcher()\n\u001b[0;32m      <a href='vscode-notebook-cell:/c%3A/Users/ynk9a/OneDrive/Documentos/TCC/Leishmania/semana18/dynamic-patcher.ipynb#X21sZmlsZQ%3D%3D?line=1'>2</a>\u001b[0m tot_leish, tot_no_leish \u001b[39m=\u001b[39m \u001b[39mlen\u001b[39m(os\u001b[39m.\u001b[39mlistdir(LEISH_OUTPUT_PATH))\u001b[39m-\u001b[39m\u001b[39m1\u001b[39m, \u001b[39mlen\u001b[39m(os\u001b[39m.\u001b[39mlistdir(NO_LEISH_OUTPUT_PATH))\n\u001b[0;32m      <a href='vscode-notebook-cell:/c%3A/Users/ynk9a/OneDrive/Documentos/TCC/Leishmania/semana18/dynamic-patcher.ipynb#X21sZmlsZQ%3D%3D?line=2'>3</a>\u001b[0m \u001b[39mprint\u001b[39m(\u001b[39mf\u001b[39m\u001b[39m'\u001b[39m\u001b[39mTotal patches WITH LEISHMANIA generated = \u001b[39m\u001b[39m{\u001b[39;00mtot_leish\u001b[39m}\u001b[39;00m\u001b[39m\\n\u001b[39;00m\u001b[39mTotal patches WITHOUT = \u001b[39m\u001b[39m{\u001b[39;00mtot_no_leish\u001b[39m}\u001b[39;00m\u001b[39m\\n\u001b[39;00m\u001b[39mProportion = \u001b[39m\u001b[39m{\u001b[39;00mtot_leish\u001b[39m/\u001b[39mtot_no_leish\u001b[39m:\u001b[39;00m\u001b[39m.2f\u001b[39m\u001b[39m}\u001b[39;00m\u001b[39m'\u001b[39m)\n",
      "\u001b[1;32mc:\\Users\\ynk9a\\OneDrive\\Documentos\\TCC\\Leishmania\\semana18\\dynamic-patcher.ipynb Cell 13\u001b[0m line \u001b[0;36m1\n\u001b[0;32m    <a href='vscode-notebook-cell:/c%3A/Users/ynk9a/OneDrive/Documentos/TCC/Leishmania/semana18/dynamic-patcher.ipynb#X21sZmlsZQ%3D%3D?line=99'>100</a>\u001b[0m mask \u001b[39m=\u001b[39m cv2\u001b[39m.\u001b[39mimread(os\u001b[39m.\u001b[39mpath\u001b[39m.\u001b[39mjoin(MASKS_FOLDER_PATH,mask_id), \u001b[39m0\u001b[39m)\n\u001b[0;32m    <a href='vscode-notebook-cell:/c%3A/Users/ynk9a/OneDrive/Documentos/TCC/Leishmania/semana18/dynamic-patcher.ipynb#X21sZmlsZQ%3D%3D?line=100'>101</a>\u001b[0m mask \u001b[39m=\u001b[39m (mask \u001b[39m>\u001b[39m \u001b[39m0\u001b[39m)\u001b[39m.\u001b[39mastype(\u001b[39mint\u001b[39m)\n\u001b[1;32m--> <a href='vscode-notebook-cell:/c%3A/Users/ynk9a/OneDrive/Documentos/TCC/Leishmania/semana18/dynamic-patcher.ipynb#X21sZmlsZQ%3D%3D?line=102'>103</a>\u001b[0m crop(img, mask, img_id, dataset, WITH_LEISH_STRIDE, NO_LEISH_STRIDE, SHAPE)\n",
      "\u001b[1;32mc:\\Users\\ynk9a\\OneDrive\\Documentos\\TCC\\Leishmania\\semana18\\dynamic-patcher.ipynb Cell 13\u001b[0m line \u001b[0;36m9\n\u001b[0;32m      <a href='vscode-notebook-cell:/c%3A/Users/ynk9a/OneDrive/Documentos/TCC/Leishmania/semana18/dynamic-patcher.ipynb#X21sZmlsZQ%3D%3D?line=6'>7</a>\u001b[0m is_looping \u001b[39m=\u001b[39m \u001b[39mTrue\u001b[39;00m\n\u001b[0;32m      <a href='vscode-notebook-cell:/c%3A/Users/ynk9a/OneDrive/Documentos/TCC/Leishmania/semana18/dynamic-patcher.ipynb#X21sZmlsZQ%3D%3D?line=7'>8</a>\u001b[0m \u001b[39mwhile\u001b[39;00m((x \u001b[39m+\u001b[39m WINDOW_SIZE) \u001b[39m<\u001b[39m\u001b[39m=\u001b[39m end_h):\n\u001b[1;32m----> <a href='vscode-notebook-cell:/c%3A/Users/ynk9a/OneDrive/Documentos/TCC/Leishmania/semana18/dynamic-patcher.ipynb#X21sZmlsZQ%3D%3D?line=8'>9</a>\u001b[0m     \u001b[39mwhile\u001b[39;00m((y \u001b[39m+\u001b[39;49m WINDOW_SIZE) \u001b[39m<\u001b[39;49m\u001b[39m=\u001b[39;49m end_w):\n\u001b[0;32m     <a href='vscode-notebook-cell:/c%3A/Users/ynk9a/OneDrive/Documentos/TCC/Leishmania/semana18/dynamic-patcher.ipynb#X21sZmlsZQ%3D%3D?line=9'>10</a>\u001b[0m         \u001b[39mif\u001b[39;00m (x \u001b[39m+\u001b[39m WINDOW_SIZE) \u001b[39m>\u001b[39m end_h \u001b[39mor\u001b[39;00m (y \u001b[39m+\u001b[39m WINDOW_SIZE) \u001b[39m>\u001b[39m end_w:\n\u001b[0;32m     <a href='vscode-notebook-cell:/c%3A/Users/ynk9a/OneDrive/Documentos/TCC/Leishmania/semana18/dynamic-patcher.ipynb#X21sZmlsZQ%3D%3D?line=10'>11</a>\u001b[0m             is_looping \u001b[39m=\u001b[39m \u001b[39mFalse\u001b[39;00m\n",
      "\u001b[1;31mKeyboardInterrupt\u001b[0m: "
     ]
    }
   ],
   "source": [
    "dynamic_patcher()\n",
    "tot_leish, tot_no_leish = len(os.listdir(LEISH_OUTPUT_PATH))-1, len(os.listdir(NO_LEISH_OUTPUT_PATH))\n",
    "print(f'Total patches WITH LEISHMANIA generated = {tot_leish}\\nTotal patches WITHOUT = {tot_no_leish}\\nProportion = {tot_leish/tot_no_leish:.2f}')"
   ]
  },
  {
   "cell_type": "markdown",
   "metadata": {},
   "source": [
    "# Creating patches for D2 enhanced images"
   ]
  },
  {
   "cell_type": "code",
   "execution_count": 6,
   "metadata": {},
   "outputs": [],
   "source": [
    "from PIL import Image\n",
    "from pathlib import Path\n",
    "\n",
    "IMGS_FOLDER_PATH = './data-preproc/d2-pilEnhance/images/' # preprocessed images with PIL.Enhance\n",
    "\n",
    "# Path.cwd().joinpath('./d2-patches/leish/').mkdir(parents=True, exist_ok=False)\n",
    "LEISH_OUTPUT_PATH = './d2-tentativa2/leish/' # TODO: refactor main func to handle path with Pathlib library\n",
    "\n",
    "# Path.cwd().joinpath('./d2-patches/no-leish/').mkdir(parents=True, exist_ok=False)\n",
    "NO_LEISH_OUTPUT_PATH = './d2-tentativa2/no-leish/'\n",
    "LEISH_MASKS_OUTPUT_PATH = './d2-tentativa2/leish/masks/'\n",
    "\n",
    "MASKS_FOLDER_PATH = './data-preproc/d2-pilEnhance/masks/'\n",
    "SHAPE = (2571, 2726, 3)\n",
    "WITH_LEISH_STRIDE = 12\n",
    "NO_LEISH_STRIDE = 98\n",
    "ALPHA = 0.20"
   ]
  },
  {
   "cell_type": "code",
   "execution_count": 11,
   "metadata": {},
   "outputs": [
    {
     "name": "stdout",
     "output_type": "stream",
     "text": [
      "Total images =  45 \n",
      "Total masks =  45\n"
     ]
    },
    {
     "name": "stderr",
     "output_type": "stream",
     "text": [
      "  0%|          | 0/45 [00:30<?, ?it/s]\n"
     ]
    },
    {
     "ename": "KeyboardInterrupt",
     "evalue": "",
     "output_type": "error",
     "traceback": [
      "\u001b[1;31m---------------------------------------------------------------------------\u001b[0m",
      "\u001b[1;31mKeyboardInterrupt\u001b[0m                         Traceback (most recent call last)",
      "\u001b[1;32mc:\\Users\\ynk9a\\OneDrive\\Documentos\\TCC\\Leishmania\\semana18\\dynamic-patcher.ipynb Cell 16\u001b[0m line \u001b[0;36m4\n\u001b[0;32m      <a href='vscode-notebook-cell:/c%3A/Users/ynk9a/OneDrive/Documentos/TCC/Leishmania/semana18/dynamic-patcher.ipynb#X24sZmlsZQ%3D%3D?line=0'>1</a>\u001b[0m \u001b[39mfrom\u001b[39;00m \u001b[39mdyn\u001b[39;00m \u001b[39mimport\u001b[39;00m dynamic_patcher \u001b[39mas\u001b[39;00m dyn_from_script\n\u001b[0;32m      <a href='vscode-notebook-cell:/c%3A/Users/ynk9a/OneDrive/Documentos/TCC/Leishmania/semana18/dynamic-patcher.ipynb#X24sZmlsZQ%3D%3D?line=1'>2</a>\u001b[0m \u001b[39mimport\u001b[39;00m \u001b[39mos\u001b[39;00m\n\u001b[1;32m----> <a href='vscode-notebook-cell:/c%3A/Users/ynk9a/OneDrive/Documentos/TCC/Leishmania/semana18/dynamic-patcher.ipynb#X24sZmlsZQ%3D%3D?line=3'>4</a>\u001b[0m dyn_from_script()\n\u001b[0;32m      <a href='vscode-notebook-cell:/c%3A/Users/ynk9a/OneDrive/Documentos/TCC/Leishmania/semana18/dynamic-patcher.ipynb#X24sZmlsZQ%3D%3D?line=4'>5</a>\u001b[0m tot_leish, tot_no_leish \u001b[39m=\u001b[39m \u001b[39mlen\u001b[39m(os\u001b[39m.\u001b[39mlistdir(LEISH_OUTPUT_PATH))\u001b[39m-\u001b[39m\u001b[39m1\u001b[39m, \u001b[39mlen\u001b[39m(os\u001b[39m.\u001b[39mlistdir(NO_LEISH_OUTPUT_PATH))\n\u001b[0;32m      <a href='vscode-notebook-cell:/c%3A/Users/ynk9a/OneDrive/Documentos/TCC/Leishmania/semana18/dynamic-patcher.ipynb#X24sZmlsZQ%3D%3D?line=5'>6</a>\u001b[0m \u001b[39mprint\u001b[39m(\u001b[39mf\u001b[39m\u001b[39m'\u001b[39m\u001b[39mTotal patches WITH LEISHMANIA generated = \u001b[39m\u001b[39m{\u001b[39;00mtot_leish\u001b[39m}\u001b[39;00m\u001b[39m\\n\u001b[39;00m\u001b[39mTotal patches WITHOUT = \u001b[39m\u001b[39m{\u001b[39;00mtot_no_leish\u001b[39m}\u001b[39;00m\u001b[39m\\n\u001b[39;00m\u001b[39mProportion = \u001b[39m\u001b[39m{\u001b[39;00mtot_leish\u001b[39m/\u001b[39mtot_no_leish\u001b[39m:\u001b[39;00m\u001b[39m.2f\u001b[39m\u001b[39m}\u001b[39;00m\u001b[39m'\u001b[39m)\n",
      "File \u001b[1;32mc:\\Users\\ynk9a\\OneDrive\\Documentos\\TCC\\Leishmania\\semana18\\dyn.py:103\u001b[0m, in \u001b[0;36mdynamic_patcher\u001b[1;34m(IMGS_FOLDER_PATH, MASKS_FOLDER_PATH, SHAPE, WITH_LEISH_STRIDE, NO_LEISH_STRIDE, ALPHA)\u001b[0m\n\u001b[0;32m    100\u001b[0m mask \u001b[39m=\u001b[39m cv2\u001b[39m.\u001b[39mimread(os\u001b[39m.\u001b[39mpath\u001b[39m.\u001b[39mjoin(MASKS_FOLDER_PATH,mask_id), \u001b[39m0\u001b[39m)\n\u001b[0;32m    101\u001b[0m mask \u001b[39m=\u001b[39m (mask \u001b[39m>\u001b[39m \u001b[39m0\u001b[39m)\u001b[39m.\u001b[39mastype(\u001b[39mint\u001b[39m)\n\u001b[1;32m--> 103\u001b[0m crop(img, mask, img_id, dataset, WITH_LEISH_STRIDE, NO_LEISH_STRIDE, SHAPE)\n",
      "File \u001b[1;32mc:\\Users\\ynk9a\\OneDrive\\Documentos\\TCC\\Leishmania\\semana18\\dyn.py:38\u001b[0m, in \u001b[0;36mcrop\u001b[1;34m(img, mask, img_id, dataset, WITH_LEISH_STRIDE, NO_LEISH_STRIDE, SHAPE)\u001b[0m\n\u001b[0;32m     35\u001b[0m tot_img_area \u001b[39m=\u001b[39m WINDOW_SIZE\u001b[39m*\u001b[39mWINDOW_SIZE\n\u001b[0;32m     37\u001b[0m is_looping \u001b[39m=\u001b[39m \u001b[39mTrue\u001b[39;00m\n\u001b[1;32m---> 38\u001b[0m \u001b[39mwhile\u001b[39;00m((x \u001b[39m+\u001b[39;49m WINDOW_SIZE) \u001b[39m<\u001b[39;49m\u001b[39m=\u001b[39;49m end_h):\n\u001b[0;32m     39\u001b[0m     \u001b[39mwhile\u001b[39;00m((y \u001b[39m+\u001b[39m WINDOW_SIZE) \u001b[39m<\u001b[39m\u001b[39m=\u001b[39m end_w):\n\u001b[0;32m     40\u001b[0m         \u001b[39mif\u001b[39;00m (x \u001b[39m+\u001b[39m WINDOW_SIZE) \u001b[39m>\u001b[39m end_h \u001b[39mor\u001b[39;00m (y \u001b[39m+\u001b[39m WINDOW_SIZE) \u001b[39m>\u001b[39m end_w:\n",
      "\u001b[1;31mKeyboardInterrupt\u001b[0m: "
     ]
    }
   ],
   "source": [
    "from dyn import dynamic_patcher as dyn_from_script\n",
    "import os\n",
    "\n",
    "dyn_from_script()\n",
    "tot_leish, tot_no_leish = len(os.listdir(LEISH_OUTPUT_PATH))-1, len(os.listdir(NO_LEISH_OUTPUT_PATH))\n",
    "print(f'Total patches WITH LEISHMANIA generated = {tot_leish}\\nTotal patches WITHOUT = {tot_no_leish}\\nProportion = {tot_leish/tot_no_leish:.2f}')"
   ]
  },
  {
   "cell_type": "code",
   "execution_count": 2,
   "metadata": {},
   "outputs": [],
   "source": [
    "from PIL import Image\n",
    "from pathlib import Path\n",
    "import os\n",
    "import numpy as np\n",
    "import pandas as pd\n",
    "from tqdm import tqdm\n",
    "from matplotlib import pyplot as plt\n",
    "import cv2\n",
    "from skimage.measure import regionprops\n",
    "\n",
    "IMGS_FOLDER_PATH = './data-preproc/d1-imgRang/images/' # preprocessed images with PIL.Enhance\n",
    "\n",
    "# Path.cwd().joinpath('./d2-patches/leish/').mkdir(parents=True, exist_ok=False)\n",
    "LEISH_OUTPUT_PATH = './d1-tentativa2/leish/'\n",
    "\n",
    "# Path.cwd().joinpath('./d2-patches/no-leish/').mkdir(parents=True, exist_ok=False)\n",
    "NO_LEISH_OUTPUT_PATH = './d1-tentativa2/no-leish/'\n",
    "\n",
    "MASKS_FOLDER_PATH = './data-preproc/d1-imgRang/masks/'\n",
    "# LEISH_MASKS_OUTPUT_PATH = './d1-tentativa2/leish/masks/'\n",
    "# SHAPE = (2571, 2726, 3) # D2 IMG SHAPE\n",
    "SHAPE = (3264, 2448, 3) # D1 IMG SHAPE\n",
    "WITH_LEISH_STRIDE = 12\n",
    "NO_LEISH_STRIDE = 96\n",
    "ALPHA = 0.20\n",
    "\n",
    "def is_alpha(mask_patch, tot_img_area, ALPHA):\n",
    "    leish_area = regionprops(mask_patch)[0].area\n",
    "    return (leish_area/tot_img_area) >= ALPHA\n",
    "\n",
    "def crop(img, mask, img_id, dataset, WITH_LEISH_STRIDE, NO_LEISH_STRIDE, SHAPE):\n",
    "    x, y, i = 0,0,0\n",
    "    end_h, end_w = SHAPE[0], SHAPE[1]\n",
    "    WINDOW_SIZE = stride = 96\n",
    "    tot_img_area = WINDOW_SIZE*WINDOW_SIZE\n",
    "\n",
    "    is_looping = True\n",
    "    while((x + WINDOW_SIZE) <= end_h):\n",
    "        while((y + WINDOW_SIZE) <= end_w):\n",
    "            if (x + WINDOW_SIZE) > end_h or (y + WINDOW_SIZE) > end_w:\n",
    "                is_looping = False\n",
    "                break\n",
    "\n",
    "            img_patch = img[x:x+WINDOW_SIZE, y:y+WINDOW_SIZE]\n",
    "            mask_patch = mask[x:x+WINDOW_SIZE, y:y+WINDOW_SIZE]\n",
    "\n",
    "            label = 0\n",
    "            out_name = f'{img_id[0:-4]}-{x}-{y}.png'\n",
    "            mask_out_name = f'{img_id[0:-4]}-{x}-{y}.png'\n",
    "            if np.any(mask_patch == 1):\n",
    "                has_enough_leish = is_alpha(mask_patch, tot_img_area, ALPHA)\n",
    "                stride = WITH_LEISH_STRIDE\n",
    "                if has_enough_leish:\n",
    "                    label = 1\n",
    "                    cv2.imwrite(LEISH_OUTPUT_PATH+out_name, img_patch)\n",
    "                    # cv2.imwrite(LEISH_MASKS_OUTPUT_PATH+mask_out_name, mask_patch)\n",
    "            else:\n",
    "                stride = NO_LEISH_STRIDE\n",
    "                if np.count_nonzero(img_patch == 255) < 0.5 * tot_img_area:\n",
    "                    cv2.imwrite(NO_LEISH_OUTPUT_PATH+out_name, img_patch)\n",
    "\n",
    "            x += stride\n",
    "            y += stride\n",
    "            i += 1\n",
    "\n",
    "            # pd.concat(\n",
    "            #     [\n",
    "            #         dataset,\n",
    "            #         pd.Series({\n",
    "            #             'label': label,\n",
    "            #             'patch_id': out_name,\n",
    "            #             'patch_mask_id': mask_out_name,\n",
    "            #             'original_image_id': img_id,\n",
    "            #         })\n",
    "            #     ],\n",
    "            #     ignore_index=True\n",
    "            # )\n",
    "        if not is_looping:\n",
    "            break\n",
    "\n",
    "def dynamic_patcher(\n",
    "        IMGS_FOLDER_PATH=IMGS_FOLDER_PATH,\n",
    "        MASKS_FOLDER_PATH=MASKS_FOLDER_PATH,\n",
    "        SHAPE=SHAPE,\n",
    "        WITH_LEISH_STRIDE=WITH_LEISH_STRIDE,\n",
    "        NO_LEISH_STRIDE=NO_LEISH_STRIDE,\n",
    "        ALPHA=ALPHA):\n",
    "\n",
    "    dataset = pd.DataFrame(columns=['label', 'patch_id', 'patch_mask_id', 'original_image_id'])\n",
    "    all_imgs = os.listdir(IMGS_FOLDER_PATH)\n",
    "    all_masks = os.listdir(MASKS_FOLDER_PATH)\n",
    "    imgs_n_masks = zip(all_imgs, all_masks)\n",
    "    print('Total images = ', len(all_imgs), '\\nTotal masks = ', len(all_masks))\n",
    "\n",
    "    for img_id, mask_id in tqdm(imgs_n_masks, total=len(all_imgs)):\n",
    "        img = cv2.imread(os.path.join(IMGS_FOLDER_PATH,img_id))\n",
    "        img = cv2.cvtColor(img, cv2.COLOR_BGR2RGB)\n",
    "        # img = img / 255.0\n",
    "\n",
    "        mask = cv2.imread(os.path.join(MASKS_FOLDER_PATH,mask_id), 0)\n",
    "        mask = (mask > 0).astype(int)\n",
    "\n",
    "        crop(img, mask, img_id, dataset, WITH_LEISH_STRIDE, NO_LEISH_STRIDE, SHAPE)\n",
    "\n",
    "    # dataset.to_csv('data.csv', index=False)\n",
    "\n",
    "def generate_idv_masks(img_file, dataset, WINDOW_SIZE):\n",
    "    if dataset == 1:\n",
    "        images_folder = './data-preproc/d1-imgRang/images/'\n",
    "        masks_folder = './data-preproc/d1-imgRang/masks/'\n",
    "        out_mask_folder = './d1-tentativa2/leish/masks/'\n",
    "        ext_mask = '-mask.png'\n",
    "        ext = '.JPG'\n",
    "    else:\n",
    "        images_folder = './data-preproc/d2-pilEnhance/images/'\n",
    "        masks_folder = './data-preproc/d2-pilEnhance/masks/'\n",
    "        out_mask_folder = './d2-tentativa2/leish/masks/'\n",
    "        ext_mask = '_label.jpg'\n",
    "        ext = '.jpg'\n",
    "        img_id, coord_x, coord_y = img_file.split('-')\n",
    "    \n",
    "    img_id += ext\n",
    "    orig_img = cv2.imread(os.path.join(images_folder, img_id))\n",
    "\n",
    "    img_num, *_ = img_id.split('_')\n",
    "    mask_id = img_num + ext_mask\n",
    "    mask = cv2.imread(os.path.join(masks_folder,mask_id))\n",
    "\n",
    "    if orig_img is not None:\n",
    "        x1, y1 = int(coord_x), int(coord_y)\n",
    "        x2, y2 = x1+WINDOW_SIZE, y1+WINDOW_SIZE\n",
    "        mask_idv = mask[x1:x2, y1:y2]\n",
    "        out_name = os.path.join(out_mask_folder, f'{img_id}-mask-{coord_x}-{coord_y}.png')\n",
    "        cv2.imwrite(out_name, mask_idv)"
   ]
  },
  {
   "cell_type": "code",
   "execution_count": 3,
   "metadata": {},
   "outputs": [
    {
     "name": "stdout",
     "output_type": "stream",
     "text": [
      "Total images =  45 \n",
      "Total masks =  45\n"
     ]
    },
    {
     "name": "stderr",
     "output_type": "stream",
     "text": [
      "  0%|          | 0/45 [00:05<?, ?it/s]\n"
     ]
    },
    {
     "ename": "KeyboardInterrupt",
     "evalue": "",
     "output_type": "error",
     "traceback": [
      "\u001b[1;31m---------------------------------------------------------------------------\u001b[0m",
      "\u001b[1;31mKeyboardInterrupt\u001b[0m                         Traceback (most recent call last)",
      "\u001b[1;32mc:\\Users\\ynk9a\\OneDrive\\Documentos\\TCC\\Leishmania\\semana18\\dynamic-patcher.ipynb Cell 21\u001b[0m line \u001b[0;36m1\n\u001b[1;32m----> <a href='vscode-notebook-cell:/c%3A/Users/ynk9a/OneDrive/Documentos/TCC/Leishmania/semana18/dynamic-patcher.ipynb#X26sZmlsZQ%3D%3D?line=0'>1</a>\u001b[0m dynamic_patcher()\n\u001b[0;32m      <a href='vscode-notebook-cell:/c%3A/Users/ynk9a/OneDrive/Documentos/TCC/Leishmania/semana18/dynamic-patcher.ipynb#X26sZmlsZQ%3D%3D?line=1'>2</a>\u001b[0m tot_leish, tot_no_leish \u001b[39m=\u001b[39m \u001b[39mlen\u001b[39m(os\u001b[39m.\u001b[39mlistdir(LEISH_OUTPUT_PATH))\u001b[39m-\u001b[39m\u001b[39m1\u001b[39m, \u001b[39mlen\u001b[39m(os\u001b[39m.\u001b[39mlistdir(NO_LEISH_OUTPUT_PATH))\n\u001b[0;32m      <a href='vscode-notebook-cell:/c%3A/Users/ynk9a/OneDrive/Documentos/TCC/Leishmania/semana18/dynamic-patcher.ipynb#X26sZmlsZQ%3D%3D?line=2'>3</a>\u001b[0m \u001b[39mprint\u001b[39m(\u001b[39mf\u001b[39m\u001b[39m'\u001b[39m\u001b[39mTotal patches WITH LEISHMANIA generated = \u001b[39m\u001b[39m{\u001b[39;00mtot_leish\u001b[39m}\u001b[39;00m\u001b[39m\\n\u001b[39;00m\u001b[39mTotal patches WITHOUT = \u001b[39m\u001b[39m{\u001b[39;00mtot_no_leish\u001b[39m}\u001b[39;00m\u001b[39m\\n\u001b[39;00m\u001b[39mProportion = \u001b[39m\u001b[39m{\u001b[39;00mtot_leish\u001b[39m/\u001b[39mtot_no_leish\u001b[39m:\u001b[39;00m\u001b[39m.2f\u001b[39m\u001b[39m}\u001b[39;00m\u001b[39m'\u001b[39m)\n",
      "\u001b[1;32mc:\\Users\\ynk9a\\OneDrive\\Documentos\\TCC\\Leishmania\\semana18\\dynamic-patcher.ipynb Cell 21\u001b[0m line \u001b[0;36m1\n\u001b[0;32m    <a href='vscode-notebook-cell:/c%3A/Users/ynk9a/OneDrive/Documentos/TCC/Leishmania/semana18/dynamic-patcher.ipynb#X26sZmlsZQ%3D%3D?line=99'>100</a>\u001b[0m mask \u001b[39m=\u001b[39m cv2\u001b[39m.\u001b[39mimread(os\u001b[39m.\u001b[39mpath\u001b[39m.\u001b[39mjoin(MASKS_FOLDER_PATH,mask_id), \u001b[39m0\u001b[39m)\n\u001b[0;32m    <a href='vscode-notebook-cell:/c%3A/Users/ynk9a/OneDrive/Documentos/TCC/Leishmania/semana18/dynamic-patcher.ipynb#X26sZmlsZQ%3D%3D?line=100'>101</a>\u001b[0m mask \u001b[39m=\u001b[39m (mask \u001b[39m>\u001b[39m \u001b[39m0\u001b[39m)\u001b[39m.\u001b[39mastype(\u001b[39mint\u001b[39m)\n\u001b[1;32m--> <a href='vscode-notebook-cell:/c%3A/Users/ynk9a/OneDrive/Documentos/TCC/Leishmania/semana18/dynamic-patcher.ipynb#X26sZmlsZQ%3D%3D?line=102'>103</a>\u001b[0m crop(img, mask, img_id, dataset, WITH_LEISH_STRIDE, NO_LEISH_STRIDE, SHAPE)\n",
      "\u001b[1;32mc:\\Users\\ynk9a\\OneDrive\\Documentos\\TCC\\Leishmania\\semana18\\dynamic-patcher.ipynb Cell 21\u001b[0m line \u001b[0;36m3\n\u001b[0;32m     <a href='vscode-notebook-cell:/c%3A/Users/ynk9a/OneDrive/Documentos/TCC/Leishmania/semana18/dynamic-patcher.ipynb#X26sZmlsZQ%3D%3D?line=36'>37</a>\u001b[0m is_looping \u001b[39m=\u001b[39m \u001b[39mTrue\u001b[39;00m\n\u001b[0;32m     <a href='vscode-notebook-cell:/c%3A/Users/ynk9a/OneDrive/Documentos/TCC/Leishmania/semana18/dynamic-patcher.ipynb#X26sZmlsZQ%3D%3D?line=37'>38</a>\u001b[0m \u001b[39mwhile\u001b[39;00m((x \u001b[39m+\u001b[39m WINDOW_SIZE) \u001b[39m<\u001b[39m\u001b[39m=\u001b[39m end_h):\n\u001b[1;32m---> <a href='vscode-notebook-cell:/c%3A/Users/ynk9a/OneDrive/Documentos/TCC/Leishmania/semana18/dynamic-patcher.ipynb#X26sZmlsZQ%3D%3D?line=38'>39</a>\u001b[0m     \u001b[39mwhile\u001b[39;00m((y \u001b[39m+\u001b[39;49m WINDOW_SIZE) \u001b[39m<\u001b[39;49m\u001b[39m=\u001b[39;49m end_w):\n\u001b[0;32m     <a href='vscode-notebook-cell:/c%3A/Users/ynk9a/OneDrive/Documentos/TCC/Leishmania/semana18/dynamic-patcher.ipynb#X26sZmlsZQ%3D%3D?line=39'>40</a>\u001b[0m         \u001b[39mif\u001b[39;00m (x \u001b[39m+\u001b[39m WINDOW_SIZE) \u001b[39m>\u001b[39m end_h \u001b[39mor\u001b[39;00m (y \u001b[39m+\u001b[39m WINDOW_SIZE) \u001b[39m>\u001b[39m end_w:\n\u001b[0;32m     <a href='vscode-notebook-cell:/c%3A/Users/ynk9a/OneDrive/Documentos/TCC/Leishmania/semana18/dynamic-patcher.ipynb#X26sZmlsZQ%3D%3D?line=40'>41</a>\u001b[0m             is_looping \u001b[39m=\u001b[39m \u001b[39mFalse\u001b[39;00m\n",
      "\u001b[1;31mKeyboardInterrupt\u001b[0m: "
     ]
    }
   ],
   "source": [
    "dynamic_patcher()\n",
    "tot_leish, tot_no_leish = len(os.listdir(LEISH_OUTPUT_PATH))-1, len(os.listdir(NO_LEISH_OUTPUT_PATH))\n",
    "print(f'Total patches WITH LEISHMANIA generated = {tot_leish}\\nTotal patches WITHOUT = {tot_no_leish}\\nProportion = {tot_leish/tot_no_leish:.2f}')"
   ]
  },
  {
   "cell_type": "code",
   "execution_count": 17,
   "metadata": {},
   "outputs": [
    {
     "ename": "KeyboardInterrupt",
     "evalue": "",
     "output_type": "error",
     "traceback": [
      "\u001b[1;31m---------------------------------------------------------------------------\u001b[0m",
      "\u001b[1;31mKeyboardInterrupt\u001b[0m                         Traceback (most recent call last)",
      "\u001b[1;32mc:\\Users\\ynk9a\\OneDrive\\Documentos\\TCC\\Leishmania\\semana18\\dynamic-patcher.ipynb Cell 19\u001b[0m line \u001b[0;36m2\n\u001b[0;32m     <a href='vscode-notebook-cell:/c%3A/Users/ynk9a/OneDrive/Documentos/TCC/Leishmania/semana18/dynamic-patcher.ipynb#X31sZmlsZQ%3D%3D?line=20'>21</a>\u001b[0m     \u001b[39mfor\u001b[39;00m patch \u001b[39min\u001b[39;00m os\u001b[39m.\u001b[39mlistdir(\u001b[39m'\u001b[39m\u001b[39m./d2-tentativa2/no-leish\u001b[39m\u001b[39m'\u001b[39m):\n\u001b[0;32m     <a href='vscode-notebook-cell:/c%3A/Users/ynk9a/OneDrive/Documentos/TCC/Leishmania/semana18/dynamic-patcher.ipynb#X31sZmlsZQ%3D%3D?line=21'>22</a>\u001b[0m         nome_arquivo \u001b[39m=\u001b[39m \u001b[39mf\u001b[39m\u001b[39m\"\u001b[39m\u001b[39m./d2-tentativa2/no-leish/masks/\u001b[39m\u001b[39m{\u001b[39;00mpatch\u001b[39m}\u001b[39;00m\u001b[39m.png\u001b[39m\u001b[39m\"\u001b[39m\n\u001b[1;32m---> <a href='vscode-notebook-cell:/c%3A/Users/ynk9a/OneDrive/Documentos/TCC/Leishmania/semana18/dynamic-patcher.ipynb#X31sZmlsZQ%3D%3D?line=22'>23</a>\u001b[0m         cv2\u001b[39m.\u001b[39;49mimwrite(nome_arquivo, imagem)\n\u001b[0;32m     <a href='vscode-notebook-cell:/c%3A/Users/ynk9a/OneDrive/Documentos/TCC/Leishmania/semana18/dynamic-patcher.ipynb#X31sZmlsZQ%3D%3D?line=24'>25</a>\u001b[0m \u001b[39m# Agora você tem 1259 imagens 96x96, todas pretas, armazenadas em 'imagens_pretas'\u001b[39;00m\n",
      "\u001b[1;31mKeyboardInterrupt\u001b[0m: "
     ]
    }
   ],
   "source": [
    "import numpy as np\n",
    "import cv2\n",
    "\n",
    "# Dimensões da imagem desejada\n",
    "altura = 96\n",
    "largura = 96\n",
    "\n",
    "# Número de imagens a serem criadas\n",
    "num_imagens = 1259\n",
    "\n",
    "# Crie uma lista vazia para armazenar as imagens\n",
    "imagens_pretas = []\n",
    "\n",
    "# Crie imagens pretas e adicione-as à lista\n",
    "for _ in range(num_imagens):\n",
    "    imagem_preta = np.zeros((altura, largura), dtype=np.uint8)\n",
    "    imagens_pretas.append(imagem_preta)\n",
    "\n",
    "# Salve as imagens em um diretório, se desejar\n",
    "for imagem in imagens_pretas:\n",
    "    for patch in os.listdir('./d2-tentativa2/no-leish'):\n",
    "        nome_arquivo = f\"./d2-tentativa2/no-leish/masks/{patch}.png\"\n",
    "        cv2.imwrite(nome_arquivo, imagem)\n",
    "\n",
    "# Agora você tem 1259 imagens 96x96, todas pretas, armazenadas em 'imagens_pretas'\n"
   ]
  }
 ],
 "metadata": {
  "kernelspec": {
   "display_name": "tf_GPU",
   "language": "python",
   "name": "python3"
  },
  "language_info": {
   "codemirror_mode": {
    "name": "ipython",
    "version": 3
   },
   "file_extension": ".py",
   "mimetype": "text/x-python",
   "name": "python",
   "nbconvert_exporter": "python",
   "pygments_lexer": "ipython3",
   "version": "3.9.18"
  },
  "orig_nbformat": 4
 },
 "nbformat": 4,
 "nbformat_minor": 2
}
