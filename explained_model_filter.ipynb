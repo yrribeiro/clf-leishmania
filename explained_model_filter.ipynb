{
 "cells": [
  {
   "cell_type": "markdown",
   "metadata": {},
   "source": [
    "# Imports e constantes"
   ]
  },
  {
   "cell_type": "code",
   "execution_count": 1,
   "metadata": {},
   "outputs": [],
   "source": [
    "import sys\n",
    "sys.path.append('../semana1/')\n",
    "from aux_functions import read_data\n",
    "from CNN_Net import Net\n",
    "import ensemble_methods\n",
    "from itertools import combinations\n",
    "import random\n",
    "from joblib import dump, load\n",
    "from pathlib import Path\n",
    "from torchvision import datasets, transforms\n",
    "\n",
    "import tensorflow as tf\n",
    "import numpy as np\n",
    "import torch\n",
    "import torch.nn as nn\n",
    "import torch.nn.functional as F\n",
    "import torch.optim as optim\n",
    "from sklearn.model_selection import StratifiedKFold\n",
    "\n",
    "\n",
    "from pytorch_metric_learning import distances, losses, reducers, testers\n",
    "import numpy as np\n",
    "from sklearn.metrics import classification_report\n",
    "from sklearn import svm\n",
    "from sklearn.preprocessing import StandardScaler\n",
    "from sklearn.decomposition import PCA\n",
    "from sklearn.model_selection import GridSearchCV\n",
    "\n",
    "import datetime\n",
    "now = datetime.datetime.now()\n",
    "timestamp = now.strftime('%Y-%m-%d')\n",
    "\n",
    "gpus = tf.config.experimental.list_physical_devices('GPU')\n",
    "for gpu in gpus:\n",
    "    tf.config.experimental.set_memory_growth(gpu, True)"
   ]
  },
  {
   "cell_type": "code",
   "execution_count": 2,
   "metadata": {},
   "outputs": [
    {
     "data": {
      "text/plain": [
       "device(type='cuda')"
      ]
     },
     "execution_count": 2,
     "metadata": {},
     "output_type": "execute_result"
    }
   ],
   "source": [
    "SEED = 42\n",
    "np.random.seed = SEED\n",
    "random.seed = SEED\n",
    "tf.random.set_seed(SEED)\n",
    "# D1_DATA_DIR = Path('../data/patches-filter_by_area/d1/') # dataset 1\n",
    "# D2_DATA_DIR = Path('../data/patches-filter_by_area/d2/') # dataset 2\n",
    "# DATA_DIR = Path('./data/v1-and-fba/')\n",
    "EXP_NAME = 'v1-ensble'\n",
    "MODEL_OUT_DIR = Path(f'models/{EXP_NAME}_{timestamp}')\n",
    "MODEL_OUT_DIR.mkdir(parents=True, exist_ok=False)\n",
    "TRAIN_SIZE = .7\n",
    "BATCH_SIZE = 128\n",
    "LEARNING_RATE = 0.01\n",
    "EPOCHS = 10\n",
    "EMBEDDING_SIZE = 128\n",
    "NUM_CLASSES = 2\n",
    "IMG_SIZE = (96, 96)\n",
    "NET_IMG_SIZE = (1, *IMG_SIZE)\n",
    "LOSSES = ['Triplet', 'NPairs', 'CosFace', 'MultiSimilarity']\n",
    "device = torch.device('cuda' if torch.cuda.is_available() else 'cpu')\n",
    "device"
   ]
  },
  {
   "cell_type": "markdown",
   "metadata": {},
   "source": [
    "# Dados mistos: Dataset v1+v2\n",
    "v1 = \tmelhoria de contraste na imagem inteira **(7341 imagens)** \\\n",
    "v2 =\tmelhoria de constraste em áreas específicas da imagem **(4277 imagens)** \\\n",
    "data aug = \trotation_range=120, horizontal_flip=True, vertical_flip=True, zoom_range=0.3 **(10000 imagens)** \\\n",
    "**21390 exemplares da classe negativa**\n",
    "\n",
    "**TOTAL: 21618 'LEISH' x 21390 'NO-LEISH'**"
   ]
  },
  {
   "cell_type": "markdown",
   "metadata": {},
   "source": [
    "# Objetivos"
   ]
  },
  {
   "cell_type": "markdown",
   "metadata": {},
   "source": [
    "- Definir a função de perda com base na escolha de loss_select.\n",
    "- Inicializar o modelo de rede neural e o otimizador.\n",
    "- Realizar o treinamento do modelo com os dados de treino por um número especificado de épocas.\n",
    "- Gerar embeddings para os conjuntos de treino e teste.\n",
    "- Utilizar esses embeddings para treinar e testar um classificador SVM printando no final, os melhores hiperparams do classificador (C e gamma) e o número de dimensões do PCA.\n",
    "- Realizar a validação cruzada estratificada em vários splits para avaliar a estabilidade e confiabilidade do modelo.\n",
    "- Calcular e imprimir a média e o desvio padrão do recall para as duas classes.\n",
    "- Salvar o estado do modelo treinado para uso futuro, assim como o PCA e o Standard Scaler."
   ]
  },
  {
   "cell_type": "code",
   "execution_count": 3,
   "metadata": {},
   "outputs": [],
   "source": [
    "def save_model(loss_select, model, data_id):\n",
    "    '''\n",
    "    Salva o estado do modelo treinado em um arquivo.\n",
    "\n",
    "    @params\n",
    "    loss_select: Nome da função de perda utilizada durante o treinamento.\n",
    "    model: Modelo de rede neural a ser salvo.\n",
    "    data_id: identificador do dataset utilizado no treino.\n",
    "\n",
    "    @returns\n",
    "    None\n",
    "    '''\n",
    "    model_filename = MODEL_OUT_DIR.joinpath(f'model_{data_id}_{loss_select}_{EXP_NAME}_{timestamp}.pth')\n",
    "    torch.save(model.state_dict(), model_filename)"
   ]
  },
  {
   "cell_type": "code",
   "execution_count": 4,
   "metadata": {},
   "outputs": [],
   "source": [
    "def train(model, loss_func, device, train_loader, optimizer, epoch):\n",
    "    '''\n",
    "    Treina o modelo fornecido com o conjunto de dados de treinamento.\n",
    "\n",
    "    @params\n",
    "    model: O modelo de rede neural a ser treinado.\n",
    "    loss_func: A função de perda a ser utilizada.\n",
    "    device: O dispositivo no qual o modelo está sendo treinado (CPU ou GPU).\n",
    "    train_loader: DataLoader contendo os dados de treinamento.\n",
    "    optimizer: O otimizador usado para ajuste dos parâmetros do modelo.\n",
    "    epoch: Número atual da época de treinamento.\n",
    "\n",
    "    @returns\n",
    "    Retorna a perda após a última iteração de treinamento na época atual.\n",
    "    '''\n",
    "    model.train()\n",
    "    for batch_idx, (data, label) in enumerate(train_loader):\n",
    "        data, label = data.to(device), label.to(device)\n",
    "        optimizer.zero_grad()\n",
    "        embeddings = model(data)\n",
    "        loss = loss_func(embeddings, label)\n",
    "        loss.backward()\n",
    "        optimizer.step()\n",
    "\n",
    "        if batch_idx % 100 == 0:\n",
    "            print(\n",
    "                'Epoch {} Iteration {}: Loss = {}'.format(\n",
    "                    epoch, batch_idx, loss\n",
    "                )\n",
    "            )\n",
    "\n",
    "    return loss\n",
    "\n",
    "def get_all_embeddings(dataset, model):\n",
    "    '''\n",
    "    Gera embeddings para todos os exemplos em um conjunto de dados usando o modelo fornecido.\n",
    "\n",
    "    @params\n",
    "    dataset: O conjunto de dados para o qual os embeddings serão gerados.\n",
    "    model: Modelo de rede neural usado para gerar embeddings.\n",
    "\n",
    "    @returns\n",
    "    Retorna uma tupla contendo os embeddings e os rótulos correspondentes dos exemplos do conjunto de dados.\n",
    "    '''\n",
    "    tester = testers.BaseTester()\n",
    "    return tester.get_all_embeddings(dataset, model)"
   ]
  },
  {
   "cell_type": "code",
   "execution_count": 5,
   "metadata": {},
   "outputs": [],
   "source": [
    "def train_model(loss_select, x_train_loader):\n",
    "    '''\n",
    "    Treina a CNN com base na função de perda especificada.\n",
    "\n",
    "    @params\n",
    "    loss_select: Uma string que especifica a função de perda a ser utilizada.\n",
    "    x_train_loader: DataLoader contendo os dados de treinamento.\n",
    "\n",
    "    @returns\n",
    "    Retorna o modelo treinado, o otimizador e uma lista contendo as perdas de treinamento para cada época.\n",
    "    '''\n",
    "    loss_func = None\n",
    "    if loss_select == 'Triplet':\n",
    "        distance = distances.CosineSimilarity()\n",
    "        reducer = reducers.ThresholdReducer(low=0)\n",
    "        loss_func = losses.TripletMarginLoss(margin=0.2, distance=distance, reducer=reducer)\n",
    "\n",
    "    if loss_select == 'NPairs':\n",
    "        loss_func = losses.NPairsLoss()\n",
    "\n",
    "    if loss_select == 'CosFace':\n",
    "        loss_func = losses.CircleLoss()\n",
    "\n",
    "    if loss_select == 'MultiSimilarity':\n",
    "        loss_func = losses.MultiSimilarityLoss(alpha = 2, beta = 50, base=0.5)\n",
    "\n",
    "    model = Net(EMBEDDING_SIZE, (1, *IMG_SIZE)).to(device)\n",
    "    optimizer = optim.Adam(model.parameters(), lr=LEARNING_RATE)\n",
    "\n",
    "    lss_train = []\n",
    "    for epoch in range(1, EPOCHS + 1):\n",
    "        lss = train(model, loss_func, device, x_train_loader, optimizer, epoch)\n",
    "        lss_train.append(lss)\n",
    "\n",
    "    return model, optimizer, lss_train\n",
    "\n",
    "def get_all_embeddings(dataset, model):\n",
    "    '''\n",
    "    Gera embeddings para todos os exemplos em um conjunto de dados usando o modelo fornecido.\n",
    "\n",
    "    @params\n",
    "    dataset: O conjunto de dados para o qual os embeddings serão gerados.\n",
    "    model: Modelo de rede neural usado para gerar embeddings.\n",
    "\n",
    "    @returns\n",
    "    Retorna uma tupla contendo os embeddings e os rótulos correspondentes dos exemplos do conjunto de dados.\n",
    "    '''\n",
    "    tester = testers.BaseTester()\n",
    "    return tester.get_all_embeddings(dataset, model)\n",
    "\n",
    "def train_eval_model(data_id, loss_select, train_set, test_set, model, C=None, gamma=None, perform_grid_search=False, to_save=False):\n",
    "    '''\n",
    "    Realiza Grid Search para hiperparâmetros do SVM se necessário, treina e avalia o modelo SVM.\n",
    "\n",
    "    @params\n",
    "    train_set: Conjunto de dados de treinamento.\n",
    "    test_set: Conjunto de dados de teste.\n",
    "    model: Modelo de rede neural para gerar embeddings.\n",
    "    C: Parâmetro de regularização para o modelo SVM. Se None, é determinado via Grid Search.\n",
    "    gamma: Parâmetro de kernel para o modelo SVM. Se None, é determinado via Grid Search.\n",
    "    perform_grid_search: Booleano para realizar ou não o Grid Search.\n",
    "    to_save: Booleano indicando se o modelo SVM e os pré-processadores devem ser salvos.\n",
    "\n",
    "    @returns\n",
    "    Retorna os rótulos verdadeiros de teste, as previsões feitas pelo modelo SVM, e os parâmetros C e gamma.\n",
    "    '''\n",
    "    print('Computing embeddings...')\n",
    "    train_embeddings, train_labels = get_all_embeddings(train_set, model)\n",
    "    test_embeddings, test_labels = get_all_embeddings(test_set, model)\n",
    "\n",
    "    scaler = StandardScaler()\n",
    "    pca = PCA(n_components=0.9)\n",
    "    train_embeddings = pca.fit_transform(scaler.fit_transform(train_embeddings.cpu().numpy()))\n",
    "    test_embeddings = pca.transform(scaler.transform(test_embeddings.cpu().numpy()))\n",
    "\n",
    "    if perform_grid_search:\n",
    "        print('Performing GridSearch...')\n",
    "        clf = svm.SVC(kernel='rbf')\n",
    "        params = {'C': [1, 10, 100], 'gamma': [1, 0.1, 0.01, 0.001]}\n",
    "        search = GridSearchCV(clf, params, verbose=3, scoring='recall_macro', n_jobs=-1)\n",
    "        search.fit(train_embeddings, train_labels.cpu().numpy().ravel())\n",
    "        C, gamma = search.best_params_['C'], search.best_params_['gamma']\n",
    "        print(f'Best Params: C={C}, gamma={gamma}')\n",
    "        print(f'PCA dim ={pca.n_components_}')\n",
    "\n",
    "    clf = svm.SVC(C=C, gamma=gamma, kernel='rbf')\n",
    "    clf.fit(train_embeddings, train_labels.cpu().numpy().ravel())\n",
    "    predictions = clf.predict(test_embeddings)\n",
    "    y_true_test = test_labels.cpu().numpy().ravel()\n",
    "    print(f'RESULTS FOR LOSS = [{loss_select}]')\n",
    "    print(classification_report(y_true_test, predictions))\n",
    "\n",
    "    if to_save:\n",
    "        dump(clf, MODEL_OUT_DIR.joinpath(f'clf_{data_id}_{loss_select}_{EXP_NAME}_{timestamp}.joblib'))\n",
    "        dump(scaler, MODEL_OUT_DIR.joinpath(f'scaler_{data_id}_{loss_select}_{EXP_NAME}_{timestamp}.joblib'))\n",
    "        dump(pca, MODEL_OUT_DIR.joinpath(f'pca_{data_id}_{loss_select}_{EXP_NAME}_{timestamp}.joblib'))\n",
    "        print('~ Joblib files saved.')\n",
    "\n",
    "    return y_true_test, predictions, C, gamma\n",
    "\n",
    "def cross_val_model(data_id, loss_select, train_set, y_true_train, model, best_C, best_gamma, n_folds=15):\n",
    "    '''\n",
    "    Realiza a validação cruzada estratificada do modelo SVM com os melhores hiperparâmetros encontrados.\n",
    "\n",
    "    @params\n",
    "    loss_select: Nome da função de perda utilizada durante o treinamento.\n",
    "    train_set: Conjunto de dados de treinamento. (torch.Dataset)\n",
    "    model: Modelo de rede neural.\n",
    "    best_C: Melhor valor de C encontrado para o SVM.\n",
    "    best_gamma: Melhor valor de gamma encontrado para o SVM.\n",
    "    n_folds: Número de folds para a validação cruzada.\n",
    "\n",
    "    @returns\n",
    "    None.\n",
    "    '''\n",
    "    kf = StratifiedKFold(n_splits=n_folds, shuffle=True)\n",
    "    iteration = 1\n",
    "    recalls_fold_0 = []\n",
    "    recalls_fold_1 = []\n",
    "\n",
    "    for train_index, test_index in kf.split(train_set.indices, y_true_train):\n",
    "        print(f'-------> RUN {iteration}')\n",
    "        train_subset = torch.utils.data.Subset(train_set.dataset, train_index)\n",
    "        test_subset = torch.utils.data.Subset(train_set.dataset, test_index)\n",
    "\n",
    "        y_true_test, y_pred, *_ = train_eval_model(data_id, loss_select, train_subset, test_subset, model, C=best_C, gamma=best_gamma)\n",
    "\n",
    "        report = classification_report(y_true_test, y_pred, output_dict=True)\n",
    "        recalls_fold_0.append(report['0']['recall'])\n",
    "        recalls_fold_1.append(report['1']['recall'])\n",
    "\n",
    "        iteration += 1\n",
    "\n",
    "    mean_recall_class_0 = np.mean(recalls_fold_0)\n",
    "    mean_recall_class_1 = np.mean(recalls_fold_1)\n",
    "    std_recall_class_0 = np.std(recalls_fold_0)\n",
    "    std_recall_class_1 = np.std(recalls_fold_1)\n",
    "\n",
    "    print(f'\\n Loss ===== {loss_select}')\n",
    "    print(f'Mean Recall (Class 0): {mean_recall_class_0}')\n",
    "    print(f'Mean Recall (Class 1): {mean_recall_class_1}')\n",
    "    print(f'Std Recall (Class 0): {std_recall_class_0}')\n",
    "    print(f'Std Recall (Class 1): {std_recall_class_1}')"
   ]
  },
  {
   "cell_type": "markdown",
   "metadata": {},
   "source": [
    "## Função principal"
   ]
  },
  {
   "cell_type": "code",
   "execution_count": 6,
   "metadata": {},
   "outputs": [],
   "source": [
    "def run_full_pipeline(data_id, loss_select, x_train, x_test, x_train_loader, y_true_train):\n",
    "    '''\n",
    "    Executa todo o pipeline de treinamento, avaliação e validação cruzada do modelo.\n",
    "\n",
    "    @params\n",
    "    loss_select: Nome da função de perda a ser utilizada. (string)\n",
    "    x_train: Conjunto de dados de treinamento. (torch.Dataset)\n",
    "    x_test: Conjunto de dados de teste. (torch.Dataset)\n",
    "    x_train_loader: DataLoader para o conjunto de treinamento. (torch.DataLoader)\n",
    "\n",
    "    @returns\n",
    "    None\n",
    "    '''\n",
    "    model, optim, losses_training = train_model(loss_select, x_train_loader)\n",
    "    *_, best_C, best_gamma = train_eval_model(data_id, loss_select, x_train, x_test, model, perform_grid_search=True, to_save=True)\n",
    "    cross_val_model(data_id, loss_select, x_train, y_true_train, model, best_C, best_gamma)\n",
    "    save_model(loss_select, model, data_id)"
   ]
  },
  {
   "cell_type": "code",
   "execution_count": 19,
   "metadata": {},
   "outputs": [
    {
     "ename": "KeyboardInterrupt",
     "evalue": "",
     "output_type": "error",
     "traceback": [
      "\u001b[1;31m---------------------------------------------------------------------------\u001b[0m",
      "\u001b[1;31mKeyboardInterrupt\u001b[0m                         Traceback (most recent call last)",
      "\u001b[1;32mc:\\Users\\ynk9a\\OneDrive\\Documentos\\TCC\\Leishmania\\semana17\\explained_model_filter.ipynb Cell 13\u001b[0m line \u001b[0;36m1\n\u001b[1;32m----> <a href='vscode-notebook-cell:/c%3A/Users/ynk9a/OneDrive/Documentos/TCC/Leishmania/semana17/explained_model_filter.ipynb#X15sZmlsZQ%3D%3D?line=0'>1</a>\u001b[0m x_train, x_test, x_train_loader, x_test_loader, y_true_train, y_true_test \u001b[39m=\u001b[39m read_data(DATA_DIR, BATCH_SIZE, TRAIN_SIZE)\n\u001b[0;32m      <a href='vscode-notebook-cell:/c%3A/Users/ynk9a/OneDrive/Documentos/TCC/Leishmania/semana17/explained_model_filter.ipynb#X15sZmlsZQ%3D%3D?line=1'>2</a>\u001b[0m loss \u001b[39m=\u001b[39m [\u001b[39m'\u001b[39m\u001b[39mTriplet\u001b[39m\u001b[39m'\u001b[39m, \u001b[39m'\u001b[39m\u001b[39mNPairs\u001b[39m\u001b[39m'\u001b[39m, \u001b[39m'\u001b[39m\u001b[39mCosFace\u001b[39m\u001b[39m'\u001b[39m, \u001b[39m'\u001b[39m\u001b[39mMultiSimilarity\u001b[39m\u001b[39m'\u001b[39m]\n\u001b[0;32m      <a href='vscode-notebook-cell:/c%3A/Users/ynk9a/OneDrive/Documentos/TCC/Leishmania/semana17/explained_model_filter.ipynb#X15sZmlsZQ%3D%3D?line=2'>3</a>\u001b[0m \u001b[39m# run_full_pipeline(loss[2], x_train, x_test, x_train_loader, y_true_train)\u001b[39;00m\n",
      "\u001b[1;32mc:\\Users\\ynk9a\\OneDrive\\Documentos\\TCC\\Leishmania\\semana17\\explained_model_filter.ipynb Cell 13\u001b[0m line \u001b[0;36m2\n\u001b[0;32m     <a href='vscode-notebook-cell:/c%3A/Users/ynk9a/OneDrive/Documentos/TCC/Leishmania/semana17/explained_model_filter.ipynb#X15sZmlsZQ%3D%3D?line=19'>20</a>\u001b[0m train_true_labels \u001b[39m=\u001b[39m [dataset\u001b[39m.\u001b[39mtargets[idx] \u001b[39mfor\u001b[39;00m idx \u001b[39min\u001b[39;00m train_indices]\n\u001b[0;32m     <a href='vscode-notebook-cell:/c%3A/Users/ynk9a/OneDrive/Documentos/TCC/Leishmania/semana17/explained_model_filter.ipynb#X15sZmlsZQ%3D%3D?line=20'>21</a>\u001b[0m test_true_labels \u001b[39m=\u001b[39m [dataset\u001b[39m.\u001b[39mtargets[idx] \u001b[39mfor\u001b[39;00m idx \u001b[39min\u001b[39;00m test_indices]\n\u001b[1;32m---> <a href='vscode-notebook-cell:/c%3A/Users/ynk9a/OneDrive/Documentos/TCC/Leishmania/semana17/explained_model_filter.ipynb#X15sZmlsZQ%3D%3D?line=22'>23</a>\u001b[0m leish_train \u001b[39m=\u001b[39m \u001b[39msum\u001b[39;49m(label \u001b[39m==\u001b[39;49m \u001b[39m0\u001b[39;49m \u001b[39mfor\u001b[39;49;00m _, label \u001b[39min\u001b[39;49;00m train_dataset)\n\u001b[0;32m     <a href='vscode-notebook-cell:/c%3A/Users/ynk9a/OneDrive/Documentos/TCC/Leishmania/semana17/explained_model_filter.ipynb#X15sZmlsZQ%3D%3D?line=23'>24</a>\u001b[0m leish_test \u001b[39m=\u001b[39m \u001b[39msum\u001b[39m(label \u001b[39m==\u001b[39m \u001b[39m0\u001b[39m \u001b[39mfor\u001b[39;00m _, label \u001b[39min\u001b[39;00m test_dataset)\n\u001b[0;32m     <a href='vscode-notebook-cell:/c%3A/Users/ynk9a/OneDrive/Documentos/TCC/Leishmania/semana17/explained_model_filter.ipynb#X15sZmlsZQ%3D%3D?line=25'>26</a>\u001b[0m \u001b[39mprint\u001b[39m(\u001b[39mf\u001b[39m\u001b[39m'\u001b[39m\u001b[39mlabel format = \u001b[39m\u001b[39m{\u001b[39;00mdataset\u001b[39m.\u001b[39mclass_to_idx\u001b[39m}\u001b[39;00m\u001b[39m'\u001b[39m)\n",
      "\u001b[1;32mc:\\Users\\ynk9a\\OneDrive\\Documentos\\TCC\\Leishmania\\semana17\\explained_model_filter.ipynb Cell 13\u001b[0m line \u001b[0;36m2\n\u001b[0;32m     <a href='vscode-notebook-cell:/c%3A/Users/ynk9a/OneDrive/Documentos/TCC/Leishmania/semana17/explained_model_filter.ipynb#X15sZmlsZQ%3D%3D?line=19'>20</a>\u001b[0m train_true_labels \u001b[39m=\u001b[39m [dataset\u001b[39m.\u001b[39mtargets[idx] \u001b[39mfor\u001b[39;00m idx \u001b[39min\u001b[39;00m train_indices]\n\u001b[0;32m     <a href='vscode-notebook-cell:/c%3A/Users/ynk9a/OneDrive/Documentos/TCC/Leishmania/semana17/explained_model_filter.ipynb#X15sZmlsZQ%3D%3D?line=20'>21</a>\u001b[0m test_true_labels \u001b[39m=\u001b[39m [dataset\u001b[39m.\u001b[39mtargets[idx] \u001b[39mfor\u001b[39;00m idx \u001b[39min\u001b[39;00m test_indices]\n\u001b[1;32m---> <a href='vscode-notebook-cell:/c%3A/Users/ynk9a/OneDrive/Documentos/TCC/Leishmania/semana17/explained_model_filter.ipynb#X15sZmlsZQ%3D%3D?line=22'>23</a>\u001b[0m leish_train \u001b[39m=\u001b[39m \u001b[39msum\u001b[39m(label \u001b[39m==\u001b[39m \u001b[39m0\u001b[39m \u001b[39mfor\u001b[39;00m _, label \u001b[39min\u001b[39;00m train_dataset)\n\u001b[0;32m     <a href='vscode-notebook-cell:/c%3A/Users/ynk9a/OneDrive/Documentos/TCC/Leishmania/semana17/explained_model_filter.ipynb#X15sZmlsZQ%3D%3D?line=23'>24</a>\u001b[0m leish_test \u001b[39m=\u001b[39m \u001b[39msum\u001b[39m(label \u001b[39m==\u001b[39m \u001b[39m0\u001b[39m \u001b[39mfor\u001b[39;00m _, label \u001b[39min\u001b[39;00m test_dataset)\n\u001b[0;32m     <a href='vscode-notebook-cell:/c%3A/Users/ynk9a/OneDrive/Documentos/TCC/Leishmania/semana17/explained_model_filter.ipynb#X15sZmlsZQ%3D%3D?line=25'>26</a>\u001b[0m \u001b[39mprint\u001b[39m(\u001b[39mf\u001b[39m\u001b[39m'\u001b[39m\u001b[39mlabel format = \u001b[39m\u001b[39m{\u001b[39;00mdataset\u001b[39m.\u001b[39mclass_to_idx\u001b[39m}\u001b[39;00m\u001b[39m'\u001b[39m)\n",
      "File \u001b[1;32mc:\\Users\\ynk9a\\anaconda3\\envs\\tf_GPU\\lib\\site-packages\\torch\\utils\\data\\dataset.py:356\u001b[0m, in \u001b[0;36mSubset.__getitem__\u001b[1;34m(self, idx)\u001b[0m\n\u001b[0;32m    354\u001b[0m \u001b[39mif\u001b[39;00m \u001b[39misinstance\u001b[39m(idx, \u001b[39mlist\u001b[39m):\n\u001b[0;32m    355\u001b[0m     \u001b[39mreturn\u001b[39;00m \u001b[39mself\u001b[39m\u001b[39m.\u001b[39mdataset[[\u001b[39mself\u001b[39m\u001b[39m.\u001b[39mindices[i] \u001b[39mfor\u001b[39;00m i \u001b[39min\u001b[39;00m idx]]\n\u001b[1;32m--> 356\u001b[0m \u001b[39mreturn\u001b[39;00m \u001b[39mself\u001b[39;49m\u001b[39m.\u001b[39;49mdataset[\u001b[39mself\u001b[39;49m\u001b[39m.\u001b[39;49mindices[idx]]\n",
      "File \u001b[1;32mc:\\Users\\ynk9a\\anaconda3\\envs\\tf_GPU\\lib\\site-packages\\torchvision\\datasets\\folder.py:229\u001b[0m, in \u001b[0;36mDatasetFolder.__getitem__\u001b[1;34m(self, index)\u001b[0m\n\u001b[0;32m    221\u001b[0m \u001b[39m\u001b[39m\u001b[39m\"\"\"\u001b[39;00m\n\u001b[0;32m    222\u001b[0m \u001b[39mArgs:\u001b[39;00m\n\u001b[0;32m    223\u001b[0m \u001b[39m    index (int): Index\u001b[39;00m\n\u001b[1;32m   (...)\u001b[0m\n\u001b[0;32m    226\u001b[0m \u001b[39m    tuple: (sample, target) where target is class_index of the target class.\u001b[39;00m\n\u001b[0;32m    227\u001b[0m \u001b[39m\"\"\"\u001b[39;00m\n\u001b[0;32m    228\u001b[0m path, target \u001b[39m=\u001b[39m \u001b[39mself\u001b[39m\u001b[39m.\u001b[39msamples[index]\n\u001b[1;32m--> 229\u001b[0m sample \u001b[39m=\u001b[39m \u001b[39mself\u001b[39;49m\u001b[39m.\u001b[39;49mloader(path)\n\u001b[0;32m    230\u001b[0m \u001b[39mif\u001b[39;00m \u001b[39mself\u001b[39m\u001b[39m.\u001b[39mtransform \u001b[39mis\u001b[39;00m \u001b[39mnot\u001b[39;00m \u001b[39mNone\u001b[39;00m:\n\u001b[0;32m    231\u001b[0m     sample \u001b[39m=\u001b[39m \u001b[39mself\u001b[39m\u001b[39m.\u001b[39mtransform(sample)\n",
      "File \u001b[1;32mc:\\Users\\ynk9a\\anaconda3\\envs\\tf_GPU\\lib\\site-packages\\torchvision\\datasets\\folder.py:268\u001b[0m, in \u001b[0;36mdefault_loader\u001b[1;34m(path)\u001b[0m\n\u001b[0;32m    266\u001b[0m     \u001b[39mreturn\u001b[39;00m accimage_loader(path)\n\u001b[0;32m    267\u001b[0m \u001b[39melse\u001b[39;00m:\n\u001b[1;32m--> 268\u001b[0m     \u001b[39mreturn\u001b[39;00m pil_loader(path)\n",
      "File \u001b[1;32mc:\\Users\\ynk9a\\anaconda3\\envs\\tf_GPU\\lib\\site-packages\\torchvision\\datasets\\folder.py:246\u001b[0m, in \u001b[0;36mpil_loader\u001b[1;34m(path)\u001b[0m\n\u001b[0;32m    244\u001b[0m \u001b[39mdef\u001b[39;00m \u001b[39mpil_loader\u001b[39m(path: \u001b[39mstr\u001b[39m) \u001b[39m-\u001b[39m\u001b[39m>\u001b[39m Image\u001b[39m.\u001b[39mImage:\n\u001b[0;32m    245\u001b[0m     \u001b[39m# open path as file to avoid ResourceWarning (https://github.com/python-pillow/Pillow/issues/835)\u001b[39;00m\n\u001b[1;32m--> 246\u001b[0m     \u001b[39mwith\u001b[39;00m \u001b[39mopen\u001b[39m(path, \u001b[39m\"\u001b[39m\u001b[39mrb\u001b[39m\u001b[39m\"\u001b[39m) \u001b[39mas\u001b[39;00m f:\n\u001b[0;32m    247\u001b[0m         img \u001b[39m=\u001b[39m Image\u001b[39m.\u001b[39mopen(f)\n\u001b[0;32m    248\u001b[0m         \u001b[39mreturn\u001b[39;00m img\u001b[39m.\u001b[39mconvert(\u001b[39m\"\u001b[39m\u001b[39mRGB\u001b[39m\u001b[39m\"\u001b[39m)\n",
      "\u001b[1;31mKeyboardInterrupt\u001b[0m: "
     ]
    }
   ],
   "source": [
    "x_train, x_test, x_train_loader, x_test_loader, y_true_train, y_true_test = read_data(DATA_DIR, BATCH_SIZE, TRAIN_SIZE)\n",
    "# run_full_pipeline(loss[2], x_train, x_test, x_train_loader, y_true_train)"
   ]
  },
  {
   "cell_type": "code",
   "execution_count": null,
   "metadata": {},
   "outputs": [
    {
     "name": "stdout",
     "output_type": "stream",
     "text": [
      "-------------------------------------------------------------------------------\n",
      "----- LOSS FUNCTION FOR THIS ITERATION [TRIPLET] -------------------------------\n",
      "Epoch 1 Iteration 0: Loss = 0.22253894805908203\n",
      "Epoch 1 Iteration 100: Loss = 0.20213256776332855\n",
      "Epoch 1 Iteration 200: Loss = 0.18958674371242523\n",
      "Epoch 2 Iteration 0: Loss = 0.2143809199333191\n",
      "Epoch 2 Iteration 100: Loss = 0.2253275066614151\n",
      "Epoch 2 Iteration 200: Loss = 0.1925477236509323\n",
      "Epoch 3 Iteration 0: Loss = 0.19972577691078186\n",
      "Epoch 3 Iteration 100: Loss = 0.19101019203662872\n",
      "Epoch 3 Iteration 200: Loss = 0.18721525371074677\n",
      "Epoch 4 Iteration 0: Loss = 0.18178299069404602\n",
      "Epoch 4 Iteration 100: Loss = 0.1869731843471527\n",
      "Epoch 4 Iteration 200: Loss = 0.20011961460113525\n",
      "Epoch 5 Iteration 0: Loss = 0.20003992319107056\n",
      "Epoch 5 Iteration 100: Loss = 0.2003728747367859\n",
      "Epoch 5 Iteration 200: Loss = 0.20032835006713867\n",
      "Epoch 6 Iteration 0: Loss = 0.20014555752277374\n",
      "Epoch 6 Iteration 100: Loss = 0.2001161128282547\n",
      "Epoch 6 Iteration 200: Loss = 0.19900307059288025\n",
      "Epoch 7 Iteration 0: Loss = 0.20037657022476196\n",
      "Epoch 7 Iteration 100: Loss = 0.20013979077339172\n",
      "Epoch 7 Iteration 200: Loss = 0.20036065578460693\n",
      "Epoch 8 Iteration 0: Loss = 0.20028536021709442\n",
      "Epoch 8 Iteration 100: Loss = 0.19999398291110992\n",
      "Epoch 8 Iteration 200: Loss = 0.19998137652873993\n",
      "Epoch 9 Iteration 0: Loss = 0.2001759558916092\n",
      "Epoch 9 Iteration 100: Loss = 0.20067478716373444\n",
      "Epoch 9 Iteration 200: Loss = 0.2060660719871521\n",
      "Epoch 10 Iteration 0: Loss = 0.19850613176822662\n",
      "Epoch 10 Iteration 100: Loss = 0.203643798828125\n",
      "Epoch 10 Iteration 200: Loss = 0.2103791981935501\n",
      "Computing embeddings...\n"
     ]
    },
    {
     "name": "stderr",
     "output_type": "stream",
     "text": [
      "100%|██████████| 941/941 [00:19<00:00, 49.30it/s]\n",
      "100%|██████████| 404/404 [00:12<00:00, 31.85it/s]\n"
     ]
    },
    {
     "name": "stdout",
     "output_type": "stream",
     "text": [
      "Performing GridSearch...\n",
      "Fitting 5 folds for each of 12 candidates, totalling 60 fits\n",
      "Best Params: C=10, gamma=0.1\n",
      "PCA dim =3\n",
      "RESULTS FOR LOSS = [Triplet]\n",
      "              precision    recall  f1-score   support\n",
      "\n",
      "           0       0.71      0.85      0.78      6573\n",
      "           1       0.81      0.65      0.72      6330\n",
      "\n",
      "    accuracy                           0.75     12903\n",
      "   macro avg       0.76      0.75      0.75     12903\n",
      "weighted avg       0.76      0.75      0.75     12903\n",
      "\n",
      "~ Joblib files saved.\n",
      "-------> RUN 1\n",
      "Computing embeddings...\n"
     ]
    },
    {
     "name": "stderr",
     "output_type": "stream",
     "text": [
      "100%|██████████| 879/879 [00:19<00:00, 45.37it/s]\n",
      "100%|██████████| 63/63 [00:07<00:00,  7.94it/s]\n"
     ]
    },
    {
     "name": "stdout",
     "output_type": "stream",
     "text": [
      "RESULTS FOR LOSS = [Triplet]\n",
      "              precision    recall  f1-score   support\n",
      "\n",
      "           0       0.80      0.95      0.87      1456\n",
      "           1       0.73      0.36      0.49       551\n",
      "\n",
      "    accuracy                           0.79      2007\n",
      "   macro avg       0.77      0.66      0.68      2007\n",
      "weighted avg       0.78      0.79      0.76      2007\n",
      "\n",
      "-------> RUN 2\n",
      "Computing embeddings...\n"
     ]
    },
    {
     "name": "stderr",
     "output_type": "stream",
     "text": [
      "100%|██████████| 879/879 [00:19<00:00, 46.19it/s]\n",
      "100%|██████████| 63/63 [00:07<00:00,  8.13it/s]\n"
     ]
    },
    {
     "name": "stdout",
     "output_type": "stream",
     "text": [
      "RESULTS FOR LOSS = [Triplet]\n",
      "              precision    recall  f1-score   support\n",
      "\n",
      "           0       0.79      0.94      0.86      1452\n",
      "           1       0.68      0.36      0.47       555\n",
      "\n",
      "    accuracy                           0.78      2007\n",
      "   macro avg       0.74      0.65      0.67      2007\n",
      "weighted avg       0.76      0.78      0.75      2007\n",
      "\n",
      "-------> RUN 3\n",
      "Computing embeddings...\n"
     ]
    },
    {
     "name": "stderr",
     "output_type": "stream",
     "text": [
      "100%|██████████| 879/879 [00:19<00:00, 45.50it/s]\n",
      "100%|██████████| 63/63 [00:07<00:00,  8.07it/s]\n"
     ]
    },
    {
     "name": "stdout",
     "output_type": "stream",
     "text": [
      "RESULTS FOR LOSS = [Triplet]\n",
      "              precision    recall  f1-score   support\n",
      "\n",
      "           0       0.78      0.94      0.85      1446\n",
      "           1       0.68      0.33      0.44       561\n",
      "\n",
      "    accuracy                           0.77      2007\n",
      "   macro avg       0.73      0.63      0.65      2007\n",
      "weighted avg       0.75      0.77      0.74      2007\n",
      "\n",
      "-------> RUN 4\n",
      "Computing embeddings...\n"
     ]
    },
    {
     "name": "stderr",
     "output_type": "stream",
     "text": [
      "100%|██████████| 879/879 [00:19<00:00, 46.06it/s]\n",
      "100%|██████████| 63/63 [00:07<00:00,  7.98it/s]\n"
     ]
    },
    {
     "name": "stdout",
     "output_type": "stream",
     "text": [
      "RESULTS FOR LOSS = [Triplet]\n",
      "              precision    recall  f1-score   support\n",
      "\n",
      "           0       0.78      0.94      0.85      1439\n",
      "           1       0.68      0.35      0.46       568\n",
      "\n",
      "    accuracy                           0.77      2007\n",
      "   macro avg       0.73      0.64      0.66      2007\n",
      "weighted avg       0.75      0.77      0.74      2007\n",
      "\n",
      "-------> RUN 5\n",
      "Computing embeddings...\n"
     ]
    },
    {
     "name": "stderr",
     "output_type": "stream",
     "text": [
      "100%|██████████| 879/879 [00:19<00:00, 45.58it/s]\n",
      "100%|██████████| 63/63 [00:07<00:00,  7.90it/s]\n"
     ]
    },
    {
     "name": "stdout",
     "output_type": "stream",
     "text": [
      "RESULTS FOR LOSS = [Triplet]\n",
      "              precision    recall  f1-score   support\n",
      "\n",
      "           0       0.78      0.95      0.85      1421\n",
      "           1       0.74      0.34      0.46       586\n",
      "\n",
      "    accuracy                           0.77      2007\n",
      "   macro avg       0.76      0.64      0.66      2007\n",
      "weighted avg       0.77      0.77      0.74      2007\n",
      "\n",
      "-------> RUN 6\n",
      "Computing embeddings...\n"
     ]
    },
    {
     "name": "stderr",
     "output_type": "stream",
     "text": [
      "100%|██████████| 879/879 [00:18<00:00, 46.67it/s]\n",
      "100%|██████████| 63/63 [00:07<00:00,  8.43it/s]\n"
     ]
    },
    {
     "name": "stdout",
     "output_type": "stream",
     "text": [
      "RESULTS FOR LOSS = [Triplet]\n",
      "              precision    recall  f1-score   support\n",
      "\n",
      "           0       0.80      0.94      0.86      1450\n",
      "           1       0.71      0.37      0.49       557\n",
      "\n",
      "    accuracy                           0.78      2007\n",
      "   macro avg       0.75      0.66      0.68      2007\n",
      "weighted avg       0.77      0.78      0.76      2007\n",
      "\n",
      "-------> RUN 7\n",
      "Computing embeddings...\n"
     ]
    },
    {
     "name": "stderr",
     "output_type": "stream",
     "text": [
      "100%|██████████| 879/879 [00:18<00:00, 46.97it/s]\n",
      "100%|██████████| 63/63 [00:07<00:00,  8.54it/s]\n"
     ]
    },
    {
     "name": "stdout",
     "output_type": "stream",
     "text": [
      "RESULTS FOR LOSS = [Triplet]\n",
      "              precision    recall  f1-score   support\n",
      "\n",
      "           0       0.78      0.94      0.85      1431\n",
      "           1       0.71      0.33      0.45       576\n",
      "\n",
      "    accuracy                           0.77      2007\n",
      "   macro avg       0.74      0.64      0.65      2007\n",
      "weighted avg       0.76      0.77      0.74      2007\n",
      "\n",
      "-------> RUN 8\n",
      "Computing embeddings...\n"
     ]
    },
    {
     "name": "stderr",
     "output_type": "stream",
     "text": [
      "100%|██████████| 879/879 [00:18<00:00, 47.77it/s]\n",
      "100%|██████████| 63/63 [00:07<00:00,  8.30it/s]\n"
     ]
    },
    {
     "name": "stdout",
     "output_type": "stream",
     "text": [
      "RESULTS FOR LOSS = [Triplet]\n",
      "              precision    recall  f1-score   support\n",
      "\n",
      "           0       0.79      0.94      0.86      1433\n",
      "           1       0.70      0.37      0.49       574\n",
      "\n",
      "    accuracy                           0.78      2007\n",
      "   macro avg       0.74      0.66      0.67      2007\n",
      "weighted avg       0.76      0.78      0.75      2007\n",
      "\n",
      "-------> RUN 9\n",
      "Computing embeddings...\n"
     ]
    },
    {
     "name": "stderr",
     "output_type": "stream",
     "text": [
      "100%|██████████| 879/879 [00:18<00:00, 47.29it/s]\n",
      "100%|██████████| 63/63 [00:07<00:00,  8.28it/s]\n"
     ]
    },
    {
     "name": "stdout",
     "output_type": "stream",
     "text": [
      "RESULTS FOR LOSS = [Triplet]\n",
      "              precision    recall  f1-score   support\n",
      "\n",
      "           0       0.78      0.95      0.86      1433\n",
      "           1       0.74      0.34      0.47       574\n",
      "\n",
      "    accuracy                           0.78      2007\n",
      "   macro avg       0.76      0.65      0.66      2007\n",
      "weighted avg       0.77      0.78      0.75      2007\n",
      "\n",
      "-------> RUN 10\n",
      "Computing embeddings...\n"
     ]
    },
    {
     "name": "stderr",
     "output_type": "stream",
     "text": [
      "100%|██████████| 879/879 [00:19<00:00, 46.26it/s] \n",
      "100%|██████████| 63/63 [00:07<00:00,  8.40it/s]\n"
     ]
    },
    {
     "name": "stdout",
     "output_type": "stream",
     "text": [
      "RESULTS FOR LOSS = [Triplet]\n",
      "              precision    recall  f1-score   support\n",
      "\n",
      "           0       0.78      0.95      0.85      1427\n",
      "           1       0.71      0.33      0.45       580\n",
      "\n",
      "    accuracy                           0.77      2007\n",
      "   macro avg       0.74      0.64      0.65      2007\n",
      "weighted avg       0.76      0.77      0.74      2007\n",
      "\n",
      "-------> RUN 11\n",
      "Computing embeddings...\n"
     ]
    },
    {
     "name": "stderr",
     "output_type": "stream",
     "text": [
      "100%|██████████| 879/879 [00:19<00:00, 46.08it/s] \n",
      "100%|██████████| 63/63 [00:07<00:00,  8.44it/s]\n"
     ]
    },
    {
     "name": "stdout",
     "output_type": "stream",
     "text": [
      "RESULTS FOR LOSS = [Triplet]\n",
      "              precision    recall  f1-score   support\n",
      "\n",
      "           0       0.79      0.94      0.86      1448\n",
      "           1       0.69      0.35      0.47       559\n",
      "\n",
      "    accuracy                           0.78      2007\n",
      "   macro avg       0.74      0.65      0.66      2007\n",
      "weighted avg       0.76      0.78      0.75      2007\n",
      "\n",
      "-------> RUN 12\n",
      "Computing embeddings...\n"
     ]
    },
    {
     "name": "stderr",
     "output_type": "stream",
     "text": [
      "100%|██████████| 879/879 [00:18<00:00, 46.96it/s]\n",
      "100%|██████████| 63/63 [00:07<00:00,  8.32it/s]\n"
     ]
    },
    {
     "name": "stdout",
     "output_type": "stream",
     "text": [
      "RESULTS FOR LOSS = [Triplet]\n",
      "              precision    recall  f1-score   support\n",
      "\n",
      "           0       0.78      0.94      0.85      1430\n",
      "           1       0.71      0.35      0.47       577\n",
      "\n",
      "    accuracy                           0.77      2007\n",
      "   macro avg       0.74      0.65      0.66      2007\n",
      "weighted avg       0.76      0.77      0.74      2007\n",
      "\n",
      "-------> RUN 13\n",
      "Computing embeddings...\n"
     ]
    },
    {
     "name": "stderr",
     "output_type": "stream",
     "text": [
      "100%|██████████| 879/879 [00:19<00:00, 45.52it/s]\n",
      "100%|██████████| 63/63 [00:07<00:00,  8.49it/s]\n"
     ]
    },
    {
     "name": "stdout",
     "output_type": "stream",
     "text": [
      "RESULTS FOR LOSS = [Triplet]\n",
      "              precision    recall  f1-score   support\n",
      "\n",
      "           0       0.78      0.95      0.86      1431\n",
      "           1       0.72      0.35      0.48       576\n",
      "\n",
      "    accuracy                           0.78      2007\n",
      "   macro avg       0.75      0.65      0.67      2007\n",
      "weighted avg       0.77      0.78      0.75      2007\n",
      "\n",
      "-------> RUN 14\n",
      "Computing embeddings...\n"
     ]
    },
    {
     "name": "stderr",
     "output_type": "stream",
     "text": [
      "100%|██████████| 879/879 [00:18<00:00, 46.95it/s]\n",
      "100%|██████████| 63/63 [00:07<00:00,  8.55it/s]\n"
     ]
    },
    {
     "name": "stdout",
     "output_type": "stream",
     "text": [
      "RESULTS FOR LOSS = [Triplet]\n",
      "              precision    recall  f1-score   support\n",
      "\n",
      "           0       0.78      0.96      0.86      1437\n",
      "           1       0.75      0.32      0.45       570\n",
      "\n",
      "    accuracy                           0.78      2007\n",
      "   macro avg       0.77      0.64      0.66      2007\n",
      "weighted avg       0.77      0.78      0.74      2007\n",
      "\n",
      "-------> RUN 15\n",
      "Computing embeddings...\n"
     ]
    },
    {
     "name": "stderr",
     "output_type": "stream",
     "text": [
      "100%|██████████| 879/879 [00:19<00:00, 46.23it/s]\n",
      "100%|██████████| 63/63 [00:07<00:00,  8.40it/s]\n"
     ]
    },
    {
     "name": "stdout",
     "output_type": "stream",
     "text": [
      "RESULTS FOR LOSS = [Triplet]\n",
      "              precision    recall  f1-score   support\n",
      "\n",
      "           0       0.81      0.95      0.87      1484\n",
      "           1       0.70      0.35      0.47       523\n",
      "\n",
      "    accuracy                           0.79      2007\n",
      "   macro avg       0.75      0.65      0.67      2007\n",
      "weighted avg       0.78      0.79      0.77      2007\n",
      "\n",
      "\n",
      " Loss ===== Triplet\n",
      "Mean Recall (Class 0): 0.9441721213185353\n",
      "Mean Recall (Class 1): 0.3478450242308285\n",
      "Std Recall (Class 0): 0.00607483213004195\n",
      "Std Recall (Class 1): 0.015386627593188087\n",
      "-------------------------------------------------------------------------------\n",
      "----- LOSS FUNCTION FOR THIS ITERATION [NPAIRS] -------------------------------\n",
      "Epoch 1 Iteration 0: Loss = 0.7695339918136597\n",
      "Epoch 1 Iteration 100: Loss = 0.6916543245315552\n",
      "Epoch 1 Iteration 200: Loss = 0.7434144616127014\n",
      "Epoch 2 Iteration 0: Loss = 0.7139696478843689\n",
      "Epoch 2 Iteration 100: Loss = 0.6703149080276489\n",
      "Epoch 2 Iteration 200: Loss = 0.6780627369880676\n",
      "Epoch 3 Iteration 0: Loss = 0.6998656392097473\n",
      "Epoch 3 Iteration 100: Loss = 0.6947098970413208\n",
      "Epoch 3 Iteration 200: Loss = 0.701880931854248\n",
      "Epoch 4 Iteration 0: Loss = 0.6938320994377136\n",
      "Epoch 4 Iteration 100: Loss = 0.689444899559021\n",
      "Epoch 4 Iteration 200: Loss = 0.6879265308380127\n",
      "Epoch 5 Iteration 0: Loss = 0.6949127912521362\n",
      "Epoch 5 Iteration 100: Loss = 0.6915475130081177\n",
      "Epoch 5 Iteration 200: Loss = 0.6989655494689941\n",
      "Epoch 6 Iteration 0: Loss = 0.6890565156936646\n",
      "Epoch 6 Iteration 100: Loss = 0.6959477066993713\n",
      "Epoch 6 Iteration 200: Loss = 0.6918106079101562\n",
      "Epoch 7 Iteration 0: Loss = 0.6890568733215332\n",
      "Epoch 7 Iteration 100: Loss = 0.6932539939880371\n",
      "Epoch 7 Iteration 200: Loss = 0.6957697868347168\n",
      "Epoch 8 Iteration 0: Loss = 0.6943829655647278\n",
      "Epoch 8 Iteration 100: Loss = 0.6804308891296387\n",
      "Epoch 8 Iteration 200: Loss = 0.720313549041748\n",
      "Epoch 9 Iteration 0: Loss = 0.6951966285705566\n",
      "Epoch 9 Iteration 100: Loss = 0.6938244104385376\n",
      "Epoch 9 Iteration 200: Loss = 0.6890624761581421\n",
      "Epoch 10 Iteration 0: Loss = 0.6918259859085083\n",
      "Epoch 10 Iteration 100: Loss = 0.6967371702194214\n",
      "Epoch 10 Iteration 200: Loss = 0.6863415837287903\n",
      "Computing embeddings...\n"
     ]
    },
    {
     "name": "stderr",
     "output_type": "stream",
     "text": [
      "100%|██████████| 941/941 [00:18<00:00, 50.63it/s]\n",
      "100%|██████████| 404/404 [00:11<00:00, 34.51it/s]\n"
     ]
    },
    {
     "name": "stdout",
     "output_type": "stream",
     "text": [
      "Performing GridSearch...\n",
      "Fitting 5 folds for each of 12 candidates, totalling 60 fits\n",
      "Best Params: C=1, gamma=0.1\n",
      "PCA dim =3\n",
      "RESULTS FOR LOSS = [NPairs]\n",
      "              precision    recall  f1-score   support\n",
      "\n",
      "           0       0.66      0.87      0.75      6573\n",
      "           1       0.80      0.54      0.65      6330\n",
      "\n",
      "    accuracy                           0.71     12903\n",
      "   macro avg       0.73      0.71      0.70     12903\n",
      "weighted avg       0.73      0.71      0.70     12903\n",
      "\n",
      "~ Joblib files saved.\n",
      "-------> RUN 1\n",
      "Computing embeddings...\n"
     ]
    },
    {
     "name": "stderr",
     "output_type": "stream",
     "text": [
      "100%|██████████| 879/879 [00:18<00:00, 48.43it/s] \n",
      "100%|██████████| 63/63 [00:07<00:00,  8.33it/s]\n"
     ]
    },
    {
     "name": "stdout",
     "output_type": "stream",
     "text": [
      "RESULTS FOR LOSS = [NPairs]\n",
      "              precision    recall  f1-score   support\n",
      "\n",
      "           0       0.77      0.97      0.86      1425\n",
      "           1       0.79      0.29      0.42       582\n",
      "\n",
      "    accuracy                           0.77      2007\n",
      "   macro avg       0.78      0.63      0.64      2007\n",
      "weighted avg       0.78      0.77      0.73      2007\n",
      "\n",
      "-------> RUN 2\n",
      "Computing embeddings...\n"
     ]
    },
    {
     "name": "stderr",
     "output_type": "stream",
     "text": [
      "100%|██████████| 879/879 [00:19<00:00, 46.18it/s] \n",
      "100%|██████████| 63/63 [00:07<00:00,  8.50it/s]\n"
     ]
    },
    {
     "name": "stdout",
     "output_type": "stream",
     "text": [
      "RESULTS FOR LOSS = [NPairs]\n",
      "              precision    recall  f1-score   support\n",
      "\n",
      "           0       0.77      0.97      0.86      1425\n",
      "           1       0.79      0.28      0.41       582\n",
      "\n",
      "    accuracy                           0.77      2007\n",
      "   macro avg       0.78      0.62      0.64      2007\n",
      "weighted avg       0.77      0.77      0.73      2007\n",
      "\n",
      "-------> RUN 3\n",
      "Computing embeddings...\n"
     ]
    },
    {
     "name": "stderr",
     "output_type": "stream",
     "text": [
      "100%|██████████| 879/879 [00:18<00:00, 46.36it/s] \n",
      "100%|██████████| 63/63 [00:07<00:00,  8.61it/s]\n"
     ]
    },
    {
     "name": "stdout",
     "output_type": "stream",
     "text": [
      "RESULTS FOR LOSS = [NPairs]\n",
      "              precision    recall  f1-score   support\n",
      "\n",
      "           0       0.78      0.96      0.86      1453\n",
      "           1       0.76      0.30      0.43       554\n",
      "\n",
      "    accuracy                           0.78      2007\n",
      "   macro avg       0.77      0.63      0.64      2007\n",
      "weighted avg       0.77      0.78      0.74      2007\n",
      "\n",
      "-------> RUN 4\n",
      "Computing embeddings...\n"
     ]
    },
    {
     "name": "stderr",
     "output_type": "stream",
     "text": [
      "100%|██████████| 879/879 [00:19<00:00, 45.88it/s] \n",
      "100%|██████████| 63/63 [00:07<00:00,  8.56it/s]\n"
     ]
    },
    {
     "name": "stdout",
     "output_type": "stream",
     "text": [
      "RESULTS FOR LOSS = [NPairs]\n",
      "              precision    recall  f1-score   support\n",
      "\n",
      "           0       0.78      0.97      0.86      1449\n",
      "           1       0.79      0.28      0.41       558\n",
      "\n",
      "    accuracy                           0.78      2007\n",
      "   macro avg       0.78      0.63      0.64      2007\n",
      "weighted avg       0.78      0.78      0.74      2007\n",
      "\n",
      "-------> RUN 5\n",
      "Computing embeddings...\n"
     ]
    },
    {
     "name": "stderr",
     "output_type": "stream",
     "text": [
      "100%|██████████| 879/879 [00:19<00:00, 45.99it/s] \n",
      "100%|██████████| 63/63 [00:07<00:00,  8.60it/s]\n"
     ]
    },
    {
     "name": "stdout",
     "output_type": "stream",
     "text": [
      "RESULTS FOR LOSS = [NPairs]\n",
      "              precision    recall  f1-score   support\n",
      "\n",
      "           0       0.77      0.97      0.86      1437\n",
      "           1       0.78      0.26      0.40       570\n",
      "\n",
      "    accuracy                           0.77      2007\n",
      "   macro avg       0.77      0.62      0.63      2007\n",
      "weighted avg       0.77      0.77      0.73      2007\n",
      "\n",
      "-------> RUN 6\n",
      "Computing embeddings...\n"
     ]
    },
    {
     "name": "stderr",
     "output_type": "stream",
     "text": [
      "100%|██████████| 879/879 [00:18<00:00, 46.70it/s]\n",
      "100%|██████████| 63/63 [00:07<00:00,  8.60it/s]\n"
     ]
    },
    {
     "name": "stdout",
     "output_type": "stream",
     "text": [
      "RESULTS FOR LOSS = [NPairs]\n",
      "              precision    recall  f1-score   support\n",
      "\n",
      "           0       0.77      0.97      0.86      1451\n",
      "           1       0.78      0.26      0.39       556\n",
      "\n",
      "    accuracy                           0.77      2007\n",
      "   macro avg       0.78      0.61      0.62      2007\n",
      "weighted avg       0.78      0.77      0.73      2007\n",
      "\n",
      "-------> RUN 7\n",
      "Computing embeddings...\n"
     ]
    },
    {
     "name": "stderr",
     "output_type": "stream",
     "text": [
      "100%|██████████| 879/879 [00:19<00:00, 45.75it/s]\n",
      "100%|██████████| 63/63 [00:07<00:00,  8.40it/s]\n"
     ]
    },
    {
     "name": "stdout",
     "output_type": "stream",
     "text": [
      "RESULTS FOR LOSS = [NPairs]\n",
      "              precision    recall  f1-score   support\n",
      "\n",
      "           0       0.76      0.97      0.85      1437\n",
      "           1       0.75      0.23      0.35       570\n",
      "\n",
      "    accuracy                           0.76      2007\n",
      "   macro avg       0.75      0.60      0.60      2007\n",
      "weighted avg       0.76      0.76      0.71      2007\n",
      "\n",
      "-------> RUN 8\n",
      "Computing embeddings...\n"
     ]
    },
    {
     "name": "stderr",
     "output_type": "stream",
     "text": [
      "100%|██████████| 879/879 [00:19<00:00, 45.90it/s]\n",
      "100%|██████████| 63/63 [00:07<00:00,  8.29it/s]\n"
     ]
    },
    {
     "name": "stdout",
     "output_type": "stream",
     "text": [
      "RESULTS FOR LOSS = [NPairs]\n",
      "              precision    recall  f1-score   support\n",
      "\n",
      "           0       0.76      0.97      0.85      1424\n",
      "           1       0.77      0.26      0.39       583\n",
      "\n",
      "    accuracy                           0.76      2007\n",
      "   macro avg       0.77      0.61      0.62      2007\n",
      "weighted avg       0.76      0.76      0.72      2007\n",
      "\n",
      "-------> RUN 9\n",
      "Computing embeddings...\n"
     ]
    },
    {
     "name": "stderr",
     "output_type": "stream",
     "text": [
      "100%|██████████| 879/879 [00:19<00:00, 46.16it/s]\n",
      "100%|██████████| 63/63 [00:07<00:00,  8.20it/s]\n"
     ]
    },
    {
     "name": "stdout",
     "output_type": "stream",
     "text": [
      "RESULTS FOR LOSS = [NPairs]\n",
      "              precision    recall  f1-score   support\n",
      "\n",
      "           0       0.76      0.97      0.86      1426\n",
      "           1       0.80      0.26      0.39       581\n",
      "\n",
      "    accuracy                           0.77      2007\n",
      "   macro avg       0.78      0.62      0.63      2007\n",
      "weighted avg       0.78      0.77      0.72      2007\n",
      "\n",
      "-------> RUN 10\n",
      "Computing embeddings...\n"
     ]
    },
    {
     "name": "stderr",
     "output_type": "stream",
     "text": [
      "100%|██████████| 879/879 [00:19<00:00, 45.10it/s]\n",
      "100%|██████████| 63/63 [00:07<00:00,  8.43it/s]\n"
     ]
    },
    {
     "name": "stdout",
     "output_type": "stream",
     "text": [
      "RESULTS FOR LOSS = [NPairs]\n",
      "              precision    recall  f1-score   support\n",
      "\n",
      "           0       0.79      0.98      0.88      1474\n",
      "           1       0.82      0.30      0.44       533\n",
      "\n",
      "    accuracy                           0.80      2007\n",
      "   macro avg       0.81      0.64      0.66      2007\n",
      "weighted avg       0.80      0.80      0.76      2007\n",
      "\n",
      "-------> RUN 11\n",
      "Computing embeddings...\n"
     ]
    },
    {
     "name": "stderr",
     "output_type": "stream",
     "text": [
      "100%|██████████| 879/879 [00:13<00:00, 63.39it/s] \n",
      "100%|██████████| 63/63 [00:05<00:00, 11.23it/s]\n"
     ]
    },
    {
     "name": "stdout",
     "output_type": "stream",
     "text": [
      "RESULTS FOR LOSS = [NPairs]\n",
      "              precision    recall  f1-score   support\n",
      "\n",
      "           0       0.78      0.97      0.86      1443\n",
      "           1       0.81      0.29      0.43       564\n",
      "\n",
      "    accuracy                           0.78      2007\n",
      "   macro avg       0.79      0.63      0.65      2007\n",
      "weighted avg       0.79      0.78      0.74      2007\n",
      "\n",
      "-------> RUN 12\n",
      "Computing embeddings...\n"
     ]
    },
    {
     "name": "stderr",
     "output_type": "stream",
     "text": [
      "100%|██████████| 879/879 [00:13<00:00, 64.55it/s] \n",
      "100%|██████████| 63/63 [00:05<00:00, 11.35it/s]\n"
     ]
    },
    {
     "name": "stdout",
     "output_type": "stream",
     "text": [
      "RESULTS FOR LOSS = [NPairs]\n",
      "              precision    recall  f1-score   support\n",
      "\n",
      "           0       0.78      0.97      0.87      1463\n",
      "           1       0.77      0.28      0.41       544\n",
      "\n",
      "    accuracy                           0.78      2007\n",
      "   macro avg       0.78      0.63      0.64      2007\n",
      "weighted avg       0.78      0.78      0.74      2007\n",
      "\n",
      "-------> RUN 13\n",
      "Computing embeddings...\n"
     ]
    },
    {
     "name": "stderr",
     "output_type": "stream",
     "text": [
      "100%|██████████| 879/879 [00:13<00:00, 64.70it/s] \n",
      "100%|██████████| 63/63 [00:05<00:00, 11.36it/s]\n"
     ]
    },
    {
     "name": "stdout",
     "output_type": "stream",
     "text": [
      "RESULTS FOR LOSS = [NPairs]\n",
      "              precision    recall  f1-score   support\n",
      "\n",
      "           0       0.74      0.97      0.84      1396\n",
      "           1       0.78      0.24      0.37       611\n",
      "\n",
      "    accuracy                           0.75      2007\n",
      "   macro avg       0.76      0.61      0.61      2007\n",
      "weighted avg       0.75      0.75      0.70      2007\n",
      "\n",
      "-------> RUN 14\n",
      "Computing embeddings...\n"
     ]
    },
    {
     "name": "stderr",
     "output_type": "stream",
     "text": [
      "100%|██████████| 879/879 [00:13<00:00, 64.09it/s] \n",
      "100%|██████████| 63/63 [00:05<00:00, 11.24it/s]\n"
     ]
    },
    {
     "name": "stdout",
     "output_type": "stream",
     "text": [
      "RESULTS FOR LOSS = [NPairs]\n",
      "              precision    recall  f1-score   support\n",
      "\n",
      "           0       0.78      0.97      0.87      1456\n",
      "           1       0.78      0.28      0.41       551\n",
      "\n",
      "    accuracy                           0.78      2007\n",
      "   macro avg       0.78      0.62      0.64      2007\n",
      "weighted avg       0.78      0.78      0.74      2007\n",
      "\n",
      "-------> RUN 15\n",
      "Computing embeddings...\n"
     ]
    },
    {
     "name": "stderr",
     "output_type": "stream",
     "text": [
      "100%|██████████| 879/879 [00:13<00:00, 63.47it/s] \n",
      "100%|██████████| 63/63 [00:05<00:00, 11.23it/s]\n"
     ]
    },
    {
     "name": "stdout",
     "output_type": "stream",
     "text": [
      "RESULTS FOR LOSS = [NPairs]\n",
      "              precision    recall  f1-score   support\n",
      "\n",
      "           0       0.78      0.98      0.87      1459\n",
      "           1       0.81      0.27      0.41       548\n",
      "\n",
      "    accuracy                           0.78      2007\n",
      "   macro avg       0.79      0.62      0.64      2007\n",
      "weighted avg       0.79      0.78      0.74      2007\n",
      "\n",
      "\n",
      " Loss ===== NPairs\n",
      "Mean Recall (Class 0): 0.9708470627132716\n",
      "Mean Recall (Class 1): 0.27231674257107036\n",
      "Std Recall (Class 0): 0.003006128388723536\n",
      "Std Recall (Class 1): 0.019311764449790814\n",
      "-------------------------------------------------------------------------------\n",
      "----- LOSS FUNCTION FOR THIS ITERATION [MULTISIMILARITY] -------------------------------\n",
      "Epoch 1 Iteration 0: Loss = 2.3116044998168945\n",
      "Epoch 1 Iteration 100: Loss = 2.178299903869629\n",
      "Epoch 1 Iteration 200: Loss = 2.1801276206970215\n",
      "Epoch 2 Iteration 0: Loss = 2.176084518432617\n",
      "Epoch 2 Iteration 100: Loss = 2.179175853729248\n",
      "Epoch 2 Iteration 200: Loss = 2.1795148849487305\n",
      "Epoch 3 Iteration 0: Loss = 2.1754698753356934\n",
      "Epoch 3 Iteration 100: Loss = 2.183579206466675\n",
      "Epoch 3 Iteration 200: Loss = 2.175027370452881\n",
      "Epoch 4 Iteration 0: Loss = 2.173412561416626\n",
      "Epoch 4 Iteration 100: Loss = 2.174753427505493\n",
      "Epoch 4 Iteration 200: Loss = 2.178373098373413\n",
      "Epoch 5 Iteration 0: Loss = 2.1731481552124023\n",
      "Epoch 5 Iteration 100: Loss = 2.1743524074554443\n",
      "Epoch 5 Iteration 200: Loss = 2.1788291931152344\n",
      "Epoch 6 Iteration 0: Loss = 2.174337148666382\n",
      "Epoch 6 Iteration 100: Loss = 2.1758272647857666\n",
      "Epoch 6 Iteration 200: Loss = 2.1762452125549316\n",
      "Epoch 7 Iteration 0: Loss = 2.1792895793914795\n",
      "Epoch 7 Iteration 100: Loss = 2.176816940307617\n",
      "Epoch 7 Iteration 200: Loss = 2.174999952316284\n",
      "Epoch 8 Iteration 0: Loss = 2.1755452156066895\n",
      "Epoch 8 Iteration 100: Loss = 2.176703453063965\n",
      "Epoch 8 Iteration 200: Loss = 2.1760647296905518\n",
      "Epoch 9 Iteration 0: Loss = 2.176746368408203\n",
      "Epoch 9 Iteration 100: Loss = 2.175834894180298\n",
      "Epoch 9 Iteration 200: Loss = 2.1722474098205566\n",
      "Epoch 10 Iteration 0: Loss = 2.185502290725708\n",
      "Epoch 10 Iteration 100: Loss = 2.181178092956543\n",
      "Epoch 10 Iteration 200: Loss = 2.172499656677246\n",
      "Computing embeddings...\n"
     ]
    },
    {
     "name": "stderr",
     "output_type": "stream",
     "text": [
      "100%|██████████| 941/941 [00:13<00:00, 69.92it/s] \n",
      "100%|██████████| 404/404 [00:08<00:00, 45.37it/s] \n"
     ]
    },
    {
     "name": "stdout",
     "output_type": "stream",
     "text": [
      "Performing GridSearch...\n",
      "Fitting 5 folds for each of 12 candidates, totalling 60 fits\n",
      "Best Params: C=1, gamma=1\n",
      "PCA dim =2\n",
      "RESULTS FOR LOSS = [MultiSimilarity]\n",
      "              precision    recall  f1-score   support\n",
      "\n",
      "           0       0.82      0.82      0.82      6573\n",
      "           1       0.81      0.82      0.81      6330\n",
      "\n",
      "    accuracy                           0.82     12903\n",
      "   macro avg       0.82      0.82      0.82     12903\n",
      "weighted avg       0.82      0.82      0.82     12903\n",
      "\n",
      "~ Joblib files saved.\n",
      "-------> RUN 1\n",
      "Computing embeddings...\n"
     ]
    },
    {
     "name": "stderr",
     "output_type": "stream",
     "text": [
      "100%|██████████| 879/879 [00:14<00:00, 61.41it/s] \n",
      "100%|██████████| 63/63 [00:05<00:00, 10.86it/s]\n"
     ]
    },
    {
     "name": "stdout",
     "output_type": "stream",
     "text": [
      "RESULTS FOR LOSS = [MultiSimilarity]\n",
      "              precision    recall  f1-score   support\n",
      "\n",
      "           0       0.94      0.92      0.93      1443\n",
      "           1       0.81      0.85      0.83       564\n",
      "\n",
      "    accuracy                           0.90      2007\n",
      "   macro avg       0.88      0.89      0.88      2007\n",
      "weighted avg       0.90      0.90      0.90      2007\n",
      "\n",
      "-------> RUN 2\n",
      "Computing embeddings...\n"
     ]
    },
    {
     "name": "stderr",
     "output_type": "stream",
     "text": [
      "100%|██████████| 879/879 [00:14<00:00, 62.02it/s] \n",
      "100%|██████████| 63/63 [00:05<00:00, 11.11it/s]\n"
     ]
    },
    {
     "name": "stdout",
     "output_type": "stream",
     "text": [
      "RESULTS FOR LOSS = [MultiSimilarity]\n",
      "              precision    recall  f1-score   support\n",
      "\n",
      "           0       0.94      0.91      0.93      1451\n",
      "           1       0.79      0.85      0.82       556\n",
      "\n",
      "    accuracy                           0.90      2007\n",
      "   macro avg       0.87      0.88      0.87      2007\n",
      "weighted avg       0.90      0.90      0.90      2007\n",
      "\n",
      "-------> RUN 3\n",
      "Computing embeddings...\n"
     ]
    },
    {
     "name": "stderr",
     "output_type": "stream",
     "text": [
      "100%|██████████| 879/879 [00:13<00:00, 63.81it/s] \n",
      "100%|██████████| 63/63 [00:05<00:00, 10.73it/s]\n"
     ]
    },
    {
     "name": "stdout",
     "output_type": "stream",
     "text": [
      "RESULTS FOR LOSS = [MultiSimilarity]\n",
      "              precision    recall  f1-score   support\n",
      "\n",
      "           0       0.94      0.90      0.92      1470\n",
      "           1       0.76      0.84      0.80       537\n",
      "\n",
      "    accuracy                           0.89      2007\n",
      "   macro avg       0.85      0.87      0.86      2007\n",
      "weighted avg       0.89      0.89      0.89      2007\n",
      "\n",
      "-------> RUN 4\n",
      "Computing embeddings...\n"
     ]
    },
    {
     "name": "stderr",
     "output_type": "stream",
     "text": [
      "100%|██████████| 879/879 [00:14<00:00, 62.28it/s] \n",
      "100%|██████████| 63/63 [00:05<00:00, 11.17it/s]\n"
     ]
    },
    {
     "name": "stdout",
     "output_type": "stream",
     "text": [
      "RESULTS FOR LOSS = [MultiSimilarity]\n",
      "              precision    recall  f1-score   support\n",
      "\n",
      "           0       0.94      0.91      0.93      1423\n",
      "           1       0.80      0.85      0.83       584\n",
      "\n",
      "    accuracy                           0.90      2007\n",
      "   macro avg       0.87      0.88      0.88      2007\n",
      "weighted avg       0.90      0.90      0.90      2007\n",
      "\n",
      "-------> RUN 5\n",
      "Computing embeddings...\n"
     ]
    },
    {
     "name": "stderr",
     "output_type": "stream",
     "text": [
      "100%|██████████| 879/879 [00:14<00:00, 62.62it/s] \n",
      "100%|██████████| 63/63 [00:05<00:00, 11.11it/s]\n"
     ]
    },
    {
     "name": "stdout",
     "output_type": "stream",
     "text": [
      "RESULTS FOR LOSS = [MultiSimilarity]\n",
      "              precision    recall  f1-score   support\n",
      "\n",
      "           0       0.93      0.92      0.93      1428\n",
      "           1       0.81      0.83      0.82       579\n",
      "\n",
      "    accuracy                           0.89      2007\n",
      "   macro avg       0.87      0.88      0.87      2007\n",
      "weighted avg       0.90      0.89      0.90      2007\n",
      "\n",
      "-------> RUN 6\n",
      "Computing embeddings...\n"
     ]
    },
    {
     "name": "stderr",
     "output_type": "stream",
     "text": [
      "100%|██████████| 879/879 [00:14<00:00, 62.48it/s] \n",
      "100%|██████████| 63/63 [00:05<00:00, 10.94it/s]\n"
     ]
    },
    {
     "name": "stdout",
     "output_type": "stream",
     "text": [
      "RESULTS FOR LOSS = [MultiSimilarity]\n",
      "              precision    recall  f1-score   support\n",
      "\n",
      "           0       0.95      0.92      0.93      1442\n",
      "           1       0.81      0.87      0.84       565\n",
      "\n",
      "    accuracy                           0.91      2007\n",
      "   macro avg       0.88      0.89      0.89      2007\n",
      "weighted avg       0.91      0.91      0.91      2007\n",
      "\n",
      "-------> RUN 7\n",
      "Computing embeddings...\n"
     ]
    },
    {
     "name": "stderr",
     "output_type": "stream",
     "text": [
      "100%|██████████| 879/879 [00:14<00:00, 61.45it/s] \n",
      "100%|██████████| 63/63 [00:05<00:00, 11.22it/s]\n"
     ]
    },
    {
     "name": "stdout",
     "output_type": "stream",
     "text": [
      "RESULTS FOR LOSS = [MultiSimilarity]\n",
      "              precision    recall  f1-score   support\n",
      "\n",
      "           0       0.94      0.91      0.93      1448\n",
      "           1       0.79      0.85      0.82       559\n",
      "\n",
      "    accuracy                           0.89      2007\n",
      "   macro avg       0.86      0.88      0.87      2007\n",
      "weighted avg       0.90      0.89      0.89      2007\n",
      "\n",
      "-------> RUN 8\n",
      "Computing embeddings...\n"
     ]
    },
    {
     "name": "stderr",
     "output_type": "stream",
     "text": [
      "100%|██████████| 879/879 [00:14<00:00, 62.53it/s] \n",
      "100%|██████████| 63/63 [00:05<00:00, 11.23it/s]\n"
     ]
    },
    {
     "name": "stdout",
     "output_type": "stream",
     "text": [
      "RESULTS FOR LOSS = [MultiSimilarity]\n",
      "              precision    recall  f1-score   support\n",
      "\n",
      "           0       0.94      0.91      0.92      1454\n",
      "           1       0.78      0.85      0.81       553\n",
      "\n",
      "    accuracy                           0.89      2007\n",
      "   macro avg       0.86      0.88      0.87      2007\n",
      "weighted avg       0.90      0.89      0.89      2007\n",
      "\n",
      "-------> RUN 9\n",
      "Computing embeddings...\n"
     ]
    },
    {
     "name": "stderr",
     "output_type": "stream",
     "text": [
      "100%|██████████| 879/879 [00:14<00:00, 61.86it/s] \n",
      "100%|██████████| 63/63 [00:05<00:00, 11.02it/s]\n"
     ]
    },
    {
     "name": "stdout",
     "output_type": "stream",
     "text": [
      "RESULTS FOR LOSS = [MultiSimilarity]\n",
      "              precision    recall  f1-score   support\n",
      "\n",
      "           0       0.95      0.92      0.93      1456\n",
      "           1       0.80      0.88      0.84       551\n",
      "\n",
      "    accuracy                           0.91      2007\n",
      "   macro avg       0.88      0.90      0.89      2007\n",
      "weighted avg       0.91      0.91      0.91      2007\n",
      "\n",
      "-------> RUN 10\n",
      "Computing embeddings...\n"
     ]
    },
    {
     "name": "stderr",
     "output_type": "stream",
     "text": [
      "100%|██████████| 879/879 [00:13<00:00, 62.91it/s] \n",
      "100%|██████████| 63/63 [00:05<00:00, 11.18it/s]\n"
     ]
    },
    {
     "name": "stdout",
     "output_type": "stream",
     "text": [
      "RESULTS FOR LOSS = [MultiSimilarity]\n",
      "              precision    recall  f1-score   support\n",
      "\n",
      "           0       0.94      0.91      0.93      1431\n",
      "           1       0.80      0.85      0.83       576\n",
      "\n",
      "    accuracy                           0.90      2007\n",
      "   macro avg       0.87      0.88      0.88      2007\n",
      "weighted avg       0.90      0.90      0.90      2007\n",
      "\n",
      "-------> RUN 11\n",
      "Computing embeddings...\n"
     ]
    },
    {
     "name": "stderr",
     "output_type": "stream",
     "text": [
      "100%|██████████| 879/879 [00:14<00:00, 62.48it/s] \n",
      "100%|██████████| 63/63 [00:05<00:00, 11.05it/s]\n"
     ]
    },
    {
     "name": "stdout",
     "output_type": "stream",
     "text": [
      "RESULTS FOR LOSS = [MultiSimilarity]\n",
      "              precision    recall  f1-score   support\n",
      "\n",
      "           0       0.94      0.90      0.92      1425\n",
      "           1       0.78      0.85      0.81       582\n",
      "\n",
      "    accuracy                           0.89      2007\n",
      "   macro avg       0.86      0.88      0.87      2007\n",
      "weighted avg       0.89      0.89      0.89      2007\n",
      "\n",
      "-------> RUN 12\n",
      "Computing embeddings...\n"
     ]
    },
    {
     "name": "stderr",
     "output_type": "stream",
     "text": [
      "100%|██████████| 879/879 [00:14<00:00, 62.04it/s] \n",
      "100%|██████████| 63/63 [00:05<00:00, 11.06it/s]\n"
     ]
    },
    {
     "name": "stdout",
     "output_type": "stream",
     "text": [
      "RESULTS FOR LOSS = [MultiSimilarity]\n",
      "              precision    recall  f1-score   support\n",
      "\n",
      "           0       0.95      0.91      0.93      1429\n",
      "           1       0.80      0.88      0.83       578\n",
      "\n",
      "    accuracy                           0.90      2007\n",
      "   macro avg       0.87      0.89      0.88      2007\n",
      "weighted avg       0.90      0.90      0.90      2007\n",
      "\n",
      "-------> RUN 13\n",
      "Computing embeddings...\n"
     ]
    },
    {
     "name": "stderr",
     "output_type": "stream",
     "text": [
      "100%|██████████| 879/879 [00:13<00:00, 63.36it/s] \n",
      "100%|██████████| 63/63 [00:05<00:00, 11.20it/s]\n"
     ]
    },
    {
     "name": "stdout",
     "output_type": "stream",
     "text": [
      "RESULTS FOR LOSS = [MultiSimilarity]\n",
      "              precision    recall  f1-score   support\n",
      "\n",
      "           0       0.94      0.92      0.93      1456\n",
      "           1       0.80      0.84      0.82       551\n",
      "\n",
      "    accuracy                           0.90      2007\n",
      "   macro avg       0.87      0.88      0.87      2007\n",
      "weighted avg       0.90      0.90      0.90      2007\n",
      "\n",
      "-------> RUN 14\n",
      "Computing embeddings...\n"
     ]
    },
    {
     "name": "stderr",
     "output_type": "stream",
     "text": [
      "100%|██████████| 879/879 [00:13<00:00, 63.05it/s] \n",
      "100%|██████████| 63/63 [00:05<00:00, 11.25it/s]\n"
     ]
    },
    {
     "name": "stdout",
     "output_type": "stream",
     "text": [
      "RESULTS FOR LOSS = [MultiSimilarity]\n",
      "              precision    recall  f1-score   support\n",
      "\n",
      "           0       0.94      0.92      0.93      1487\n",
      "           1       0.79      0.83      0.81       520\n",
      "\n",
      "    accuracy                           0.90      2007\n",
      "   macro avg       0.87      0.88      0.87      2007\n",
      "weighted avg       0.90      0.90      0.90      2007\n",
      "\n",
      "-------> RUN 15\n",
      "Computing embeddings...\n"
     ]
    },
    {
     "name": "stderr",
     "output_type": "stream",
     "text": [
      "100%|██████████| 879/879 [00:14<00:00, 62.06it/s] \n",
      "100%|██████████| 63/63 [00:06<00:00,  9.98it/s]\n"
     ]
    },
    {
     "name": "stdout",
     "output_type": "stream",
     "text": [
      "RESULTS FOR LOSS = [MultiSimilarity]\n",
      "              precision    recall  f1-score   support\n",
      "\n",
      "           0       0.93      0.90      0.92      1375\n",
      "           1       0.80      0.85      0.83       632\n",
      "\n",
      "    accuracy                           0.89      2007\n",
      "   macro avg       0.87      0.88      0.87      2007\n",
      "weighted avg       0.89      0.89      0.89      2007\n",
      "\n",
      "\n",
      " Loss ===== MultiSimilarity\n",
      "Mean Recall (Class 0): 0.9138180366645953\n",
      "Mean Recall (Class 1): 0.8512832554698557\n",
      "Std Recall (Class 0): 0.00686276698384913\n",
      "Std Recall (Class 1): 0.014493552737428248\n"
     ]
    }
   ],
   "source": [
    "for err in ['Triplet', 'NPairs', 'MultiSimilarity']:\n",
    "    print('-------------------------------------------------------------------------------')\n",
    "    print(f'----- LOSS FUNCTION FOR THIS ITERATION [{err.upper()}] -------------------------------')\n",
    "    # run_full_pipeline(err, x_train, x_test, x_train_loader, y_true_train)"
   ]
  },
  {
   "cell_type": "markdown",
   "metadata": {},
   "source": [
    "## Retreinando para patches individuais do Dataset 1 e 2"
   ]
  },
  {
   "cell_type": "markdown",
   "metadata": {},
   "source": [
    "## Dataset 1\n",
    "fzr downsampling da classe negativa proporção (1:2) \\\n",
    "reduzir 7841 exemplos, contagem final 17018"
   ]
  },
  {
   "cell_type": "code",
   "execution_count": 10,
   "metadata": {},
   "outputs": [],
   "source": [
    "import os, random\n",
    "def delete_rand(n_files, data_dir):\n",
    "    no_leish_files = os.listdir(data_dir)\n",
    "    files_to_delete = random.sample(no_leish_files, n_files)\n",
    "\n",
    "    count = 0\n",
    "    for f in files_to_delete:\n",
    "        os.remove(data_dir.joinpath(f))\n",
    "        count += 1\n",
    "\n",
    "    print(f'~ {count} arquivos removidos da pasta {data_dir}.')"
   ]
  },
  {
   "cell_type": "code",
   "execution_count": 8,
   "metadata": {},
   "outputs": [],
   "source": [
    "D1_DATA_DIR = Path('../data/d1-patches/')\n",
    "NO_LEISH_DATA_DIR = D1_DATA_DIR.joinpath('no-leish')\n",
    "EXP_NAME = 'v1-ensble'\n",
    "MODEL_OUT_DIR = Path(f'models/{EXP_NAME}_{timestamp}')\n",
    "# MODEL_OUT_DIR.mkdir(parents=True, exist_ok=False)\n",
    "\n",
    "# delete_rand(7841, NO_LEISH_DATA_DIR)"
   ]
  },
  {
   "cell_type": "code",
   "execution_count": 9,
   "metadata": {},
   "outputs": [
    {
     "name": "stdout",
     "output_type": "stream",
     "text": [
      "label format = {'leish': 0, 'no-leish': 1}\n",
      "train test split proportion = train[17868], test[7659]\n",
      "leish in training set = 5972\n",
      "leish in testing set = 2537\n"
     ]
    }
   ],
   "source": [
    "x_train, x_test, x_train_loader, x_test_loader, y_true_train, y_true_test = read_data(D1_DATA_DIR, BATCH_SIZE, TRAIN_SIZE)"
   ]
  },
  {
   "cell_type": "code",
   "execution_count": 13,
   "metadata": {},
   "outputs": [
    {
     "name": "stdout",
     "output_type": "stream",
     "text": [
      "-------------------------------------------------------------------------------\n",
      "----- LOSS FUNCTION FOR THIS ITERATION [TRIPLET] -------------------------------\n",
      "Epoch 1 Iteration 0: Loss = 0.2301642894744873\n",
      "Epoch 1 Iteration 100: Loss = 0.20047864317893982\n",
      "Epoch 2 Iteration 0: Loss = 0.19739511609077454\n",
      "Epoch 2 Iteration 100: Loss = 0.2160094529390335\n",
      "Epoch 3 Iteration 0: Loss = 0.19987818598747253\n",
      "Epoch 3 Iteration 100: Loss = 0.20704802870750427\n",
      "Epoch 4 Iteration 0: Loss = 0.21328607201576233\n",
      "Epoch 4 Iteration 100: Loss = 0.20503541827201843\n",
      "Epoch 5 Iteration 0: Loss = 0.20792824029922485\n",
      "Epoch 5 Iteration 100: Loss = 0.20344966650009155\n",
      "Epoch 6 Iteration 0: Loss = 0.2089468389749527\n",
      "Epoch 6 Iteration 100: Loss = 0.2062797099351883\n",
      "Epoch 7 Iteration 0: Loss = 0.20727601647377014\n",
      "Epoch 7 Iteration 100: Loss = 0.19192494451999664\n",
      "Epoch 8 Iteration 0: Loss = 0.20138540863990784\n",
      "Epoch 8 Iteration 100: Loss = 0.1934385597705841\n",
      "Epoch 9 Iteration 0: Loss = 0.20217996835708618\n",
      "Epoch 9 Iteration 100: Loss = 0.2140388786792755\n",
      "Epoch 10 Iteration 0: Loss = 0.20261184871196747\n",
      "Epoch 10 Iteration 100: Loss = 0.24099087715148926\n",
      "Computing embeddings...\n"
     ]
    },
    {
     "name": "stderr",
     "output_type": "stream",
     "text": [
      "100%|██████████| 559/559 [00:10<00:00, 51.32it/s] \n",
      "100%|██████████| 240/240 [00:08<00:00, 27.89it/s]\n"
     ]
    },
    {
     "name": "stdout",
     "output_type": "stream",
     "text": [
      "Performing GridSearch...\n",
      "Fitting 5 folds for each of 12 candidates, totalling 60 fits\n",
      "Best Params: C=1, gamma=0.1\n",
      "PCA dim =15\n",
      "RESULTS FOR LOSS = [Triplet]\n",
      "              precision    recall  f1-score   support\n",
      "\n",
      "           0       0.83      0.86      0.84      2537\n",
      "           1       0.93      0.91      0.92      5122\n",
      "\n",
      "    accuracy                           0.89      7659\n",
      "   macro avg       0.88      0.89      0.88      7659\n",
      "weighted avg       0.90      0.89      0.89      7659\n",
      "\n",
      "~ Joblib files saved.\n",
      "-------> RUN 1\n",
      "Computing embeddings...\n"
     ]
    },
    {
     "name": "stderr",
     "output_type": "stream",
     "text": [
      "100%|██████████| 522/522 [00:09<00:00, 53.50it/s] \n",
      "100%|██████████| 38/38 [00:05<00:00,  7.05it/s]\n"
     ]
    },
    {
     "name": "stdout",
     "output_type": "stream",
     "text": [
      "RESULTS FOR LOSS = [Triplet]\n",
      "              precision    recall  f1-score   support\n",
      "\n",
      "           0       0.88      0.93      0.91       587\n",
      "           1       0.93      0.88      0.90       605\n",
      "\n",
      "    accuracy                           0.91      1192\n",
      "   macro avg       0.91      0.91      0.91      1192\n",
      "weighted avg       0.91      0.91      0.91      1192\n",
      "\n",
      "-------> RUN 2\n",
      "Computing embeddings...\n"
     ]
    },
    {
     "name": "stderr",
     "output_type": "stream",
     "text": [
      "100%|██████████| 522/522 [00:09<00:00, 52.26it/s] \n",
      "100%|██████████| 38/38 [00:05<00:00,  7.15it/s]\n"
     ]
    },
    {
     "name": "stdout",
     "output_type": "stream",
     "text": [
      "RESULTS FOR LOSS = [Triplet]\n",
      "              precision    recall  f1-score   support\n",
      "\n",
      "           0       0.87      0.95      0.91       559\n",
      "           1       0.95      0.87      0.91       633\n",
      "\n",
      "    accuracy                           0.91      1192\n",
      "   macro avg       0.91      0.91      0.91      1192\n",
      "weighted avg       0.91      0.91      0.91      1192\n",
      "\n",
      "-------> RUN 3\n",
      "Computing embeddings...\n"
     ]
    },
    {
     "name": "stderr",
     "output_type": "stream",
     "text": [
      "100%|██████████| 522/522 [00:09<00:00, 52.67it/s] \n",
      "100%|██████████| 38/38 [00:05<00:00,  7.04it/s]\n"
     ]
    },
    {
     "name": "stdout",
     "output_type": "stream",
     "text": [
      "RESULTS FOR LOSS = [Triplet]\n",
      "              precision    recall  f1-score   support\n",
      "\n",
      "           0       0.88      0.91      0.90       542\n",
      "           1       0.92      0.90      0.91       650\n",
      "\n",
      "    accuracy                           0.90      1192\n",
      "   macro avg       0.90      0.90      0.90      1192\n",
      "weighted avg       0.90      0.90      0.90      1192\n",
      "\n",
      "-------> RUN 4\n",
      "Computing embeddings...\n"
     ]
    },
    {
     "name": "stderr",
     "output_type": "stream",
     "text": [
      "100%|██████████| 522/522 [00:09<00:00, 53.68it/s] \n",
      "100%|██████████| 38/38 [00:05<00:00,  7.06it/s]\n"
     ]
    },
    {
     "name": "stdout",
     "output_type": "stream",
     "text": [
      "RESULTS FOR LOSS = [Triplet]\n",
      "              precision    recall  f1-score   support\n",
      "\n",
      "           0       0.88      0.91      0.89       548\n",
      "           1       0.92      0.89      0.91       643\n",
      "\n",
      "    accuracy                           0.90      1191\n",
      "   macro avg       0.90      0.90      0.90      1191\n",
      "weighted avg       0.90      0.90      0.90      1191\n",
      "\n",
      "-------> RUN 5\n",
      "Computing embeddings...\n"
     ]
    },
    {
     "name": "stderr",
     "output_type": "stream",
     "text": [
      "100%|██████████| 522/522 [00:09<00:00, 53.61it/s] \n",
      "100%|██████████| 38/38 [00:05<00:00,  7.05it/s]\n"
     ]
    },
    {
     "name": "stdout",
     "output_type": "stream",
     "text": [
      "RESULTS FOR LOSS = [Triplet]\n",
      "              precision    recall  f1-score   support\n",
      "\n",
      "           0       0.86      0.89      0.87       585\n",
      "           1       0.89      0.86      0.87       606\n",
      "\n",
      "    accuracy                           0.87      1191\n",
      "   macro avg       0.87      0.87      0.87      1191\n",
      "weighted avg       0.87      0.87      0.87      1191\n",
      "\n",
      "-------> RUN 6\n",
      "Computing embeddings...\n"
     ]
    },
    {
     "name": "stderr",
     "output_type": "stream",
     "text": [
      "100%|██████████| 522/522 [00:09<00:00, 53.36it/s] \n",
      "100%|██████████| 38/38 [00:05<00:00,  7.07it/s]\n"
     ]
    },
    {
     "name": "stdout",
     "output_type": "stream",
     "text": [
      "RESULTS FOR LOSS = [Triplet]\n",
      "              precision    recall  f1-score   support\n",
      "\n",
      "           0       0.88      0.91      0.90       584\n",
      "           1       0.91      0.89      0.90       607\n",
      "\n",
      "    accuracy                           0.90      1191\n",
      "   macro avg       0.90      0.90      0.90      1191\n",
      "weighted avg       0.90      0.90      0.90      1191\n",
      "\n",
      "-------> RUN 7\n",
      "Computing embeddings...\n"
     ]
    },
    {
     "name": "stderr",
     "output_type": "stream",
     "text": [
      "100%|██████████| 522/522 [00:09<00:00, 53.37it/s] \n",
      "100%|██████████| 38/38 [00:05<00:00,  7.08it/s]\n"
     ]
    },
    {
     "name": "stdout",
     "output_type": "stream",
     "text": [
      "RESULTS FOR LOSS = [Triplet]\n",
      "              precision    recall  f1-score   support\n",
      "\n",
      "           0       0.90      0.89      0.90       580\n",
      "           1       0.90      0.91      0.90       611\n",
      "\n",
      "    accuracy                           0.90      1191\n",
      "   macro avg       0.90      0.90      0.90      1191\n",
      "weighted avg       0.90      0.90      0.90      1191\n",
      "\n",
      "-------> RUN 8\n",
      "Computing embeddings...\n"
     ]
    },
    {
     "name": "stderr",
     "output_type": "stream",
     "text": [
      "100%|██████████| 522/522 [00:09<00:00, 52.57it/s] \n",
      "100%|██████████| 38/38 [00:05<00:00,  7.06it/s]\n"
     ]
    },
    {
     "name": "stdout",
     "output_type": "stream",
     "text": [
      "RESULTS FOR LOSS = [Triplet]\n",
      "              precision    recall  f1-score   support\n",
      "\n",
      "           0       0.89      0.93      0.91       573\n",
      "           1       0.93      0.89      0.91       618\n",
      "\n",
      "    accuracy                           0.91      1191\n",
      "   macro avg       0.91      0.91      0.91      1191\n",
      "weighted avg       0.91      0.91      0.91      1191\n",
      "\n",
      "-------> RUN 9\n",
      "Computing embeddings...\n"
     ]
    },
    {
     "name": "stderr",
     "output_type": "stream",
     "text": [
      "100%|██████████| 522/522 [00:09<00:00, 53.79it/s] \n",
      "100%|██████████| 38/38 [00:05<00:00,  7.05it/s]\n"
     ]
    },
    {
     "name": "stdout",
     "output_type": "stream",
     "text": [
      "RESULTS FOR LOSS = [Triplet]\n",
      "              precision    recall  f1-score   support\n",
      "\n",
      "           0       0.85      0.91      0.88       527\n",
      "           1       0.92      0.88      0.90       664\n",
      "\n",
      "    accuracy                           0.89      1191\n",
      "   macro avg       0.89      0.89      0.89      1191\n",
      "weighted avg       0.89      0.89      0.89      1191\n",
      "\n",
      "-------> RUN 10\n",
      "Computing embeddings...\n"
     ]
    },
    {
     "name": "stderr",
     "output_type": "stream",
     "text": [
      "100%|██████████| 522/522 [00:09<00:00, 53.41it/s] \n",
      "100%|██████████| 38/38 [00:05<00:00,  7.01it/s]\n"
     ]
    },
    {
     "name": "stdout",
     "output_type": "stream",
     "text": [
      "RESULTS FOR LOSS = [Triplet]\n",
      "              precision    recall  f1-score   support\n",
      "\n",
      "           0       0.88      0.92      0.90       587\n",
      "           1       0.92      0.88      0.90       604\n",
      "\n",
      "    accuracy                           0.90      1191\n",
      "   macro avg       0.90      0.90      0.90      1191\n",
      "weighted avg       0.90      0.90      0.90      1191\n",
      "\n",
      "-------> RUN 11\n",
      "Computing embeddings...\n"
     ]
    },
    {
     "name": "stderr",
     "output_type": "stream",
     "text": [
      "100%|██████████| 522/522 [00:09<00:00, 53.11it/s] \n",
      "100%|██████████| 38/38 [00:05<00:00,  7.07it/s]\n"
     ]
    },
    {
     "name": "stdout",
     "output_type": "stream",
     "text": [
      "RESULTS FOR LOSS = [Triplet]\n",
      "              precision    recall  f1-score   support\n",
      "\n",
      "           0       0.86      0.92      0.89       554\n",
      "           1       0.93      0.87      0.90       637\n",
      "\n",
      "    accuracy                           0.90      1191\n",
      "   macro avg       0.89      0.90      0.89      1191\n",
      "weighted avg       0.90      0.90      0.90      1191\n",
      "\n",
      "-------> RUN 12\n",
      "Computing embeddings...\n"
     ]
    },
    {
     "name": "stderr",
     "output_type": "stream",
     "text": [
      "100%|██████████| 522/522 [00:09<00:00, 54.04it/s] \n",
      "100%|██████████| 38/38 [00:05<00:00,  7.07it/s]\n"
     ]
    },
    {
     "name": "stdout",
     "output_type": "stream",
     "text": [
      "RESULTS FOR LOSS = [Triplet]\n",
      "              precision    recall  f1-score   support\n",
      "\n",
      "           0       0.88      0.93      0.90       559\n",
      "           1       0.93      0.88      0.91       632\n",
      "\n",
      "    accuracy                           0.90      1191\n",
      "   macro avg       0.90      0.90      0.90      1191\n",
      "weighted avg       0.91      0.90      0.90      1191\n",
      "\n",
      "-------> RUN 13\n",
      "Computing embeddings...\n"
     ]
    },
    {
     "name": "stderr",
     "output_type": "stream",
     "text": [
      "100%|██████████| 522/522 [00:09<00:00, 53.90it/s] \n",
      "100%|██████████| 38/38 [00:05<00:00,  7.03it/s]\n"
     ]
    },
    {
     "name": "stdout",
     "output_type": "stream",
     "text": [
      "RESULTS FOR LOSS = [Triplet]\n",
      "              precision    recall  f1-score   support\n",
      "\n",
      "           0       0.86      0.91      0.89       569\n",
      "           1       0.92      0.86      0.89       622\n",
      "\n",
      "    accuracy                           0.89      1191\n",
      "   macro avg       0.89      0.89      0.89      1191\n",
      "weighted avg       0.89      0.89      0.89      1191\n",
      "\n",
      "-------> RUN 14\n",
      "Computing embeddings...\n"
     ]
    },
    {
     "name": "stderr",
     "output_type": "stream",
     "text": [
      "100%|██████████| 522/522 [00:09<00:00, 53.37it/s] \n",
      "100%|██████████| 38/38 [00:05<00:00,  7.05it/s]\n"
     ]
    },
    {
     "name": "stdout",
     "output_type": "stream",
     "text": [
      "RESULTS FOR LOSS = [Triplet]\n",
      "              precision    recall  f1-score   support\n",
      "\n",
      "           0       0.85      0.94      0.89       572\n",
      "           1       0.94      0.85      0.89       619\n",
      "\n",
      "    accuracy                           0.89      1191\n",
      "   macro avg       0.89      0.89      0.89      1191\n",
      "weighted avg       0.89      0.89      0.89      1191\n",
      "\n",
      "-------> RUN 15\n",
      "Computing embeddings...\n"
     ]
    },
    {
     "name": "stderr",
     "output_type": "stream",
     "text": [
      "100%|██████████| 522/522 [00:09<00:00, 53.87it/s] \n",
      "100%|██████████| 38/38 [00:05<00:00,  7.06it/s]\n"
     ]
    },
    {
     "name": "stdout",
     "output_type": "stream",
     "text": [
      "RESULTS FOR LOSS = [Triplet]\n",
      "              precision    recall  f1-score   support\n",
      "\n",
      "           0       0.87      0.91      0.89       583\n",
      "           1       0.91      0.88      0.89       608\n",
      "\n",
      "    accuracy                           0.89      1191\n",
      "   macro avg       0.89      0.89      0.89      1191\n",
      "weighted avg       0.89      0.89      0.89      1191\n",
      "\n",
      "\n",
      " Loss ===== Triplet\n",
      "Mean Recall (Class 0): 0.9164707746551578\n",
      "Mean Recall (Class 1): 0.878873849005473\n",
      "Std Recall (Class 0): 0.015334429911144547\n",
      "Std Recall (Class 1): 0.015398234690518847\n",
      "-------------------------------------------------------------------------------\n",
      "----- LOSS FUNCTION FOR THIS ITERATION [NPAIRS] -------------------------------\n",
      "Epoch 1 Iteration 0: Loss = 0.7544959783554077\n",
      "Epoch 1 Iteration 100: Loss = 0.7156695127487183\n",
      "Epoch 2 Iteration 0: Loss = 0.6924649477005005\n",
      "Epoch 2 Iteration 100: Loss = 0.6941722631454468\n",
      "Epoch 3 Iteration 0: Loss = 0.6950663328170776\n",
      "Epoch 3 Iteration 100: Loss = 0.696591854095459\n",
      "Epoch 4 Iteration 0: Loss = 0.6921346187591553\n",
      "Epoch 4 Iteration 100: Loss = 0.6927503347396851\n",
      "Epoch 5 Iteration 0: Loss = 0.6937236785888672\n",
      "Epoch 5 Iteration 100: Loss = 0.6915369033813477\n",
      "Epoch 6 Iteration 0: Loss = 0.69138503074646\n",
      "Epoch 6 Iteration 100: Loss = 0.6849611401557922\n",
      "Epoch 7 Iteration 0: Loss = 0.6938863396644592\n",
      "Epoch 7 Iteration 100: Loss = 0.7466034889221191\n",
      "Epoch 8 Iteration 0: Loss = 0.7089757919311523\n",
      "Epoch 8 Iteration 100: Loss = 0.669866681098938\n",
      "Epoch 9 Iteration 0: Loss = 0.6527317762374878\n",
      "Epoch 9 Iteration 100: Loss = 0.6848000288009644\n",
      "Epoch 10 Iteration 0: Loss = 0.6781454086303711\n",
      "Epoch 10 Iteration 100: Loss = 0.6981642246246338\n",
      "Computing embeddings...\n"
     ]
    },
    {
     "name": "stderr",
     "output_type": "stream",
     "text": [
      "100%|██████████| 559/559 [00:09<00:00, 56.37it/s] \n",
      "100%|██████████| 240/240 [00:07<00:00, 33.68it/s] \n"
     ]
    },
    {
     "name": "stdout",
     "output_type": "stream",
     "text": [
      "Performing GridSearch...\n",
      "Fitting 5 folds for each of 12 candidates, totalling 60 fits\n",
      "Best Params: C=10, gamma=0.01\n",
      "PCA dim =3\n",
      "RESULTS FOR LOSS = [NPairs]\n",
      "              precision    recall  f1-score   support\n",
      "\n",
      "           0       0.66      0.67      0.67      2537\n",
      "           1       0.84      0.82      0.83      5122\n",
      "\n",
      "    accuracy                           0.77      7659\n",
      "   macro avg       0.75      0.75      0.75      7659\n",
      "weighted avg       0.78      0.77      0.78      7659\n",
      "\n",
      "~ Joblib files saved.\n",
      "-------> RUN 1\n",
      "Computing embeddings...\n"
     ]
    },
    {
     "name": "stderr",
     "output_type": "stream",
     "text": [
      "100%|██████████| 522/522 [00:09<00:00, 53.46it/s] \n",
      "100%|██████████| 38/38 [00:05<00:00,  7.06it/s]\n"
     ]
    },
    {
     "name": "stdout",
     "output_type": "stream",
     "text": [
      "RESULTS FOR LOSS = [NPairs]\n",
      "              precision    recall  f1-score   support\n",
      "\n",
      "           0       0.74      0.86      0.79       581\n",
      "           1       0.84      0.71      0.77       611\n",
      "\n",
      "    accuracy                           0.78      1192\n",
      "   macro avg       0.79      0.79      0.78      1192\n",
      "weighted avg       0.79      0.78      0.78      1192\n",
      "\n",
      "-------> RUN 2\n",
      "Computing embeddings...\n"
     ]
    },
    {
     "name": "stderr",
     "output_type": "stream",
     "text": [
      "100%|██████████| 522/522 [00:09<00:00, 53.62it/s] \n",
      "100%|██████████| 38/38 [00:05<00:00,  7.07it/s]\n"
     ]
    },
    {
     "name": "stdout",
     "output_type": "stream",
     "text": [
      "RESULTS FOR LOSS = [NPairs]\n",
      "              precision    recall  f1-score   support\n",
      "\n",
      "           0       0.70      0.88      0.78       529\n",
      "           1       0.88      0.70      0.78       663\n",
      "\n",
      "    accuracy                           0.78      1192\n",
      "   macro avg       0.79      0.79      0.78      1192\n",
      "weighted avg       0.80      0.78      0.78      1192\n",
      "\n",
      "-------> RUN 3\n",
      "Computing embeddings...\n"
     ]
    },
    {
     "name": "stderr",
     "output_type": "stream",
     "text": [
      "100%|██████████| 522/522 [00:09<00:00, 53.12it/s] \n",
      "100%|██████████| 38/38 [00:05<00:00,  7.11it/s]\n"
     ]
    },
    {
     "name": "stdout",
     "output_type": "stream",
     "text": [
      "RESULTS FOR LOSS = [NPairs]\n",
      "              precision    recall  f1-score   support\n",
      "\n",
      "           0       0.70      0.85      0.77       563\n",
      "           1       0.84      0.67      0.75       629\n",
      "\n",
      "    accuracy                           0.76      1192\n",
      "   macro avg       0.77      0.76      0.76      1192\n",
      "weighted avg       0.77      0.76      0.76      1192\n",
      "\n",
      "-------> RUN 4\n",
      "Computing embeddings...\n"
     ]
    },
    {
     "name": "stderr",
     "output_type": "stream",
     "text": [
      "100%|██████████| 522/522 [00:09<00:00, 53.57it/s] \n",
      "100%|██████████| 38/38 [00:05<00:00,  7.07it/s]\n"
     ]
    },
    {
     "name": "stdout",
     "output_type": "stream",
     "text": [
      "RESULTS FOR LOSS = [NPairs]\n",
      "              precision    recall  f1-score   support\n",
      "\n",
      "           0       0.72      0.87      0.79       569\n",
      "           1       0.85      0.69      0.76       622\n",
      "\n",
      "    accuracy                           0.78      1191\n",
      "   macro avg       0.79      0.78      0.78      1191\n",
      "weighted avg       0.79      0.78      0.77      1191\n",
      "\n",
      "-------> RUN 5\n",
      "Computing embeddings...\n"
     ]
    },
    {
     "name": "stderr",
     "output_type": "stream",
     "text": [
      "100%|██████████| 522/522 [00:09<00:00, 53.39it/s] \n",
      "100%|██████████| 38/38 [00:05<00:00,  7.15it/s]\n"
     ]
    },
    {
     "name": "stdout",
     "output_type": "stream",
     "text": [
      "RESULTS FOR LOSS = [NPairs]\n",
      "              precision    recall  f1-score   support\n",
      "\n",
      "           0       0.71      0.88      0.79       567\n",
      "           1       0.86      0.68      0.76       624\n",
      "\n",
      "    accuracy                           0.77      1191\n",
      "   macro avg       0.79      0.78      0.77      1191\n",
      "weighted avg       0.79      0.77      0.77      1191\n",
      "\n",
      "-------> RUN 6\n",
      "Computing embeddings...\n"
     ]
    },
    {
     "name": "stderr",
     "output_type": "stream",
     "text": [
      "100%|██████████| 522/522 [00:09<00:00, 53.35it/s] \n",
      "100%|██████████| 38/38 [00:05<00:00,  7.06it/s]\n"
     ]
    },
    {
     "name": "stdout",
     "output_type": "stream",
     "text": [
      "RESULTS FOR LOSS = [NPairs]\n",
      "              precision    recall  f1-score   support\n",
      "\n",
      "           0       0.70      0.86      0.77       576\n",
      "           1       0.83      0.66      0.73       615\n",
      "\n",
      "    accuracy                           0.75      1191\n",
      "   macro avg       0.77      0.76      0.75      1191\n",
      "weighted avg       0.77      0.75      0.75      1191\n",
      "\n",
      "-------> RUN 7\n",
      "Computing embeddings...\n"
     ]
    },
    {
     "name": "stderr",
     "output_type": "stream",
     "text": [
      "100%|██████████| 522/522 [00:09<00:00, 53.32it/s] \n",
      "100%|██████████| 38/38 [00:05<00:00,  7.06it/s]\n"
     ]
    },
    {
     "name": "stdout",
     "output_type": "stream",
     "text": [
      "RESULTS FOR LOSS = [NPairs]\n",
      "              precision    recall  f1-score   support\n",
      "\n",
      "           0       0.70      0.86      0.77       572\n",
      "           1       0.84      0.66      0.74       619\n",
      "\n",
      "    accuracy                           0.76      1191\n",
      "   macro avg       0.77      0.76      0.76      1191\n",
      "weighted avg       0.77      0.76      0.76      1191\n",
      "\n",
      "-------> RUN 8\n",
      "Computing embeddings...\n"
     ]
    },
    {
     "name": "stderr",
     "output_type": "stream",
     "text": [
      "100%|██████████| 522/522 [00:09<00:00, 53.80it/s] \n",
      "100%|██████████| 38/38 [00:05<00:00,  7.04it/s]\n"
     ]
    },
    {
     "name": "stdout",
     "output_type": "stream",
     "text": [
      "RESULTS FOR LOSS = [NPairs]\n",
      "              precision    recall  f1-score   support\n",
      "\n",
      "           0       0.73      0.85      0.79       580\n",
      "           1       0.83      0.70      0.76       611\n",
      "\n",
      "    accuracy                           0.77      1191\n",
      "   macro avg       0.78      0.78      0.77      1191\n",
      "weighted avg       0.78      0.77      0.77      1191\n",
      "\n",
      "-------> RUN 9\n",
      "Computing embeddings...\n"
     ]
    },
    {
     "name": "stderr",
     "output_type": "stream",
     "text": [
      "100%|██████████| 522/522 [00:09<00:00, 53.65it/s] \n",
      "100%|██████████| 38/38 [00:05<00:00,  7.00it/s]\n"
     ]
    },
    {
     "name": "stdout",
     "output_type": "stream",
     "text": [
      "RESULTS FOR LOSS = [NPairs]\n",
      "              precision    recall  f1-score   support\n",
      "\n",
      "           0       0.73      0.85      0.79       569\n",
      "           1       0.84      0.72      0.77       622\n",
      "\n",
      "    accuracy                           0.78      1191\n",
      "   macro avg       0.78      0.78      0.78      1191\n",
      "weighted avg       0.79      0.78      0.78      1191\n",
      "\n",
      "-------> RUN 10\n",
      "Computing embeddings...\n"
     ]
    },
    {
     "name": "stderr",
     "output_type": "stream",
     "text": [
      "100%|██████████| 522/522 [00:09<00:00, 53.31it/s] \n",
      "100%|██████████| 38/38 [00:05<00:00,  7.08it/s]\n"
     ]
    },
    {
     "name": "stdout",
     "output_type": "stream",
     "text": [
      "RESULTS FOR LOSS = [NPairs]\n",
      "              precision    recall  f1-score   support\n",
      "\n",
      "           0       0.72      0.88      0.79       561\n",
      "           1       0.87      0.70      0.78       630\n",
      "\n",
      "    accuracy                           0.79      1191\n",
      "   macro avg       0.80      0.79      0.79      1191\n",
      "weighted avg       0.80      0.79      0.78      1191\n",
      "\n",
      "-------> RUN 11\n",
      "Computing embeddings...\n"
     ]
    },
    {
     "name": "stderr",
     "output_type": "stream",
     "text": [
      "100%|██████████| 522/522 [00:09<00:00, 53.49it/s] \n",
      "100%|██████████| 38/38 [00:05<00:00,  7.01it/s]\n"
     ]
    },
    {
     "name": "stdout",
     "output_type": "stream",
     "text": [
      "RESULTS FOR LOSS = [NPairs]\n",
      "              precision    recall  f1-score   support\n",
      "\n",
      "           0       0.73      0.86      0.79       585\n",
      "           1       0.84      0.69      0.76       606\n",
      "\n",
      "    accuracy                           0.77      1191\n",
      "   macro avg       0.78      0.78      0.77      1191\n",
      "weighted avg       0.79      0.77      0.77      1191\n",
      "\n",
      "-------> RUN 12\n",
      "Computing embeddings...\n"
     ]
    },
    {
     "name": "stderr",
     "output_type": "stream",
     "text": [
      "100%|██████████| 522/522 [00:09<00:00, 53.84it/s] \n",
      "100%|██████████| 38/38 [00:05<00:00,  7.06it/s]\n"
     ]
    },
    {
     "name": "stdout",
     "output_type": "stream",
     "text": [
      "RESULTS FOR LOSS = [NPairs]\n",
      "              precision    recall  f1-score   support\n",
      "\n",
      "           0       0.71      0.89      0.79       568\n",
      "           1       0.87      0.68      0.76       623\n",
      "\n",
      "    accuracy                           0.78      1191\n",
      "   macro avg       0.79      0.78      0.78      1191\n",
      "weighted avg       0.79      0.78      0.77      1191\n",
      "\n",
      "-------> RUN 13\n",
      "Computing embeddings...\n"
     ]
    },
    {
     "name": "stderr",
     "output_type": "stream",
     "text": [
      "100%|██████████| 522/522 [00:09<00:00, 53.40it/s] \n",
      "100%|██████████| 38/38 [00:05<00:00,  7.08it/s]\n"
     ]
    },
    {
     "name": "stdout",
     "output_type": "stream",
     "text": [
      "RESULTS FOR LOSS = [NPairs]\n",
      "              precision    recall  f1-score   support\n",
      "\n",
      "           0       0.69      0.88      0.77       549\n",
      "           1       0.87      0.66      0.75       642\n",
      "\n",
      "    accuracy                           0.76      1191\n",
      "   macro avg       0.78      0.77      0.76      1191\n",
      "weighted avg       0.78      0.76      0.76      1191\n",
      "\n",
      "-------> RUN 14\n",
      "Computing embeddings...\n"
     ]
    },
    {
     "name": "stderr",
     "output_type": "stream",
     "text": [
      "100%|██████████| 522/522 [00:09<00:00, 53.23it/s] \n",
      "100%|██████████| 38/38 [00:05<00:00,  7.06it/s]\n"
     ]
    },
    {
     "name": "stdout",
     "output_type": "stream",
     "text": [
      "RESULTS FOR LOSS = [NPairs]\n",
      "              precision    recall  f1-score   support\n",
      "\n",
      "           0       0.73      0.84      0.78       582\n",
      "           1       0.82      0.70      0.76       609\n",
      "\n",
      "    accuracy                           0.77      1191\n",
      "   macro avg       0.77      0.77      0.77      1191\n",
      "weighted avg       0.78      0.77      0.77      1191\n",
      "\n",
      "-------> RUN 15\n",
      "Computing embeddings...\n"
     ]
    },
    {
     "name": "stderr",
     "output_type": "stream",
     "text": [
      "100%|██████████| 522/522 [00:09<00:00, 53.72it/s] \n",
      "100%|██████████| 38/38 [00:05<00:00,  7.23it/s]\n"
     ]
    },
    {
     "name": "stdout",
     "output_type": "stream",
     "text": [
      "RESULTS FOR LOSS = [NPairs]\n",
      "              precision    recall  f1-score   support\n",
      "\n",
      "           0       0.70      0.87      0.77       558\n",
      "           1       0.85      0.67      0.75       633\n",
      "\n",
      "    accuracy                           0.76      1191\n",
      "   macro avg       0.77      0.77      0.76      1191\n",
      "weighted avg       0.78      0.76      0.76      1191\n",
      "\n",
      "\n",
      " Loss ===== NPairs\n",
      "Mean Recall (Class 0): 0.8650201382525213\n",
      "Mean Recall (Class 1): 0.6858119833379094\n",
      "Std Recall (Class 0): 0.013044930488131072\n",
      "Std Recall (Class 1): 0.01828148372811225\n",
      "-------------------------------------------------------------------------------\n",
      "----- LOSS FUNCTION FOR THIS ITERATION [COSFACE] -------------------------------\n",
      "Epoch 1 Iteration 0: Loss = 59.89868927001953\n",
      "Epoch 1 Iteration 100: Loss = 57.22280502319336\n",
      "Epoch 2 Iteration 0: Loss = 56.72283172607422\n",
      "Epoch 2 Iteration 100: Loss = 55.02073287963867\n",
      "Epoch 3 Iteration 0: Loss = 54.47867965698242\n",
      "Epoch 3 Iteration 100: Loss = 52.59913635253906\n",
      "Epoch 4 Iteration 0: Loss = 51.266815185546875\n",
      "Epoch 4 Iteration 100: Loss = 49.573204040527344\n",
      "Epoch 5 Iteration 0: Loss = 48.635101318359375\n",
      "Epoch 5 Iteration 100: Loss = 48.46538543701172\n",
      "Epoch 6 Iteration 0: Loss = 48.98717498779297\n",
      "Epoch 6 Iteration 100: Loss = 46.32799530029297\n",
      "Epoch 7 Iteration 0: Loss = 46.892784118652344\n",
      "Epoch 7 Iteration 100: Loss = 45.094608306884766\n",
      "Epoch 8 Iteration 0: Loss = 43.210044860839844\n",
      "Epoch 8 Iteration 100: Loss = 45.919586181640625\n",
      "Epoch 9 Iteration 0: Loss = 43.88813018798828\n",
      "Epoch 9 Iteration 100: Loss = 43.40336608886719\n",
      "Epoch 10 Iteration 0: Loss = 43.723915100097656\n",
      "Epoch 10 Iteration 100: Loss = 43.1702880859375\n",
      "Computing embeddings...\n"
     ]
    },
    {
     "name": "stderr",
     "output_type": "stream",
     "text": [
      "100%|██████████| 559/559 [00:10<00:00, 55.55it/s] \n",
      "100%|██████████| 240/240 [00:07<00:00, 33.68it/s] \n"
     ]
    },
    {
     "name": "stdout",
     "output_type": "stream",
     "text": [
      "Performing GridSearch...\n",
      "Fitting 5 folds for each of 12 candidates, totalling 60 fits\n",
      "Best Params: C=10, gamma=0.01\n",
      "PCA dim =32\n",
      "RESULTS FOR LOSS = [CosFace]\n",
      "              precision    recall  f1-score   support\n",
      "\n",
      "           0       0.90      0.87      0.88      2537\n",
      "           1       0.94      0.95      0.94      5122\n",
      "\n",
      "    accuracy                           0.92      7659\n",
      "   macro avg       0.92      0.91      0.91      7659\n",
      "weighted avg       0.92      0.92      0.92      7659\n",
      "\n",
      "~ Joblib files saved.\n",
      "-------> RUN 1\n",
      "Computing embeddings...\n"
     ]
    },
    {
     "name": "stderr",
     "output_type": "stream",
     "text": [
      "100%|██████████| 522/522 [00:09<00:00, 52.74it/s] \n",
      "100%|██████████| 38/38 [00:05<00:00,  7.15it/s]\n"
     ]
    },
    {
     "name": "stdout",
     "output_type": "stream",
     "text": [
      "RESULTS FOR LOSS = [CosFace]\n",
      "              precision    recall  f1-score   support\n",
      "\n",
      "           0       0.90      0.93      0.92       589\n",
      "           1       0.93      0.90      0.92       603\n",
      "\n",
      "    accuracy                           0.92      1192\n",
      "   macro avg       0.92      0.92      0.92      1192\n",
      "weighted avg       0.92      0.92      0.92      1192\n",
      "\n",
      "-------> RUN 2\n",
      "Computing embeddings...\n"
     ]
    },
    {
     "name": "stderr",
     "output_type": "stream",
     "text": [
      "100%|██████████| 522/522 [00:09<00:00, 53.61it/s] \n",
      "100%|██████████| 38/38 [00:05<00:00,  7.04it/s]\n"
     ]
    },
    {
     "name": "stdout",
     "output_type": "stream",
     "text": [
      "RESULTS FOR LOSS = [CosFace]\n",
      "              precision    recall  f1-score   support\n",
      "\n",
      "           0       0.92      0.90      0.91       552\n",
      "           1       0.92      0.93      0.92       640\n",
      "\n",
      "    accuracy                           0.92      1192\n",
      "   macro avg       0.92      0.92      0.92      1192\n",
      "weighted avg       0.92      0.92      0.92      1192\n",
      "\n",
      "-------> RUN 3\n",
      "Computing embeddings...\n"
     ]
    },
    {
     "name": "stderr",
     "output_type": "stream",
     "text": [
      "100%|██████████| 522/522 [00:09<00:00, 53.13it/s] \n",
      "100%|██████████| 38/38 [00:05<00:00,  7.10it/s]\n"
     ]
    },
    {
     "name": "stdout",
     "output_type": "stream",
     "text": [
      "RESULTS FOR LOSS = [CosFace]\n",
      "              precision    recall  f1-score   support\n",
      "\n",
      "           0       0.91      0.93      0.92       550\n",
      "           1       0.94      0.92      0.93       642\n",
      "\n",
      "    accuracy                           0.93      1192\n",
      "   macro avg       0.93      0.93      0.93      1192\n",
      "weighted avg       0.93      0.93      0.93      1192\n",
      "\n",
      "-------> RUN 4\n",
      "Computing embeddings...\n"
     ]
    },
    {
     "name": "stderr",
     "output_type": "stream",
     "text": [
      "100%|██████████| 522/522 [00:09<00:00, 53.99it/s] \n",
      "100%|██████████| 38/38 [00:05<00:00,  7.05it/s]\n"
     ]
    },
    {
     "name": "stdout",
     "output_type": "stream",
     "text": [
      "RESULTS FOR LOSS = [CosFace]\n",
      "              precision    recall  f1-score   support\n",
      "\n",
      "           0       0.94      0.95      0.95       582\n",
      "           1       0.95      0.94      0.95       609\n",
      "\n",
      "    accuracy                           0.95      1191\n",
      "   macro avg       0.95      0.95      0.95      1191\n",
      "weighted avg       0.95      0.95      0.95      1191\n",
      "\n",
      "-------> RUN 5\n",
      "Computing embeddings...\n"
     ]
    },
    {
     "name": "stderr",
     "output_type": "stream",
     "text": [
      "100%|██████████| 522/522 [00:09<00:00, 53.13it/s] \n",
      "100%|██████████| 38/38 [00:05<00:00,  7.07it/s]\n"
     ]
    },
    {
     "name": "stdout",
     "output_type": "stream",
     "text": [
      "RESULTS FOR LOSS = [CosFace]\n",
      "              precision    recall  f1-score   support\n",
      "\n",
      "           0       0.91      0.93      0.92       555\n",
      "           1       0.94      0.92      0.93       636\n",
      "\n",
      "    accuracy                           0.92      1191\n",
      "   macro avg       0.92      0.92      0.92      1191\n",
      "weighted avg       0.92      0.92      0.92      1191\n",
      "\n",
      "-------> RUN 6\n",
      "Computing embeddings...\n"
     ]
    },
    {
     "name": "stderr",
     "output_type": "stream",
     "text": [
      "100%|██████████| 522/522 [00:09<00:00, 52.86it/s] \n",
      "100%|██████████| 38/38 [00:05<00:00,  7.07it/s]\n"
     ]
    },
    {
     "name": "stdout",
     "output_type": "stream",
     "text": [
      "RESULTS FOR LOSS = [CosFace]\n",
      "              precision    recall  f1-score   support\n",
      "\n",
      "           0       0.91      0.93      0.92       599\n",
      "           1       0.93      0.91      0.92       592\n",
      "\n",
      "    accuracy                           0.92      1191\n",
      "   macro avg       0.92      0.92      0.92      1191\n",
      "weighted avg       0.92      0.92      0.92      1191\n",
      "\n",
      "-------> RUN 7\n",
      "Computing embeddings...\n"
     ]
    },
    {
     "name": "stderr",
     "output_type": "stream",
     "text": [
      "100%|██████████| 522/522 [00:09<00:00, 53.68it/s] \n",
      "100%|██████████| 38/38 [00:05<00:00,  7.03it/s]\n"
     ]
    },
    {
     "name": "stdout",
     "output_type": "stream",
     "text": [
      "RESULTS FOR LOSS = [CosFace]\n",
      "              precision    recall  f1-score   support\n",
      "\n",
      "           0       0.91      0.91      0.91       583\n",
      "           1       0.91      0.91      0.91       608\n",
      "\n",
      "    accuracy                           0.91      1191\n",
      "   macro avg       0.91      0.91      0.91      1191\n",
      "weighted avg       0.91      0.91      0.91      1191\n",
      "\n",
      "-------> RUN 8\n",
      "Computing embeddings...\n"
     ]
    },
    {
     "name": "stderr",
     "output_type": "stream",
     "text": [
      "100%|██████████| 522/522 [00:09<00:00, 54.13it/s] \n",
      "100%|██████████| 38/38 [00:05<00:00,  7.06it/s]\n"
     ]
    },
    {
     "name": "stdout",
     "output_type": "stream",
     "text": [
      "RESULTS FOR LOSS = [CosFace]\n",
      "              precision    recall  f1-score   support\n",
      "\n",
      "           0       0.95      0.94      0.94       594\n",
      "           1       0.94      0.95      0.94       597\n",
      "\n",
      "    accuracy                           0.94      1191\n",
      "   macro avg       0.94      0.94      0.94      1191\n",
      "weighted avg       0.94      0.94      0.94      1191\n",
      "\n",
      "-------> RUN 9\n",
      "Computing embeddings...\n"
     ]
    },
    {
     "name": "stderr",
     "output_type": "stream",
     "text": [
      "100%|██████████| 522/522 [00:09<00:00, 53.31it/s] \n",
      "100%|██████████| 38/38 [00:05<00:00,  7.06it/s]\n"
     ]
    },
    {
     "name": "stdout",
     "output_type": "stream",
     "text": [
      "RESULTS FOR LOSS = [CosFace]\n",
      "              precision    recall  f1-score   support\n",
      "\n",
      "           0       0.90      0.94      0.92       555\n",
      "           1       0.94      0.91      0.93       636\n",
      "\n",
      "    accuracy                           0.92      1191\n",
      "   macro avg       0.92      0.93      0.92      1191\n",
      "weighted avg       0.93      0.92      0.92      1191\n",
      "\n",
      "-------> RUN 10\n",
      "Computing embeddings...\n"
     ]
    },
    {
     "name": "stderr",
     "output_type": "stream",
     "text": [
      "100%|██████████| 522/522 [00:09<00:00, 53.68it/s] \n",
      "100%|██████████| 38/38 [00:05<00:00,  7.03it/s]\n"
     ]
    },
    {
     "name": "stdout",
     "output_type": "stream",
     "text": [
      "RESULTS FOR LOSS = [CosFace]\n",
      "              precision    recall  f1-score   support\n",
      "\n",
      "           0       0.92      0.92      0.92       557\n",
      "           1       0.93      0.93      0.93       634\n",
      "\n",
      "    accuracy                           0.92      1191\n",
      "   macro avg       0.92      0.92      0.92      1191\n",
      "weighted avg       0.92      0.92      0.92      1191\n",
      "\n",
      "-------> RUN 11\n",
      "Computing embeddings...\n"
     ]
    },
    {
     "name": "stderr",
     "output_type": "stream",
     "text": [
      "100%|██████████| 522/522 [00:09<00:00, 53.83it/s] \n",
      "100%|██████████| 38/38 [00:05<00:00,  7.11it/s]\n"
     ]
    },
    {
     "name": "stdout",
     "output_type": "stream",
     "text": [
      "RESULTS FOR LOSS = [CosFace]\n",
      "              precision    recall  f1-score   support\n",
      "\n",
      "           0       0.90      0.91      0.91       528\n",
      "           1       0.93      0.92      0.92       663\n",
      "\n",
      "    accuracy                           0.92      1191\n",
      "   macro avg       0.92      0.92      0.92      1191\n",
      "weighted avg       0.92      0.92      0.92      1191\n",
      "\n",
      "-------> RUN 12\n",
      "Computing embeddings...\n"
     ]
    },
    {
     "name": "stderr",
     "output_type": "stream",
     "text": [
      "100%|██████████| 522/522 [00:09<00:00, 53.50it/s] \n",
      "100%|██████████| 38/38 [00:05<00:00,  7.09it/s]\n"
     ]
    },
    {
     "name": "stdout",
     "output_type": "stream",
     "text": [
      "RESULTS FOR LOSS = [CosFace]\n",
      "              precision    recall  f1-score   support\n",
      "\n",
      "           0       0.92      0.93      0.93       592\n",
      "           1       0.93      0.92      0.93       599\n",
      "\n",
      "    accuracy                           0.93      1191\n",
      "   macro avg       0.93      0.93      0.93      1191\n",
      "weighted avg       0.93      0.93      0.93      1191\n",
      "\n",
      "-------> RUN 13\n",
      "Computing embeddings...\n"
     ]
    },
    {
     "name": "stderr",
     "output_type": "stream",
     "text": [
      "100%|██████████| 522/522 [00:09<00:00, 53.92it/s] \n",
      "100%|██████████| 38/38 [00:05<00:00,  7.06it/s]\n"
     ]
    },
    {
     "name": "stdout",
     "output_type": "stream",
     "text": [
      "RESULTS FOR LOSS = [CosFace]\n",
      "              precision    recall  f1-score   support\n",
      "\n",
      "           0       0.94      0.94      0.94       575\n",
      "           1       0.94      0.94      0.94       616\n",
      "\n",
      "    accuracy                           0.94      1191\n",
      "   macro avg       0.94      0.94      0.94      1191\n",
      "weighted avg       0.94      0.94      0.94      1191\n",
      "\n",
      "-------> RUN 14\n",
      "Computing embeddings...\n"
     ]
    },
    {
     "name": "stderr",
     "output_type": "stream",
     "text": [
      "100%|██████████| 522/522 [00:09<00:00, 52.99it/s] \n",
      "100%|██████████| 38/38 [00:05<00:00,  7.08it/s]\n"
     ]
    },
    {
     "name": "stdout",
     "output_type": "stream",
     "text": [
      "RESULTS FOR LOSS = [CosFace]\n",
      "              precision    recall  f1-score   support\n",
      "\n",
      "           0       0.91      0.92      0.92       551\n",
      "           1       0.93      0.92      0.93       640\n",
      "\n",
      "    accuracy                           0.92      1191\n",
      "   macro avg       0.92      0.92      0.92      1191\n",
      "weighted avg       0.92      0.92      0.92      1191\n",
      "\n",
      "-------> RUN 15\n",
      "Computing embeddings...\n"
     ]
    },
    {
     "name": "stderr",
     "output_type": "stream",
     "text": [
      "100%|██████████| 522/522 [00:09<00:00, 53.11it/s] \n",
      "100%|██████████| 38/38 [00:05<00:00,  7.05it/s]\n"
     ]
    },
    {
     "name": "stdout",
     "output_type": "stream",
     "text": [
      "RESULTS FOR LOSS = [CosFace]\n",
      "              precision    recall  f1-score   support\n",
      "\n",
      "           0       0.91      0.91      0.91       547\n",
      "           1       0.93      0.92      0.92       644\n",
      "\n",
      "    accuracy                           0.92      1191\n",
      "   macro avg       0.92      0.92      0.92      1191\n",
      "weighted avg       0.92      0.92      0.92      1191\n",
      "\n",
      "\n",
      " Loss ===== CosFace\n",
      "Mean Recall (Class 0): 0.9269065750173561\n",
      "Mean Recall (Class 1): 0.9235244720863273\n",
      "Std Recall (Class 0): 0.01240811742029214\n",
      "Std Recall (Class 1): 0.013022699257962542\n",
      "-------------------------------------------------------------------------------\n",
      "----- LOSS FUNCTION FOR THIS ITERATION [MULTISIMILARITY] -------------------------------\n",
      "Epoch 1 Iteration 0: Loss = 2.2924716472625732\n",
      "Epoch 1 Iteration 100: Loss = 2.1973588466644287\n",
      "Epoch 2 Iteration 0: Loss = 2.2189836502075195\n",
      "Epoch 2 Iteration 100: Loss = 2.192591905593872\n",
      "Epoch 3 Iteration 0: Loss = 2.204380989074707\n",
      "Epoch 3 Iteration 100: Loss = 2.2033071517944336\n",
      "Epoch 4 Iteration 0: Loss = 2.172994613647461\n",
      "Epoch 4 Iteration 100: Loss = 2.2082748413085938\n",
      "Epoch 5 Iteration 0: Loss = 2.2436416149139404\n",
      "Epoch 5 Iteration 100: Loss = 2.195493698120117\n",
      "Epoch 6 Iteration 0: Loss = 2.1846351623535156\n",
      "Epoch 6 Iteration 100: Loss = 2.1820333003997803\n",
      "Epoch 7 Iteration 0: Loss = 2.1876132488250732\n",
      "Epoch 7 Iteration 100: Loss = 2.1591110229492188\n",
      "Epoch 8 Iteration 0: Loss = 2.1638360023498535\n",
      "Epoch 8 Iteration 100: Loss = 2.173098087310791\n",
      "Epoch 9 Iteration 0: Loss = 2.1832668781280518\n",
      "Epoch 9 Iteration 100: Loss = 2.2119300365448\n",
      "Epoch 10 Iteration 0: Loss = 2.1588025093078613\n",
      "Epoch 10 Iteration 100: Loss = 2.1949663162231445\n",
      "Computing embeddings...\n"
     ]
    },
    {
     "name": "stderr",
     "output_type": "stream",
     "text": [
      "100%|██████████| 559/559 [00:09<00:00, 56.36it/s] \n",
      "100%|██████████| 240/240 [00:07<00:00, 34.08it/s] \n"
     ]
    },
    {
     "name": "stdout",
     "output_type": "stream",
     "text": [
      "Performing GridSearch...\n",
      "Fitting 5 folds for each of 12 candidates, totalling 60 fits\n",
      "Best Params: C=10, gamma=0.01\n",
      "PCA dim =18\n",
      "RESULTS FOR LOSS = [MultiSimilarity]\n",
      "              precision    recall  f1-score   support\n",
      "\n",
      "           0       0.86      0.85      0.85      2537\n",
      "           1       0.93      0.93      0.93      5122\n",
      "\n",
      "    accuracy                           0.90      7659\n",
      "   macro avg       0.89      0.89      0.89      7659\n",
      "weighted avg       0.90      0.90      0.90      7659\n",
      "\n",
      "~ Joblib files saved.\n",
      "-------> RUN 1\n",
      "Computing embeddings...\n"
     ]
    },
    {
     "name": "stderr",
     "output_type": "stream",
     "text": [
      "100%|██████████| 522/522 [00:09<00:00, 52.59it/s] \n",
      "100%|██████████| 38/38 [00:05<00:00,  7.14it/s]\n"
     ]
    },
    {
     "name": "stdout",
     "output_type": "stream",
     "text": [
      "RESULTS FOR LOSS = [MultiSimilarity]\n",
      "              precision    recall  f1-score   support\n",
      "\n",
      "           0       0.86      0.90      0.88       556\n",
      "           1       0.91      0.87      0.89       636\n",
      "\n",
      "    accuracy                           0.88      1192\n",
      "   macro avg       0.88      0.89      0.88      1192\n",
      "weighted avg       0.89      0.88      0.88      1192\n",
      "\n",
      "-------> RUN 2\n",
      "Computing embeddings...\n"
     ]
    },
    {
     "name": "stderr",
     "output_type": "stream",
     "text": [
      "100%|██████████| 522/522 [00:09<00:00, 53.34it/s] \n",
      "100%|██████████| 38/38 [00:05<00:00,  7.06it/s]\n"
     ]
    },
    {
     "name": "stdout",
     "output_type": "stream",
     "text": [
      "RESULTS FOR LOSS = [MultiSimilarity]\n",
      "              precision    recall  f1-score   support\n",
      "\n",
      "           0       0.89      0.94      0.91       572\n",
      "           1       0.94      0.89      0.91       620\n",
      "\n",
      "    accuracy                           0.91      1192\n",
      "   macro avg       0.91      0.91      0.91      1192\n",
      "weighted avg       0.91      0.91      0.91      1192\n",
      "\n",
      "-------> RUN 3\n",
      "Computing embeddings...\n"
     ]
    },
    {
     "name": "stderr",
     "output_type": "stream",
     "text": [
      "100%|██████████| 522/522 [00:09<00:00, 53.26it/s] \n",
      "100%|██████████| 38/38 [00:05<00:00,  7.04it/s]\n"
     ]
    },
    {
     "name": "stdout",
     "output_type": "stream",
     "text": [
      "RESULTS FOR LOSS = [MultiSimilarity]\n",
      "              precision    recall  f1-score   support\n",
      "\n",
      "           0       0.88      0.91      0.90       554\n",
      "           1       0.92      0.89      0.91       638\n",
      "\n",
      "    accuracy                           0.90      1192\n",
      "   macro avg       0.90      0.90      0.90      1192\n",
      "weighted avg       0.90      0.90      0.90      1192\n",
      "\n",
      "-------> RUN 4\n",
      "Computing embeddings...\n"
     ]
    },
    {
     "name": "stderr",
     "output_type": "stream",
     "text": [
      "100%|██████████| 522/522 [00:09<00:00, 53.67it/s] \n",
      "100%|██████████| 38/38 [00:05<00:00,  7.09it/s]\n"
     ]
    },
    {
     "name": "stdout",
     "output_type": "stream",
     "text": [
      "RESULTS FOR LOSS = [MultiSimilarity]\n",
      "              precision    recall  f1-score   support\n",
      "\n",
      "           0       0.89      0.93      0.91       558\n",
      "           1       0.94      0.89      0.92       633\n",
      "\n",
      "    accuracy                           0.91      1191\n",
      "   macro avg       0.91      0.91      0.91      1191\n",
      "weighted avg       0.91      0.91      0.91      1191\n",
      "\n",
      "-------> RUN 5\n",
      "Computing embeddings...\n"
     ]
    },
    {
     "name": "stderr",
     "output_type": "stream",
     "text": [
      "100%|██████████| 522/522 [00:09<00:00, 53.38it/s] \n",
      "100%|██████████| 38/38 [00:05<00:00,  7.03it/s]\n"
     ]
    },
    {
     "name": "stdout",
     "output_type": "stream",
     "text": [
      "RESULTS FOR LOSS = [MultiSimilarity]\n",
      "              precision    recall  f1-score   support\n",
      "\n",
      "           0       0.91      0.91      0.91       593\n",
      "           1       0.91      0.91      0.91       598\n",
      "\n",
      "    accuracy                           0.91      1191\n",
      "   macro avg       0.91      0.91      0.91      1191\n",
      "weighted avg       0.91      0.91      0.91      1191\n",
      "\n",
      "-------> RUN 6\n",
      "Computing embeddings...\n"
     ]
    },
    {
     "name": "stderr",
     "output_type": "stream",
     "text": [
      "100%|██████████| 522/522 [00:09<00:00, 53.26it/s] \n",
      "100%|██████████| 38/38 [00:05<00:00,  7.10it/s]\n"
     ]
    },
    {
     "name": "stdout",
     "output_type": "stream",
     "text": [
      "RESULTS FOR LOSS = [MultiSimilarity]\n",
      "              precision    recall  f1-score   support\n",
      "\n",
      "           0       0.87      0.91      0.89       526\n",
      "           1       0.93      0.89      0.91       665\n",
      "\n",
      "    accuracy                           0.90      1191\n",
      "   macro avg       0.90      0.90      0.90      1191\n",
      "weighted avg       0.90      0.90      0.90      1191\n",
      "\n",
      "-------> RUN 7\n",
      "Computing embeddings...\n"
     ]
    },
    {
     "name": "stderr",
     "output_type": "stream",
     "text": [
      "100%|██████████| 522/522 [00:09<00:00, 53.43it/s] \n",
      "100%|██████████| 38/38 [00:05<00:00,  7.11it/s]\n"
     ]
    },
    {
     "name": "stdout",
     "output_type": "stream",
     "text": [
      "RESULTS FOR LOSS = [MultiSimilarity]\n",
      "              precision    recall  f1-score   support\n",
      "\n",
      "           0       0.87      0.91      0.89       549\n",
      "           1       0.92      0.88      0.90       642\n",
      "\n",
      "    accuracy                           0.90      1191\n",
      "   macro avg       0.90      0.90      0.90      1191\n",
      "weighted avg       0.90      0.90      0.90      1191\n",
      "\n",
      "-------> RUN 8\n",
      "Computing embeddings...\n"
     ]
    },
    {
     "name": "stderr",
     "output_type": "stream",
     "text": [
      "100%|██████████| 522/522 [00:09<00:00, 54.08it/s] \n",
      "100%|██████████| 38/38 [00:05<00:00,  7.07it/s]\n"
     ]
    },
    {
     "name": "stdout",
     "output_type": "stream",
     "text": [
      "RESULTS FOR LOSS = [MultiSimilarity]\n",
      "              precision    recall  f1-score   support\n",
      "\n",
      "           0       0.90      0.92      0.91       572\n",
      "           1       0.93      0.90      0.91       619\n",
      "\n",
      "    accuracy                           0.91      1191\n",
      "   macro avg       0.91      0.91      0.91      1191\n",
      "weighted avg       0.91      0.91      0.91      1191\n",
      "\n",
      "-------> RUN 9\n",
      "Computing embeddings...\n"
     ]
    },
    {
     "name": "stderr",
     "output_type": "stream",
     "text": [
      "100%|██████████| 522/522 [00:09<00:00, 53.81it/s] \n",
      "100%|██████████| 38/38 [00:05<00:00,  7.05it/s]\n"
     ]
    },
    {
     "name": "stdout",
     "output_type": "stream",
     "text": [
      "RESULTS FOR LOSS = [MultiSimilarity]\n",
      "              precision    recall  f1-score   support\n",
      "\n",
      "           0       0.88      0.92      0.90       570\n",
      "           1       0.92      0.89      0.91       621\n",
      "\n",
      "    accuracy                           0.90      1191\n",
      "   macro avg       0.90      0.90      0.90      1191\n",
      "weighted avg       0.90      0.90      0.90      1191\n",
      "\n",
      "-------> RUN 10\n",
      "Computing embeddings...\n"
     ]
    },
    {
     "name": "stderr",
     "output_type": "stream",
     "text": [
      "100%|██████████| 522/522 [00:09<00:00, 53.21it/s] \n",
      "100%|██████████| 38/38 [00:05<00:00,  7.25it/s]\n"
     ]
    },
    {
     "name": "stdout",
     "output_type": "stream",
     "text": [
      "RESULTS FOR LOSS = [MultiSimilarity]\n",
      "              precision    recall  f1-score   support\n",
      "\n",
      "           0       0.90      0.93      0.91       582\n",
      "           1       0.93      0.90      0.91       609\n",
      "\n",
      "    accuracy                           0.91      1191\n",
      "   macro avg       0.91      0.91      0.91      1191\n",
      "weighted avg       0.91      0.91      0.91      1191\n",
      "\n",
      "-------> RUN 11\n",
      "Computing embeddings...\n"
     ]
    },
    {
     "name": "stderr",
     "output_type": "stream",
     "text": [
      "100%|██████████| 522/522 [00:09<00:00, 53.26it/s] \n",
      "100%|██████████| 38/38 [00:05<00:00,  7.07it/s]\n"
     ]
    },
    {
     "name": "stdout",
     "output_type": "stream",
     "text": [
      "RESULTS FOR LOSS = [MultiSimilarity]\n",
      "              precision    recall  f1-score   support\n",
      "\n",
      "           0       0.90      0.92      0.91       578\n",
      "           1       0.92      0.90      0.91       613\n",
      "\n",
      "    accuracy                           0.91      1191\n",
      "   macro avg       0.91      0.91      0.91      1191\n",
      "weighted avg       0.91      0.91      0.91      1191\n",
      "\n",
      "-------> RUN 12\n",
      "Computing embeddings...\n"
     ]
    },
    {
     "name": "stderr",
     "output_type": "stream",
     "text": [
      "100%|██████████| 522/522 [00:09<00:00, 53.73it/s] \n",
      "100%|██████████| 38/38 [00:05<00:00,  7.05it/s]\n"
     ]
    },
    {
     "name": "stdout",
     "output_type": "stream",
     "text": [
      "RESULTS FOR LOSS = [MultiSimilarity]\n",
      "              precision    recall  f1-score   support\n",
      "\n",
      "           0       0.89      0.93      0.91       574\n",
      "           1       0.93      0.89      0.91       617\n",
      "\n",
      "    accuracy                           0.91      1191\n",
      "   macro avg       0.91      0.91      0.91      1191\n",
      "weighted avg       0.91      0.91      0.91      1191\n",
      "\n",
      "-------> RUN 13\n",
      "Computing embeddings...\n"
     ]
    },
    {
     "name": "stderr",
     "output_type": "stream",
     "text": [
      "100%|██████████| 522/522 [00:09<00:00, 53.86it/s] \n",
      "100%|██████████| 38/38 [00:05<00:00,  7.01it/s]\n"
     ]
    },
    {
     "name": "stdout",
     "output_type": "stream",
     "text": [
      "RESULTS FOR LOSS = [MultiSimilarity]\n",
      "              precision    recall  f1-score   support\n",
      "\n",
      "           0       0.90      0.92      0.91       587\n",
      "           1       0.92      0.90      0.91       604\n",
      "\n",
      "    accuracy                           0.91      1191\n",
      "   macro avg       0.91      0.91      0.91      1191\n",
      "weighted avg       0.91      0.91      0.91      1191\n",
      "\n",
      "-------> RUN 14\n",
      "Computing embeddings...\n"
     ]
    },
    {
     "name": "stderr",
     "output_type": "stream",
     "text": [
      "100%|██████████| 522/522 [00:10<00:00, 49.97it/s] \n",
      "100%|██████████| 38/38 [00:05<00:00,  7.04it/s]\n"
     ]
    },
    {
     "name": "stdout",
     "output_type": "stream",
     "text": [
      "RESULTS FOR LOSS = [MultiSimilarity]\n",
      "              precision    recall  f1-score   support\n",
      "\n",
      "           0       0.89      0.92      0.90       553\n",
      "           1       0.93      0.90      0.91       638\n",
      "\n",
      "    accuracy                           0.91      1191\n",
      "   macro avg       0.91      0.91      0.91      1191\n",
      "weighted avg       0.91      0.91      0.91      1191\n",
      "\n",
      "-------> RUN 15\n",
      "Computing embeddings...\n"
     ]
    },
    {
     "name": "stderr",
     "output_type": "stream",
     "text": [
      "100%|██████████| 522/522 [00:10<00:00, 51.64it/s] \n",
      "100%|██████████| 38/38 [00:05<00:00,  7.16it/s]\n"
     ]
    },
    {
     "name": "stdout",
     "output_type": "stream",
     "text": [
      "RESULTS FOR LOSS = [MultiSimilarity]\n",
      "              precision    recall  f1-score   support\n",
      "\n",
      "           0       0.90      0.93      0.92       585\n",
      "           1       0.93      0.91      0.92       606\n",
      "\n",
      "    accuracy                           0.92      1191\n",
      "   macro avg       0.92      0.92      0.92      1191\n",
      "weighted avg       0.92      0.92      0.92      1191\n",
      "\n",
      "\n",
      " Loss ===== MultiSimilarity\n",
      "Mean Recall (Class 0): 0.9206958614182199\n",
      "Mean Recall (Class 1): 0.8945898483812579\n",
      "Std Recall (Class 0): 0.009702782294887854\n",
      "Std Recall (Class 1): 0.010250083324908555\n"
     ]
    }
   ],
   "source": [
    "for err in LOSSES:\n",
    "    print('-------------------------------------------------------------------------------')\n",
    "    print(f'----- LOSS FUNCTION FOR THIS ITERATION [{err.upper()}] -------------------------------')\n",
    "    run_full_pipeline('D1', err, x_train, x_test, x_train_loader, y_true_train)"
   ]
  },
  {
   "cell_type": "markdown",
   "metadata": {},
   "source": [
    "## Ensemble"
   ]
  },
  {
   "cell_type": "code",
   "execution_count": 14,
   "metadata": {},
   "outputs": [],
   "source": [
    "######################################## TRIPLET\n",
    "\n",
    "triplet_model = Net(EMBEDDING_SIZE, NET_IMG_SIZE).to(device)\n",
    "triplet_model.load_state_dict(torch.load('./models/v1-ensble_2023-11-22\\model_D1_Triplet_v1-ensble_2023-11-22.pth'))\n",
    "\n",
    "triplet_model.eval()\n",
    "\n",
    "triplet_clf = load('./models/v1-ensble_2023-11-22\\clf_D1_Triplet_v1-ensble_2023-11-22.joblib')\n",
    "triplet_scaler = load('./models/v1-ensble_2023-11-22\\scaler_D1_Triplet_v1-ensble_2023-11-22.joblib')\n",
    "triplet_pca = load('./models/v1-ensble_2023-11-22\\pca_D1_Triplet_v1-ensble_2023-11-22.joblib')\n",
    "######################################## COSFACE\n",
    "\n",
    "cosface_model = Net(EMBEDDING_SIZE, NET_IMG_SIZE).to(device)\n",
    "cosface_model.load_state_dict(torch.load('./models/v1-ensble_2023-11-22\\model_D1_CosFace_v1-ensble_2023-11-22.pth'))\n",
    "\n",
    "cosface_model.eval()\n",
    "\n",
    "cosface_clf = load('./models/v1-ensble_2023-11-22\\clf_D1_CosFace_v1-ensble_2023-11-22.joblib')\n",
    "cosface_scaler = load('./models/v1-ensble_2023-11-22\\scaler_D1_CosFace_v1-ensble_2023-11-22.joblib')\n",
    "cosface_pca = load('./models/v1-ensble_2023-11-22\\pca_D1_CosFace_v1-ensble_2023-11-22.joblib')\n",
    "######################################## NPAIRS\n",
    "\n",
    "npairs_model = Net(EMBEDDING_SIZE, NET_IMG_SIZE).to(device)\n",
    "npairs_model.load_state_dict(torch.load('./models/v1-ensble_2023-11-22\\model_D1_NPairs_v1-ensble_2023-11-22.pth'))\n",
    "\n",
    "npairs_model.eval()\n",
    "\n",
    "npairs_clf = load('./models/v1-ensble_2023-11-22\\clf_D1_NPairs_v1-ensble_2023-11-22.joblib')\n",
    "npairs_scaler = load('./models/v1-ensble_2023-11-22\\scaler_D1_NPairs_v1-ensble_2023-11-22.joblib')\n",
    "npairs_pca = load('./models/v1-ensble_2023-11-22\\pca_D1_NPairs_v1-ensble_2023-11-22.joblib')\n",
    "######################################## MULTISIMILARITY\n",
    "\n",
    "multisim_model = Net(EMBEDDING_SIZE, NET_IMG_SIZE).to(device)\n",
    "multisim_model.load_state_dict(torch.load('./models/v1-ensble_2023-11-22\\model_D1_MultiSimilarity_v1-ensble_2023-11-22.pth'))\n",
    "\n",
    "multisim_model.eval()\n",
    "\n",
    "multisim_clf = load('./models/v1-ensble_2023-11-22\\clf_D1_MultiSimilarity_v1-ensble_2023-11-22.joblib')\n",
    "multisim_scaler = load('./models/v1-ensble_2023-11-22\\scaler_D1_MultiSimilarity_v1-ensble_2023-11-22.joblib')\n",
    "multisim_pca = load('./models/v1-ensble_2023-11-22\\pca_D1_MultiSimilarity_v1-ensble_2023-11-22.joblib')"
   ]
  },
  {
   "cell_type": "code",
   "execution_count": 15,
   "metadata": {},
   "outputs": [
    {
     "name": "stderr",
     "output_type": "stream",
     "text": [
      "100%|██████████| 240/240 [00:07<00:00, 33.78it/s] \n",
      "100%|██████████| 240/240 [00:07<00:00, 33.74it/s] \n",
      "100%|██████████| 240/240 [00:07<00:00, 33.57it/s] \n",
      "100%|██████████| 240/240 [00:07<00:00, 33.67it/s] \n"
     ]
    }
   ],
   "source": [
    "classifiers = [triplet_clf, cosface_clf, multisim_clf, npairs_clf]\n",
    "scalers = [triplet_scaler, cosface_scaler, multisim_scaler, npairs_scaler]\n",
    "pcas = [triplet_pca, cosface_pca, multisim_pca, npairs_pca]\n",
    "models = [triplet_model, cosface_model, multisim_model, npairs_model]\n",
    "\n",
    "all_models_predictions = ensemble_methods.get_predictions(x_test, models, classifiers, scalers, pcas)"
   ]
  },
  {
   "cell_type": "code",
   "execution_count": 16,
   "metadata": {},
   "outputs": [
    {
     "data": {
      "text/plain": [
       "{'triplet': array([0, 1, 1, ..., 1, 0, 0], dtype=int64),\n",
       " 'cosface': array([0, 1, 1, ..., 1, 1, 0], dtype=int64),\n",
       " 'multisim': array([0, 1, 1, ..., 1, 0, 0], dtype=int64),\n",
       " 'npairs': array([1, 1, 1, ..., 0, 1, 1], dtype=int64)}"
      ]
     },
     "execution_count": 16,
     "metadata": {},
     "output_type": "execute_result"
    }
   ],
   "source": [
    "model_str = ['triplet', 'cosface', 'multisim', 'npairs']\n",
    "all_models_predictions = dict(zip(model_str, all_models_predictions))\n",
    "all_models_predictions"
   ]
  },
  {
   "cell_type": "markdown",
   "metadata": {},
   "source": [
    "Majority voting \\\n",
    "precisa de número ímpar de modelos, ou seja, 4 combinações possíveis com 3 modelos"
   ]
  },
  {
   "cell_type": "code",
   "execution_count": 17,
   "metadata": {},
   "outputs": [
    {
     "name": "stdout",
     "output_type": "stream",
     "text": [
      "RESULT MAJORITY VOTING [('triplet', 'cosface', 'multisim')]\n",
      "              precision    recall  f1-score   support\n",
      "\n",
      "       Leish       0.88      0.88      0.88      2537\n",
      "    No Leish       0.94      0.94      0.94      5122\n",
      "\n",
      "    accuracy                           0.92      7659\n",
      "   macro avg       0.91      0.91      0.91      7659\n",
      "weighted avg       0.92      0.92      0.92      7659\n",
      "\n",
      "RESULT MAJORITY VOTING [('triplet', 'cosface', 'npairs')]\n",
      "              precision    recall  f1-score   support\n",
      "\n",
      "       Leish       0.88      0.87      0.88      2537\n",
      "    No Leish       0.94      0.94      0.94      5122\n",
      "\n",
      "    accuracy                           0.92      7659\n",
      "   macro avg       0.91      0.91      0.91      7659\n",
      "weighted avg       0.92      0.92      0.92      7659\n",
      "\n",
      "RESULT MAJORITY VOTING [('triplet', 'multisim', 'npairs')]\n",
      "              precision    recall  f1-score   support\n",
      "\n",
      "       Leish       0.86      0.86      0.86      2537\n",
      "    No Leish       0.93      0.93      0.93      5122\n",
      "\n",
      "    accuracy                           0.91      7659\n",
      "   macro avg       0.89      0.89      0.89      7659\n",
      "weighted avg       0.91      0.91      0.91      7659\n",
      "\n",
      "RESULT MAJORITY VOTING [('cosface', 'multisim', 'npairs')]\n",
      "              precision    recall  f1-score   support\n",
      "\n",
      "       Leish       0.90      0.86      0.88      2537\n",
      "    No Leish       0.93      0.95      0.94      5122\n",
      "\n",
      "    accuracy                           0.92      7659\n",
      "   macro avg       0.92      0.91      0.91      7659\n",
      "weighted avg       0.92      0.92      0.92      7659\n",
      "\n"
     ]
    }
   ],
   "source": [
    "combs_k3 = list(combinations(all_models_predictions.items(), 3))\n",
    "\n",
    "for comb in combs_k3:\n",
    "    models_str, preds = zip(*comb)\n",
    "    majority_pred = ensemble_methods.majority_voting(preds)\n",
    "\n",
    "    print(f'RESULT MAJORITY VOTING [{models_str}]')\n",
    "    print(classification_report(y_true_test, majority_pred, target_names=['Leish', 'No Leish']))\n"
   ]
  },
  {
   "cell_type": "markdown",
   "metadata": {},
   "source": [
    "Weighted voting \\\n",
    "anteriormente, foi constatado que não havia melhora de perfomance entre 2 ou 3 modelos nessa modalidade, \\\n",
    "portanto, para priorizar o custo computacional, farei com apenas 2 modelos"
   ]
  },
  {
   "cell_type": "code",
   "execution_count": 18,
   "metadata": {},
   "outputs": [
    {
     "name": "stdout",
     "output_type": "stream",
     "text": [
      "RESULT WEIGHTED VOTING [('triplet', 'cosface')] / weights [0.4, 0.6]\n",
      "              precision    recall  f1-score   support\n",
      "\n",
      "       Leish       0.90      0.87      0.88      2537\n",
      "    No Leish       0.94      0.95      0.94      5122\n",
      "\n",
      "    accuracy                           0.92      7659\n",
      "   macro avg       0.92      0.91      0.91      7659\n",
      "weighted avg       0.92      0.92      0.92      7659\n",
      "\n",
      "RESULT WEIGHTED VOTING [('triplet', 'cosface')] / weights [0.6, 0.4]\n",
      "              precision    recall  f1-score   support\n",
      "\n",
      "       Leish       0.83      0.86      0.84      2537\n",
      "    No Leish       0.93      0.91      0.92      5122\n",
      "\n",
      "    accuracy                           0.89      7659\n",
      "   macro avg       0.88      0.89      0.88      7659\n",
      "weighted avg       0.90      0.89      0.89      7659\n",
      "\n",
      "RESULT WEIGHTED VOTING [('triplet', 'multisim')] / weights [0.6, 0.4]\n",
      "              precision    recall  f1-score   support\n",
      "\n",
      "       Leish       0.83      0.86      0.84      2537\n",
      "    No Leish       0.93      0.91      0.92      5122\n",
      "\n",
      "    accuracy                           0.89      7659\n",
      "   macro avg       0.88      0.89      0.88      7659\n",
      "weighted avg       0.90      0.89      0.89      7659\n",
      "\n",
      "RESULT WEIGHTED VOTING [('triplet', 'multisim')] / weights [0.4, 0.6]\n",
      "              precision    recall  f1-score   support\n",
      "\n",
      "       Leish       0.86      0.85      0.85      2537\n",
      "    No Leish       0.93      0.93      0.93      5122\n",
      "\n",
      "    accuracy                           0.90      7659\n",
      "   macro avg       0.89      0.89      0.89      7659\n",
      "weighted avg       0.90      0.90      0.90      7659\n",
      "\n",
      "RESULT WEIGHTED VOTING [('triplet', 'npairs')] / weights [0.4, 0.6]\n",
      "              precision    recall  f1-score   support\n",
      "\n",
      "       Leish       0.66      0.67      0.67      2537\n",
      "    No Leish       0.84      0.82      0.83      5122\n",
      "\n",
      "    accuracy                           0.77      7659\n",
      "   macro avg       0.75      0.75      0.75      7659\n",
      "weighted avg       0.78      0.77      0.78      7659\n",
      "\n",
      "RESULT WEIGHTED VOTING [('triplet', 'npairs')] / weights [0.6, 0.4]\n",
      "              precision    recall  f1-score   support\n",
      "\n",
      "       Leish       0.83      0.86      0.84      2537\n",
      "    No Leish       0.93      0.91      0.92      5122\n",
      "\n",
      "    accuracy                           0.89      7659\n",
      "   macro avg       0.88      0.89      0.88      7659\n",
      "weighted avg       0.90      0.89      0.89      7659\n",
      "\n",
      "RESULT WEIGHTED VOTING [('cosface', 'multisim')] / weights [0.6, 0.4]\n",
      "              precision    recall  f1-score   support\n",
      "\n",
      "       Leish       0.90      0.87      0.88      2537\n",
      "    No Leish       0.94      0.95      0.94      5122\n",
      "\n",
      "    accuracy                           0.92      7659\n",
      "   macro avg       0.92      0.91      0.91      7659\n",
      "weighted avg       0.92      0.92      0.92      7659\n",
      "\n",
      "RESULT WEIGHTED VOTING [('cosface', 'multisim')] / weights [0.4, 0.6]\n",
      "              precision    recall  f1-score   support\n",
      "\n",
      "       Leish       0.86      0.85      0.85      2537\n",
      "    No Leish       0.93      0.93      0.93      5122\n",
      "\n",
      "    accuracy                           0.90      7659\n",
      "   macro avg       0.89      0.89      0.89      7659\n",
      "weighted avg       0.90      0.90      0.90      7659\n",
      "\n",
      "RESULT WEIGHTED VOTING [('cosface', 'npairs')] / weights [0.4, 0.6]\n",
      "              precision    recall  f1-score   support\n",
      "\n",
      "       Leish       0.66      0.67      0.67      2537\n",
      "    No Leish       0.84      0.82      0.83      5122\n",
      "\n",
      "    accuracy                           0.77      7659\n",
      "   macro avg       0.75      0.75      0.75      7659\n",
      "weighted avg       0.78      0.77      0.78      7659\n",
      "\n",
      "RESULT WEIGHTED VOTING [('cosface', 'npairs')] / weights [0.6, 0.4]\n",
      "              precision    recall  f1-score   support\n",
      "\n",
      "       Leish       0.90      0.87      0.88      2537\n",
      "    No Leish       0.94      0.95      0.94      5122\n",
      "\n",
      "    accuracy                           0.92      7659\n",
      "   macro avg       0.92      0.91      0.91      7659\n",
      "weighted avg       0.92      0.92      0.92      7659\n",
      "\n",
      "RESULT WEIGHTED VOTING [('multisim', 'npairs')] / weights [0.6, 0.4]\n",
      "              precision    recall  f1-score   support\n",
      "\n",
      "       Leish       0.86      0.85      0.85      2537\n",
      "    No Leish       0.93      0.93      0.93      5122\n",
      "\n",
      "    accuracy                           0.90      7659\n",
      "   macro avg       0.89      0.89      0.89      7659\n",
      "weighted avg       0.90      0.90      0.90      7659\n",
      "\n",
      "RESULT WEIGHTED VOTING [('multisim', 'npairs')] / weights [0.4, 0.6]\n",
      "              precision    recall  f1-score   support\n",
      "\n",
      "       Leish       0.66      0.67      0.67      2537\n",
      "    No Leish       0.84      0.82      0.83      5122\n",
      "\n",
      "    accuracy                           0.77      7659\n",
      "   macro avg       0.75      0.75      0.75      7659\n",
      "weighted avg       0.78      0.77      0.78      7659\n",
      "\n"
     ]
    }
   ],
   "source": [
    "combs_k2 = list(combinations(all_models_predictions.items(), 2))\n",
    "weights = [0.4, 0.6]\n",
    "\n",
    "for comb in combs_k2:\n",
    "    models_str, preds = zip(*comb)\n",
    "    weighted_pred_w1 = ensemble_methods.weighted_voting(preds, weights)\n",
    "    print(f'RESULT WEIGHTED VOTING [{models_str}] / weights {weights}')\n",
    "    print(classification_report(y_true_test, weighted_pred_w1, target_names=['Leish', 'No Leish']))\n",
    "\n",
    "    weights.reverse()\n",
    "    weighted_pred_w2 = ensemble_methods.weighted_voting(preds, weights)\n",
    "\n",
    "    print(f'RESULT WEIGHTED VOTING [{models_str}] / weights {weights}')\n",
    "    print(classification_report(y_true_test, weighted_pred_w2, target_names=['Leish', 'No Leish']))"
   ]
  },
  {
   "cell_type": "markdown",
   "metadata": {},
   "source": [
    "Stacking \\\n",
    "meta-classificador para aprender quando escolher o resultado de cada classificador, portanto, \\\n",
    "apenas uma combinação: todos os 4 modelos"
   ]
  },
  {
   "cell_type": "code",
   "execution_count": 20,
   "metadata": {},
   "outputs": [
    {
     "name": "stderr",
     "output_type": "stream",
     "text": [
      "100%|██████████| 559/559 [00:09<00:00, 56.21it/s] \n",
      "100%|██████████| 559/559 [00:10<00:00, 55.69it/s] \n",
      "100%|██████████| 559/559 [00:10<00:00, 55.68it/s] \n",
      "100%|██████████| 559/559 [00:09<00:00, 56.34it/s] \n",
      "100%|██████████| 240/240 [00:07<00:00, 33.19it/s] \n",
      "100%|██████████| 240/240 [00:07<00:00, 32.88it/s] \n",
      "100%|██████████| 240/240 [00:07<00:00, 32.13it/s] \n",
      "100%|██████████| 240/240 [00:07<00:00, 33.02it/s] \n"
     ]
    },
    {
     "name": "stdout",
     "output_type": "stream",
     "text": [
      "RESULT STACKING [All models] / meta-clf LogisticRegression\n",
      "              precision    recall  f1-score   support\n",
      "\n",
      "       Leish       0.90      0.87      0.88      2537\n",
      "    No Leish       0.94      0.95      0.94      5122\n",
      "\n",
      "    accuracy                           0.92      7659\n",
      "   macro avg       0.92      0.91      0.91      7659\n",
      "weighted avg       0.92      0.92      0.92      7659\n",
      "\n"
     ]
    }
   ],
   "source": [
    "meta_clf = ensemble_methods.stacking_ensemble(models, classifiers, scalers, pcas, x_train, y_true_train)\n",
    "test_predictions = ensemble_methods.get_predictions(x_test, models, classifiers, scalers, pcas)\n",
    "stacked_test_features = np.column_stack(test_predictions)\n",
    "final_predictions = meta_clf.predict(stacked_test_features)\n",
    "\n",
    "print(f'RESULT STACKING [All models] / meta-clf LogisticRegression')\n",
    "print(classification_report(y_true_test, final_predictions, target_names=['Leish', 'No Leish']))"
   ]
  },
  {
   "cell_type": "markdown",
   "metadata": {},
   "source": [
    "## Dataset 2\n",
    "fzr downsampling da classe negativa proporção (1:2) \\\n",
    "reduzir 12264 exemplos, contagem final 26450"
   ]
  },
  {
   "cell_type": "code",
   "execution_count": 11,
   "metadata": {},
   "outputs": [
    {
     "name": "stdout",
     "output_type": "stream",
     "text": [
      "~ 12264 arquivos removidos da pasta ..\\data\\d2-patches\\no-leish.\n"
     ]
    }
   ],
   "source": [
    "D2_DATA_DIR = Path('../data/d2-patches/')\n",
    "NO_LEISH_DATA_DIR = D2_DATA_DIR.joinpath('no-leish')\n",
    "# delete_rand(12264, NO_LEISH_DATA_DIR)"
   ]
  },
  {
   "cell_type": "code",
   "execution_count": 73,
   "metadata": {},
   "outputs": [
    {
     "name": "stdout",
     "output_type": "stream",
     "text": [
      "label format = {'leish': 0, 'no-leish': 1}\n",
      "train test split proportion = train[27772], test[11903]\n",
      "leish in training set = 9238\n",
      "leish in testing set = 3987\n",
      "-------------------------------------------------------------------------------\n",
      "----- LOSS FUNCTION FOR THIS ITERATION [TRIPLET] -------------------------------\n",
      "Epoch 1 Iteration 0: Loss = 0.23032549023628235\n",
      "Epoch 1 Iteration 100: Loss = 0.19984932243824005\n",
      "Epoch 1 Iteration 200: Loss = 0.2006445825099945\n",
      "Epoch 2 Iteration 0: Loss = 0.20070545375347137\n",
      "Epoch 2 Iteration 100: Loss = 0.20014098286628723\n",
      "Epoch 2 Iteration 200: Loss = 0.19986498355865479\n",
      "Epoch 3 Iteration 0: Loss = 0.20056073367595673\n",
      "Epoch 3 Iteration 100: Loss = 0.20002704858779907\n",
      "Epoch 3 Iteration 200: Loss = 0.1972784698009491\n",
      "Epoch 4 Iteration 0: Loss = 0.200966939330101\n",
      "Epoch 4 Iteration 100: Loss = 0.19997265934944153\n",
      "Epoch 4 Iteration 200: Loss = 0.20245866477489471\n",
      "Epoch 5 Iteration 0: Loss = 0.20411135256290436\n",
      "Epoch 5 Iteration 100: Loss = 0.20081473886966705\n",
      "Epoch 5 Iteration 200: Loss = 0.20031514763832092\n",
      "Epoch 6 Iteration 0: Loss = 0.1993173509836197\n",
      "Epoch 6 Iteration 100: Loss = 0.2008272409439087\n",
      "Epoch 6 Iteration 200: Loss = 0.1994953155517578\n",
      "Epoch 7 Iteration 0: Loss = 0.2012326568365097\n",
      "Epoch 7 Iteration 100: Loss = 0.2001960575580597\n",
      "Epoch 7 Iteration 200: Loss = 0.20024095475673676\n",
      "Epoch 8 Iteration 0: Loss = 0.19884128868579865\n",
      "Epoch 8 Iteration 100: Loss = 0.19983768463134766\n",
      "Epoch 8 Iteration 200: Loss = 0.19705486297607422\n",
      "Epoch 9 Iteration 0: Loss = 0.1996210813522339\n",
      "Epoch 9 Iteration 100: Loss = 0.20168496668338776\n",
      "Epoch 9 Iteration 200: Loss = 0.20229661464691162\n",
      "Epoch 10 Iteration 0: Loss = 0.20076192915439606\n",
      "Epoch 10 Iteration 100: Loss = 0.19925256073474884\n",
      "Epoch 10 Iteration 200: Loss = 0.19407746195793152\n",
      "Computing embeddings...\n"
     ]
    },
    {
     "name": "stderr",
     "output_type": "stream",
     "text": [
      "100%|██████████| 868/868 [00:13<00:00, 65.58it/s] \n",
      "100%|██████████| 372/372 [00:08<00:00, 44.67it/s] \n"
     ]
    },
    {
     "name": "stdout",
     "output_type": "stream",
     "text": [
      "Performing GridSearch...\n",
      "Fitting 5 folds for each of 12 candidates, totalling 60 fits\n",
      "Best Params: C=10, gamma=0.1\n",
      "PCA dim =4\n",
      "RESULTS FOR LOSS = [Triplet]\n",
      "              precision    recall  f1-score   support\n",
      "\n",
      "           0       0.66      0.36      0.47      3987\n",
      "           1       0.74      0.90      0.81      7916\n",
      "\n",
      "    accuracy                           0.72     11903\n",
      "   macro avg       0.70      0.63      0.64     11903\n",
      "weighted avg       0.71      0.72      0.70     11903\n",
      "\n",
      "~ Joblib files saved.\n",
      "-------> RUN 1\n",
      "Computing embeddings...\n"
     ]
    },
    {
     "name": "stderr",
     "output_type": "stream",
     "text": [
      "100%|██████████| 810/810 [00:17<00:00, 47.59it/s]\n",
      "100%|██████████| 58/58 [00:05<00:00, 10.08it/s]\n"
     ]
    },
    {
     "name": "stdout",
     "output_type": "stream",
     "text": [
      "RESULTS FOR LOSS = [Triplet]\n",
      "              precision    recall  f1-score   support\n",
      "\n",
      "           0       0.68      0.67      0.67       921\n",
      "           1       0.68      0.69      0.68       931\n",
      "\n",
      "    accuracy                           0.68      1852\n",
      "   macro avg       0.68      0.68      0.68      1852\n",
      "weighted avg       0.68      0.68      0.68      1852\n",
      "\n",
      "-------> RUN 2\n",
      "Computing embeddings...\n"
     ]
    },
    {
     "name": "stderr",
     "output_type": "stream",
     "text": [
      "100%|██████████| 810/810 [00:12<00:00, 65.85it/s] \n",
      "100%|██████████| 58/58 [00:05<00:00, 10.45it/s]\n"
     ]
    },
    {
     "name": "stdout",
     "output_type": "stream",
     "text": [
      "RESULTS FOR LOSS = [Triplet]\n",
      "              precision    recall  f1-score   support\n",
      "\n",
      "           0       0.69      0.70      0.69       893\n",
      "           1       0.71      0.70      0.71       959\n",
      "\n",
      "    accuracy                           0.70      1852\n",
      "   macro avg       0.70      0.70      0.70      1852\n",
      "weighted avg       0.70      0.70      0.70      1852\n",
      "\n",
      "-------> RUN 3\n",
      "Computing embeddings...\n"
     ]
    },
    {
     "name": "stderr",
     "output_type": "stream",
     "text": [
      "100%|██████████| 810/810 [00:12<00:00, 65.08it/s] \n",
      "100%|██████████| 58/58 [00:05<00:00, 10.60it/s]\n"
     ]
    },
    {
     "name": "stdout",
     "output_type": "stream",
     "text": [
      "RESULTS FOR LOSS = [Triplet]\n",
      "              precision    recall  f1-score   support\n",
      "\n",
      "           0       0.64      0.67      0.66       858\n",
      "           1       0.70      0.68      0.69       994\n",
      "\n",
      "    accuracy                           0.67      1852\n",
      "   macro avg       0.67      0.67      0.67      1852\n",
      "weighted avg       0.67      0.67      0.67      1852\n",
      "\n",
      "-------> RUN 4\n",
      "Computing embeddings...\n"
     ]
    },
    {
     "name": "stderr",
     "output_type": "stream",
     "text": [
      "100%|██████████| 810/810 [00:12<00:00, 66.25it/s] \n",
      "100%|██████████| 58/58 [00:05<00:00, 10.65it/s]\n"
     ]
    },
    {
     "name": "stdout",
     "output_type": "stream",
     "text": [
      "RESULTS FOR LOSS = [Triplet]\n",
      "              precision    recall  f1-score   support\n",
      "\n",
      "           0       0.66      0.68      0.67       853\n",
      "           1       0.72      0.70      0.71       999\n",
      "\n",
      "    accuracy                           0.69      1852\n",
      "   macro avg       0.69      0.69      0.69      1852\n",
      "weighted avg       0.69      0.69      0.69      1852\n",
      "\n",
      "-------> RUN 5\n",
      "Computing embeddings...\n"
     ]
    },
    {
     "name": "stderr",
     "output_type": "stream",
     "text": [
      "100%|██████████| 810/810 [00:12<00:00, 65.90it/s] \n",
      "100%|██████████| 58/58 [00:05<00:00, 10.42it/s]\n"
     ]
    },
    {
     "name": "stdout",
     "output_type": "stream",
     "text": [
      "RESULTS FOR LOSS = [Triplet]\n",
      "              precision    recall  f1-score   support\n",
      "\n",
      "           0       0.65      0.67      0.66       880\n",
      "           1       0.70      0.68      0.69       972\n",
      "\n",
      "    accuracy                           0.68      1852\n",
      "   macro avg       0.68      0.68      0.68      1852\n",
      "weighted avg       0.68      0.68      0.68      1852\n",
      "\n",
      "-------> RUN 6\n",
      "Computing embeddings...\n"
     ]
    },
    {
     "name": "stderr",
     "output_type": "stream",
     "text": [
      "100%|██████████| 810/810 [00:12<00:00, 65.61it/s] \n",
      "100%|██████████| 58/58 [00:05<00:00, 10.47it/s]\n"
     ]
    },
    {
     "name": "stdout",
     "output_type": "stream",
     "text": [
      "RESULTS FOR LOSS = [Triplet]\n",
      "              precision    recall  f1-score   support\n",
      "\n",
      "           0       0.68      0.68      0.68       937\n",
      "           1       0.68      0.68      0.68       915\n",
      "\n",
      "    accuracy                           0.68      1852\n",
      "   macro avg       0.68      0.68      0.68      1852\n",
      "weighted avg       0.68      0.68      0.68      1852\n",
      "\n",
      "-------> RUN 7\n",
      "Computing embeddings...\n"
     ]
    },
    {
     "name": "stderr",
     "output_type": "stream",
     "text": [
      "100%|██████████| 810/810 [00:12<00:00, 65.74it/s] \n",
      "100%|██████████| 58/58 [00:05<00:00, 10.46it/s]\n"
     ]
    },
    {
     "name": "stdout",
     "output_type": "stream",
     "text": [
      "RESULTS FOR LOSS = [Triplet]\n",
      "              precision    recall  f1-score   support\n",
      "\n",
      "           0       0.67      0.71      0.69       881\n",
      "           1       0.72      0.68      0.70       971\n",
      "\n",
      "    accuracy                           0.69      1852\n",
      "   macro avg       0.69      0.69      0.69      1852\n",
      "weighted avg       0.69      0.69      0.69      1852\n",
      "\n",
      "-------> RUN 8\n",
      "Computing embeddings...\n"
     ]
    },
    {
     "name": "stderr",
     "output_type": "stream",
     "text": [
      "100%|██████████| 811/811 [00:12<00:00, 65.40it/s] \n",
      "100%|██████████| 58/58 [00:05<00:00, 10.56it/s]\n"
     ]
    },
    {
     "name": "stdout",
     "output_type": "stream",
     "text": [
      "RESULTS FOR LOSS = [Triplet]\n",
      "              precision    recall  f1-score   support\n",
      "\n",
      "           0       0.65      0.70      0.68       867\n",
      "           1       0.72      0.67      0.69       984\n",
      "\n",
      "    accuracy                           0.68      1851\n",
      "   macro avg       0.68      0.69      0.68      1851\n",
      "weighted avg       0.69      0.68      0.68      1851\n",
      "\n",
      "-------> RUN 9\n",
      "Computing embeddings...\n"
     ]
    },
    {
     "name": "stderr",
     "output_type": "stream",
     "text": [
      "100%|██████████| 811/811 [00:12<00:00, 64.81it/s] \n",
      "100%|██████████| 58/58 [00:05<00:00, 10.58it/s]\n"
     ]
    },
    {
     "name": "stdout",
     "output_type": "stream",
     "text": [
      "RESULTS FOR LOSS = [Triplet]\n",
      "              precision    recall  f1-score   support\n",
      "\n",
      "           0       0.71      0.66      0.69       934\n",
      "           1       0.68      0.73      0.70       917\n",
      "\n",
      "    accuracy                           0.69      1851\n",
      "   macro avg       0.69      0.69      0.69      1851\n",
      "weighted avg       0.69      0.69      0.69      1851\n",
      "\n",
      "-------> RUN 10\n",
      "Computing embeddings...\n"
     ]
    },
    {
     "name": "stderr",
     "output_type": "stream",
     "text": [
      "100%|██████████| 811/811 [00:12<00:00, 65.42it/s] \n",
      "100%|██████████| 58/58 [00:05<00:00, 10.49it/s]\n"
     ]
    },
    {
     "name": "stdout",
     "output_type": "stream",
     "text": [
      "RESULTS FOR LOSS = [Triplet]\n",
      "              precision    recall  f1-score   support\n",
      "\n",
      "           0       0.65      0.70      0.67       855\n",
      "           1       0.72      0.67      0.70       996\n",
      "\n",
      "    accuracy                           0.69      1851\n",
      "   macro avg       0.69      0.69      0.69      1851\n",
      "weighted avg       0.69      0.69      0.69      1851\n",
      "\n",
      "-------> RUN 11\n",
      "Computing embeddings...\n"
     ]
    },
    {
     "name": "stderr",
     "output_type": "stream",
     "text": [
      "100%|██████████| 811/811 [00:12<00:00, 65.19it/s] \n",
      "100%|██████████| 58/58 [00:05<00:00, 10.55it/s]\n"
     ]
    },
    {
     "name": "stdout",
     "output_type": "stream",
     "text": [
      "RESULTS FOR LOSS = [Triplet]\n",
      "              precision    recall  f1-score   support\n",
      "\n",
      "           0       0.66      0.70      0.68       853\n",
      "           1       0.73      0.70      0.71       998\n",
      "\n",
      "    accuracy                           0.70      1851\n",
      "   macro avg       0.70      0.70      0.70      1851\n",
      "weighted avg       0.70      0.70      0.70      1851\n",
      "\n",
      "-------> RUN 12\n",
      "Computing embeddings...\n"
     ]
    },
    {
     "name": "stderr",
     "output_type": "stream",
     "text": [
      "100%|██████████| 811/811 [00:12<00:00, 65.66it/s] \n",
      "100%|██████████| 58/58 [00:05<00:00, 10.67it/s]\n"
     ]
    },
    {
     "name": "stdout",
     "output_type": "stream",
     "text": [
      "RESULTS FOR LOSS = [Triplet]\n",
      "              precision    recall  f1-score   support\n",
      "\n",
      "           0       0.66      0.71      0.68       874\n",
      "           1       0.72      0.68      0.70       977\n",
      "\n",
      "    accuracy                           0.69      1851\n",
      "   macro avg       0.69      0.69      0.69      1851\n",
      "weighted avg       0.69      0.69      0.69      1851\n",
      "\n",
      "-------> RUN 13\n",
      "Computing embeddings...\n"
     ]
    },
    {
     "name": "stderr",
     "output_type": "stream",
     "text": [
      "100%|██████████| 811/811 [00:12<00:00, 65.55it/s] \n",
      "100%|██████████| 58/58 [00:05<00:00, 10.58it/s]\n"
     ]
    },
    {
     "name": "stdout",
     "output_type": "stream",
     "text": [
      "RESULTS FOR LOSS = [Triplet]\n",
      "              precision    recall  f1-score   support\n",
      "\n",
      "           0       0.66      0.70      0.68       885\n",
      "           1       0.71      0.67      0.69       966\n",
      "\n",
      "    accuracy                           0.68      1851\n",
      "   macro avg       0.68      0.68      0.68      1851\n",
      "weighted avg       0.68      0.68      0.68      1851\n",
      "\n",
      "-------> RUN 14\n",
      "Computing embeddings...\n"
     ]
    },
    {
     "name": "stderr",
     "output_type": "stream",
     "text": [
      "100%|██████████| 811/811 [00:12<00:00, 65.56it/s] \n",
      "100%|██████████| 58/58 [00:05<00:00, 10.51it/s]\n"
     ]
    },
    {
     "name": "stdout",
     "output_type": "stream",
     "text": [
      "RESULTS FOR LOSS = [Triplet]\n",
      "              precision    recall  f1-score   support\n",
      "\n",
      "           0       0.68      0.71      0.69       875\n",
      "           1       0.73      0.70      0.71       976\n",
      "\n",
      "    accuracy                           0.70      1851\n",
      "   macro avg       0.70      0.70      0.70      1851\n",
      "weighted avg       0.70      0.70      0.70      1851\n",
      "\n",
      "-------> RUN 15\n",
      "Computing embeddings...\n"
     ]
    },
    {
     "name": "stderr",
     "output_type": "stream",
     "text": [
      "100%|██████████| 811/811 [00:12<00:00, 65.31it/s] \n",
      "100%|██████████| 58/58 [00:05<00:00, 10.51it/s]\n"
     ]
    },
    {
     "name": "stdout",
     "output_type": "stream",
     "text": [
      "RESULTS FOR LOSS = [Triplet]\n",
      "              precision    recall  f1-score   support\n",
      "\n",
      "           0       0.65      0.69      0.67       859\n",
      "           1       0.72      0.68      0.70       992\n",
      "\n",
      "    accuracy                           0.68      1851\n",
      "   macro avg       0.68      0.68      0.68      1851\n",
      "weighted avg       0.69      0.68      0.68      1851\n",
      "\n",
      "\n",
      " Loss ===== Triplet\n",
      "Mean Recall (Class 0): 0.6896583380598637\n",
      "Mean Recall (Class 1): 0.6855692904715319\n",
      "Std Recall (Class 0): 0.014754574944022023\n",
      "Std Recall (Class 1): 0.015470743743095901\n",
      "-------------------------------------------------------------------------------\n",
      "----- LOSS FUNCTION FOR THIS ITERATION [NPAIRS] -------------------------------\n",
      "Epoch 1 Iteration 0: Loss = 0.6718738079071045\n",
      "Epoch 1 Iteration 100: Loss = 0.7168158292770386\n",
      "Epoch 1 Iteration 200: Loss = 0.6932862997055054\n",
      "Epoch 2 Iteration 0: Loss = 0.6925002932548523\n",
      "Epoch 2 Iteration 100: Loss = 0.6934075355529785\n",
      "Epoch 2 Iteration 200: Loss = 0.6941226720809937\n",
      "Epoch 3 Iteration 0: Loss = 0.6929527521133423\n",
      "Epoch 3 Iteration 100: Loss = 0.6639866828918457\n",
      "Epoch 3 Iteration 200: Loss = 0.6975314617156982\n",
      "Epoch 4 Iteration 0: Loss = 0.6932570338249207\n",
      "Epoch 4 Iteration 100: Loss = 0.7007859349250793\n",
      "Epoch 4 Iteration 200: Loss = 0.6938031911849976\n",
      "Epoch 5 Iteration 0: Loss = 0.692725658416748\n",
      "Epoch 5 Iteration 100: Loss = 0.6932623982429504\n",
      "Epoch 5 Iteration 200: Loss = 0.6930071115493774\n",
      "Epoch 6 Iteration 0: Loss = 0.7035945653915405\n",
      "Epoch 6 Iteration 100: Loss = 0.6889960169792175\n",
      "Epoch 6 Iteration 200: Loss = 0.6930193901062012\n",
      "Epoch 7 Iteration 0: Loss = 0.6932247281074524\n",
      "Epoch 7 Iteration 100: Loss = 0.689014196395874\n",
      "Epoch 7 Iteration 200: Loss = 0.6639557480812073\n",
      "Epoch 8 Iteration 0: Loss = 0.672092854976654\n",
      "Epoch 8 Iteration 100: Loss = 0.6742340326309204\n",
      "Epoch 8 Iteration 200: Loss = 0.6931900978088379\n",
      "Epoch 9 Iteration 0: Loss = 0.6798704862594604\n",
      "Epoch 9 Iteration 100: Loss = 0.7043384313583374\n",
      "Epoch 9 Iteration 200: Loss = 0.6931393146514893\n",
      "Epoch 10 Iteration 0: Loss = 0.6927381157875061\n",
      "Epoch 10 Iteration 100: Loss = 0.6538212299346924\n",
      "Epoch 10 Iteration 200: Loss = 0.6967408061027527\n",
      "Computing embeddings...\n"
     ]
    },
    {
     "name": "stderr",
     "output_type": "stream",
     "text": [
      "100%|██████████| 868/868 [00:12<00:00, 67.65it/s] \n",
      "100%|██████████| 372/372 [00:08<00:00, 43.83it/s] \n"
     ]
    },
    {
     "name": "stdout",
     "output_type": "stream",
     "text": [
      "Performing GridSearch...\n",
      "Fitting 5 folds for each of 12 candidates, totalling 60 fits\n",
      "Best Params: C=1, gamma=1\n",
      "PCA dim =3\n",
      "RESULTS FOR LOSS = [NPairs]\n",
      "              precision    recall  f1-score   support\n",
      "\n",
      "           0       0.53      0.30      0.38      3987\n",
      "           1       0.71      0.87      0.78      7916\n",
      "\n",
      "    accuracy                           0.68     11903\n",
      "   macro avg       0.62      0.58      0.58     11903\n",
      "weighted avg       0.65      0.68      0.65     11903\n",
      "\n",
      "~ Joblib files saved.\n",
      "-------> RUN 1\n",
      "Computing embeddings...\n"
     ]
    },
    {
     "name": "stderr",
     "output_type": "stream",
     "text": [
      "100%|██████████| 810/810 [00:12<00:00, 65.51it/s] \n",
      "100%|██████████| 58/58 [00:05<00:00, 10.77it/s]\n"
     ]
    },
    {
     "name": "stdout",
     "output_type": "stream",
     "text": [
      "RESULTS FOR LOSS = [NPairs]\n",
      "              precision    recall  f1-score   support\n",
      "\n",
      "           0       0.61      0.60      0.61       880\n",
      "           1       0.65      0.65      0.65       972\n",
      "\n",
      "    accuracy                           0.63      1852\n",
      "   macro avg       0.63      0.63      0.63      1852\n",
      "weighted avg       0.63      0.63      0.63      1852\n",
      "\n",
      "-------> RUN 2\n",
      "Computing embeddings...\n"
     ]
    },
    {
     "name": "stderr",
     "output_type": "stream",
     "text": [
      "100%|██████████| 810/810 [00:12<00:00, 65.40it/s] \n",
      "100%|██████████| 58/58 [00:05<00:00, 10.48it/s]\n"
     ]
    },
    {
     "name": "stdout",
     "output_type": "stream",
     "text": [
      "RESULTS FOR LOSS = [NPairs]\n",
      "              precision    recall  f1-score   support\n",
      "\n",
      "           0       0.64      0.60      0.62       896\n",
      "           1       0.65      0.68      0.66       956\n",
      "\n",
      "    accuracy                           0.64      1852\n",
      "   macro avg       0.64      0.64      0.64      1852\n",
      "weighted avg       0.64      0.64      0.64      1852\n",
      "\n",
      "-------> RUN 3\n",
      "Computing embeddings...\n"
     ]
    },
    {
     "name": "stderr",
     "output_type": "stream",
     "text": [
      "100%|██████████| 810/810 [00:12<00:00, 65.87it/s] \n",
      "100%|██████████| 58/58 [00:05<00:00, 10.65it/s]\n"
     ]
    },
    {
     "name": "stdout",
     "output_type": "stream",
     "text": [
      "RESULTS FOR LOSS = [NPairs]\n",
      "              precision    recall  f1-score   support\n",
      "\n",
      "           0       0.61      0.60      0.61       890\n",
      "           1       0.64      0.65      0.64       962\n",
      "\n",
      "    accuracy                           0.63      1852\n",
      "   macro avg       0.63      0.62      0.62      1852\n",
      "weighted avg       0.63      0.63      0.63      1852\n",
      "\n",
      "-------> RUN 4\n",
      "Computing embeddings...\n"
     ]
    },
    {
     "name": "stderr",
     "output_type": "stream",
     "text": [
      "100%|██████████| 810/810 [00:12<00:00, 65.10it/s] \n",
      "100%|██████████| 58/58 [00:05<00:00, 10.57it/s]\n"
     ]
    },
    {
     "name": "stdout",
     "output_type": "stream",
     "text": [
      "RESULTS FOR LOSS = [NPairs]\n",
      "              precision    recall  f1-score   support\n",
      "\n",
      "           0       0.61      0.63      0.62       868\n",
      "           1       0.67      0.64      0.65       984\n",
      "\n",
      "    accuracy                           0.64      1852\n",
      "   macro avg       0.64      0.64      0.64      1852\n",
      "weighted avg       0.64      0.64      0.64      1852\n",
      "\n",
      "-------> RUN 5\n",
      "Computing embeddings...\n"
     ]
    },
    {
     "name": "stderr",
     "output_type": "stream",
     "text": [
      "100%|██████████| 810/810 [00:12<00:00, 66.22it/s] \n",
      "100%|██████████| 58/58 [00:05<00:00, 10.72it/s]\n"
     ]
    },
    {
     "name": "stdout",
     "output_type": "stream",
     "text": [
      "RESULTS FOR LOSS = [NPairs]\n",
      "              precision    recall  f1-score   support\n",
      "\n",
      "           0       0.62      0.64      0.63       880\n",
      "           1       0.66      0.65      0.65       972\n",
      "\n",
      "    accuracy                           0.64      1852\n",
      "   macro avg       0.64      0.64      0.64      1852\n",
      "weighted avg       0.64      0.64      0.64      1852\n",
      "\n",
      "-------> RUN 6\n",
      "Computing embeddings...\n"
     ]
    },
    {
     "name": "stderr",
     "output_type": "stream",
     "text": [
      "100%|██████████| 810/810 [00:17<00:00, 47.57it/s]\n",
      "100%|██████████| 58/58 [00:07<00:00,  7.32it/s]\n"
     ]
    },
    {
     "name": "stdout",
     "output_type": "stream",
     "text": [
      "RESULTS FOR LOSS = [NPairs]\n",
      "              precision    recall  f1-score   support\n",
      "\n",
      "           0       0.61      0.59      0.60       890\n",
      "           1       0.63      0.66      0.65       962\n",
      "\n",
      "    accuracy                           0.62      1852\n",
      "   macro avg       0.62      0.62      0.62      1852\n",
      "weighted avg       0.62      0.62      0.62      1852\n",
      "\n",
      "-------> RUN 7\n",
      "Computing embeddings...\n"
     ]
    },
    {
     "name": "stderr",
     "output_type": "stream",
     "text": [
      "100%|██████████| 810/810 [00:18<00:00, 44.99it/s]\n",
      "100%|██████████| 58/58 [00:07<00:00,  7.45it/s]\n"
     ]
    },
    {
     "name": "stdout",
     "output_type": "stream",
     "text": [
      "RESULTS FOR LOSS = [NPairs]\n",
      "              precision    recall  f1-score   support\n",
      "\n",
      "           0       0.60      0.59      0.59       887\n",
      "           1       0.63      0.65      0.64       965\n",
      "\n",
      "    accuracy                           0.62      1852\n",
      "   macro avg       0.62      0.62      0.62      1852\n",
      "weighted avg       0.62      0.62      0.62      1852\n",
      "\n",
      "-------> RUN 8\n",
      "Computing embeddings...\n"
     ]
    },
    {
     "name": "stderr",
     "output_type": "stream",
     "text": [
      "100%|██████████| 811/811 [00:16<00:00, 49.44it/s]\n",
      "100%|██████████| 58/58 [00:07<00:00,  8.00it/s]\n"
     ]
    },
    {
     "name": "stdout",
     "output_type": "stream",
     "text": [
      "RESULTS FOR LOSS = [NPairs]\n",
      "              precision    recall  f1-score   support\n",
      "\n",
      "           0       0.61      0.61      0.61       884\n",
      "           1       0.64      0.65      0.64       967\n",
      "\n",
      "    accuracy                           0.63      1851\n",
      "   macro avg       0.63      0.63      0.63      1851\n",
      "weighted avg       0.63      0.63      0.63      1851\n",
      "\n",
      "-------> RUN 9\n",
      "Computing embeddings...\n"
     ]
    },
    {
     "name": "stderr",
     "output_type": "stream",
     "text": [
      "100%|██████████| 811/811 [00:17<00:00, 47.36it/s]\n",
      "100%|██████████| 58/58 [00:07<00:00,  7.53it/s]\n"
     ]
    },
    {
     "name": "stdout",
     "output_type": "stream",
     "text": [
      "RESULTS FOR LOSS = [NPairs]\n",
      "              precision    recall  f1-score   support\n",
      "\n",
      "           0       0.61      0.61      0.61       880\n",
      "           1       0.65      0.64      0.64       971\n",
      "\n",
      "    accuracy                           0.63      1851\n",
      "   macro avg       0.63      0.63      0.63      1851\n",
      "weighted avg       0.63      0.63      0.63      1851\n",
      "\n",
      "-------> RUN 10\n",
      "Computing embeddings...\n"
     ]
    },
    {
     "name": "stderr",
     "output_type": "stream",
     "text": [
      "100%|██████████| 811/811 [00:17<00:00, 45.93it/s]\n",
      "100%|██████████| 58/58 [00:07<00:00,  7.33it/s]\n"
     ]
    },
    {
     "name": "stdout",
     "output_type": "stream",
     "text": [
      "RESULTS FOR LOSS = [NPairs]\n",
      "              precision    recall  f1-score   support\n",
      "\n",
      "           0       0.61      0.58      0.60       884\n",
      "           1       0.63      0.65      0.64       967\n",
      "\n",
      "    accuracy                           0.62      1851\n",
      "   macro avg       0.62      0.62      0.62      1851\n",
      "weighted avg       0.62      0.62      0.62      1851\n",
      "\n",
      "-------> RUN 11\n",
      "Computing embeddings...\n"
     ]
    },
    {
     "name": "stderr",
     "output_type": "stream",
     "text": [
      "100%|██████████| 811/811 [00:17<00:00, 46.38it/s]\n",
      "100%|██████████| 58/58 [00:08<00:00,  7.23it/s]\n"
     ]
    },
    {
     "name": "stdout",
     "output_type": "stream",
     "text": [
      "RESULTS FOR LOSS = [NPairs]\n",
      "              precision    recall  f1-score   support\n",
      "\n",
      "           0       0.59      0.57      0.58       853\n",
      "           1       0.64      0.65      0.65       998\n",
      "\n",
      "    accuracy                           0.62      1851\n",
      "   macro avg       0.61      0.61      0.61      1851\n",
      "weighted avg       0.62      0.62      0.62      1851\n",
      "\n",
      "-------> RUN 12\n",
      "Computing embeddings...\n"
     ]
    },
    {
     "name": "stderr",
     "output_type": "stream",
     "text": [
      "100%|██████████| 811/811 [00:16<00:00, 48.30it/s]\n",
      "100%|██████████| 58/58 [00:08<00:00,  6.90it/s]\n"
     ]
    },
    {
     "name": "stdout",
     "output_type": "stream",
     "text": [
      "RESULTS FOR LOSS = [NPairs]\n",
      "              precision    recall  f1-score   support\n",
      "\n",
      "           0       0.60      0.59      0.60       864\n",
      "           1       0.65      0.65      0.65       987\n",
      "\n",
      "    accuracy                           0.63      1851\n",
      "   macro avg       0.62      0.62      0.62      1851\n",
      "weighted avg       0.63      0.63      0.63      1851\n",
      "\n",
      "-------> RUN 13\n",
      "Computing embeddings...\n"
     ]
    },
    {
     "name": "stderr",
     "output_type": "stream",
     "text": [
      "100%|██████████| 811/811 [00:18<00:00, 44.74it/s]\n",
      "100%|██████████| 58/58 [00:08<00:00,  7.24it/s]\n"
     ]
    },
    {
     "name": "stdout",
     "output_type": "stream",
     "text": [
      "RESULTS FOR LOSS = [NPairs]\n",
      "              precision    recall  f1-score   support\n",
      "\n",
      "           0       0.60      0.60      0.60       896\n",
      "           1       0.63      0.63      0.63       955\n",
      "\n",
      "    accuracy                           0.62      1851\n",
      "   macro avg       0.61      0.61      0.61      1851\n",
      "weighted avg       0.62      0.62      0.62      1851\n",
      "\n",
      "-------> RUN 14\n",
      "Computing embeddings...\n"
     ]
    },
    {
     "name": "stderr",
     "output_type": "stream",
     "text": [
      "100%|██████████| 811/811 [00:18<00:00, 44.86it/s]\n",
      "100%|██████████| 58/58 [00:08<00:00,  7.16it/s]\n"
     ]
    },
    {
     "name": "stdout",
     "output_type": "stream",
     "text": [
      "RESULTS FOR LOSS = [NPairs]\n",
      "              precision    recall  f1-score   support\n",
      "\n",
      "           0       0.60      0.62      0.61       880\n",
      "           1       0.65      0.63      0.64       971\n",
      "\n",
      "    accuracy                           0.63      1851\n",
      "   macro avg       0.63      0.63      0.63      1851\n",
      "weighted avg       0.63      0.63      0.63      1851\n",
      "\n",
      "-------> RUN 15\n",
      "Computing embeddings...\n"
     ]
    },
    {
     "name": "stderr",
     "output_type": "stream",
     "text": [
      "100%|██████████| 811/811 [00:16<00:00, 47.83it/s]\n",
      "100%|██████████| 58/58 [00:07<00:00,  7.61it/s]\n"
     ]
    },
    {
     "name": "stdout",
     "output_type": "stream",
     "text": [
      "RESULTS FOR LOSS = [NPairs]\n",
      "              precision    recall  f1-score   support\n",
      "\n",
      "           0       0.61      0.62      0.62       893\n",
      "           1       0.64      0.63      0.64       958\n",
      "\n",
      "    accuracy                           0.63      1851\n",
      "   macro avg       0.63      0.63      0.63      1851\n",
      "weighted avg       0.63      0.63      0.63      1851\n",
      "\n",
      "\n",
      " Loss ===== NPairs\n",
      "Mean Recall (Class 0): 0.6051894322260318\n",
      "Mean Recall (Class 1): 0.6476902788437676\n",
      "Std Recall (Class 0): 0.018587693109853823\n",
      "Std Recall (Class 1): 0.011891732583915805\n",
      "-------------------------------------------------------------------------------\n",
      "----- LOSS FUNCTION FOR THIS ITERATION [COSFACE] -------------------------------\n",
      "Epoch 1 Iteration 0: Loss = 60.971641540527344\n",
      "Epoch 1 Iteration 100: Loss = 59.39373779296875\n",
      "Epoch 1 Iteration 200: Loss = 59.06105422973633\n",
      "Epoch 2 Iteration 0: Loss = 58.30896759033203\n",
      "Epoch 2 Iteration 100: Loss = 59.1224479675293\n",
      "Epoch 2 Iteration 200: Loss = 58.21183395385742\n",
      "Epoch 3 Iteration 0: Loss = 58.7530517578125\n",
      "Epoch 3 Iteration 100: Loss = 58.158660888671875\n",
      "Epoch 3 Iteration 200: Loss = 58.14733123779297\n",
      "Epoch 4 Iteration 0: Loss = 57.82442092895508\n",
      "Epoch 4 Iteration 100: Loss = 58.135013580322266\n",
      "Epoch 4 Iteration 200: Loss = 56.83605194091797\n",
      "Epoch 5 Iteration 0: Loss = 56.03279495239258\n",
      "Epoch 5 Iteration 100: Loss = 55.886898040771484\n",
      "Epoch 5 Iteration 200: Loss = 53.17142105102539\n",
      "Epoch 6 Iteration 0: Loss = 52.64775466918945\n",
      "Epoch 6 Iteration 100: Loss = 49.57952880859375\n",
      "Epoch 6 Iteration 200: Loss = 48.08325958251953\n",
      "Epoch 7 Iteration 0: Loss = 49.232666015625\n",
      "Epoch 7 Iteration 100: Loss = 46.94929504394531\n",
      "Epoch 7 Iteration 200: Loss = 48.246498107910156\n",
      "Epoch 8 Iteration 0: Loss = 46.99701690673828\n",
      "Epoch 8 Iteration 100: Loss = 46.626129150390625\n",
      "Epoch 8 Iteration 200: Loss = 45.51884078979492\n",
      "Epoch 9 Iteration 0: Loss = 44.35177993774414\n",
      "Epoch 9 Iteration 100: Loss = 45.46318817138672\n",
      "Epoch 9 Iteration 200: Loss = 44.93457794189453\n",
      "Epoch 10 Iteration 0: Loss = 43.971858978271484\n",
      "Epoch 10 Iteration 100: Loss = 44.28335952758789\n",
      "Epoch 10 Iteration 200: Loss = 44.922203063964844\n",
      "Computing embeddings...\n"
     ]
    },
    {
     "name": "stderr",
     "output_type": "stream",
     "text": [
      "100%|██████████| 868/868 [00:18<00:00, 47.08it/s]\n",
      "100%|██████████| 372/372 [00:11<00:00, 31.54it/s]\n"
     ]
    },
    {
     "name": "stdout",
     "output_type": "stream",
     "text": [
      "Performing GridSearch...\n",
      "Fitting 5 folds for each of 12 candidates, totalling 60 fits\n",
      "Best Params: C=10, gamma=0.01\n",
      "PCA dim =40\n",
      "RESULTS FOR LOSS = [CosFace]\n",
      "              precision    recall  f1-score   support\n",
      "\n",
      "           0       0.87      0.84      0.86      3987\n",
      "           1       0.92      0.94      0.93      7916\n",
      "\n",
      "    accuracy                           0.91     11903\n",
      "   macro avg       0.90      0.89      0.90     11903\n",
      "weighted avg       0.91      0.91      0.91     11903\n",
      "\n",
      "~ Joblib files saved.\n",
      "-------> RUN 1\n",
      "Computing embeddings...\n"
     ]
    },
    {
     "name": "stderr",
     "output_type": "stream",
     "text": [
      "100%|██████████| 810/810 [00:17<00:00, 47.27it/s]\n",
      "100%|██████████| 58/58 [00:07<00:00,  7.50it/s]\n"
     ]
    },
    {
     "name": "stdout",
     "output_type": "stream",
     "text": [
      "RESULTS FOR LOSS = [CosFace]\n",
      "              precision    recall  f1-score   support\n",
      "\n",
      "           0       0.92      0.90      0.91       871\n",
      "           1       0.92      0.93      0.92       981\n",
      "\n",
      "    accuracy                           0.92      1852\n",
      "   macro avg       0.92      0.92      0.92      1852\n",
      "weighted avg       0.92      0.92      0.92      1852\n",
      "\n",
      "-------> RUN 2\n",
      "Computing embeddings...\n"
     ]
    },
    {
     "name": "stderr",
     "output_type": "stream",
     "text": [
      "100%|██████████| 810/810 [00:17<00:00, 46.92it/s]\n",
      "100%|██████████| 58/58 [00:07<00:00,  7.29it/s]\n"
     ]
    },
    {
     "name": "stdout",
     "output_type": "stream",
     "text": [
      "RESULTS FOR LOSS = [CosFace]\n",
      "              precision    recall  f1-score   support\n",
      "\n",
      "           0       0.91      0.91      0.91       900\n",
      "           1       0.92      0.91      0.91       952\n",
      "\n",
      "    accuracy                           0.91      1852\n",
      "   macro avg       0.91      0.91      0.91      1852\n",
      "weighted avg       0.91      0.91      0.91      1852\n",
      "\n",
      "-------> RUN 3\n",
      "Computing embeddings...\n"
     ]
    },
    {
     "name": "stderr",
     "output_type": "stream",
     "text": [
      "100%|██████████| 810/810 [00:17<00:00, 45.76it/s]\n",
      "100%|██████████| 58/58 [00:08<00:00,  7.23it/s]\n"
     ]
    },
    {
     "name": "stdout",
     "output_type": "stream",
     "text": [
      "RESULTS FOR LOSS = [CosFace]\n",
      "              precision    recall  f1-score   support\n",
      "\n",
      "           0       0.92      0.90      0.91       913\n",
      "           1       0.90      0.93      0.91       939\n",
      "\n",
      "    accuracy                           0.91      1852\n",
      "   macro avg       0.91      0.91      0.91      1852\n",
      "weighted avg       0.91      0.91      0.91      1852\n",
      "\n",
      "-------> RUN 4\n",
      "Computing embeddings...\n"
     ]
    },
    {
     "name": "stderr",
     "output_type": "stream",
     "text": [
      "100%|██████████| 810/810 [00:17<00:00, 45.08it/s]\n",
      "100%|██████████| 58/58 [00:07<00:00,  7.59it/s]\n"
     ]
    },
    {
     "name": "stdout",
     "output_type": "stream",
     "text": [
      "RESULTS FOR LOSS = [CosFace]\n",
      "              precision    recall  f1-score   support\n",
      "\n",
      "           0       0.91      0.89      0.90       870\n",
      "           1       0.91      0.92      0.91       982\n",
      "\n",
      "    accuracy                           0.91      1852\n",
      "   macro avg       0.91      0.91      0.91      1852\n",
      "weighted avg       0.91      0.91      0.91      1852\n",
      "\n",
      "-------> RUN 5\n",
      "Computing embeddings...\n"
     ]
    },
    {
     "name": "stderr",
     "output_type": "stream",
     "text": [
      "100%|██████████| 810/810 [00:16<00:00, 47.75it/s]\n",
      "100%|██████████| 58/58 [00:07<00:00,  7.73it/s]\n"
     ]
    },
    {
     "name": "stdout",
     "output_type": "stream",
     "text": [
      "RESULTS FOR LOSS = [CosFace]\n",
      "              precision    recall  f1-score   support\n",
      "\n",
      "           0       0.90      0.90      0.90       869\n",
      "           1       0.91      0.91      0.91       983\n",
      "\n",
      "    accuracy                           0.90      1852\n",
      "   macro avg       0.90      0.90      0.90      1852\n",
      "weighted avg       0.90      0.90      0.90      1852\n",
      "\n",
      "-------> RUN 6\n",
      "Computing embeddings...\n"
     ]
    },
    {
     "name": "stderr",
     "output_type": "stream",
     "text": [
      "100%|██████████| 810/810 [00:17<00:00, 47.07it/s]\n",
      "100%|██████████| 58/58 [00:07<00:00,  7.60it/s]\n"
     ]
    },
    {
     "name": "stdout",
     "output_type": "stream",
     "text": [
      "RESULTS FOR LOSS = [CosFace]\n",
      "              precision    recall  f1-score   support\n",
      "\n",
      "           0       0.91      0.88      0.90       881\n",
      "           1       0.89      0.92      0.91       971\n",
      "\n",
      "    accuracy                           0.90      1852\n",
      "   macro avg       0.90      0.90      0.90      1852\n",
      "weighted avg       0.90      0.90      0.90      1852\n",
      "\n",
      "-------> RUN 7\n",
      "Computing embeddings...\n"
     ]
    },
    {
     "name": "stderr",
     "output_type": "stream",
     "text": [
      "100%|██████████| 810/810 [00:17<00:00, 46.88it/s]\n",
      "100%|██████████| 58/58 [00:07<00:00,  8.14it/s]\n"
     ]
    },
    {
     "name": "stdout",
     "output_type": "stream",
     "text": [
      "RESULTS FOR LOSS = [CosFace]\n",
      "              precision    recall  f1-score   support\n",
      "\n",
      "           0       0.89      0.88      0.89       852\n",
      "           1       0.90      0.91      0.90      1000\n",
      "\n",
      "    accuracy                           0.90      1852\n",
      "   macro avg       0.90      0.89      0.89      1852\n",
      "weighted avg       0.90      0.90      0.90      1852\n",
      "\n",
      "-------> RUN 8\n",
      "Computing embeddings...\n"
     ]
    },
    {
     "name": "stderr",
     "output_type": "stream",
     "text": [
      "100%|██████████| 811/811 [00:17<00:00, 45.64it/s]\n",
      "100%|██████████| 58/58 [00:07<00:00,  7.29it/s]\n"
     ]
    },
    {
     "name": "stdout",
     "output_type": "stream",
     "text": [
      "RESULTS FOR LOSS = [CosFace]\n",
      "              precision    recall  f1-score   support\n",
      "\n",
      "           0       0.90      0.91      0.90       886\n",
      "           1       0.92      0.90      0.91       965\n",
      "\n",
      "    accuracy                           0.91      1851\n",
      "   macro avg       0.91      0.91      0.91      1851\n",
      "weighted avg       0.91      0.91      0.91      1851\n",
      "\n",
      "-------> RUN 9\n",
      "Computing embeddings...\n"
     ]
    },
    {
     "name": "stderr",
     "output_type": "stream",
     "text": [
      "100%|██████████| 811/811 [00:16<00:00, 48.53it/s]\n",
      "100%|██████████| 58/58 [00:07<00:00,  7.66it/s]\n"
     ]
    },
    {
     "name": "stdout",
     "output_type": "stream",
     "text": [
      "RESULTS FOR LOSS = [CosFace]\n",
      "              precision    recall  f1-score   support\n",
      "\n",
      "           0       0.89      0.90      0.90       868\n",
      "           1       0.91      0.90      0.91       983\n",
      "\n",
      "    accuracy                           0.90      1851\n",
      "   macro avg       0.90      0.90      0.90      1851\n",
      "weighted avg       0.90      0.90      0.90      1851\n",
      "\n",
      "-------> RUN 10\n",
      "Computing embeddings...\n"
     ]
    },
    {
     "name": "stderr",
     "output_type": "stream",
     "text": [
      "100%|██████████| 811/811 [00:17<00:00, 47.48it/s]\n",
      "100%|██████████| 58/58 [00:07<00:00,  7.95it/s]\n"
     ]
    },
    {
     "name": "stdout",
     "output_type": "stream",
     "text": [
      "RESULTS FOR LOSS = [CosFace]\n",
      "              precision    recall  f1-score   support\n",
      "\n",
      "           0       0.91      0.88      0.90       908\n",
      "           1       0.89      0.92      0.91       943\n",
      "\n",
      "    accuracy                           0.90      1851\n",
      "   macro avg       0.90      0.90      0.90      1851\n",
      "weighted avg       0.90      0.90      0.90      1851\n",
      "\n",
      "-------> RUN 11\n",
      "Computing embeddings...\n"
     ]
    },
    {
     "name": "stderr",
     "output_type": "stream",
     "text": [
      "100%|██████████| 811/811 [00:17<00:00, 46.18it/s]\n",
      "100%|██████████| 58/58 [00:07<00:00,  8.00it/s]\n"
     ]
    },
    {
     "name": "stdout",
     "output_type": "stream",
     "text": [
      "RESULTS FOR LOSS = [CosFace]\n",
      "              precision    recall  f1-score   support\n",
      "\n",
      "           0       0.91      0.89      0.90       888\n",
      "           1       0.90      0.92      0.91       963\n",
      "\n",
      "    accuracy                           0.90      1851\n",
      "   macro avg       0.90      0.90      0.90      1851\n",
      "weighted avg       0.90      0.90      0.90      1851\n",
      "\n",
      "-------> RUN 12\n",
      "Computing embeddings...\n"
     ]
    },
    {
     "name": "stderr",
     "output_type": "stream",
     "text": [
      "100%|██████████| 811/811 [00:17<00:00, 46.29it/s]\n",
      "100%|██████████| 58/58 [00:07<00:00,  7.96it/s]\n"
     ]
    },
    {
     "name": "stdout",
     "output_type": "stream",
     "text": [
      "RESULTS FOR LOSS = [CosFace]\n",
      "              precision    recall  f1-score   support\n",
      "\n",
      "           0       0.88      0.90      0.89       860\n",
      "           1       0.91      0.90      0.90       991\n",
      "\n",
      "    accuracy                           0.90      1851\n",
      "   macro avg       0.90      0.90      0.90      1851\n",
      "weighted avg       0.90      0.90      0.90      1851\n",
      "\n",
      "-------> RUN 13\n",
      "Computing embeddings...\n"
     ]
    },
    {
     "name": "stderr",
     "output_type": "stream",
     "text": [
      "100%|██████████| 811/811 [00:17<00:00, 46.63it/s]\n",
      "100%|██████████| 58/58 [00:07<00:00,  7.84it/s]\n"
     ]
    },
    {
     "name": "stdout",
     "output_type": "stream",
     "text": [
      "RESULTS FOR LOSS = [CosFace]\n",
      "              precision    recall  f1-score   support\n",
      "\n",
      "           0       0.90      0.88      0.89       871\n",
      "           1       0.89      0.91      0.90       980\n",
      "\n",
      "    accuracy                           0.90      1851\n",
      "   macro avg       0.90      0.90      0.90      1851\n",
      "weighted avg       0.90      0.90      0.90      1851\n",
      "\n",
      "-------> RUN 14\n",
      "Computing embeddings...\n"
     ]
    },
    {
     "name": "stderr",
     "output_type": "stream",
     "text": [
      "100%|██████████| 811/811 [00:17<00:00, 46.99it/s]\n",
      "100%|██████████| 58/58 [00:07<00:00,  7.96it/s]\n"
     ]
    },
    {
     "name": "stdout",
     "output_type": "stream",
     "text": [
      "RESULTS FOR LOSS = [CosFace]\n",
      "              precision    recall  f1-score   support\n",
      "\n",
      "           0       0.91      0.90      0.90       900\n",
      "           1       0.91      0.92      0.91       951\n",
      "\n",
      "    accuracy                           0.91      1851\n",
      "   macro avg       0.91      0.91      0.91      1851\n",
      "weighted avg       0.91      0.91      0.91      1851\n",
      "\n",
      "-------> RUN 15\n",
      "Computing embeddings...\n"
     ]
    },
    {
     "name": "stderr",
     "output_type": "stream",
     "text": [
      "100%|██████████| 811/811 [00:17<00:00, 45.62it/s]\n",
      "100%|██████████| 58/58 [00:07<00:00,  8.06it/s]\n"
     ]
    },
    {
     "name": "stdout",
     "output_type": "stream",
     "text": [
      "RESULTS FOR LOSS = [CosFace]\n",
      "              precision    recall  f1-score   support\n",
      "\n",
      "           0       0.92      0.89      0.91       888\n",
      "           1       0.90      0.93      0.92       963\n",
      "\n",
      "    accuracy                           0.91      1851\n",
      "   macro avg       0.91      0.91      0.91      1851\n",
      "weighted avg       0.91      0.91      0.91      1851\n",
      "\n",
      "\n",
      " Loss ===== CosFace\n",
      "Mean Recall (Class 0): 0.8949287969506009\n",
      "Mean Recall (Class 1): 0.9151088380642848\n",
      "Std Recall (Class 0): 0.010886105013123084\n",
      "Std Recall (Class 1): 0.009884854912188741\n",
      "-------------------------------------------------------------------------------\n",
      "----- LOSS FUNCTION FOR THIS ITERATION [MULTISIMILARITY] -------------------------------\n",
      "Epoch 1 Iteration 0: Loss = 2.387131690979004\n",
      "Epoch 1 Iteration 100: Loss = 2.207444667816162\n",
      "Epoch 1 Iteration 200: Loss = 2.2046327590942383\n",
      "Epoch 2 Iteration 0: Loss = 2.2129344940185547\n",
      "Epoch 2 Iteration 100: Loss = 2.193392276763916\n",
      "Epoch 2 Iteration 200: Loss = 2.222409725189209\n",
      "Epoch 3 Iteration 0: Loss = 2.1997787952423096\n",
      "Epoch 3 Iteration 100: Loss = 2.1975603103637695\n",
      "Epoch 3 Iteration 200: Loss = 2.1879916191101074\n",
      "Epoch 4 Iteration 0: Loss = 2.1953651905059814\n",
      "Epoch 4 Iteration 100: Loss = 2.1863596439361572\n",
      "Epoch 4 Iteration 200: Loss = 2.1972923278808594\n",
      "Epoch 5 Iteration 0: Loss = 2.186284303665161\n",
      "Epoch 5 Iteration 100: Loss = 2.1892590522766113\n",
      "Epoch 5 Iteration 200: Loss = 2.2187273502349854\n",
      "Epoch 6 Iteration 0: Loss = 2.2018558979034424\n",
      "Epoch 6 Iteration 100: Loss = 2.2040462493896484\n",
      "Epoch 6 Iteration 200: Loss = 2.1968421936035156\n",
      "Epoch 7 Iteration 0: Loss = 2.204277515411377\n",
      "Epoch 7 Iteration 100: Loss = 2.1958987712860107\n",
      "Epoch 7 Iteration 200: Loss = 2.2006876468658447\n",
      "Epoch 8 Iteration 0: Loss = 2.1846745014190674\n",
      "Epoch 8 Iteration 100: Loss = 2.1903505325317383\n",
      "Epoch 8 Iteration 200: Loss = 2.190927028656006\n",
      "Epoch 9 Iteration 0: Loss = 2.182333469390869\n",
      "Epoch 9 Iteration 100: Loss = 2.187565803527832\n",
      "Epoch 9 Iteration 200: Loss = 2.199086904525757\n",
      "Epoch 10 Iteration 0: Loss = 2.1962623596191406\n",
      "Epoch 10 Iteration 100: Loss = 2.1921639442443848\n",
      "Epoch 10 Iteration 200: Loss = 2.21225643157959\n",
      "Computing embeddings...\n"
     ]
    },
    {
     "name": "stderr",
     "output_type": "stream",
     "text": [
      "100%|██████████| 868/868 [00:14<00:00, 59.48it/s] \n",
      "100%|██████████| 372/372 [00:10<00:00, 34.26it/s]\n"
     ]
    },
    {
     "name": "stdout",
     "output_type": "stream",
     "text": [
      "Performing GridSearch...\n",
      "Fitting 5 folds for each of 12 candidates, totalling 60 fits\n",
      "Best Params: C=1, gamma=0.01\n",
      "PCA dim =22\n",
      "RESULTS FOR LOSS = [MultiSimilarity]\n",
      "              precision    recall  f1-score   support\n",
      "\n",
      "           0       0.90      0.83      0.87      3987\n",
      "           1       0.92      0.95      0.94      7916\n",
      "\n",
      "    accuracy                           0.91     11903\n",
      "   macro avg       0.91      0.89      0.90     11903\n",
      "weighted avg       0.91      0.91      0.91     11903\n",
      "\n",
      "~ Joblib files saved.\n",
      "-------> RUN 1\n",
      "Computing embeddings...\n"
     ]
    },
    {
     "name": "stderr",
     "output_type": "stream",
     "text": [
      "100%|██████████| 810/810 [00:12<00:00, 64.44it/s] \n",
      "100%|██████████| 58/58 [00:05<00:00,  9.84it/s]\n"
     ]
    },
    {
     "name": "stdout",
     "output_type": "stream",
     "text": [
      "RESULTS FOR LOSS = [MultiSimilarity]\n",
      "              precision    recall  f1-score   support\n",
      "\n",
      "           0       0.92      0.88      0.90       881\n",
      "           1       0.90      0.93      0.91       971\n",
      "\n",
      "    accuracy                           0.91      1852\n",
      "   macro avg       0.91      0.91      0.91      1852\n",
      "weighted avg       0.91      0.91      0.91      1852\n",
      "\n",
      "-------> RUN 2\n",
      "Computing embeddings...\n"
     ]
    },
    {
     "name": "stderr",
     "output_type": "stream",
     "text": [
      "100%|██████████| 810/810 [00:12<00:00, 64.20it/s] \n",
      "100%|██████████| 58/58 [00:05<00:00, 10.57it/s]\n"
     ]
    },
    {
     "name": "stdout",
     "output_type": "stream",
     "text": [
      "RESULTS FOR LOSS = [MultiSimilarity]\n",
      "              precision    recall  f1-score   support\n",
      "\n",
      "           0       0.90      0.90      0.90       842\n",
      "           1       0.92      0.92      0.92      1010\n",
      "\n",
      "    accuracy                           0.91      1852\n",
      "   macro avg       0.91      0.91      0.91      1852\n",
      "weighted avg       0.91      0.91      0.91      1852\n",
      "\n",
      "-------> RUN 3\n",
      "Computing embeddings...\n"
     ]
    },
    {
     "name": "stderr",
     "output_type": "stream",
     "text": [
      "100%|██████████| 810/810 [00:12<00:00, 64.43it/s] \n",
      "100%|██████████| 58/58 [00:05<00:00, 10.60it/s]\n"
     ]
    },
    {
     "name": "stdout",
     "output_type": "stream",
     "text": [
      "RESULTS FOR LOSS = [MultiSimilarity]\n",
      "              precision    recall  f1-score   support\n",
      "\n",
      "           0       0.92      0.90      0.91       894\n",
      "           1       0.91      0.93      0.92       958\n",
      "\n",
      "    accuracy                           0.91      1852\n",
      "   macro avg       0.91      0.91      0.91      1852\n",
      "weighted avg       0.91      0.91      0.91      1852\n",
      "\n",
      "-------> RUN 4\n",
      "Computing embeddings...\n"
     ]
    },
    {
     "name": "stderr",
     "output_type": "stream",
     "text": [
      "100%|██████████| 810/810 [00:12<00:00, 65.58it/s] \n",
      "100%|██████████| 58/58 [00:05<00:00, 10.49it/s]\n"
     ]
    },
    {
     "name": "stdout",
     "output_type": "stream",
     "text": [
      "RESULTS FOR LOSS = [MultiSimilarity]\n",
      "              precision    recall  f1-score   support\n",
      "\n",
      "           0       0.91      0.88      0.89       878\n",
      "           1       0.89      0.92      0.91       974\n",
      "\n",
      "    accuracy                           0.90      1852\n",
      "   macro avg       0.90      0.90      0.90      1852\n",
      "weighted avg       0.90      0.90      0.90      1852\n",
      "\n",
      "-------> RUN 5\n",
      "Computing embeddings...\n"
     ]
    },
    {
     "name": "stderr",
     "output_type": "stream",
     "text": [
      "100%|██████████| 810/810 [00:12<00:00, 65.10it/s] \n",
      "100%|██████████| 58/58 [00:05<00:00, 10.43it/s]\n"
     ]
    },
    {
     "name": "stdout",
     "output_type": "stream",
     "text": [
      "RESULTS FOR LOSS = [MultiSimilarity]\n",
      "              precision    recall  f1-score   support\n",
      "\n",
      "           0       0.92      0.89      0.90       871\n",
      "           1       0.91      0.93      0.92       981\n",
      "\n",
      "    accuracy                           0.91      1852\n",
      "   macro avg       0.91      0.91      0.91      1852\n",
      "weighted avg       0.91      0.91      0.91      1852\n",
      "\n",
      "-------> RUN 6\n",
      "Computing embeddings...\n"
     ]
    },
    {
     "name": "stderr",
     "output_type": "stream",
     "text": [
      "100%|██████████| 810/810 [00:12<00:00, 64.70it/s] \n",
      "100%|██████████| 58/58 [00:05<00:00, 10.59it/s]\n"
     ]
    },
    {
     "name": "stdout",
     "output_type": "stream",
     "text": [
      "RESULTS FOR LOSS = [MultiSimilarity]\n",
      "              precision    recall  f1-score   support\n",
      "\n",
      "           0       0.91      0.88      0.90       914\n",
      "           1       0.89      0.92      0.90       938\n",
      "\n",
      "    accuracy                           0.90      1852\n",
      "   macro avg       0.90      0.90      0.90      1852\n",
      "weighted avg       0.90      0.90      0.90      1852\n",
      "\n",
      "-------> RUN 7\n",
      "Computing embeddings...\n"
     ]
    },
    {
     "name": "stderr",
     "output_type": "stream",
     "text": [
      "100%|██████████| 810/810 [00:12<00:00, 64.43it/s] \n",
      "100%|██████████| 58/58 [00:05<00:00, 10.54it/s]\n"
     ]
    },
    {
     "name": "stdout",
     "output_type": "stream",
     "text": [
      "RESULTS FOR LOSS = [MultiSimilarity]\n",
      "              precision    recall  f1-score   support\n",
      "\n",
      "           0       0.94      0.89      0.92       910\n",
      "           1       0.90      0.95      0.92       942\n",
      "\n",
      "    accuracy                           0.92      1852\n",
      "   macro avg       0.92      0.92      0.92      1852\n",
      "weighted avg       0.92      0.92      0.92      1852\n",
      "\n",
      "-------> RUN 8\n",
      "Computing embeddings...\n"
     ]
    },
    {
     "name": "stderr",
     "output_type": "stream",
     "text": [
      "100%|██████████| 811/811 [00:12<00:00, 65.60it/s] \n",
      "100%|██████████| 58/58 [00:05<00:00, 10.48it/s]\n"
     ]
    },
    {
     "name": "stdout",
     "output_type": "stream",
     "text": [
      "RESULTS FOR LOSS = [MultiSimilarity]\n",
      "              precision    recall  f1-score   support\n",
      "\n",
      "           0       0.92      0.88      0.90       878\n",
      "           1       0.90      0.93      0.91       973\n",
      "\n",
      "    accuracy                           0.91      1851\n",
      "   macro avg       0.91      0.91      0.91      1851\n",
      "weighted avg       0.91      0.91      0.91      1851\n",
      "\n",
      "-------> RUN 9\n",
      "Computing embeddings...\n"
     ]
    },
    {
     "name": "stderr",
     "output_type": "stream",
     "text": [
      "100%|██████████| 811/811 [00:12<00:00, 65.00it/s] \n",
      "100%|██████████| 58/58 [00:05<00:00, 10.50it/s]\n"
     ]
    },
    {
     "name": "stdout",
     "output_type": "stream",
     "text": [
      "RESULTS FOR LOSS = [MultiSimilarity]\n",
      "              precision    recall  f1-score   support\n",
      "\n",
      "           0       0.93      0.88      0.91       897\n",
      "           1       0.90      0.94      0.92       954\n",
      "\n",
      "    accuracy                           0.91      1851\n",
      "   macro avg       0.91      0.91      0.91      1851\n",
      "weighted avg       0.91      0.91      0.91      1851\n",
      "\n",
      "-------> RUN 10\n",
      "Computing embeddings...\n"
     ]
    },
    {
     "name": "stderr",
     "output_type": "stream",
     "text": [
      "100%|██████████| 811/811 [00:12<00:00, 65.40it/s] \n",
      "100%|██████████| 58/58 [00:05<00:00, 10.34it/s]\n"
     ]
    },
    {
     "name": "stdout",
     "output_type": "stream",
     "text": [
      "RESULTS FOR LOSS = [MultiSimilarity]\n",
      "              precision    recall  f1-score   support\n",
      "\n",
      "           0       0.93      0.91      0.92       885\n",
      "           1       0.92      0.94      0.93       966\n",
      "\n",
      "    accuracy                           0.92      1851\n",
      "   macro avg       0.93      0.92      0.92      1851\n",
      "weighted avg       0.93      0.92      0.92      1851\n",
      "\n",
      "-------> RUN 11\n",
      "Computing embeddings...\n"
     ]
    },
    {
     "name": "stderr",
     "output_type": "stream",
     "text": [
      "100%|██████████| 811/811 [00:12<00:00, 65.79it/s] \n",
      "100%|██████████| 58/58 [00:05<00:00, 10.48it/s]\n"
     ]
    },
    {
     "name": "stdout",
     "output_type": "stream",
     "text": [
      "RESULTS FOR LOSS = [MultiSimilarity]\n",
      "              precision    recall  f1-score   support\n",
      "\n",
      "           0       0.93      0.89      0.91       878\n",
      "           1       0.90      0.94      0.92       973\n",
      "\n",
      "    accuracy                           0.92      1851\n",
      "   macro avg       0.92      0.91      0.92      1851\n",
      "weighted avg       0.92      0.92      0.92      1851\n",
      "\n",
      "-------> RUN 12\n",
      "Computing embeddings...\n"
     ]
    },
    {
     "name": "stderr",
     "output_type": "stream",
     "text": [
      "100%|██████████| 811/811 [00:12<00:00, 64.95it/s] \n",
      "100%|██████████| 58/58 [00:05<00:00, 10.55it/s]\n"
     ]
    },
    {
     "name": "stdout",
     "output_type": "stream",
     "text": [
      "RESULTS FOR LOSS = [MultiSimilarity]\n",
      "              precision    recall  f1-score   support\n",
      "\n",
      "           0       0.93      0.89      0.91       835\n",
      "           1       0.92      0.94      0.93      1016\n",
      "\n",
      "    accuracy                           0.92      1851\n",
      "   macro avg       0.92      0.92      0.92      1851\n",
      "weighted avg       0.92      0.92      0.92      1851\n",
      "\n",
      "-------> RUN 13\n",
      "Computing embeddings...\n"
     ]
    },
    {
     "name": "stderr",
     "output_type": "stream",
     "text": [
      "100%|██████████| 811/811 [00:12<00:00, 65.04it/s] \n",
      "100%|██████████| 58/58 [00:05<00:00, 10.58it/s]\n"
     ]
    },
    {
     "name": "stdout",
     "output_type": "stream",
     "text": [
      "RESULTS FOR LOSS = [MultiSimilarity]\n",
      "              precision    recall  f1-score   support\n",
      "\n",
      "           0       0.93      0.87      0.90       906\n",
      "           1       0.89      0.94      0.91       945\n",
      "\n",
      "    accuracy                           0.91      1851\n",
      "   macro avg       0.91      0.90      0.91      1851\n",
      "weighted avg       0.91      0.91      0.91      1851\n",
      "\n",
      "-------> RUN 14\n",
      "Computing embeddings...\n"
     ]
    },
    {
     "name": "stderr",
     "output_type": "stream",
     "text": [
      "100%|██████████| 811/811 [00:12<00:00, 65.89it/s] \n",
      "100%|██████████| 58/58 [00:05<00:00, 10.41it/s]\n"
     ]
    },
    {
     "name": "stdout",
     "output_type": "stream",
     "text": [
      "RESULTS FOR LOSS = [MultiSimilarity]\n",
      "              precision    recall  f1-score   support\n",
      "\n",
      "           0       0.92      0.88      0.90       864\n",
      "           1       0.90      0.93      0.92       987\n",
      "\n",
      "    accuracy                           0.91      1851\n",
      "   macro avg       0.91      0.91      0.91      1851\n",
      "weighted avg       0.91      0.91      0.91      1851\n",
      "\n",
      "-------> RUN 15\n",
      "Computing embeddings...\n"
     ]
    },
    {
     "name": "stderr",
     "output_type": "stream",
     "text": [
      "100%|██████████| 811/811 [00:12<00:00, 65.15it/s] \n",
      "100%|██████████| 58/58 [00:05<00:00, 10.66it/s]\n"
     ]
    },
    {
     "name": "stdout",
     "output_type": "stream",
     "text": [
      "RESULTS FOR LOSS = [MultiSimilarity]\n",
      "              precision    recall  f1-score   support\n",
      "\n",
      "           0       0.93      0.88      0.90       892\n",
      "           1       0.90      0.93      0.91       959\n",
      "\n",
      "    accuracy                           0.91      1851\n",
      "   macro avg       0.91      0.91      0.91      1851\n",
      "weighted avg       0.91      0.91      0.91      1851\n",
      "\n",
      "\n",
      " Loss ===== MultiSimilarity\n",
      "Mean Recall (Class 0): 0.8882425067880432\n",
      "Mean Recall (Class 1): 0.9320866524426755\n",
      "Std Recall (Class 0): 0.009697354362148896\n",
      "Std Recall (Class 1): 0.008555886701134597\n"
     ]
    }
   ],
   "source": [
    "x_train, x_test, x_train_loader, x_test_loader, y_true_train, y_true_test = read_data(D2_DATA_DIR, BATCH_SIZE, TRAIN_SIZE)\n",
    "for err in LOSSES:\n",
    "    print('-------------------------------------------------------------------------------')\n",
    "    print(f'----- LOSS FUNCTION FOR THIS ITERATION [{err.upper()}] -------------------------------')\n",
    "    run_full_pipeline(err, x_train, x_test, x_train_loader, y_true_train)"
   ]
  },
  {
   "cell_type": "markdown",
   "metadata": {},
   "source": [
    "## Ensemble"
   ]
  },
  {
   "cell_type": "code",
   "execution_count": 76,
   "metadata": {},
   "outputs": [],
   "source": [
    "######################################## TRIPLET\n",
    "# recall 68/68, pca dim 4\n",
    "\n",
    "triplet_model = Net(EMBEDDING_SIZE, NET_IMG_SIZE).to(device)\n",
    "triplet_model.load_state_dict(torch.load('./models/v1-ensble_2023-11-22\\model_Triplet_v1-ensble_2023-11-22.pth'))\n",
    "\n",
    "triplet_model.eval()\n",
    "\n",
    "triplet_clf = load('./models/v1-ensble_2023-11-22\\clf_Triplet_v1-ensble_2023-11-22.joblib')\n",
    "triplet_scaler = load('./models/v1-ensble_2023-11-22\\scaler_Triplet_v1-ensble_2023-11-22.joblib')\n",
    "triplet_pca = load('./models/v1-ensble_2023-11-22\\pca_Triplet_v1-ensble_2023-11-22.joblib')\n",
    "######################################## COSFACE\n",
    "# recall 89/91, pca dim 40\n",
    "\n",
    "cosface_model = Net(EMBEDDING_SIZE, NET_IMG_SIZE).to(device)\n",
    "cosface_model.load_state_dict(torch.load('./models/v1-ensble_2023-11-22\\model_CosFace_v1-ensble_2023-11-22.pth'))\n",
    "\n",
    "cosface_model.eval()\n",
    "\n",
    "cosface_clf = load('./models/v1-ensble_2023-11-22\\clf_CosFace_v1-ensble_2023-11-22.joblib')\n",
    "cosface_scaler = load('./models/v1-ensble_2023-11-22\\scaler_CosFace_v1-ensble_2023-11-22.joblib')\n",
    "cosface_pca = load('./models/v1-ensble_2023-11-22\\pca_CosFace_v1-ensble_2023-11-22.joblib')\n",
    "######################################## NPAIRS\n",
    "# recall 60/64, pca dim 3\n",
    "\n",
    "npairs_model = Net(EMBEDDING_SIZE, NET_IMG_SIZE).to(device)\n",
    "npairs_model.load_state_dict(torch.load('./models/v1-ensble_2023-11-22\\model_NPairs_v1-ensble_2023-11-22.pth'))\n",
    "\n",
    "npairs_model.eval()\n",
    "\n",
    "npairs_clf = load('./models/v1-ensble_2023-11-22\\clf_NPairs_v1-ensble_2023-11-22.joblib')\n",
    "npairs_scaler = load('./models/v1-ensble_2023-11-22\\scaler_NPairs_v1-ensble_2023-11-22.joblib')\n",
    "npairs_pca = load('./models/v1-ensble_2023-11-22\\pca_NPairs_v1-ensble_2023-11-22.joblib')\n",
    "######################################## MULTISIMILARITY\n",
    "# recall 88/93, pca dim 22\n",
    "\n",
    "multisim_model = Net(EMBEDDING_SIZE, NET_IMG_SIZE).to(device)\n",
    "multisim_model.load_state_dict(torch.load('./models/v1-ensble_2023-11-22\\model_MultiSimilarity_v1-ensble_2023-11-22.pth'))\n",
    "\n",
    "multisim_model.eval()\n",
    "\n",
    "multisim_clf = load('./models/v1-ensble_2023-11-22\\clf_MultiSimilarity_v1-ensble_2023-11-22.joblib')\n",
    "multisim_scaler = load('./models/v1-ensble_2023-11-22\\scaler_MultiSimilarity_v1-ensble_2023-11-22.joblib')\n",
    "multisim_pca = load('./models/v1-ensble_2023-11-22\\pca_MultiSimilarity_v1-ensble_2023-11-22.joblib')"
   ]
  },
  {
   "cell_type": "code",
   "execution_count": 12,
   "metadata": {},
   "outputs": [
    {
     "name": "stderr",
     "output_type": "stream",
     "text": [
      "  0%|          | 0/612 [00:09<?, ?it/s]\n"
     ]
    },
    {
     "ename": "KeyboardInterrupt",
     "evalue": "",
     "output_type": "error",
     "traceback": [
      "\u001b[1;31m---------------------------------------------------------------------------\u001b[0m",
      "\u001b[1;31mKeyboardInterrupt\u001b[0m                         Traceback (most recent call last)",
      "\u001b[1;32mc:\\Users\\ynk9a\\OneDrive\\Documentos\\TCC\\Leishmania\\semana17\\explained_model_filter.ipynb Cell 35\u001b[0m line \u001b[0;36m7\n\u001b[0;32m      <a href='vscode-notebook-cell:/c%3A/Users/ynk9a/OneDrive/Documentos/TCC/Leishmania/semana17/explained_model_filter.ipynb#X46sZmlsZQ%3D%3D?line=3'>4</a>\u001b[0m models \u001b[39m=\u001b[39m [triplet_model, cosface_model, multisim_model, npairs_model]\n\u001b[0;32m      <a href='vscode-notebook-cell:/c%3A/Users/ynk9a/OneDrive/Documentos/TCC/Leishmania/semana17/explained_model_filter.ipynb#X46sZmlsZQ%3D%3D?line=4'>5</a>\u001b[0m model_str \u001b[39m=\u001b[39m [\u001b[39m'\u001b[39m\u001b[39mtriplet\u001b[39m\u001b[39m'\u001b[39m, \u001b[39m'\u001b[39m\u001b[39mcosface\u001b[39m\u001b[39m'\u001b[39m, \u001b[39m'\u001b[39m\u001b[39mmultisim\u001b[39m\u001b[39m'\u001b[39m, \u001b[39m'\u001b[39m\u001b[39mnpairs\u001b[39m\u001b[39m'\u001b[39m]\n\u001b[1;32m----> <a href='vscode-notebook-cell:/c%3A/Users/ynk9a/OneDrive/Documentos/TCC/Leishmania/semana17/explained_model_filter.ipynb#X46sZmlsZQ%3D%3D?line=6'>7</a>\u001b[0m all_models_predictions \u001b[39m=\u001b[39m ensemble_methods\u001b[39m.\u001b[39;49mget_predictions(x_test, models, classifiers, scalers, pcas)\n\u001b[0;32m      <a href='vscode-notebook-cell:/c%3A/Users/ynk9a/OneDrive/Documentos/TCC/Leishmania/semana17/explained_model_filter.ipynb#X46sZmlsZQ%3D%3D?line=7'>8</a>\u001b[0m all_models_predictions \u001b[39m=\u001b[39m \u001b[39mdict\u001b[39m(\u001b[39mzip\u001b[39m(model_str, all_models_predictions))\n\u001b[0;32m      <a href='vscode-notebook-cell:/c%3A/Users/ynk9a/OneDrive/Documentos/TCC/Leishmania/semana17/explained_model_filter.ipynb#X46sZmlsZQ%3D%3D?line=8'>9</a>\u001b[0m all_models_predictions\n",
      "File \u001b[1;32mc:\\Users\\ynk9a\\OneDrive\\Documentos\\TCC\\Leishmania\\semana17\\ensemble_methods.py:15\u001b[0m, in \u001b[0;36mget_predictions\u001b[1;34m(x_test, models, classifiers, scalers, pcas)\u001b[0m\n\u001b[0;32m     13\u001b[0m tester \u001b[39m=\u001b[39m testers\u001b[39m.\u001b[39mBaseTester()\n\u001b[0;32m     14\u001b[0m \u001b[39mfor\u001b[39;00m model, clf, scaler, pca \u001b[39min\u001b[39;00m \u001b[39mzip\u001b[39m(models, classifiers, scalers, pcas):\n\u001b[1;32m---> 15\u001b[0m     test_embed, _ \u001b[39m=\u001b[39m tester\u001b[39m.\u001b[39;49mget_all_embeddings(x_test, model)\n\u001b[0;32m     16\u001b[0m     test_embed_scaled \u001b[39m=\u001b[39m scaler\u001b[39m.\u001b[39mtransform(test_embed\u001b[39m.\u001b[39mcpu()\u001b[39m.\u001b[39mnumpy())\n\u001b[0;32m     17\u001b[0m     test_embed_pca \u001b[39m=\u001b[39m pca\u001b[39m.\u001b[39mtransform(test_embed_scaled)\n",
      "File \u001b[1;32mc:\\Users\\ynk9a\\anaconda3\\envs\\tf_GPU\\lib\\site-packages\\pytorch_metric_learning\\testers\\base_tester.py:119\u001b[0m, in \u001b[0;36mBaseTester.get_all_embeddings\u001b[1;34m(self, dataset, trunk_model, embedder_model, collate_fn, eval, return_as_numpy)\u001b[0m\n\u001b[0;32m    115\u001b[0m     embedder_model\u001b[39m.\u001b[39meval()\n\u001b[0;32m    116\u001b[0m dataloader \u001b[39m=\u001b[39m c_f\u001b[39m.\u001b[39mget_eval_dataloader(\n\u001b[0;32m    117\u001b[0m     dataset, \u001b[39mself\u001b[39m\u001b[39m.\u001b[39mbatch_size, \u001b[39mself\u001b[39m\u001b[39m.\u001b[39mdataloader_num_workers, collate_fn\n\u001b[0;32m    118\u001b[0m )\n\u001b[1;32m--> 119\u001b[0m embeddings, labels \u001b[39m=\u001b[39m \u001b[39mself\u001b[39;49m\u001b[39m.\u001b[39;49mcompute_all_embeddings(\n\u001b[0;32m    120\u001b[0m     dataloader, trunk_model, embedder_model\n\u001b[0;32m    121\u001b[0m )\n\u001b[0;32m    122\u001b[0m embeddings \u001b[39m=\u001b[39m \u001b[39mself\u001b[39m\u001b[39m.\u001b[39mmaybe_normalize(embeddings)\n\u001b[0;32m    123\u001b[0m \u001b[39mif\u001b[39;00m return_as_numpy:\n",
      "File \u001b[1;32mc:\\Users\\ynk9a\\anaconda3\\envs\\tf_GPU\\lib\\site-packages\\pytorch_metric_learning\\testers\\base_tester.py:80\u001b[0m, in \u001b[0;36mBaseTester.compute_all_embeddings\u001b[1;34m(self, dataloader, trunk_model, embedder_model)\u001b[0m\n\u001b[0;32m     78\u001b[0m img, label \u001b[39m=\u001b[39m \u001b[39mself\u001b[39m\u001b[39m.\u001b[39mdata_and_label_getter(data)\n\u001b[0;32m     79\u001b[0m label \u001b[39m=\u001b[39m c_f\u001b[39m.\u001b[39mprocess_label(label, \u001b[39m\"\u001b[39m\u001b[39mall\u001b[39m\u001b[39m\"\u001b[39m, \u001b[39mself\u001b[39m\u001b[39m.\u001b[39mlabel_mapper)\n\u001b[1;32m---> 80\u001b[0m q \u001b[39m=\u001b[39m \u001b[39mself\u001b[39;49m\u001b[39m.\u001b[39;49mget_embeddings_for_eval(trunk_model, embedder_model, img)\n\u001b[0;32m     81\u001b[0m \u001b[39mif\u001b[39;00m label\u001b[39m.\u001b[39mdim() \u001b[39m==\u001b[39m \u001b[39m1\u001b[39m:\n\u001b[0;32m     82\u001b[0m     label \u001b[39m=\u001b[39m label\u001b[39m.\u001b[39munsqueeze(\u001b[39m1\u001b[39m)\n",
      "File \u001b[1;32mc:\\Users\\ynk9a\\anaconda3\\envs\\tf_GPU\\lib\\site-packages\\pytorch_metric_learning\\testers\\base_tester.py:128\u001b[0m, in \u001b[0;36mBaseTester.get_embeddings_for_eval\u001b[1;34m(self, trunk_model, embedder_model, input_imgs)\u001b[0m\n\u001b[0;32m    127\u001b[0m \u001b[39mdef\u001b[39;00m \u001b[39mget_embeddings_for_eval\u001b[39m(\u001b[39mself\u001b[39m, trunk_model, embedder_model, input_imgs):\n\u001b[1;32m--> 128\u001b[0m     input_imgs \u001b[39m=\u001b[39m c_f\u001b[39m.\u001b[39;49mto_device(\n\u001b[0;32m    129\u001b[0m         input_imgs, device\u001b[39m=\u001b[39;49m\u001b[39mself\u001b[39;49m\u001b[39m.\u001b[39;49mdata_device, dtype\u001b[39m=\u001b[39;49m\u001b[39mself\u001b[39;49m\u001b[39m.\u001b[39;49mdtype\n\u001b[0;32m    130\u001b[0m     )\n\u001b[0;32m    131\u001b[0m     trunk_output \u001b[39m=\u001b[39m trunk_model(input_imgs)\n\u001b[0;32m    132\u001b[0m     \u001b[39mif\u001b[39;00m \u001b[39mself\u001b[39m\u001b[39m.\u001b[39muse_trunk_output:\n",
      "File \u001b[1;32mc:\\Users\\ynk9a\\anaconda3\\envs\\tf_GPU\\lib\\site-packages\\pytorch_metric_learning\\utils\\common_functions.py:465\u001b[0m, in \u001b[0;36mto_device\u001b[1;34m(x, tensor, device, dtype)\u001b[0m\n\u001b[0;32m    463\u001b[0m dv \u001b[39m=\u001b[39m device \u001b[39mif\u001b[39;00m device \u001b[39mis\u001b[39;00m \u001b[39mnot\u001b[39;00m \u001b[39mNone\u001b[39;00m \u001b[39melse\u001b[39;00m tensor\u001b[39m.\u001b[39mdevice\n\u001b[0;32m    464\u001b[0m \u001b[39mif\u001b[39;00m x\u001b[39m.\u001b[39mdevice \u001b[39m!=\u001b[39m dv:\n\u001b[1;32m--> 465\u001b[0m     x \u001b[39m=\u001b[39m x\u001b[39m.\u001b[39;49mto(dv)\n\u001b[0;32m    466\u001b[0m \u001b[39mif\u001b[39;00m dtype \u001b[39mis\u001b[39;00m \u001b[39mnot\u001b[39;00m \u001b[39mNone\u001b[39;00m:\n\u001b[0;32m    467\u001b[0m     x \u001b[39m=\u001b[39m to_dtype(x, dtype\u001b[39m=\u001b[39mdtype)\n",
      "\u001b[1;31mKeyboardInterrupt\u001b[0m: "
     ]
    }
   ],
   "source": [
    "classifiers = [triplet_clf, cosface_clf, multisim_clf, npairs_clf]\n",
    "scalers = [triplet_scaler, cosface_scaler, multisim_scaler, npairs_scaler]\n",
    "pcas = [triplet_pca, cosface_pca, multisim_pca, npairs_pca]\n",
    "models = [triplet_model, cosface_model, multisim_model, npairs_model]\n",
    "\n",
    "all_models_predictions = ensemble_methods.get_predictions(x_test, models, classifiers, scalers, pcas)\n",
    "all_models_predictions = dict(zip(model_str, all_models_predictions))\n",
    "all_models_predictions"
   ]
  },
  {
   "cell_type": "markdown",
   "metadata": {},
   "source": [
    "Majority Voting"
   ]
  },
  {
   "cell_type": "code",
   "execution_count": 78,
   "metadata": {},
   "outputs": [
    {
     "name": "stdout",
     "output_type": "stream",
     "text": [
      "RESULT MAJORITY VOTING [('triplet', 'cosface', 'multisim')]\n",
      "              precision    recall  f1-score   support\n",
      "\n",
      "       Leish       0.92      0.80      0.85      3987\n",
      "    No Leish       0.91      0.96      0.93      7916\n",
      "\n",
      "    accuracy                           0.91     11903\n",
      "   macro avg       0.91      0.88      0.89     11903\n",
      "weighted avg       0.91      0.91      0.91     11903\n",
      "\n",
      "RESULT MAJORITY VOTING [('triplet', 'cosface', 'npairs')]\n",
      "              precision    recall  f1-score   support\n",
      "\n",
      "       Leish       0.86      0.49      0.62      3987\n",
      "    No Leish       0.79      0.96      0.86      7916\n",
      "\n",
      "    accuracy                           0.80     11903\n",
      "   macro avg       0.82      0.72      0.74     11903\n",
      "weighted avg       0.81      0.80      0.78     11903\n",
      "\n",
      "RESULT MAJORITY VOTING [('triplet', 'multisim', 'npairs')]\n",
      "              precision    recall  f1-score   support\n",
      "\n",
      "       Leish       0.87      0.49      0.62      3987\n",
      "    No Leish       0.79      0.96      0.87      7916\n",
      "\n",
      "    accuracy                           0.80     11903\n",
      "   macro avg       0.83      0.72      0.75     11903\n",
      "weighted avg       0.82      0.80      0.79     11903\n",
      "\n",
      "RESULT MAJORITY VOTING [('cosface', 'multisim', 'npairs')]\n",
      "              precision    recall  f1-score   support\n",
      "\n",
      "       Leish       0.91      0.80      0.85      3987\n",
      "    No Leish       0.91      0.96      0.93      7916\n",
      "\n",
      "    accuracy                           0.91     11903\n",
      "   macro avg       0.91      0.88      0.89     11903\n",
      "weighted avg       0.91      0.91      0.91     11903\n",
      "\n"
     ]
    }
   ],
   "source": [
    "combs_k3 = list(combinations(all_models_predictions.items(), 3))\n",
    "\n",
    "for comb in combs_k3:\n",
    "    models_str, preds = zip(*comb)\n",
    "    majority_pred = ensemble_methods.majority_voting(preds)\n",
    "\n",
    "    print(f'RESULT MAJORITY VOTING [{models_str}]')\n",
    "    print(classification_report(y_true_test, majority_pred, target_names=['Leish', 'No Leish']))"
   ]
  },
  {
   "cell_type": "markdown",
   "metadata": {},
   "source": [
    "Weighted Voting"
   ]
  },
  {
   "cell_type": "code",
   "execution_count": 79,
   "metadata": {},
   "outputs": [
    {
     "name": "stdout",
     "output_type": "stream",
     "text": [
      "RESULT WEIGHTED VOTING [('triplet', 'cosface')] / weights [0.4, 0.6]\n",
      "              precision    recall  f1-score   support\n",
      "\n",
      "       Leish       0.87      0.84      0.86      3987\n",
      "    No Leish       0.92      0.94      0.93      7916\n",
      "\n",
      "    accuracy                           0.91     11903\n",
      "   macro avg       0.90      0.89      0.90     11903\n",
      "weighted avg       0.91      0.91      0.91     11903\n",
      "\n",
      "RESULT WEIGHTED VOTING [('triplet', 'cosface')] / weights [0.6, 0.4]\n",
      "              precision    recall  f1-score   support\n",
      "\n",
      "       Leish       0.66      0.36      0.47      3987\n",
      "    No Leish       0.74      0.90      0.81      7916\n",
      "\n",
      "    accuracy                           0.72     11903\n",
      "   macro avg       0.70      0.63      0.64     11903\n",
      "weighted avg       0.71      0.72      0.70     11903\n",
      "\n",
      "RESULT WEIGHTED VOTING [('triplet', 'multisim')] / weights [0.6, 0.4]\n",
      "              precision    recall  f1-score   support\n",
      "\n",
      "       Leish       0.66      0.36      0.47      3987\n",
      "    No Leish       0.74      0.90      0.81      7916\n",
      "\n",
      "    accuracy                           0.72     11903\n",
      "   macro avg       0.70      0.63      0.64     11903\n",
      "weighted avg       0.71      0.72      0.70     11903\n",
      "\n",
      "RESULT WEIGHTED VOTING [('triplet', 'multisim')] / weights [0.4, 0.6]\n",
      "              precision    recall  f1-score   support\n",
      "\n",
      "       Leish       0.90      0.83      0.87      3987\n",
      "    No Leish       0.92      0.95      0.94      7916\n",
      "\n",
      "    accuracy                           0.91     11903\n",
      "   macro avg       0.91      0.89      0.90     11903\n",
      "weighted avg       0.91      0.91      0.91     11903\n",
      "\n",
      "RESULT WEIGHTED VOTING [('triplet', 'npairs')] / weights [0.4, 0.6]\n",
      "              precision    recall  f1-score   support\n",
      "\n",
      "       Leish       0.53      0.30      0.38      3987\n",
      "    No Leish       0.71      0.87      0.78      7916\n",
      "\n",
      "    accuracy                           0.68     11903\n",
      "   macro avg       0.62      0.58      0.58     11903\n",
      "weighted avg       0.65      0.68      0.65     11903\n",
      "\n",
      "RESULT WEIGHTED VOTING [('triplet', 'npairs')] / weights [0.6, 0.4]\n",
      "              precision    recall  f1-score   support\n",
      "\n",
      "       Leish       0.66      0.36      0.47      3987\n",
      "    No Leish       0.74      0.90      0.81      7916\n",
      "\n",
      "    accuracy                           0.72     11903\n",
      "   macro avg       0.70      0.63      0.64     11903\n",
      "weighted avg       0.71      0.72      0.70     11903\n",
      "\n",
      "RESULT WEIGHTED VOTING [('cosface', 'multisim')] / weights [0.6, 0.4]\n",
      "              precision    recall  f1-score   support\n",
      "\n",
      "       Leish       0.87      0.84      0.86      3987\n",
      "    No Leish       0.92      0.94      0.93      7916\n",
      "\n",
      "    accuracy                           0.91     11903\n",
      "   macro avg       0.90      0.89      0.90     11903\n",
      "weighted avg       0.91      0.91      0.91     11903\n",
      "\n",
      "RESULT WEIGHTED VOTING [('cosface', 'multisim')] / weights [0.4, 0.6]\n",
      "              precision    recall  f1-score   support\n",
      "\n",
      "       Leish       0.90      0.83      0.87      3987\n",
      "    No Leish       0.92      0.95      0.94      7916\n",
      "\n",
      "    accuracy                           0.91     11903\n",
      "   macro avg       0.91      0.89      0.90     11903\n",
      "weighted avg       0.91      0.91      0.91     11903\n",
      "\n",
      "RESULT WEIGHTED VOTING [('cosface', 'npairs')] / weights [0.4, 0.6]\n",
      "              precision    recall  f1-score   support\n",
      "\n",
      "       Leish       0.53      0.30      0.38      3987\n",
      "    No Leish       0.71      0.87      0.78      7916\n",
      "\n",
      "    accuracy                           0.68     11903\n",
      "   macro avg       0.62      0.58      0.58     11903\n",
      "weighted avg       0.65      0.68      0.65     11903\n",
      "\n",
      "RESULT WEIGHTED VOTING [('cosface', 'npairs')] / weights [0.6, 0.4]\n",
      "              precision    recall  f1-score   support\n",
      "\n",
      "       Leish       0.87      0.84      0.86      3987\n",
      "    No Leish       0.92      0.94      0.93      7916\n",
      "\n",
      "    accuracy                           0.91     11903\n",
      "   macro avg       0.90      0.89      0.90     11903\n",
      "weighted avg       0.91      0.91      0.91     11903\n",
      "\n",
      "RESULT WEIGHTED VOTING [('multisim', 'npairs')] / weights [0.6, 0.4]\n",
      "              precision    recall  f1-score   support\n",
      "\n",
      "       Leish       0.90      0.83      0.87      3987\n",
      "    No Leish       0.92      0.95      0.94      7916\n",
      "\n",
      "    accuracy                           0.91     11903\n",
      "   macro avg       0.91      0.89      0.90     11903\n",
      "weighted avg       0.91      0.91      0.91     11903\n",
      "\n",
      "RESULT WEIGHTED VOTING [('multisim', 'npairs')] / weights [0.4, 0.6]\n",
      "              precision    recall  f1-score   support\n",
      "\n",
      "       Leish       0.53      0.30      0.38      3987\n",
      "    No Leish       0.71      0.87      0.78      7916\n",
      "\n",
      "    accuracy                           0.68     11903\n",
      "   macro avg       0.62      0.58      0.58     11903\n",
      "weighted avg       0.65      0.68      0.65     11903\n",
      "\n"
     ]
    }
   ],
   "source": [
    "combs_k2 = list(combinations(all_models_predictions.items(), 2))\n",
    "weights = [0.4, 0.6]\n",
    "\n",
    "for comb in combs_k2:\n",
    "    models_str, preds = zip(*comb)\n",
    "    weighted_pred_w1 = ensemble_methods.weighted_voting(preds, weights)\n",
    "    print(f'RESULT WEIGHTED VOTING [{models_str}] / weights {weights}')\n",
    "    print(classification_report(y_true_test, weighted_pred_w1, target_names=['Leish', 'No Leish']))\n",
    "\n",
    "    weights.reverse()\n",
    "    weighted_pred_w2 = ensemble_methods.weighted_voting(preds, weights)\n",
    "\n",
    "    print(f'RESULT WEIGHTED VOTING [{models_str}] / weights {weights}')\n",
    "    print(classification_report(y_true_test, weighted_pred_w2, target_names=['Leish', 'No Leish']))"
   ]
  },
  {
   "cell_type": "markdown",
   "metadata": {},
   "source": [
    "Stacking"
   ]
  },
  {
   "cell_type": "code",
   "execution_count": 80,
   "metadata": {},
   "outputs": [
    {
     "name": "stderr",
     "output_type": "stream",
     "text": [
      "100%|██████████| 868/868 [00:12<00:00, 68.25it/s] \n",
      "100%|██████████| 868/868 [00:12<00:00, 67.34it/s] \n",
      "100%|██████████| 868/868 [00:13<00:00, 66.20it/s] \n",
      "100%|██████████| 868/868 [00:13<00:00, 65.61it/s] \n",
      "100%|██████████| 372/372 [00:08<00:00, 45.19it/s] \n",
      "100%|██████████| 372/372 [00:08<00:00, 44.57it/s] \n",
      "100%|██████████| 372/372 [00:08<00:00, 44.23it/s] \n",
      "100%|██████████| 372/372 [00:08<00:00, 44.18it/s] \n"
     ]
    },
    {
     "name": "stdout",
     "output_type": "stream",
     "text": [
      "RESULT STACKING [All models] / meta-clf LogisticRegression\n",
      "              precision    recall  f1-score   support\n",
      "\n",
      "       Leish       0.87      0.84      0.86      3987\n",
      "    No Leish       0.92      0.94      0.93      7916\n",
      "\n",
      "    accuracy                           0.91     11903\n",
      "   macro avg       0.90      0.89      0.90     11903\n",
      "weighted avg       0.91      0.91      0.91     11903\n",
      "\n"
     ]
    }
   ],
   "source": [
    "meta_clf = ensemble_methods.stacking_ensemble(models, classifiers, scalers, pcas, x_train, y_true_train)\n",
    "test_predictions = ensemble_methods.get_predictions(x_test, models, classifiers, scalers, pcas)\n",
    "stacked_test_features = np.column_stack(test_predictions)\n",
    "final_predictions = meta_clf.predict(stacked_test_features)\n",
    "\n",
    "print(f'RESULT STACKING [All models] / meta-clf LogisticRegression')\n",
    "print(classification_report(y_true_test, final_predictions, target_names=['Leish', 'No Leish']))"
   ]
  },
  {
   "cell_type": "markdown",
   "metadata": {},
   "source": [
    "# Dataset 1+2"
   ]
  },
  {
   "cell_type": "code",
   "execution_count": 7,
   "metadata": {},
   "outputs": [],
   "source": [
    "DPLUS_DATA_DIR = Path('../data/d1+d2-patches/')"
   ]
  },
  {
   "cell_type": "code",
   "execution_count": 8,
   "metadata": {},
   "outputs": [
    {
     "name": "stdout",
     "output_type": "stream",
     "text": [
      "label format = {'leish': 0, 'no-leish': 1}\n",
      "train test split proportion = train[45641], test[19561]\n",
      "leish in training set = 15222\n",
      "leish in testing set = 6512\n",
      "-------------------------------------------------------------------------------\n",
      "----- LOSS FUNCTION FOR THIS ITERATION [TRIPLET] -------------------------------\n",
      "Epoch 1 Iteration 0: Loss = 0.2179347425699234\n",
      "Epoch 1 Iteration 100: Loss = 0.19936731457710266\n",
      "Epoch 1 Iteration 200: Loss = 0.20002858340740204\n",
      "Epoch 1 Iteration 300: Loss = 0.19991640746593475\n",
      "Epoch 2 Iteration 0: Loss = 0.20035287737846375\n",
      "Epoch 2 Iteration 100: Loss = 0.19972048699855804\n",
      "Epoch 2 Iteration 200: Loss = 0.20190778374671936\n",
      "Epoch 2 Iteration 300: Loss = 0.19995476305484772\n",
      "Epoch 3 Iteration 0: Loss = 0.20987917482852936\n",
      "Epoch 3 Iteration 100: Loss = 0.23509901762008667\n",
      "Epoch 3 Iteration 200: Loss = 0.20345167815685272\n",
      "Epoch 3 Iteration 300: Loss = 0.24743512272834778\n",
      "Epoch 4 Iteration 0: Loss = 0.20162254571914673\n",
      "Epoch 4 Iteration 100: Loss = 0.2115776538848877\n",
      "Epoch 4 Iteration 200: Loss = 0.21703526377677917\n",
      "Epoch 4 Iteration 300: Loss = 0.19793447852134705\n",
      "Epoch 5 Iteration 0: Loss = 0.18639439344406128\n",
      "Epoch 5 Iteration 100: Loss = 0.21140724420547485\n",
      "Epoch 5 Iteration 200: Loss = 0.20915472507476807\n",
      "Epoch 5 Iteration 300: Loss = 0.21005576848983765\n",
      "Epoch 6 Iteration 0: Loss = 0.1914397031068802\n",
      "Epoch 6 Iteration 100: Loss = 0.2041555792093277\n",
      "Epoch 6 Iteration 200: Loss = 0.2221466451883316\n",
      "Epoch 6 Iteration 300: Loss = 0.1785896122455597\n",
      "Epoch 7 Iteration 0: Loss = 0.19803257286548615\n",
      "Epoch 7 Iteration 100: Loss = 0.21809427440166473\n",
      "Epoch 7 Iteration 200: Loss = 0.20742875337600708\n",
      "Epoch 7 Iteration 300: Loss = 0.177560493350029\n",
      "Epoch 8 Iteration 0: Loss = 0.21835042536258698\n",
      "Epoch 8 Iteration 100: Loss = 0.23587463796138763\n",
      "Epoch 8 Iteration 200: Loss = 0.2215164601802826\n",
      "Epoch 8 Iteration 300: Loss = 0.18728619813919067\n",
      "Epoch 9 Iteration 0: Loss = 0.20127032697200775\n",
      "Epoch 9 Iteration 100: Loss = 0.17656803131103516\n",
      "Epoch 9 Iteration 200: Loss = 0.22961032390594482\n",
      "Epoch 9 Iteration 300: Loss = 0.19492141902446747\n",
      "Epoch 10 Iteration 0: Loss = 0.18380506336688995\n",
      "Epoch 10 Iteration 100: Loss = 0.20521649718284607\n",
      "Epoch 10 Iteration 200: Loss = 0.19580994546413422\n",
      "Epoch 10 Iteration 300: Loss = 0.19179388880729675\n",
      "Computing embeddings...\n"
     ]
    },
    {
     "name": "stderr",
     "output_type": "stream",
     "text": [
      "100%|██████████| 1427/1427 [00:26<00:00, 53.40it/s]\n",
      "100%|██████████| 612/612 [00:14<00:00, 41.08it/s]\n"
     ]
    },
    {
     "name": "stdout",
     "output_type": "stream",
     "text": [
      "Performing GridSearch...\n",
      "Fitting 5 folds for each of 12 candidates, totalling 60 fits\n",
      "Best Params: C=10, gamma=0.01\n",
      "PCA dim =29\n",
      "RESULTS FOR LOSS = [Triplet]\n",
      "              precision    recall  f1-score   support\n",
      "\n",
      "           0       0.84      0.83      0.84      6512\n",
      "           1       0.92      0.92      0.92     13049\n",
      "\n",
      "    accuracy                           0.89     19561\n",
      "   macro avg       0.88      0.88      0.88     19561\n",
      "weighted avg       0.89      0.89      0.89     19561\n",
      "\n",
      "~ Joblib files saved.\n",
      "-------> RUN 1\n",
      "Computing embeddings...\n"
     ]
    },
    {
     "name": "stderr",
     "output_type": "stream",
     "text": [
      "100%|██████████| 1332/1332 [00:35<00:00, 37.11it/s]\n",
      "100%|██████████| 96/96 [00:08<00:00, 10.79it/s]\n"
     ]
    },
    {
     "name": "stdout",
     "output_type": "stream",
     "text": [
      "RESULTS FOR LOSS = [Triplet]\n",
      "              precision    recall  f1-score   support\n",
      "\n",
      "           0       0.87      0.93      0.90      1455\n",
      "           1       0.93      0.87      0.90      1588\n",
      "\n",
      "    accuracy                           0.90      3043\n",
      "   macro avg       0.90      0.90      0.90      3043\n",
      "weighted avg       0.90      0.90      0.90      3043\n",
      "\n",
      "-------> RUN 2\n",
      "Computing embeddings...\n"
     ]
    },
    {
     "name": "stderr",
     "output_type": "stream",
     "text": [
      "100%|██████████| 1332/1332 [00:23<00:00, 56.35it/s]\n",
      "100%|██████████| 96/96 [00:08<00:00, 11.87it/s]\n"
     ]
    },
    {
     "name": "stdout",
     "output_type": "stream",
     "text": [
      "RESULTS FOR LOSS = [Triplet]\n",
      "              precision    recall  f1-score   support\n",
      "\n",
      "           0       0.86      0.92      0.89      1396\n",
      "           1       0.93      0.87      0.90      1647\n",
      "\n",
      "    accuracy                           0.90      3043\n",
      "   macro avg       0.89      0.90      0.89      3043\n",
      "weighted avg       0.90      0.90      0.90      3043\n",
      "\n",
      "-------> RUN 3\n",
      "Computing embeddings...\n"
     ]
    },
    {
     "name": "stderr",
     "output_type": "stream",
     "text": [
      "100%|██████████| 1332/1332 [00:18<00:00, 71.61it/s] \n",
      "100%|██████████| 96/96 [00:05<00:00, 16.17it/s]\n"
     ]
    },
    {
     "name": "stdout",
     "output_type": "stream",
     "text": [
      "RESULTS FOR LOSS = [Triplet]\n",
      "              precision    recall  f1-score   support\n",
      "\n",
      "           0       0.87      0.92      0.90      1494\n",
      "           1       0.92      0.87      0.90      1549\n",
      "\n",
      "    accuracy                           0.90      3043\n",
      "   macro avg       0.90      0.90      0.90      3043\n",
      "weighted avg       0.90      0.90      0.90      3043\n",
      "\n",
      "-------> RUN 4\n",
      "Computing embeddings...\n"
     ]
    },
    {
     "name": "stderr",
     "output_type": "stream",
     "text": [
      "100%|██████████| 1332/1332 [00:18<00:00, 73.09it/s] \n",
      "100%|██████████| 96/96 [00:05<00:00, 16.09it/s]\n"
     ]
    },
    {
     "name": "stdout",
     "output_type": "stream",
     "text": [
      "RESULTS FOR LOSS = [Triplet]\n",
      "              precision    recall  f1-score   support\n",
      "\n",
      "           0       0.86      0.94      0.90      1397\n",
      "           1       0.94      0.87      0.90      1646\n",
      "\n",
      "    accuracy                           0.90      3043\n",
      "   macro avg       0.90      0.90      0.90      3043\n",
      "weighted avg       0.90      0.90      0.90      3043\n",
      "\n",
      "-------> RUN 5\n",
      "Computing embeddings...\n"
     ]
    },
    {
     "name": "stderr",
     "output_type": "stream",
     "text": [
      "100%|██████████| 1332/1332 [00:17<00:00, 74.68it/s] \n",
      "100%|██████████| 96/96 [00:06<00:00, 15.04it/s]\n"
     ]
    },
    {
     "name": "stdout",
     "output_type": "stream",
     "text": [
      "RESULTS FOR LOSS = [Triplet]\n",
      "              precision    recall  f1-score   support\n",
      "\n",
      "           0       0.86      0.93      0.89      1471\n",
      "           1       0.93      0.86      0.89      1572\n",
      "\n",
      "    accuracy                           0.89      3043\n",
      "   macro avg       0.89      0.89      0.89      3043\n",
      "weighted avg       0.89      0.89      0.89      3043\n",
      "\n",
      "-------> RUN 6\n",
      "Computing embeddings...\n"
     ]
    },
    {
     "name": "stderr",
     "output_type": "stream",
     "text": [
      "100%|██████████| 1332/1332 [00:18<00:00, 72.76it/s] \n",
      "100%|██████████| 96/96 [00:06<00:00, 15.96it/s]\n"
     ]
    },
    {
     "name": "stdout",
     "output_type": "stream",
     "text": [
      "RESULTS FOR LOSS = [Triplet]\n",
      "              precision    recall  f1-score   support\n",
      "\n",
      "           0       0.88      0.93      0.90      1455\n",
      "           1       0.93      0.88      0.91      1588\n",
      "\n",
      "    accuracy                           0.90      3043\n",
      "   macro avg       0.90      0.91      0.90      3043\n",
      "weighted avg       0.91      0.90      0.90      3043\n",
      "\n",
      "-------> RUN 7\n",
      "Computing embeddings...\n"
     ]
    },
    {
     "name": "stderr",
     "output_type": "stream",
     "text": [
      "100%|██████████| 1332/1332 [00:17<00:00, 76.14it/s] \n",
      "100%|██████████| 96/96 [00:06<00:00, 15.99it/s]\n"
     ]
    },
    {
     "name": "stdout",
     "output_type": "stream",
     "text": [
      "RESULTS FOR LOSS = [Triplet]\n",
      "              precision    recall  f1-score   support\n",
      "\n",
      "           0       0.85      0.91      0.88      1430\n",
      "           1       0.92      0.86      0.89      1613\n",
      "\n",
      "    accuracy                           0.88      3043\n",
      "   macro avg       0.88      0.89      0.88      3043\n",
      "weighted avg       0.89      0.88      0.88      3043\n",
      "\n",
      "-------> RUN 8\n",
      "Computing embeddings...\n"
     ]
    },
    {
     "name": "stderr",
     "output_type": "stream",
     "text": [
      "100%|██████████| 1332/1332 [00:17<00:00, 76.24it/s] \n",
      "100%|██████████| 96/96 [00:06<00:00, 15.88it/s]\n"
     ]
    },
    {
     "name": "stdout",
     "output_type": "stream",
     "text": [
      "RESULTS FOR LOSS = [Triplet]\n",
      "              precision    recall  f1-score   support\n",
      "\n",
      "           0       0.88      0.92      0.90      1478\n",
      "           1       0.92      0.88      0.90      1565\n",
      "\n",
      "    accuracy                           0.90      3043\n",
      "   macro avg       0.90      0.90      0.90      3043\n",
      "weighted avg       0.90      0.90      0.90      3043\n",
      "\n",
      "-------> RUN 9\n",
      "Computing embeddings...\n"
     ]
    },
    {
     "name": "stderr",
     "output_type": "stream",
     "text": [
      "100%|██████████| 1332/1332 [00:17<00:00, 75.52it/s] \n",
      "100%|██████████| 96/96 [00:06<00:00, 16.00it/s]\n"
     ]
    },
    {
     "name": "stdout",
     "output_type": "stream",
     "text": [
      "RESULTS FOR LOSS = [Triplet]\n",
      "              precision    recall  f1-score   support\n",
      "\n",
      "           0       0.87      0.91      0.89      1471\n",
      "           1       0.91      0.87      0.89      1572\n",
      "\n",
      "    accuracy                           0.89      3043\n",
      "   macro avg       0.89      0.89      0.89      3043\n",
      "weighted avg       0.89      0.89      0.89      3043\n",
      "\n",
      "-------> RUN 10\n",
      "Computing embeddings...\n"
     ]
    },
    {
     "name": "stderr",
     "output_type": "stream",
     "text": [
      "100%|██████████| 1332/1332 [00:17<00:00, 75.69it/s] \n",
      "100%|██████████| 96/96 [00:06<00:00, 15.69it/s]\n"
     ]
    },
    {
     "name": "stdout",
     "output_type": "stream",
     "text": [
      "RESULTS FOR LOSS = [Triplet]\n",
      "              precision    recall  f1-score   support\n",
      "\n",
      "           0       0.88      0.93      0.90      1499\n",
      "           1       0.92      0.88      0.90      1544\n",
      "\n",
      "    accuracy                           0.90      3043\n",
      "   macro avg       0.90      0.90      0.90      3043\n",
      "weighted avg       0.90      0.90      0.90      3043\n",
      "\n",
      "-------> RUN 11\n",
      "Computing embeddings...\n"
     ]
    },
    {
     "name": "stderr",
     "output_type": "stream",
     "text": [
      "100%|██████████| 1332/1332 [00:16<00:00, 79.69it/s] \n",
      "100%|██████████| 96/96 [00:05<00:00, 16.05it/s]\n"
     ]
    },
    {
     "name": "stdout",
     "output_type": "stream",
     "text": [
      "RESULTS FOR LOSS = [Triplet]\n",
      "              precision    recall  f1-score   support\n",
      "\n",
      "           0       0.86      0.93      0.90      1439\n",
      "           1       0.94      0.86      0.90      1604\n",
      "\n",
      "    accuracy                           0.90      3043\n",
      "   macro avg       0.90      0.90      0.90      3043\n",
      "weighted avg       0.90      0.90      0.90      3043\n",
      "\n",
      "-------> RUN 12\n",
      "Computing embeddings...\n"
     ]
    },
    {
     "name": "stderr",
     "output_type": "stream",
     "text": [
      "100%|██████████| 1332/1332 [00:16<00:00, 80.64it/s] \n",
      "100%|██████████| 96/96 [00:05<00:00, 16.32it/s]\n"
     ]
    },
    {
     "name": "stdout",
     "output_type": "stream",
     "text": [
      "RESULTS FOR LOSS = [Triplet]\n",
      "              precision    recall  f1-score   support\n",
      "\n",
      "           0       0.87      0.91      0.89      1467\n",
      "           1       0.91      0.88      0.89      1575\n",
      "\n",
      "    accuracy                           0.89      3042\n",
      "   macro avg       0.89      0.89      0.89      3042\n",
      "weighted avg       0.89      0.89      0.89      3042\n",
      "\n",
      "-------> RUN 13\n",
      "Computing embeddings...\n"
     ]
    },
    {
     "name": "stderr",
     "output_type": "stream",
     "text": [
      "100%|██████████| 1332/1332 [00:16<00:00, 79.65it/s] \n",
      "100%|██████████| 96/96 [00:06<00:00, 15.90it/s]\n"
     ]
    },
    {
     "name": "stdout",
     "output_type": "stream",
     "text": [
      "RESULTS FOR LOSS = [Triplet]\n",
      "              precision    recall  f1-score   support\n",
      "\n",
      "           0       0.85      0.93      0.89      1409\n",
      "           1       0.93      0.86      0.89      1633\n",
      "\n",
      "    accuracy                           0.89      3042\n",
      "   macro avg       0.89      0.89      0.89      3042\n",
      "weighted avg       0.89      0.89      0.89      3042\n",
      "\n",
      "-------> RUN 14\n",
      "Computing embeddings...\n"
     ]
    },
    {
     "name": "stderr",
     "output_type": "stream",
     "text": [
      "100%|██████████| 1332/1332 [00:16<00:00, 79.31it/s] \n",
      "100%|██████████| 96/96 [00:05<00:00, 16.50it/s]\n"
     ]
    },
    {
     "name": "stdout",
     "output_type": "stream",
     "text": [
      "RESULTS FOR LOSS = [Triplet]\n",
      "              precision    recall  f1-score   support\n",
      "\n",
      "           0       0.85      0.93      0.89      1402\n",
      "           1       0.93      0.86      0.90      1640\n",
      "\n",
      "    accuracy                           0.89      3042\n",
      "   macro avg       0.89      0.89      0.89      3042\n",
      "weighted avg       0.90      0.89      0.89      3042\n",
      "\n",
      "-------> RUN 15\n",
      "Computing embeddings...\n"
     ]
    },
    {
     "name": "stderr",
     "output_type": "stream",
     "text": [
      "100%|██████████| 1332/1332 [00:16<00:00, 80.34it/s] \n",
      "100%|██████████| 96/96 [00:05<00:00, 16.56it/s]\n"
     ]
    },
    {
     "name": "stdout",
     "output_type": "stream",
     "text": [
      "RESULTS FOR LOSS = [Triplet]\n",
      "              precision    recall  f1-score   support\n",
      "\n",
      "           0       0.86      0.92      0.89      1471\n",
      "           1       0.92      0.86      0.89      1571\n",
      "\n",
      "    accuracy                           0.89      3042\n",
      "   macro avg       0.89      0.89      0.89      3042\n",
      "weighted avg       0.89      0.89      0.89      3042\n",
      "\n",
      "\n",
      " Loss ===== Triplet\n",
      "Mean Recall (Class 0): 0.9234150322850356\n",
      "Mean Recall (Class 1): 0.8682624854375113\n",
      "Std Recall (Class 0): 0.008123867151930498\n",
      "Std Recall (Class 1): 0.00727234824296692\n",
      "-------------------------------------------------------------------------------\n",
      "----- LOSS FUNCTION FOR THIS ITERATION [NPAIRS] -------------------------------\n",
      "Epoch 1 Iteration 0: Loss = 0.6822811365127563\n",
      "Epoch 1 Iteration 100: Loss = 0.6935592293739319\n",
      "Epoch 1 Iteration 200: Loss = 0.693070650100708\n",
      "Epoch 1 Iteration 300: Loss = 0.694493293762207\n",
      "Epoch 2 Iteration 0: Loss = 0.6885240077972412\n",
      "Epoch 2 Iteration 100: Loss = 0.6928740739822388\n",
      "Epoch 2 Iteration 200: Loss = 0.6861150860786438\n",
      "Epoch 2 Iteration 300: Loss = 0.6860271692276001\n",
      "Epoch 3 Iteration 0: Loss = 0.6920706629753113\n",
      "Epoch 3 Iteration 100: Loss = 0.6930810213088989\n",
      "Epoch 3 Iteration 200: Loss = 0.6921873092651367\n",
      "Epoch 3 Iteration 300: Loss = 0.6928850412368774\n",
      "Epoch 4 Iteration 0: Loss = 0.6891906261444092\n",
      "Epoch 4 Iteration 100: Loss = 0.6972348093986511\n",
      "Epoch 4 Iteration 200: Loss = 0.6917814612388611\n",
      "Epoch 4 Iteration 300: Loss = 0.6924748420715332\n",
      "Epoch 5 Iteration 0: Loss = 0.693686306476593\n",
      "Epoch 5 Iteration 100: Loss = 0.6915540099143982\n",
      "Epoch 5 Iteration 200: Loss = 0.6813130974769592\n",
      "Epoch 5 Iteration 300: Loss = 0.6825422048568726\n",
      "Epoch 6 Iteration 0: Loss = 0.6932023763656616\n",
      "Epoch 6 Iteration 100: Loss = 0.6922526359558105\n",
      "Epoch 6 Iteration 200: Loss = 0.5779616832733154\n",
      "Epoch 6 Iteration 300: Loss = 0.6938707828521729\n",
      "Epoch 7 Iteration 0: Loss = 0.6817626953125\n",
      "Epoch 7 Iteration 100: Loss = 0.6939476728439331\n",
      "Epoch 7 Iteration 200: Loss = 0.6982810497283936\n",
      "Epoch 7 Iteration 300: Loss = 0.690509557723999\n",
      "Epoch 8 Iteration 0: Loss = 0.6939142942428589\n",
      "Epoch 8 Iteration 100: Loss = 0.6930325031280518\n",
      "Epoch 8 Iteration 200: Loss = 0.690833330154419\n",
      "Epoch 8 Iteration 300: Loss = 0.6865348815917969\n",
      "Epoch 9 Iteration 0: Loss = 0.6906615495681763\n",
      "Epoch 9 Iteration 100: Loss = 0.6937340497970581\n",
      "Epoch 9 Iteration 200: Loss = 0.6920361518859863\n",
      "Epoch 9 Iteration 300: Loss = 0.6886498928070068\n",
      "Epoch 10 Iteration 0: Loss = 0.6936434507369995\n",
      "Epoch 10 Iteration 100: Loss = 0.7009938955307007\n",
      "Epoch 10 Iteration 200: Loss = 0.6930249929428101\n",
      "Epoch 10 Iteration 300: Loss = 0.6947014331817627\n",
      "Computing embeddings...\n"
     ]
    },
    {
     "name": "stderr",
     "output_type": "stream",
     "text": [
      "100%|██████████| 1427/1427 [00:18<00:00, 75.86it/s] \n",
      "100%|██████████| 612/612 [00:12<00:00, 48.58it/s]\n"
     ]
    },
    {
     "name": "stdout",
     "output_type": "stream",
     "text": [
      "Performing GridSearch...\n",
      "Fitting 5 folds for each of 12 candidates, totalling 60 fits\n",
      "Best Params: C=10, gamma=1\n",
      "PCA dim =3\n",
      "RESULTS FOR LOSS = [NPairs]\n",
      "              precision    recall  f1-score   support\n",
      "\n",
      "           0       0.45      0.34      0.39      6512\n",
      "           1       0.71      0.79      0.75     13049\n",
      "\n",
      "    accuracy                           0.64     19561\n",
      "   macro avg       0.58      0.57      0.57     19561\n",
      "weighted avg       0.62      0.64      0.63     19561\n",
      "\n",
      "~ Joblib files saved.\n",
      "-------> RUN 1\n",
      "Computing embeddings...\n"
     ]
    },
    {
     "name": "stderr",
     "output_type": "stream",
     "text": [
      "100%|██████████| 1332/1332 [00:21<00:00, 61.94it/s]\n",
      "100%|██████████| 96/96 [00:07<00:00, 13.59it/s]\n"
     ]
    },
    {
     "name": "stdout",
     "output_type": "stream",
     "text": [
      "RESULTS FOR LOSS = [NPairs]\n",
      "              precision    recall  f1-score   support\n",
      "\n",
      "           0       0.59      0.61      0.60      1440\n",
      "           1       0.64      0.63      0.63      1603\n",
      "\n",
      "    accuracy                           0.62      3043\n",
      "   macro avg       0.62      0.62      0.62      3043\n",
      "weighted avg       0.62      0.62      0.62      3043\n",
      "\n",
      "-------> RUN 2\n",
      "Computing embeddings...\n"
     ]
    },
    {
     "name": "stderr",
     "output_type": "stream",
     "text": [
      "100%|██████████| 1332/1332 [00:20<00:00, 65.28it/s] \n",
      "100%|██████████| 96/96 [00:06<00:00, 13.85it/s]\n"
     ]
    },
    {
     "name": "stdout",
     "output_type": "stream",
     "text": [
      "RESULTS FOR LOSS = [NPairs]\n",
      "              precision    recall  f1-score   support\n",
      "\n",
      "           0       0.59      0.58      0.59      1449\n",
      "           1       0.63      0.64      0.63      1594\n",
      "\n",
      "    accuracy                           0.61      3043\n",
      "   macro avg       0.61      0.61      0.61      3043\n",
      "weighted avg       0.61      0.61      0.61      3043\n",
      "\n",
      "-------> RUN 3\n",
      "Computing embeddings...\n"
     ]
    },
    {
     "name": "stderr",
     "output_type": "stream",
     "text": [
      "100%|██████████| 1332/1332 [00:21<00:00, 61.24it/s]\n",
      "100%|██████████| 96/96 [00:07<00:00, 13.49it/s]\n"
     ]
    },
    {
     "name": "stdout",
     "output_type": "stream",
     "text": [
      "RESULTS FOR LOSS = [NPairs]\n",
      "              precision    recall  f1-score   support\n",
      "\n",
      "           0       0.58      0.57      0.58      1438\n",
      "           1       0.62      0.63      0.62      1605\n",
      "\n",
      "    accuracy                           0.60      3043\n",
      "   macro avg       0.60      0.60      0.60      3043\n",
      "weighted avg       0.60      0.60      0.60      3043\n",
      "\n",
      "-------> RUN 4\n",
      "Computing embeddings...\n"
     ]
    },
    {
     "name": "stderr",
     "output_type": "stream",
     "text": [
      "100%|██████████| 1332/1332 [00:20<00:00, 63.92it/s]\n",
      "100%|██████████| 96/96 [00:07<00:00, 13.59it/s]\n"
     ]
    },
    {
     "name": "stdout",
     "output_type": "stream",
     "text": [
      "RESULTS FOR LOSS = [NPairs]\n",
      "              precision    recall  f1-score   support\n",
      "\n",
      "           0       0.58      0.58      0.58      1469\n",
      "           1       0.61      0.61      0.61      1574\n",
      "\n",
      "    accuracy                           0.60      3043\n",
      "   macro avg       0.60      0.60      0.60      3043\n",
      "weighted avg       0.60      0.60      0.60      3043\n",
      "\n",
      "-------> RUN 5\n",
      "Computing embeddings...\n"
     ]
    },
    {
     "name": "stderr",
     "output_type": "stream",
     "text": [
      "100%|██████████| 1332/1332 [00:20<00:00, 64.42it/s] \n",
      "100%|██████████| 96/96 [00:06<00:00, 13.74it/s]\n"
     ]
    },
    {
     "name": "stdout",
     "output_type": "stream",
     "text": [
      "RESULTS FOR LOSS = [NPairs]\n",
      "              precision    recall  f1-score   support\n",
      "\n",
      "           0       0.57      0.57      0.57      1412\n",
      "           1       0.63      0.62      0.62      1631\n",
      "\n",
      "    accuracy                           0.60      3043\n",
      "   macro avg       0.60      0.60      0.60      3043\n",
      "weighted avg       0.60      0.60      0.60      3043\n",
      "\n",
      "-------> RUN 6\n",
      "Computing embeddings...\n"
     ]
    },
    {
     "name": "stderr",
     "output_type": "stream",
     "text": [
      "100%|██████████| 1332/1332 [00:20<00:00, 64.00it/s] \n",
      "100%|██████████| 96/96 [00:07<00:00, 13.51it/s]\n"
     ]
    },
    {
     "name": "stdout",
     "output_type": "stream",
     "text": [
      "RESULTS FOR LOSS = [NPairs]\n",
      "              precision    recall  f1-score   support\n",
      "\n",
      "           0       0.59      0.59      0.59      1452\n",
      "           1       0.62      0.63      0.63      1591\n",
      "\n",
      "    accuracy                           0.61      3043\n",
      "   macro avg       0.61      0.61      0.61      3043\n",
      "weighted avg       0.61      0.61      0.61      3043\n",
      "\n",
      "-------> RUN 7\n",
      "Computing embeddings...\n"
     ]
    },
    {
     "name": "stderr",
     "output_type": "stream",
     "text": [
      "100%|██████████| 1332/1332 [00:20<00:00, 64.02it/s]\n",
      "100%|██████████| 96/96 [00:06<00:00, 13.86it/s]\n"
     ]
    },
    {
     "name": "stdout",
     "output_type": "stream",
     "text": [
      "RESULTS FOR LOSS = [NPairs]\n",
      "              precision    recall  f1-score   support\n",
      "\n",
      "           0       0.60      0.57      0.58      1470\n",
      "           1       0.61      0.64      0.63      1573\n",
      "\n",
      "    accuracy                           0.61      3043\n",
      "   macro avg       0.61      0.60      0.60      3043\n",
      "weighted avg       0.61      0.61      0.61      3043\n",
      "\n",
      "-------> RUN 8\n",
      "Computing embeddings...\n"
     ]
    },
    {
     "name": "stderr",
     "output_type": "stream",
     "text": [
      "100%|██████████| 1332/1332 [00:21<00:00, 63.33it/s] \n",
      "100%|██████████| 96/96 [00:07<00:00, 13.56it/s]\n"
     ]
    },
    {
     "name": "stdout",
     "output_type": "stream",
     "text": [
      "RESULTS FOR LOSS = [NPairs]\n",
      "              precision    recall  f1-score   support\n",
      "\n",
      "           0       0.58      0.57      0.58      1449\n",
      "           1       0.62      0.63      0.62      1594\n",
      "\n",
      "    accuracy                           0.60      3043\n",
      "   macro avg       0.60      0.60      0.60      3043\n",
      "weighted avg       0.60      0.60      0.60      3043\n",
      "\n",
      "-------> RUN 9\n",
      "Computing embeddings...\n"
     ]
    },
    {
     "name": "stderr",
     "output_type": "stream",
     "text": [
      "100%|██████████| 1332/1332 [00:21<00:00, 63.32it/s]\n",
      "100%|██████████| 96/96 [00:07<00:00, 13.59it/s]\n"
     ]
    },
    {
     "name": "stdout",
     "output_type": "stream",
     "text": [
      "RESULTS FOR LOSS = [NPairs]\n",
      "              precision    recall  f1-score   support\n",
      "\n",
      "           0       0.56      0.56      0.56      1417\n",
      "           1       0.62      0.62      0.62      1626\n",
      "\n",
      "    accuracy                           0.59      3043\n",
      "   macro avg       0.59      0.59      0.59      3043\n",
      "weighted avg       0.59      0.59      0.59      3043\n",
      "\n",
      "-------> RUN 10\n",
      "Computing embeddings...\n"
     ]
    },
    {
     "name": "stderr",
     "output_type": "stream",
     "text": [
      "100%|██████████| 1332/1332 [00:21<00:00, 62.41it/s]\n",
      "100%|██████████| 96/96 [00:07<00:00, 13.69it/s]\n"
     ]
    },
    {
     "name": "stdout",
     "output_type": "stream",
     "text": [
      "RESULTS FOR LOSS = [NPairs]\n",
      "              precision    recall  f1-score   support\n",
      "\n",
      "           0       0.59      0.59      0.59      1428\n",
      "           1       0.64      0.64      0.64      1615\n",
      "\n",
      "    accuracy                           0.62      3043\n",
      "   macro avg       0.62      0.62      0.62      3043\n",
      "weighted avg       0.62      0.62      0.62      3043\n",
      "\n",
      "-------> RUN 11\n",
      "Computing embeddings...\n"
     ]
    },
    {
     "name": "stderr",
     "output_type": "stream",
     "text": [
      "100%|██████████| 1332/1332 [00:20<00:00, 64.34it/s]\n",
      "100%|██████████| 96/96 [00:07<00:00, 13.69it/s]\n"
     ]
    },
    {
     "name": "stdout",
     "output_type": "stream",
     "text": [
      "RESULTS FOR LOSS = [NPairs]\n",
      "              precision    recall  f1-score   support\n",
      "\n",
      "           0       0.61      0.57      0.59      1514\n",
      "           1       0.60      0.64      0.62      1529\n",
      "\n",
      "    accuracy                           0.60      3043\n",
      "   macro avg       0.60      0.60      0.60      3043\n",
      "weighted avg       0.60      0.60      0.60      3043\n",
      "\n",
      "-------> RUN 12\n",
      "Computing embeddings...\n"
     ]
    },
    {
     "name": "stderr",
     "output_type": "stream",
     "text": [
      "100%|██████████| 1332/1332 [00:18<00:00, 72.62it/s] \n",
      "100%|██████████| 96/96 [00:06<00:00, 15.99it/s]\n"
     ]
    },
    {
     "name": "stdout",
     "output_type": "stream",
     "text": [
      "RESULTS FOR LOSS = [NPairs]\n",
      "              precision    recall  f1-score   support\n",
      "\n",
      "           0       0.57      0.55      0.56      1435\n",
      "           1       0.61      0.62      0.62      1607\n",
      "\n",
      "    accuracy                           0.59      3042\n",
      "   macro avg       0.59      0.59      0.59      3042\n",
      "weighted avg       0.59      0.59      0.59      3042\n",
      "\n",
      "-------> RUN 13\n",
      "Computing embeddings...\n"
     ]
    },
    {
     "name": "stderr",
     "output_type": "stream",
     "text": [
      "100%|██████████| 1332/1332 [00:17<00:00, 77.31it/s] \n",
      "100%|██████████| 96/96 [00:05<00:00, 16.37it/s]\n"
     ]
    },
    {
     "name": "stdout",
     "output_type": "stream",
     "text": [
      "RESULTS FOR LOSS = [NPairs]\n",
      "              precision    recall  f1-score   support\n",
      "\n",
      "           0       0.56      0.56      0.56      1430\n",
      "           1       0.61      0.62      0.61      1612\n",
      "\n",
      "    accuracy                           0.59      3042\n",
      "   macro avg       0.59      0.59      0.59      3042\n",
      "weighted avg       0.59      0.59      0.59      3042\n",
      "\n",
      "-------> RUN 14\n",
      "Computing embeddings...\n"
     ]
    },
    {
     "name": "stderr",
     "output_type": "stream",
     "text": [
      "100%|██████████| 1332/1332 [00:18<00:00, 70.44it/s] \n",
      "100%|██████████| 96/96 [00:06<00:00, 15.12it/s]\n"
     ]
    },
    {
     "name": "stdout",
     "output_type": "stream",
     "text": [
      "RESULTS FOR LOSS = [NPairs]\n",
      "              precision    recall  f1-score   support\n",
      "\n",
      "           0       0.58      0.57      0.58      1458\n",
      "           1       0.61      0.62      0.62      1584\n",
      "\n",
      "    accuracy                           0.60      3042\n",
      "   macro avg       0.60      0.60      0.60      3042\n",
      "weighted avg       0.60      0.60      0.60      3042\n",
      "\n",
      "-------> RUN 15\n",
      "Computing embeddings...\n"
     ]
    },
    {
     "name": "stderr",
     "output_type": "stream",
     "text": [
      "100%|██████████| 1332/1332 [00:18<00:00, 71.26it/s] \n",
      "100%|██████████| 96/96 [00:05<00:00, 16.29it/s]\n"
     ]
    },
    {
     "name": "stdout",
     "output_type": "stream",
     "text": [
      "RESULTS FOR LOSS = [NPairs]\n",
      "              precision    recall  f1-score   support\n",
      "\n",
      "           0       0.59      0.59      0.59      1473\n",
      "           1       0.61      0.61      0.61      1569\n",
      "\n",
      "    accuracy                           0.60      3042\n",
      "   macro avg       0.60      0.60      0.60      3042\n",
      "weighted avg       0.60      0.60      0.60      3042\n",
      "\n",
      "\n",
      " Loss ===== NPairs\n",
      "Mean Recall (Class 0): 0.5757400852056359\n",
      "Mean Recall (Class 1): 0.6257293592208509\n",
      "Std Recall (Class 0): 0.014155948557029114\n",
      "Std Recall (Class 1): 0.009341349074212857\n",
      "-------------------------------------------------------------------------------\n",
      "----- LOSS FUNCTION FOR THIS ITERATION [COSFACE] -------------------------------\n",
      "Epoch 1 Iteration 0: Loss = 73.20857238769531\n",
      "Epoch 1 Iteration 100: Loss = 56.573760986328125\n",
      "Epoch 1 Iteration 200: Loss = 53.876869201660156\n",
      "Epoch 1 Iteration 300: Loss = 51.5241584777832\n",
      "Epoch 2 Iteration 0: Loss = 51.151004791259766\n",
      "Epoch 2 Iteration 100: Loss = 51.623069763183594\n",
      "Epoch 2 Iteration 200: Loss = 50.86723709106445\n",
      "Epoch 2 Iteration 300: Loss = 50.18391418457031\n",
      "Epoch 3 Iteration 0: Loss = 50.128814697265625\n",
      "Epoch 3 Iteration 100: Loss = 49.62319564819336\n",
      "Epoch 3 Iteration 200: Loss = 49.5010871887207\n",
      "Epoch 3 Iteration 300: Loss = 48.85458755493164\n",
      "Epoch 4 Iteration 0: Loss = 47.882720947265625\n",
      "Epoch 4 Iteration 100: Loss = 47.582420349121094\n",
      "Epoch 4 Iteration 200: Loss = 47.726619720458984\n",
      "Epoch 4 Iteration 300: Loss = 46.630462646484375\n",
      "Epoch 5 Iteration 0: Loss = 46.88328170776367\n",
      "Epoch 5 Iteration 100: Loss = 45.06494140625\n",
      "Epoch 5 Iteration 200: Loss = 46.040931701660156\n",
      "Epoch 5 Iteration 300: Loss = 45.057640075683594\n",
      "Epoch 6 Iteration 0: Loss = 46.9351921081543\n",
      "Epoch 6 Iteration 100: Loss = 44.7392463684082\n",
      "Epoch 6 Iteration 200: Loss = 44.68590545654297\n",
      "Epoch 6 Iteration 300: Loss = 44.76513671875\n",
      "Epoch 7 Iteration 0: Loss = 44.344970703125\n",
      "Epoch 7 Iteration 100: Loss = 43.90015411376953\n",
      "Epoch 7 Iteration 200: Loss = 44.16621398925781\n",
      "Epoch 7 Iteration 300: Loss = 42.874488830566406\n",
      "Epoch 8 Iteration 0: Loss = 44.86660385131836\n",
      "Epoch 8 Iteration 100: Loss = 44.46834182739258\n",
      "Epoch 8 Iteration 200: Loss = 42.63779067993164\n",
      "Epoch 8 Iteration 300: Loss = 42.93170166015625\n",
      "Epoch 9 Iteration 0: Loss = 41.7390022277832\n",
      "Epoch 9 Iteration 100: Loss = 42.75954818725586\n",
      "Epoch 9 Iteration 200: Loss = 40.943450927734375\n",
      "Epoch 9 Iteration 300: Loss = 42.202964782714844\n",
      "Epoch 10 Iteration 0: Loss = 43.11341857910156\n",
      "Epoch 10 Iteration 100: Loss = 42.603538513183594\n",
      "Epoch 10 Iteration 200: Loss = 43.724334716796875\n",
      "Epoch 10 Iteration 300: Loss = 43.88081359863281\n",
      "Computing embeddings...\n"
     ]
    },
    {
     "name": "stderr",
     "output_type": "stream",
     "text": [
      "100%|██████████| 1427/1427 [00:17<00:00, 79.35it/s] \n",
      "100%|██████████| 612/612 [00:11<00:00, 51.80it/s]\n"
     ]
    },
    {
     "name": "stdout",
     "output_type": "stream",
     "text": [
      "Performing GridSearch...\n",
      "Fitting 5 folds for each of 12 candidates, totalling 60 fits\n",
      "Best Params: C=10, gamma=0.01\n",
      "PCA dim =41\n",
      "RESULTS FOR LOSS = [CosFace]\n",
      "              precision    recall  f1-score   support\n",
      "\n",
      "           0       0.83      0.81      0.82      6512\n",
      "           1       0.91      0.92      0.91     13049\n",
      "\n",
      "    accuracy                           0.88     19561\n",
      "   macro avg       0.87      0.86      0.87     19561\n",
      "weighted avg       0.88      0.88      0.88     19561\n",
      "\n",
      "~ Joblib files saved.\n",
      "-------> RUN 1\n",
      "Computing embeddings...\n"
     ]
    },
    {
     "name": "stderr",
     "output_type": "stream",
     "text": [
      "100%|██████████| 1332/1332 [00:17<00:00, 75.73it/s] \n",
      "100%|██████████| 96/96 [00:05<00:00, 16.40it/s]\n"
     ]
    },
    {
     "name": "stdout",
     "output_type": "stream",
     "text": [
      "RESULTS FOR LOSS = [CosFace]\n",
      "              precision    recall  f1-score   support\n",
      "\n",
      "           0       0.87      0.89      0.88      1446\n",
      "           1       0.89      0.88      0.89      1597\n",
      "\n",
      "    accuracy                           0.88      3043\n",
      "   macro avg       0.88      0.88      0.88      3043\n",
      "weighted avg       0.88      0.88      0.88      3043\n",
      "\n",
      "-------> RUN 2\n",
      "Computing embeddings...\n"
     ]
    },
    {
     "name": "stderr",
     "output_type": "stream",
     "text": [
      "100%|██████████| 1332/1332 [00:16<00:00, 80.83it/s] \n",
      "100%|██████████| 96/96 [00:05<00:00, 16.30it/s]\n"
     ]
    },
    {
     "name": "stdout",
     "output_type": "stream",
     "text": [
      "RESULTS FOR LOSS = [CosFace]\n",
      "              precision    recall  f1-score   support\n",
      "\n",
      "           0       0.88      0.87      0.88      1480\n",
      "           1       0.88      0.89      0.89      1563\n",
      "\n",
      "    accuracy                           0.88      3043\n",
      "   macro avg       0.88      0.88      0.88      3043\n",
      "weighted avg       0.88      0.88      0.88      3043\n",
      "\n",
      "-------> RUN 3\n",
      "Computing embeddings...\n"
     ]
    },
    {
     "name": "stderr",
     "output_type": "stream",
     "text": [
      "100%|██████████| 1332/1332 [00:16<00:00, 80.17it/s] \n",
      "100%|██████████| 96/96 [00:05<00:00, 16.36it/s]\n"
     ]
    },
    {
     "name": "stdout",
     "output_type": "stream",
     "text": [
      "RESULTS FOR LOSS = [CosFace]\n",
      "              precision    recall  f1-score   support\n",
      "\n",
      "           0       0.89      0.90      0.89      1448\n",
      "           1       0.91      0.90      0.90      1595\n",
      "\n",
      "    accuracy                           0.90      3043\n",
      "   macro avg       0.90      0.90      0.90      3043\n",
      "weighted avg       0.90      0.90      0.90      3043\n",
      "\n",
      "-------> RUN 4\n",
      "Computing embeddings...\n"
     ]
    },
    {
     "name": "stderr",
     "output_type": "stream",
     "text": [
      "100%|██████████| 1332/1332 [00:16<00:00, 80.30it/s] \n",
      "100%|██████████| 96/96 [00:05<00:00, 16.33it/s]\n"
     ]
    },
    {
     "name": "stdout",
     "output_type": "stream",
     "text": [
      "RESULTS FOR LOSS = [CosFace]\n",
      "              precision    recall  f1-score   support\n",
      "\n",
      "           0       0.88      0.87      0.88      1448\n",
      "           1       0.89      0.89      0.89      1595\n",
      "\n",
      "    accuracy                           0.88      3043\n",
      "   macro avg       0.88      0.88      0.88      3043\n",
      "weighted avg       0.88      0.88      0.88      3043\n",
      "\n",
      "-------> RUN 5\n",
      "Computing embeddings...\n"
     ]
    },
    {
     "name": "stderr",
     "output_type": "stream",
     "text": [
      "100%|██████████| 1332/1332 [00:16<00:00, 81.17it/s] \n",
      "100%|██████████| 96/96 [00:05<00:00, 16.58it/s]\n"
     ]
    },
    {
     "name": "stdout",
     "output_type": "stream",
     "text": [
      "RESULTS FOR LOSS = [CosFace]\n",
      "              precision    recall  f1-score   support\n",
      "\n",
      "           0       0.88      0.86      0.87      1450\n",
      "           1       0.88      0.89      0.88      1593\n",
      "\n",
      "    accuracy                           0.88      3043\n",
      "   macro avg       0.88      0.88      0.88      3043\n",
      "weighted avg       0.88      0.88      0.88      3043\n",
      "\n",
      "-------> RUN 6\n",
      "Computing embeddings...\n"
     ]
    },
    {
     "name": "stderr",
     "output_type": "stream",
     "text": [
      "100%|██████████| 1332/1332 [00:16<00:00, 80.42it/s] \n",
      "100%|██████████| 96/96 [00:05<00:00, 16.24it/s]\n"
     ]
    },
    {
     "name": "stdout",
     "output_type": "stream",
     "text": [
      "RESULTS FOR LOSS = [CosFace]\n",
      "              precision    recall  f1-score   support\n",
      "\n",
      "           0       0.86      0.88      0.87      1443\n",
      "           1       0.89      0.87      0.88      1600\n",
      "\n",
      "    accuracy                           0.88      3043\n",
      "   macro avg       0.88      0.88      0.88      3043\n",
      "weighted avg       0.88      0.88      0.88      3043\n",
      "\n",
      "-------> RUN 7\n",
      "Computing embeddings...\n"
     ]
    },
    {
     "name": "stderr",
     "output_type": "stream",
     "text": [
      "100%|██████████| 1332/1332 [00:16<00:00, 80.78it/s] \n",
      "100%|██████████| 96/96 [00:05<00:00, 16.62it/s]\n"
     ]
    },
    {
     "name": "stdout",
     "output_type": "stream",
     "text": [
      "RESULTS FOR LOSS = [CosFace]\n",
      "              precision    recall  f1-score   support\n",
      "\n",
      "           0       0.89      0.88      0.88      1494\n",
      "           1       0.89      0.89      0.89      1549\n",
      "\n",
      "    accuracy                           0.89      3043\n",
      "   macro avg       0.89      0.89      0.89      3043\n",
      "weighted avg       0.89      0.89      0.89      3043\n",
      "\n",
      "-------> RUN 8\n",
      "Computing embeddings...\n"
     ]
    },
    {
     "name": "stderr",
     "output_type": "stream",
     "text": [
      "100%|██████████| 1332/1332 [00:16<00:00, 80.30it/s] \n",
      "100%|██████████| 96/96 [00:05<00:00, 16.37it/s]\n"
     ]
    },
    {
     "name": "stdout",
     "output_type": "stream",
     "text": [
      "RESULTS FOR LOSS = [CosFace]\n",
      "              precision    recall  f1-score   support\n",
      "\n",
      "           0       0.86      0.88      0.87      1422\n",
      "           1       0.90      0.88      0.89      1621\n",
      "\n",
      "    accuracy                           0.88      3043\n",
      "   macro avg       0.88      0.88      0.88      3043\n",
      "weighted avg       0.88      0.88      0.88      3043\n",
      "\n",
      "-------> RUN 9\n",
      "Computing embeddings...\n"
     ]
    },
    {
     "name": "stderr",
     "output_type": "stream",
     "text": [
      "100%|██████████| 1332/1332 [00:16<00:00, 81.36it/s] \n",
      "100%|██████████| 96/96 [00:05<00:00, 16.62it/s]\n"
     ]
    },
    {
     "name": "stdout",
     "output_type": "stream",
     "text": [
      "RESULTS FOR LOSS = [CosFace]\n",
      "              precision    recall  f1-score   support\n",
      "\n",
      "           0       0.88      0.89      0.89      1457\n",
      "           1       0.90      0.89      0.89      1586\n",
      "\n",
      "    accuracy                           0.89      3043\n",
      "   macro avg       0.89      0.89      0.89      3043\n",
      "weighted avg       0.89      0.89      0.89      3043\n",
      "\n",
      "-------> RUN 10\n",
      "Computing embeddings...\n"
     ]
    },
    {
     "name": "stderr",
     "output_type": "stream",
     "text": [
      "100%|██████████| 1332/1332 [00:16<00:00, 80.23it/s] \n",
      "100%|██████████| 96/96 [00:05<00:00, 16.26it/s]\n"
     ]
    },
    {
     "name": "stdout",
     "output_type": "stream",
     "text": [
      "RESULTS FOR LOSS = [CosFace]\n",
      "              precision    recall  f1-score   support\n",
      "\n",
      "           0       0.86      0.87      0.87      1415\n",
      "           1       0.89      0.88      0.88      1628\n",
      "\n",
      "    accuracy                           0.88      3043\n",
      "   macro avg       0.88      0.88      0.88      3043\n",
      "weighted avg       0.88      0.88      0.88      3043\n",
      "\n",
      "-------> RUN 11\n",
      "Computing embeddings...\n"
     ]
    },
    {
     "name": "stderr",
     "output_type": "stream",
     "text": [
      "100%|██████████| 1332/1332 [00:17<00:00, 77.28it/s] \n",
      "100%|██████████| 96/96 [00:05<00:00, 16.05it/s]\n"
     ]
    },
    {
     "name": "stdout",
     "output_type": "stream",
     "text": [
      "RESULTS FOR LOSS = [CosFace]\n",
      "              precision    recall  f1-score   support\n",
      "\n",
      "           0       0.88      0.87      0.87      1438\n",
      "           1       0.88      0.89      0.89      1605\n",
      "\n",
      "    accuracy                           0.88      3043\n",
      "   macro avg       0.88      0.88      0.88      3043\n",
      "weighted avg       0.88      0.88      0.88      3043\n",
      "\n",
      "-------> RUN 12\n",
      "Computing embeddings...\n"
     ]
    },
    {
     "name": "stderr",
     "output_type": "stream",
     "text": [
      "100%|██████████| 1332/1332 [00:16<00:00, 80.73it/s] \n",
      "100%|██████████| 96/96 [00:05<00:00, 16.23it/s]\n"
     ]
    },
    {
     "name": "stdout",
     "output_type": "stream",
     "text": [
      "RESULTS FOR LOSS = [CosFace]\n",
      "              precision    recall  f1-score   support\n",
      "\n",
      "           0       0.87      0.87      0.87      1436\n",
      "           1       0.88      0.88      0.88      1606\n",
      "\n",
      "    accuracy                           0.88      3042\n",
      "   macro avg       0.88      0.88      0.88      3042\n",
      "weighted avg       0.88      0.88      0.88      3042\n",
      "\n",
      "-------> RUN 13\n",
      "Computing embeddings...\n"
     ]
    },
    {
     "name": "stderr",
     "output_type": "stream",
     "text": [
      "100%|██████████| 1332/1332 [00:23<00:00, 56.39it/s]\n",
      "100%|██████████| 96/96 [00:08<00:00, 11.39it/s]\n"
     ]
    },
    {
     "name": "stdout",
     "output_type": "stream",
     "text": [
      "RESULTS FOR LOSS = [CosFace]\n",
      "              precision    recall  f1-score   support\n",
      "\n",
      "           0       0.86      0.87      0.86      1409\n",
      "           1       0.89      0.88      0.88      1633\n",
      "\n",
      "    accuracy                           0.87      3042\n",
      "   macro avg       0.87      0.87      0.87      3042\n",
      "weighted avg       0.87      0.87      0.87      3042\n",
      "\n",
      "-------> RUN 14\n",
      "Computing embeddings...\n"
     ]
    },
    {
     "name": "stderr",
     "output_type": "stream",
     "text": [
      "100%|██████████| 1332/1332 [00:23<00:00, 57.47it/s]\n",
      "100%|██████████| 96/96 [00:07<00:00, 12.79it/s]\n"
     ]
    },
    {
     "name": "stdout",
     "output_type": "stream",
     "text": [
      "RESULTS FOR LOSS = [CosFace]\n",
      "              precision    recall  f1-score   support\n",
      "\n",
      "           0       0.87      0.87      0.87      1494\n",
      "           1       0.88      0.88      0.88      1548\n",
      "\n",
      "    accuracy                           0.87      3042\n",
      "   macro avg       0.87      0.87      0.87      3042\n",
      "weighted avg       0.87      0.87      0.87      3042\n",
      "\n",
      "-------> RUN 15\n",
      "Computing embeddings...\n"
     ]
    },
    {
     "name": "stderr",
     "output_type": "stream",
     "text": [
      "100%|██████████| 1332/1332 [00:23<00:00, 57.90it/s]\n",
      "100%|██████████| 96/96 [00:08<00:00, 11.03it/s]\n"
     ]
    },
    {
     "name": "stdout",
     "output_type": "stream",
     "text": [
      "RESULTS FOR LOSS = [CosFace]\n",
      "              precision    recall  f1-score   support\n",
      "\n",
      "           0       0.88      0.87      0.88      1454\n",
      "           1       0.89      0.89      0.89      1588\n",
      "\n",
      "    accuracy                           0.88      3042\n",
      "   macro avg       0.88      0.88      0.88      3042\n",
      "weighted avg       0.88      0.88      0.88      3042\n",
      "\n",
      "\n",
      " Loss ===== CosFace\n",
      "Mean Recall (Class 0): 0.8770960191240756\n",
      "Mean Recall (Class 1): 0.8852597675473249\n",
      "Std Recall (Class 0): 0.008805721567241721\n",
      "Std Recall (Class 1): 0.007363161021538951\n",
      "-------------------------------------------------------------------------------\n",
      "----- LOSS FUNCTION FOR THIS ITERATION [MULTISIMILARITY] -------------------------------\n",
      "Epoch 1 Iteration 0: Loss = 2.3319637775421143\n",
      "Epoch 1 Iteration 100: Loss = 2.22542142868042\n",
      "Epoch 1 Iteration 200: Loss = 2.197648286819458\n",
      "Epoch 1 Iteration 300: Loss = 2.2044172286987305\n",
      "Epoch 2 Iteration 0: Loss = 2.2097878456115723\n",
      "Epoch 2 Iteration 100: Loss = 2.199169635772705\n",
      "Epoch 2 Iteration 200: Loss = 2.1890106201171875\n",
      "Epoch 2 Iteration 300: Loss = 2.1940407752990723\n",
      "Epoch 3 Iteration 0: Loss = 2.1830382347106934\n",
      "Epoch 3 Iteration 100: Loss = 2.18778395652771\n",
      "Epoch 3 Iteration 200: Loss = 2.1810758113861084\n",
      "Epoch 3 Iteration 300: Loss = 2.1880884170532227\n",
      "Epoch 4 Iteration 0: Loss = 2.171321392059326\n",
      "Epoch 4 Iteration 100: Loss = 2.1568119525909424\n",
      "Epoch 4 Iteration 200: Loss = 2.2179250717163086\n",
      "Epoch 4 Iteration 300: Loss = 2.1673026084899902\n",
      "Epoch 5 Iteration 0: Loss = 2.199430465698242\n",
      "Epoch 5 Iteration 100: Loss = 2.173814296722412\n",
      "Epoch 5 Iteration 200: Loss = 2.2191145420074463\n",
      "Epoch 5 Iteration 300: Loss = 2.1787424087524414\n",
      "Epoch 6 Iteration 0: Loss = 2.162106513977051\n",
      "Epoch 6 Iteration 100: Loss = 2.198841094970703\n",
      "Epoch 6 Iteration 200: Loss = 2.182037830352783\n",
      "Epoch 6 Iteration 300: Loss = 2.1642088890075684\n",
      "Epoch 7 Iteration 0: Loss = 2.167780876159668\n",
      "Epoch 7 Iteration 100: Loss = 2.1625781059265137\n",
      "Epoch 7 Iteration 200: Loss = 2.1824393272399902\n",
      "Epoch 7 Iteration 300: Loss = 2.1745755672454834\n",
      "Epoch 8 Iteration 0: Loss = 2.201855182647705\n",
      "Epoch 8 Iteration 100: Loss = 2.155463457107544\n",
      "Epoch 8 Iteration 200: Loss = 2.1608004570007324\n",
      "Epoch 8 Iteration 300: Loss = 2.1726465225219727\n",
      "Epoch 9 Iteration 0: Loss = 2.1798458099365234\n",
      "Epoch 9 Iteration 100: Loss = 2.1787524223327637\n",
      "Epoch 9 Iteration 200: Loss = 2.1781997680664062\n",
      "Epoch 9 Iteration 300: Loss = 2.170423984527588\n",
      "Epoch 10 Iteration 0: Loss = 2.1912131309509277\n",
      "Epoch 10 Iteration 100: Loss = 2.1794934272766113\n",
      "Epoch 10 Iteration 200: Loss = 2.183729887008667\n",
      "Epoch 10 Iteration 300: Loss = 2.1977152824401855\n",
      "Computing embeddings...\n"
     ]
    },
    {
     "name": "stderr",
     "output_type": "stream",
     "text": [
      "100%|██████████| 1427/1427 [00:23<00:00, 60.85it/s]\n",
      "100%|██████████| 612/612 [00:14<00:00, 43.11it/s]\n"
     ]
    },
    {
     "name": "stdout",
     "output_type": "stream",
     "text": [
      "Performing GridSearch...\n",
      "Fitting 5 folds for each of 12 candidates, totalling 60 fits\n",
      "Best Params: C=10, gamma=0.01\n",
      "PCA dim =30\n",
      "RESULTS FOR LOSS = [MultiSimilarity]\n",
      "              precision    recall  f1-score   support\n",
      "\n",
      "           0       0.84      0.82      0.83      6512\n",
      "           1       0.91      0.92      0.92     13049\n",
      "\n",
      "    accuracy                           0.89     19561\n",
      "   macro avg       0.87      0.87      0.87     19561\n",
      "weighted avg       0.89      0.89      0.89     19561\n",
      "\n",
      "~ Joblib files saved.\n",
      "-------> RUN 1\n",
      "Computing embeddings...\n"
     ]
    },
    {
     "name": "stderr",
     "output_type": "stream",
     "text": [
      "100%|██████████| 1332/1332 [00:26<00:00, 49.39it/s]\n",
      "100%|██████████| 96/96 [00:06<00:00, 14.84it/s]\n"
     ]
    },
    {
     "name": "stdout",
     "output_type": "stream",
     "text": [
      "RESULTS FOR LOSS = [MultiSimilarity]\n",
      "              precision    recall  f1-score   support\n",
      "\n",
      "           0       0.85      0.92      0.88      1433\n",
      "           1       0.93      0.85      0.89      1610\n",
      "\n",
      "    accuracy                           0.89      3043\n",
      "   macro avg       0.89      0.89      0.89      3043\n",
      "weighted avg       0.89      0.89      0.89      3043\n",
      "\n",
      "-------> RUN 2\n",
      "Computing embeddings...\n"
     ]
    },
    {
     "name": "stderr",
     "output_type": "stream",
     "text": [
      "100%|██████████| 1332/1332 [00:17<00:00, 76.83it/s] \n",
      "100%|██████████| 96/96 [00:05<00:00, 16.48it/s]\n"
     ]
    },
    {
     "name": "stdout",
     "output_type": "stream",
     "text": [
      "RESULTS FOR LOSS = [MultiSimilarity]\n",
      "              precision    recall  f1-score   support\n",
      "\n",
      "           0       0.85      0.92      0.88      1429\n",
      "           1       0.92      0.85      0.89      1614\n",
      "\n",
      "    accuracy                           0.88      3043\n",
      "   macro avg       0.89      0.89      0.88      3043\n",
      "weighted avg       0.89      0.88      0.88      3043\n",
      "\n",
      "-------> RUN 3\n",
      "Computing embeddings...\n"
     ]
    },
    {
     "name": "stderr",
     "output_type": "stream",
     "text": [
      "100%|██████████| 1332/1332 [00:17<00:00, 75.63it/s] \n",
      "100%|██████████| 96/96 [00:05<00:00, 16.50it/s]\n"
     ]
    },
    {
     "name": "stdout",
     "output_type": "stream",
     "text": [
      "RESULTS FOR LOSS = [MultiSimilarity]\n",
      "              precision    recall  f1-score   support\n",
      "\n",
      "           0       0.86      0.92      0.89      1475\n",
      "           1       0.92      0.86      0.89      1568\n",
      "\n",
      "    accuracy                           0.89      3043\n",
      "   macro avg       0.89      0.89      0.89      3043\n",
      "weighted avg       0.89      0.89      0.89      3043\n",
      "\n",
      "-------> RUN 4\n",
      "Computing embeddings...\n"
     ]
    },
    {
     "name": "stderr",
     "output_type": "stream",
     "text": [
      "100%|██████████| 1332/1332 [00:17<00:00, 76.15it/s] \n",
      "100%|██████████| 96/96 [00:05<00:00, 16.58it/s]\n"
     ]
    },
    {
     "name": "stdout",
     "output_type": "stream",
     "text": [
      "RESULTS FOR LOSS = [MultiSimilarity]\n",
      "              precision    recall  f1-score   support\n",
      "\n",
      "           0       0.84      0.93      0.88      1454\n",
      "           1       0.92      0.84      0.88      1589\n",
      "\n",
      "    accuracy                           0.88      3043\n",
      "   macro avg       0.88      0.88      0.88      3043\n",
      "weighted avg       0.89      0.88      0.88      3043\n",
      "\n",
      "-------> RUN 5\n",
      "Computing embeddings...\n"
     ]
    },
    {
     "name": "stderr",
     "output_type": "stream",
     "text": [
      "100%|██████████| 1332/1332 [00:17<00:00, 75.50it/s] \n",
      "100%|██████████| 96/96 [00:05<00:00, 16.29it/s]\n"
     ]
    },
    {
     "name": "stdout",
     "output_type": "stream",
     "text": [
      "RESULTS FOR LOSS = [MultiSimilarity]\n",
      "              precision    recall  f1-score   support\n",
      "\n",
      "           0       0.86      0.93      0.89      1444\n",
      "           1       0.93      0.86      0.89      1599\n",
      "\n",
      "    accuracy                           0.89      3043\n",
      "   macro avg       0.89      0.89      0.89      3043\n",
      "weighted avg       0.90      0.89      0.89      3043\n",
      "\n",
      "-------> RUN 6\n",
      "Computing embeddings...\n"
     ]
    },
    {
     "name": "stderr",
     "output_type": "stream",
     "text": [
      "100%|██████████| 1332/1332 [00:17<00:00, 75.28it/s] \n",
      "100%|██████████| 96/96 [00:05<00:00, 16.70it/s]\n"
     ]
    },
    {
     "name": "stdout",
     "output_type": "stream",
     "text": [
      "RESULTS FOR LOSS = [MultiSimilarity]\n",
      "              precision    recall  f1-score   support\n",
      "\n",
      "           0       0.85      0.92      0.88      1433\n",
      "           1       0.92      0.86      0.89      1610\n",
      "\n",
      "    accuracy                           0.89      3043\n",
      "   macro avg       0.89      0.89      0.89      3043\n",
      "weighted avg       0.89      0.89      0.89      3043\n",
      "\n",
      "-------> RUN 7\n",
      "Computing embeddings...\n"
     ]
    },
    {
     "name": "stderr",
     "output_type": "stream",
     "text": [
      "100%|██████████| 1332/1332 [00:17<00:00, 75.35it/s] \n",
      "100%|██████████| 96/96 [00:05<00:00, 16.72it/s]\n"
     ]
    },
    {
     "name": "stdout",
     "output_type": "stream",
     "text": [
      "RESULTS FOR LOSS = [MultiSimilarity]\n",
      "              precision    recall  f1-score   support\n",
      "\n",
      "           0       0.85      0.92      0.88      1403\n",
      "           1       0.93      0.86      0.89      1640\n",
      "\n",
      "    accuracy                           0.89      3043\n",
      "   macro avg       0.89      0.89      0.89      3043\n",
      "weighted avg       0.89      0.89      0.89      3043\n",
      "\n",
      "-------> RUN 8\n",
      "Computing embeddings...\n"
     ]
    },
    {
     "name": "stderr",
     "output_type": "stream",
     "text": [
      "100%|██████████| 1332/1332 [00:17<00:00, 75.76it/s] \n",
      "100%|██████████| 96/96 [00:05<00:00, 16.53it/s]\n"
     ]
    },
    {
     "name": "stdout",
     "output_type": "stream",
     "text": [
      "RESULTS FOR LOSS = [MultiSimilarity]\n",
      "              precision    recall  f1-score   support\n",
      "\n",
      "           0       0.83      0.93      0.88      1356\n",
      "           1       0.94      0.85      0.89      1687\n",
      "\n",
      "    accuracy                           0.88      3043\n",
      "   macro avg       0.88      0.89      0.88      3043\n",
      "weighted avg       0.89      0.88      0.88      3043\n",
      "\n",
      "-------> RUN 9\n",
      "Computing embeddings...\n"
     ]
    },
    {
     "name": "stderr",
     "output_type": "stream",
     "text": [
      "100%|██████████| 1332/1332 [00:17<00:00, 74.96it/s] \n",
      "100%|██████████| 96/96 [00:05<00:00, 16.51it/s]\n"
     ]
    },
    {
     "name": "stdout",
     "output_type": "stream",
     "text": [
      "RESULTS FOR LOSS = [MultiSimilarity]\n",
      "              precision    recall  f1-score   support\n",
      "\n",
      "           0       0.85      0.92      0.89      1479\n",
      "           1       0.92      0.85      0.88      1564\n",
      "\n",
      "    accuracy                           0.88      3043\n",
      "   macro avg       0.89      0.89      0.88      3043\n",
      "weighted avg       0.89      0.88      0.88      3043\n",
      "\n",
      "-------> RUN 10\n",
      "Computing embeddings...\n"
     ]
    },
    {
     "name": "stderr",
     "output_type": "stream",
     "text": [
      "100%|██████████| 1332/1332 [00:17<00:00, 76.41it/s] \n",
      "100%|██████████| 96/96 [00:05<00:00, 16.64it/s]\n"
     ]
    },
    {
     "name": "stdout",
     "output_type": "stream",
     "text": [
      "RESULTS FOR LOSS = [MultiSimilarity]\n",
      "              precision    recall  f1-score   support\n",
      "\n",
      "           0       0.85      0.93      0.89      1456\n",
      "           1       0.93      0.85      0.89      1587\n",
      "\n",
      "    accuracy                           0.89      3043\n",
      "   macro avg       0.89      0.89      0.89      3043\n",
      "weighted avg       0.89      0.89      0.89      3043\n",
      "\n",
      "-------> RUN 11\n",
      "Computing embeddings...\n"
     ]
    },
    {
     "name": "stderr",
     "output_type": "stream",
     "text": [
      "100%|██████████| 1332/1332 [00:17<00:00, 74.82it/s] \n",
      "100%|██████████| 96/96 [00:05<00:00, 16.51it/s]\n"
     ]
    },
    {
     "name": "stdout",
     "output_type": "stream",
     "text": [
      "RESULTS FOR LOSS = [MultiSimilarity]\n",
      "              precision    recall  f1-score   support\n",
      "\n",
      "           0       0.85      0.93      0.88      1452\n",
      "           1       0.93      0.85      0.89      1591\n",
      "\n",
      "    accuracy                           0.88      3043\n",
      "   macro avg       0.89      0.89      0.88      3043\n",
      "weighted avg       0.89      0.88      0.88      3043\n",
      "\n",
      "-------> RUN 12\n",
      "Computing embeddings...\n"
     ]
    },
    {
     "name": "stderr",
     "output_type": "stream",
     "text": [
      "100%|██████████| 1332/1332 [00:17<00:00, 76.10it/s] \n",
      "100%|██████████| 96/96 [00:05<00:00, 16.54it/s]\n"
     ]
    },
    {
     "name": "stdout",
     "output_type": "stream",
     "text": [
      "RESULTS FOR LOSS = [MultiSimilarity]\n",
      "              precision    recall  f1-score   support\n",
      "\n",
      "           0       0.87      0.93      0.90      1504\n",
      "           1       0.93      0.86      0.89      1538\n",
      "\n",
      "    accuracy                           0.90      3042\n",
      "   macro avg       0.90      0.90      0.90      3042\n",
      "weighted avg       0.90      0.90      0.90      3042\n",
      "\n",
      "-------> RUN 13\n",
      "Computing embeddings...\n"
     ]
    },
    {
     "name": "stderr",
     "output_type": "stream",
     "text": [
      "100%|██████████| 1332/1332 [00:17<00:00, 75.46it/s] \n",
      "100%|██████████| 96/96 [00:05<00:00, 16.35it/s]\n"
     ]
    },
    {
     "name": "stdout",
     "output_type": "stream",
     "text": [
      "RESULTS FOR LOSS = [MultiSimilarity]\n",
      "              precision    recall  f1-score   support\n",
      "\n",
      "           0       0.85      0.92      0.89      1474\n",
      "           1       0.92      0.85      0.88      1568\n",
      "\n",
      "    accuracy                           0.89      3042\n",
      "   macro avg       0.89      0.89      0.89      3042\n",
      "weighted avg       0.89      0.89      0.89      3042\n",
      "\n",
      "-------> RUN 14\n",
      "Computing embeddings...\n"
     ]
    },
    {
     "name": "stderr",
     "output_type": "stream",
     "text": [
      "100%|██████████| 1332/1332 [00:17<00:00, 75.41it/s] \n",
      "100%|██████████| 96/96 [00:05<00:00, 16.56it/s]\n"
     ]
    },
    {
     "name": "stdout",
     "output_type": "stream",
     "text": [
      "RESULTS FOR LOSS = [MultiSimilarity]\n",
      "              precision    recall  f1-score   support\n",
      "\n",
      "           0       0.85      0.93      0.89      1490\n",
      "           1       0.92      0.84      0.88      1552\n",
      "\n",
      "    accuracy                           0.88      3042\n",
      "   macro avg       0.89      0.89      0.88      3042\n",
      "weighted avg       0.89      0.88      0.88      3042\n",
      "\n",
      "-------> RUN 15\n",
      "Computing embeddings...\n"
     ]
    },
    {
     "name": "stderr",
     "output_type": "stream",
     "text": [
      "100%|██████████| 1332/1332 [00:17<00:00, 75.24it/s] \n",
      "100%|██████████| 96/96 [00:05<00:00, 16.53it/s]\n"
     ]
    },
    {
     "name": "stdout",
     "output_type": "stream",
     "text": [
      "RESULTS FOR LOSS = [MultiSimilarity]\n",
      "              precision    recall  f1-score   support\n",
      "\n",
      "           0       0.86      0.92      0.89      1452\n",
      "           1       0.93      0.86      0.89      1590\n",
      "\n",
      "    accuracy                           0.89      3042\n",
      "   macro avg       0.89      0.89      0.89      3042\n",
      "weighted avg       0.89      0.89      0.89      3042\n",
      "\n",
      "\n",
      " Loss ===== MultiSimilarity\n",
      "Mean Recall (Class 0): 0.9249557700281391\n",
      "Mean Recall (Class 1): 0.8535814874200035\n",
      "Std Recall (Class 0): 0.0030220870546439045\n",
      "Std Recall (Class 1): 0.006382162129424425\n"
     ]
    }
   ],
   "source": [
    "x_train, x_test, x_train_loader, x_test_loader, y_true_train, y_true_test = read_data(DPLUS_DATA_DIR, BATCH_SIZE, TRAIN_SIZE)\n",
    "for err in LOSSES:\n",
    "    print('-------------------------------------------------------------------------------')\n",
    "    print(f'----- LOSS FUNCTION FOR THIS ITERATION [{err.upper()}] -------------------------------')\n",
    "    run_full_pipeline('D1', err, x_train, x_test, x_train_loader, y_true_train)"
   ]
  },
  {
   "cell_type": "markdown",
   "metadata": {},
   "source": [
    "## Ensemble"
   ]
  },
  {
   "cell_type": "code",
   "execution_count": 9,
   "metadata": {},
   "outputs": [],
   "source": [
    "######################################## TRIPLET\n",
    "\n",
    "triplet_model = Net(EMBEDDING_SIZE, NET_IMG_SIZE).to(device)\n",
    "triplet_model.load_state_dict(torch.load('./models/v1-ensble_2023-11-23\\model_D1_Triplet_v1-ensble_2023-11-23.pth'))\n",
    "\n",
    "triplet_model.eval()\n",
    "\n",
    "triplet_clf = load('./models/v1-ensble_2023-11-23\\clf_D1_Triplet_v1-ensble_2023-11-23.joblib')\n",
    "triplet_scaler = load('./models/v1-ensble_2023-11-23\\scaler_D1_Triplet_v1-ensble_2023-11-23.joblib')\n",
    "triplet_pca = load('./models/v1-ensble_2023-11-23\\pca_D1_Triplet_v1-ensble_2023-11-23.joblib')\n",
    "######################################## COSFACE\n",
    "\n",
    "cosface_model = Net(EMBEDDING_SIZE, NET_IMG_SIZE).to(device)\n",
    "cosface_model.load_state_dict(torch.load('./models/v1-ensble_2023-11-23\\model_D1_CosFace_v1-ensble_2023-11-23.pth'))\n",
    "\n",
    "cosface_model.eval()\n",
    "\n",
    "cosface_clf = load('./models/v1-ensble_2023-11-23\\clf_D1_CosFace_v1-ensble_2023-11-23.joblib')\n",
    "cosface_scaler = load('./models/v1-ensble_2023-11-23\\scaler_D1_CosFace_v1-ensble_2023-11-23.joblib')\n",
    "cosface_pca = load('./models/v1-ensble_2023-11-23\\pca_D1_CosFace_v1-ensble_2023-11-23.joblib')\n",
    "######################################## NPAIRS\n",
    "# recall 60/64, pca dim 3\n",
    "\n",
    "npairs_model = Net(EMBEDDING_SIZE, NET_IMG_SIZE).to(device)\n",
    "npairs_model.load_state_dict(torch.load('./models/v1-ensble_2023-11-23\\model_D1_NPairs_v1-ensble_2023-11-23.pth'))\n",
    "\n",
    "npairs_model.eval()\n",
    "\n",
    "npairs_clf = load('./models/v1-ensble_2023-11-23\\clf_D1_NPairs_v1-ensble_2023-11-23.joblib')\n",
    "npairs_scaler = load('./models/v1-ensble_2023-11-23\\scaler_D1_NPairs_v1-ensble_2023-11-23.joblib')\n",
    "npairs_pca = load('./models/v1-ensble_2023-11-23\\pca_D1_NPairs_v1-ensble_2023-11-23.joblib')\n",
    "######################################## MULTISIMILARITY\n",
    "# recall 88/93, pca dim 22\n",
    "\n",
    "multisim_model = Net(EMBEDDING_SIZE, NET_IMG_SIZE).to(device)\n",
    "multisim_model.load_state_dict(torch.load('./models/v1-ensble_2023-11-23\\model_D1_MultiSimilarity_v1-ensble_2023-11-23.pth'))\n",
    "\n",
    "multisim_model.eval()\n",
    "\n",
    "multisim_clf = load('./models/v1-ensble_2023-11-23\\clf_D1_MultiSimilarity_v1-ensble_2023-11-23.joblib')\n",
    "multisim_scaler = load('./models/v1-ensble_2023-11-23\\scaler_D1_MultiSimilarity_v1-ensble_2023-11-23.joblib')\n",
    "multisim_pca = load('./models/v1-ensble_2023-11-23\\pca_D1_MultiSimilarity_v1-ensble_2023-11-23.joblib')"
   ]
  },
  {
   "cell_type": "code",
   "execution_count": 13,
   "metadata": {},
   "outputs": [
    {
     "name": "stderr",
     "output_type": "stream",
     "text": [
      "100%|██████████| 612/612 [00:17<00:00, 35.34it/s]\n",
      "100%|██████████| 612/612 [00:14<00:00, 41.94it/s]\n",
      "100%|██████████| 612/612 [00:13<00:00, 44.22it/s]\n",
      "100%|██████████| 612/612 [00:14<00:00, 42.10it/s]\n"
     ]
    },
    {
     "data": {
      "text/plain": [
       "{'triplet': array([1, 1, 0, ..., 1, 1, 1], dtype=int64),\n",
       " 'cosface': array([1, 0, 0, ..., 1, 1, 0], dtype=int64),\n",
       " 'multisim': array([1, 1, 0, ..., 1, 1, 1], dtype=int64),\n",
       " 'npairs': array([1, 1, 1, ..., 1, 1, 1], dtype=int64)}"
      ]
     },
     "execution_count": 13,
     "metadata": {},
     "output_type": "execute_result"
    }
   ],
   "source": [
    "classifiers = [triplet_clf, cosface_clf, multisim_clf, npairs_clf]\n",
    "scalers = [triplet_scaler, cosface_scaler, multisim_scaler, npairs_scaler]\n",
    "pcas = [triplet_pca, cosface_pca, multisim_pca, npairs_pca]\n",
    "models = [triplet_model, cosface_model, multisim_model, npairs_model]\n",
    "model_str = ['triplet', 'cosface', 'multisim', 'npairs']\n",
    "\n",
    "all_models_predictions = ensemble_methods.get_predictions(x_test, models, classifiers, scalers, pcas)\n",
    "all_models_predictions = dict(zip(model_str, all_models_predictions))\n",
    "all_models_predictions"
   ]
  },
  {
   "cell_type": "markdown",
   "metadata": {},
   "source": [
    "Majority voting"
   ]
  },
  {
   "cell_type": "code",
   "execution_count": 17,
   "metadata": {},
   "outputs": [
    {
     "name": "stdout",
     "output_type": "stream",
     "text": [
      "RESULT MAJORITY VOTING [('triplet', 'cosface', 'multisim')]\n",
      "              precision    recall  f1-score   support\n",
      "\n",
      "       Leish       0.86      0.84      0.85      6512\n",
      "    No Leish       0.92      0.93      0.93     13049\n",
      "\n",
      "    accuracy                           0.90     19561\n",
      "   macro avg       0.89      0.89      0.89     19561\n",
      "weighted avg       0.90      0.90      0.90     19561\n",
      "\n",
      "RESULT MAJORITY VOTING [('triplet', 'cosface', 'npairs')]\n",
      "              precision    recall  f1-score   support\n",
      "\n",
      "       Leish       0.87      0.78      0.82      6512\n",
      "    No Leish       0.90      0.94      0.92     13049\n",
      "\n",
      "    accuracy                           0.89     19561\n",
      "   macro avg       0.88      0.86      0.87     19561\n",
      "weighted avg       0.89      0.89      0.89     19561\n",
      "\n",
      "RESULT MAJORITY VOTING [('triplet', 'multisim', 'npairs')]\n",
      "              precision    recall  f1-score   support\n",
      "\n",
      "       Leish       0.85      0.81      0.83      6512\n",
      "    No Leish       0.91      0.93      0.92     13049\n",
      "\n",
      "    accuracy                           0.89     19561\n",
      "   macro avg       0.88      0.87      0.87     19561\n",
      "weighted avg       0.89      0.89      0.89     19561\n",
      "\n",
      "RESULT MAJORITY VOTING [('cosface', 'multisim', 'npairs')]\n",
      "              precision    recall  f1-score   support\n",
      "\n",
      "       Leish       0.86      0.78      0.82      6512\n",
      "    No Leish       0.89      0.94      0.92     13049\n",
      "\n",
      "    accuracy                           0.89     19561\n",
      "   macro avg       0.88      0.86      0.87     19561\n",
      "weighted avg       0.88      0.89      0.88     19561\n",
      "\n"
     ]
    }
   ],
   "source": [
    "combs_k3 = list(combinations(all_models_predictions.items(), 3))\n",
    "\n",
    "for comb in combs_k3:\n",
    "    models_str, preds = zip(*comb)\n",
    "    majority_pred = ensemble_methods.majority_voting(preds)\n",
    "\n",
    "    print(f'RESULT MAJORITY VOTING [{models_str}]')\n",
    "    print(classification_report(y_true_test, majority_pred, target_names=['Leish', 'No Leish']))"
   ]
  },
  {
   "cell_type": "markdown",
   "metadata": {},
   "source": [
    "Weighted Voting"
   ]
  },
  {
   "cell_type": "code",
   "execution_count": 15,
   "metadata": {},
   "outputs": [
    {
     "name": "stdout",
     "output_type": "stream",
     "text": [
      "RESULT WEIGHTED VOTING [('triplet', 'cosface')] / weights [0.4, 0.6]\n",
      "              precision    recall  f1-score   support\n",
      "\n",
      "       Leish       0.83      0.81      0.82      6512\n",
      "    No Leish       0.91      0.92      0.91     13049\n",
      "\n",
      "    accuracy                           0.88     19561\n",
      "   macro avg       0.87      0.86      0.87     19561\n",
      "weighted avg       0.88      0.88      0.88     19561\n",
      "\n",
      "RESULT WEIGHTED VOTING [('triplet', 'cosface')] / weights [0.6, 0.4]\n",
      "              precision    recall  f1-score   support\n",
      "\n",
      "       Leish       0.84      0.83      0.84      6512\n",
      "    No Leish       0.92      0.92      0.92     13049\n",
      "\n",
      "    accuracy                           0.89     19561\n",
      "   macro avg       0.88      0.88      0.88     19561\n",
      "weighted avg       0.89      0.89      0.89     19561\n",
      "\n",
      "RESULT WEIGHTED VOTING [('triplet', 'multisim')] / weights [0.6, 0.4]\n",
      "              precision    recall  f1-score   support\n",
      "\n",
      "       Leish       0.84      0.83      0.84      6512\n",
      "    No Leish       0.92      0.92      0.92     13049\n",
      "\n",
      "    accuracy                           0.89     19561\n",
      "   macro avg       0.88      0.88      0.88     19561\n",
      "weighted avg       0.89      0.89      0.89     19561\n",
      "\n",
      "RESULT WEIGHTED VOTING [('triplet', 'multisim')] / weights [0.4, 0.6]\n",
      "              precision    recall  f1-score   support\n",
      "\n",
      "       Leish       0.84      0.82      0.83      6512\n",
      "    No Leish       0.91      0.92      0.92     13049\n",
      "\n",
      "    accuracy                           0.89     19561\n",
      "   macro avg       0.87      0.87      0.87     19561\n",
      "weighted avg       0.89      0.89      0.89     19561\n",
      "\n",
      "RESULT WEIGHTED VOTING [('triplet', 'npairs')] / weights [0.4, 0.6]\n",
      "              precision    recall  f1-score   support\n",
      "\n",
      "       Leish       0.45      0.34      0.39      6512\n",
      "    No Leish       0.71      0.79      0.75     13049\n",
      "\n",
      "    accuracy                           0.64     19561\n",
      "   macro avg       0.58      0.57      0.57     19561\n",
      "weighted avg       0.62      0.64      0.63     19561\n",
      "\n",
      "RESULT WEIGHTED VOTING [('triplet', 'npairs')] / weights [0.6, 0.4]\n",
      "              precision    recall  f1-score   support\n",
      "\n",
      "       Leish       0.84      0.83      0.84      6512\n",
      "    No Leish       0.92      0.92      0.92     13049\n",
      "\n",
      "    accuracy                           0.89     19561\n",
      "   macro avg       0.88      0.88      0.88     19561\n",
      "weighted avg       0.89      0.89      0.89     19561\n",
      "\n",
      "RESULT WEIGHTED VOTING [('cosface', 'multisim')] / weights [0.6, 0.4]\n",
      "              precision    recall  f1-score   support\n",
      "\n",
      "       Leish       0.83      0.81      0.82      6512\n",
      "    No Leish       0.91      0.92      0.91     13049\n",
      "\n",
      "    accuracy                           0.88     19561\n",
      "   macro avg       0.87      0.86      0.87     19561\n",
      "weighted avg       0.88      0.88      0.88     19561\n",
      "\n",
      "RESULT WEIGHTED VOTING [('cosface', 'multisim')] / weights [0.4, 0.6]\n",
      "              precision    recall  f1-score   support\n",
      "\n",
      "       Leish       0.84      0.82      0.83      6512\n",
      "    No Leish       0.91      0.92      0.92     13049\n",
      "\n",
      "    accuracy                           0.89     19561\n",
      "   macro avg       0.87      0.87      0.87     19561\n",
      "weighted avg       0.89      0.89      0.89     19561\n",
      "\n",
      "RESULT WEIGHTED VOTING [('cosface', 'npairs')] / weights [0.4, 0.6]\n",
      "              precision    recall  f1-score   support\n",
      "\n",
      "       Leish       0.45      0.34      0.39      6512\n",
      "    No Leish       0.71      0.79      0.75     13049\n",
      "\n",
      "    accuracy                           0.64     19561\n",
      "   macro avg       0.58      0.57      0.57     19561\n",
      "weighted avg       0.62      0.64      0.63     19561\n",
      "\n",
      "RESULT WEIGHTED VOTING [('cosface', 'npairs')] / weights [0.6, 0.4]\n",
      "              precision    recall  f1-score   support\n",
      "\n",
      "       Leish       0.83      0.81      0.82      6512\n",
      "    No Leish       0.91      0.92      0.91     13049\n",
      "\n",
      "    accuracy                           0.88     19561\n",
      "   macro avg       0.87      0.86      0.87     19561\n",
      "weighted avg       0.88      0.88      0.88     19561\n",
      "\n",
      "RESULT WEIGHTED VOTING [('multisim', 'npairs')] / weights [0.6, 0.4]\n",
      "              precision    recall  f1-score   support\n",
      "\n",
      "       Leish       0.84      0.82      0.83      6512\n",
      "    No Leish       0.91      0.92      0.92     13049\n",
      "\n",
      "    accuracy                           0.89     19561\n",
      "   macro avg       0.87      0.87      0.87     19561\n",
      "weighted avg       0.89      0.89      0.89     19561\n",
      "\n",
      "RESULT WEIGHTED VOTING [('multisim', 'npairs')] / weights [0.4, 0.6]\n",
      "              precision    recall  f1-score   support\n",
      "\n",
      "       Leish       0.45      0.34      0.39      6512\n",
      "    No Leish       0.71      0.79      0.75     13049\n",
      "\n",
      "    accuracy                           0.64     19561\n",
      "   macro avg       0.58      0.57      0.57     19561\n",
      "weighted avg       0.62      0.64      0.63     19561\n",
      "\n"
     ]
    }
   ],
   "source": [
    "combs_k2 = list(combinations(all_models_predictions.items(), 2))\n",
    "weights = [0.4, 0.6]\n",
    "\n",
    "for comb in combs_k2:\n",
    "    models_str, preds = zip(*comb)\n",
    "    weighted_pred_w1 = ensemble_methods.weighted_voting(preds, weights)\n",
    "    print(f'RESULT WEIGHTED VOTING [{models_str}] / weights {weights}')\n",
    "    print(classification_report(y_true_test, weighted_pred_w1, target_names=['Leish', 'No Leish']))\n",
    "\n",
    "    weights.reverse()\n",
    "    weighted_pred_w2 = ensemble_methods.weighted_voting(preds, weights)\n",
    "\n",
    "    print(f'RESULT WEIGHTED VOTING [{models_str}] / weights {weights}')\n",
    "    print(classification_report(y_true_test, weighted_pred_w2, target_names=['Leish', 'No Leish']))"
   ]
  },
  {
   "cell_type": "markdown",
   "metadata": {},
   "source": [
    "Stacking"
   ]
  },
  {
   "cell_type": "code",
   "execution_count": 16,
   "metadata": {},
   "outputs": [
    {
     "name": "stderr",
     "output_type": "stream",
     "text": [
      "100%|██████████| 1427/1427 [00:29<00:00, 48.28it/s]\n",
      "100%|██████████| 1427/1427 [00:23<00:00, 59.63it/s]\n",
      "100%|██████████| 1427/1427 [00:25<00:00, 56.54it/s]\n",
      "100%|██████████| 1427/1427 [00:24<00:00, 59.20it/s]\n",
      "100%|██████████| 612/612 [00:14<00:00, 41.50it/s]\n",
      "100%|██████████| 612/612 [00:14<00:00, 43.42it/s]\n",
      "100%|██████████| 612/612 [00:14<00:00, 43.41it/s]\n",
      "100%|██████████| 612/612 [00:14<00:00, 42.10it/s]\n"
     ]
    },
    {
     "name": "stdout",
     "output_type": "stream",
     "text": [
      "RESULT STACKING [All models] / meta-clf LogisticRegression\n",
      "              precision    recall  f1-score   support\n",
      "\n",
      "       Leish       0.83      0.81      0.82      6512\n",
      "    No Leish       0.91      0.92      0.91     13049\n",
      "\n",
      "    accuracy                           0.88     19561\n",
      "   macro avg       0.87      0.86      0.87     19561\n",
      "weighted avg       0.88      0.88      0.88     19561\n",
      "\n"
     ]
    }
   ],
   "source": [
    "meta_clf = ensemble_methods.stacking_ensemble(models, classifiers, scalers, pcas, x_train, y_true_train)\n",
    "test_predictions = ensemble_methods.get_predictions(x_test, models, classifiers, scalers, pcas)\n",
    "stacked_test_features = np.column_stack(test_predictions)\n",
    "final_predictions = meta_clf.predict(stacked_test_features)\n",
    "\n",
    "print(f'RESULT STACKING [All models] / meta-clf LogisticRegression')\n",
    "print(classification_report(y_true_test, final_predictions, target_names=['Leish', 'No Leish']))"
   ]
  }
 ],
 "metadata": {
  "kernelspec": {
   "display_name": "tf_GPU",
   "language": "python",
   "name": "python3"
  },
  "language_info": {
   "codemirror_mode": {
    "name": "ipython",
    "version": 3
   },
   "file_extension": ".py",
   "mimetype": "text/x-python",
   "name": "python",
   "nbconvert_exporter": "python",
   "pygments_lexer": "ipython3",
   "version": "3.9.18"
  }
 },
 "nbformat": 4,
 "nbformat_minor": 2
}
