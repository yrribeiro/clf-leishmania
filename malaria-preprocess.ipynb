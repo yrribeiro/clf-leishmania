{
 "cells": [
  {
   "cell_type": "code",
   "execution_count": 1,
   "metadata": {},
   "outputs": [],
   "source": [
    "import math\n",
    "from pathlib import Path\n",
    "import cv2\n",
    "from PIL import Image\n",
    "from PIL.ImageEnhance import Contrast\n",
    "import numpy as np\n",
    "import os\n",
    "from tqdm import tqdm\n",
    "\n",
    "import cv2\n",
    "import numpy as np\n",
    "from skimage.measure import regionprops\n",
    "\n",
    "SRC_FOLDER = Path('./ThickBloodSmears_150/')\n",
    "DST_FOLDER = Path('./preprocessed_images/')\n",
    "GT_FOLDER = Path('./ThickBloodSmears_150/GT_updated/')\n",
    "BINMASK_FOLDER = Path('./preprocessed_images/masks/')\n",
    "LEISH_OUTPUT_PATH = './patches/leish/'\n",
    "NO_LEISH_OUTPUT_PATH = './patches/no-leish/'\n",
    "\n",
    "WITH_LEISH_STRIDE = 12\n",
    "NO_LEISH_STRIDE = 96\n",
    "ALPHA = 0.20\n",
    "WINDOW_SIZE = 96\n",
    "\n",
    "MIN_RADIUS = 1350 # distance from roi center to right border; obtained by manual measurement of one image example\n",
    "CONTRAST_FACTOR = 1.5"
   ]
  },
  {
   "cell_type": "markdown",
   "metadata": {},
   "source": [
    "# ROI Crop, Binary Masks with Parasite-only locations and Contrast Enhancement"
   ]
  },
  {
   "cell_type": "code",
   "execution_count": 4,
   "metadata": {},
   "outputs": [],
   "source": [
    "def create_binary_mask(image_shape, annotations):\n",
    "    mask = np.zeros(image_shape, dtype=np.uint8)\n",
    "    for annotation in annotations:\n",
    "        x, y = int(float(annotation[5])), int(float(annotation[6]))\n",
    "        if annotation[3] == \"Circle\":\n",
    "            radius = int(np.sqrt((x - int(float(annotation[7])))**2 + (y - int(float(annotation[8])))**2))\n",
    "            cv2.circle(mask, (x, y), radius, 255, -1)\n",
    "        elif annotation[3] == \"Point\":\n",
    "            mask[y, x] = 255\n",
    "    return mask"
   ]
  },
  {
   "cell_type": "code",
   "execution_count": 90,
   "metadata": {},
   "outputs": [
    {
     "name": "stdout",
     "output_type": "stream",
     "text": [
      "No annotation file found for ThickBloodSmears_150\\GT_updated\\TF108_256\\20170830_153525.txt.\n",
      "No annotation file found for ThickBloodSmears_150\\GT_updated\\TF108_256\\20170830_160538.txt.\n",
      "No annotation file found for ThickBloodSmears_150\\GT_updated\\TF10_C65P26\\20170612_145535.txt.\n",
      "No annotation file found for ThickBloodSmears_150\\GT_updated\\TF112_CJ10\\20170830_203623.txt.\n",
      "No annotation file found for ThickBloodSmears_150\\GT_updated\\TF114_SC518\\20170830_220137.txt.\n",
      "No annotation file found for ThickBloodSmears_150\\GT_updated\\TF125_S537\\20170831_141701.txt.\n",
      "No annotation file found for ThickBloodSmears_150\\GT_updated\\TF130_S521\\20170831_170959.txt.\n",
      "No annotation file found for ThickBloodSmears_150\\GT_updated\\TF133_SW322\\20170831_182142.txt.\n",
      "No annotation file found for ThickBloodSmears_150\\GT_updated\\TF134_US28\\20170831_202341.txt.\n",
      "No annotation file found for ThickBloodSmears_150\\GT_updated\\TF134_US28\\20170831_202628.txt.\n",
      "No annotation file found for ThickBloodSmears_150\\GT_updated\\TF141_CT12\\20170901_001116.txt.\n",
      "No annotation file found for ThickBloodSmears_150\\GT_updated\\TF146_CT12\\20170901_014722.txt.\n",
      "No annotation file found for ThickBloodSmears_150\\GT_updated\\TF147_R3\\20170901_020754.txt.\n",
      "No annotation file found for ThickBloodSmears_150\\GT_updated\\TF147_R3\\20170901_020841.txt.\n",
      "No circles found, thus, no saving. Stopped at ThickBloodSmears_150\\TF27_W14B8A\\20170724_115156.jpg\n",
      "No annotation file found for ThickBloodSmears_150\\GT_updated\\TF30_W13B1\\20170724_150834.txt.\n",
      "No annotation file found for ThickBloodSmears_150\\GT_updated\\TF30_W13B1\\20170724_151053.txt.\n",
      "No annotation file found for ThickBloodSmears_150\\GT_updated\\TF30_W13B1\\20170724_151215.txt.\n",
      "No annotation file found for ThickBloodSmears_150\\GT_updated\\TF33_Sc570\\20170725_144851.txt.\n",
      "No annotation file found for ThickBloodSmears_150\\GT_updated\\TF34_Sc520\\20170725_153631.txt.\n",
      "No annotation file found for ThickBloodSmears_150\\GT_updated\\TF34_Sc520\\20170725_153729.txt.\n",
      "No annotation file found for ThickBloodSmears_150\\GT_updated\\TF36_Sc542\\20170725_214639.txt.\n",
      "No annotation file found for ThickBloodSmears_150\\GT_updated\\TF36_Sc542\\20170725_214809.txt.\n",
      "No annotation file found for ThickBloodSmears_150\\GT_updated\\TF38_CT1\\20170727_150804.txt.\n",
      "No annotation file found for ThickBloodSmears_150\\GT_updated\\TF41_UT5\\20170728_172402.txt.\n",
      "No annotation file found for ThickBloodSmears_150\\GT_updated\\TF43_UW2\\20170807_145932.txt.\n",
      "No annotation file found for ThickBloodSmears_150\\GT_updated\\TF45_UW18\\20170807_162354_0.txt.\n",
      "No annotation file found for ThickBloodSmears_150\\GT_updated\\TF45_UW18\\20170807_162706.txt.\n",
      "No circles found, thus, no saving. Stopped at ThickBloodSmears_150\\TF48_UW31\\20170811_153810.jpg\n",
      "No annotation file found for ThickBloodSmears_150\\GT_updated\\TF48_UW31\\20170811_155235.txt.\n",
      "No annotation file found for ThickBloodSmears_150\\GT_updated\\TF48_UW31\\20170811_155540.txt.\n",
      "No annotation file found for ThickBloodSmears_150\\GT_updated\\TF48_UW31\\20170811_155904.txt.\n",
      "No annotation file found for ThickBloodSmears_150\\GT_updated\\TF50_CW22\\20170812_110408.txt.\n",
      "No annotation file found for ThickBloodSmears_150\\GT_updated\\TF52_CW36\\20170812_115556.txt.\n",
      "No annotation file found for ThickBloodSmears_150\\GT_updated\\TF55_CV4\\20170812_183229.txt.\n",
      "No annotation file found for ThickBloodSmears_150\\GT_updated\\TF57_CV11\\20170813_113435.txt.\n",
      "No annotation file found for ThickBloodSmears_150\\GT_updated\\TF58_UT8\\20170813_221854.txt.\n",
      "No annotation file found for ThickBloodSmears_150\\GT_updated\\TF60_15_18\\20170816_094149.txt.\n",
      "No annotation file found for ThickBloodSmears_150\\GT_updated\\TF60_15_18\\20170816_095828.txt.\n",
      "No annotation file found for ThickBloodSmears_150\\GT_updated\\TF60_15_18\\20170816_100015.txt.\n",
      "No annotation file found for ThickBloodSmears_150\\GT_updated\\TF64_US2\\20170817_114443.txt.\n",
      "No annotation file found for ThickBloodSmears_150\\GT_updated\\TF64_US2\\20170817_114551.txt.\n",
      "No annotation file found for ThickBloodSmears_150\\GT_updated\\TF68_TS4\\20170817_165006.txt.\n",
      "No circles found, thus, no saving. Stopped at ThickBloodSmears_150\\TF71_Scr559\\20170818_092825.jpg\n",
      "No annotation file found for ThickBloodSmears_150\\GT_updated\\TF73_Scr538\\20170818_141430.txt.\n",
      "No annotation file found for ThickBloodSmears_150\\GT_updated\\TF81_W8B5\\20170819_150706.txt.\n",
      "No annotation file found for ThickBloodSmears_150\\GT_updated\\TF81_W8B5\\20170819_160511.txt.\n",
      "No circles found, thus, no saving. Stopped at ThickBloodSmears_150\\TF82_15_1_9\\20170819_165435.jpg\n",
      "No circles found, thus, no saving. Stopped at ThickBloodSmears_150\\TF82_15_1_9\\20170819_165701.jpg\n",
      "No annotation file found for ThickBloodSmears_150\\GT_updated\\TF84_BD2_96\\20170820_113218.txt.\n",
      "No annotation file found for ThickBloodSmears_150\\GT_updated\\TF85_BD2_94\\20170820_120218.txt.\n",
      "No annotation file found for ThickBloodSmears_150\\GT_updated\\TF85_BD2_94\\20170820_120935.txt.\n",
      "No annotation file found for ThickBloodSmears_150\\GT_updated\\TF89_CM5\\20170820_164626.txt.\n",
      "No annotation file found for ThickBloodSmears_150\\GT_updated\\TF89_CM5\\20170820_170508.txt.\n",
      "No annotation file found for ThickBloodSmears_150\\GT_updated\\TF93_209\\20170829_153212.txt.\n",
      "No annotation file found for ThickBloodSmears_150\\GT_updated\\TF95_223\\20170829_163837.txt.\n",
      "No annotation file found for ThickBloodSmears_150\\GT_updated\\TF97_CS31\\20170829_172907.txt.\n",
      "No annotation file found for ThickBloodSmears_150\\GT_updated\\TF98_CT12\\20170829_202132.txt.\n"
     ]
    }
   ],
   "source": [
    "# preprocess step 1: Binary masks creation\n",
    "# first line, 3 integers: total number of parasites and white blood cells in the image\n",
    "#                         Second number is the image height\n",
    "#                         Third number is the image width\n",
    "# preprocess step 2: Hough Circles and Contrast Enhancement\n",
    "\n",
    "def draw_parasite_bin_mask(h, w, annotations):\n",
    "    bin_mask = np.zeros((h, w), dtype=np.uint8)\n",
    "    parasite_count = 0\n",
    "\n",
    "    for annotation in annotations:\n",
    "        if annotation[1] == 'Parasite':\n",
    "            parasite_count += 1\n",
    "            x, y = int(float(annotation[5])), int(float(annotation[6])) # x, y coords\n",
    "            if annotation[3] == 'Circle':\n",
    "                radius = int(np.sqrt((x - int(float(annotation[7])))**2 + (y - int(float(annotation[8])))**2))\n",
    "                cv2.circle(bin_mask, (x, y), radius, 255, -1)\n",
    "            elif annotation[3] == 'Point':\n",
    "                bin_mask[x, y] = 255\n",
    "\n",
    "    return bin_mask, parasite_count\n",
    "\n",
    "total_parasites = 0\n",
    "for folder in SRC_FOLDER.iterdir():\n",
    "    if not folder.name.endswith(('GT_updated', '.docx')): # only folders with patient prefix\n",
    "        for image_file in folder.glob('*.JPG'): # image names\n",
    "            patient_prefix = folder.name\n",
    "\n",
    "            gt_file = GT_FOLDER / patient_prefix / (image_file.stem + '.txt')\n",
    "\n",
    "            if gt_file.exists():\n",
    "\n",
    "                with open(gt_file, 'r') as f:\n",
    "                    lines = f.readlines()\n",
    "                    _, image_height, image_width = map(int, lines[0].strip().split(','))\n",
    "                    annotations = [line.strip().split(',') for line in lines[1:]]\n",
    "\n",
    "                image = cv2.imread(str(image_file))\n",
    "                gray = cv2.cvtColor(image, cv2.COLOR_BGR2GRAY)\n",
    "                image_bin_mask, parasite_count = draw_parasite_bin_mask(image_height, image_width, annotations)\n",
    "                total_parasites += parasite_count\n",
    "                circles = cv2.HoughCircles(gray, cv2.HOUGH_GRADIENT, dp=1, minDist=50,\n",
    "                            param1=200, param2=30, minRadius=MIN_RADIUS, maxRadius=0)\n",
    "\n",
    "                if circles is not None:\n",
    "                    min_radius = math.inf\n",
    "                    min_circle = None\n",
    "                    circles = np.round(circles[0, :]).astype(\"int\")\n",
    "                    for (x, y, r) in circles:\n",
    "                        if r < min_radius:\n",
    "                            min_radius = r\n",
    "                            min_circle = (x, y, r)\n",
    "\n",
    "                    if min_circle is not None:\n",
    "                        (x, y, r) = min_circle\n",
    "\n",
    "                        mask = np.zeros_like(gray)\n",
    "                        cv2.circle(mask, (x, y), r, 255, -1)\n",
    "                        (x, y, w, h) = cv2.boundingRect(mask)\n",
    "                        roi = image[y:y+h, x:x+w]\n",
    "                        cropped_mask = image_bin_mask[y:y+h, x:x+w]\n",
    "\n",
    "                        img_pil = Image.fromarray(cv2.cvtColor(roi, cv2.COLOR_BGR2RGB))\n",
    "                        contrast = Contrast(img_pil)\n",
    "                        img_enhanced = contrast.enhance(CONTRAST_FACTOR)\n",
    "\n",
    "                    out_filename = f\"{patient_prefix}-{image_file.name}\"\n",
    "                    img_enhanced.save(DST_FOLDER / out_filename)\n",
    "                    cv2.imwrite(str(BINMASK_FOLDER / out_filename), cropped_mask)\n",
    "                else:\n",
    "                    print(f'No circles found, thus, no saving. Stopped at {image_file}')\n",
    "            else:\n",
    "                print(f'No annotation file found for {gt_file}.')\n"
   ]
  },
  {
   "cell_type": "code",
   "execution_count": 86,
   "metadata": {},
   "outputs": [
    {
     "name": "stdout",
     "output_type": "stream",
     "text": [
      "Total number of annotated objects = 119981\n"
     ]
    }
   ],
   "source": [
    "print(f'Total number of annotated parasites = {total_parasites}')"
   ]
  },
  {
   "cell_type": "code",
   "execution_count": 91,
   "metadata": {},
   "outputs": [
    {
     "name": "stdout",
     "output_type": "stream",
     "text": [
      "Total number of annotated parasites = 84509\n"
     ]
    }
   ],
   "source": [
    "print(f'Total number of annotated parasites = {total_parasites}')"
   ]
  },
  {
   "cell_type": "markdown",
   "metadata": {},
   "source": [
    "# Patching"
   ]
  },
  {
   "cell_type": "code",
   "execution_count": 118,
   "metadata": {},
   "outputs": [],
   "source": [
    "def is_alpha(mask_patch, tot_img_area):\n",
    "    \"\"\"\n",
    "    Determines if the Leishmania area in a given mask patch exceeds a certain threshold.\n",
    "\n",
    "    Parameters:\n",
    "    - mask_patch (np.array): The patch of the mask image.\n",
    "    - tot_img_area (int): Total area of the image patch.\n",
    "\n",
    "    Returns:\n",
    "    bool: True if the area of Leishmania in the mask patch is greater than or equal to the specified threshold, False otherwise.\n",
    "    \"\"\"\n",
    "    leish_area = regionprops(mask_patch)[0].area\n",
    "    return (leish_area/tot_img_area) >= ALPHA\n",
    "\n",
    "def crop(img, mask, img_id, WITH_LEISH_STRIDE, NO_LEISH_STRIDE):\n",
    "    \"\"\"\n",
    "    Crops an image and its corresponding mask into smaller patches and saves the patches with sufficient Leishmania area.\n",
    "\n",
    "    Parameters:\n",
    "    - img (np.array): The image to be cropped.\n",
    "    - mask (np.array): The corresponding mask image.\n",
    "    - img_id (str): Identifier of the image.\n",
    "    - WITH_LEISH_STRIDE (int): The stride to use for cropping when Leishmania is present.\n",
    "    - NO_LEISH_STRIDE (int): The stride to use for cropping when Leishmania is not present.\n",
    "\n",
    "    Returns:\n",
    "    None\n",
    "    \"\"\"\n",
    "    x, y = 0,0\n",
    "    end_h, end_w = img.shape[0], img.shape[1]\n",
    "    stride = NO_LEISH_STRIDE\n",
    "    tot_img_area = WINDOW_SIZE * WINDOW_SIZE\n",
    "\n",
    "    is_looping = True\n",
    "    while((x + WINDOW_SIZE) <= end_h):\n",
    "        while((y + WINDOW_SIZE) <= end_w):\n",
    "            if (x + WINDOW_SIZE) > end_h or (y + WINDOW_SIZE) > end_w:\n",
    "                is_looping = False\n",
    "                break\n",
    "\n",
    "            img_patch = img[x:x+WINDOW_SIZE, y:y+WINDOW_SIZE]\n",
    "            mask_patch = mask[x:x+WINDOW_SIZE, y:y+WINDOW_SIZE]\n",
    "\n",
    "            out_name = f'{img_id[0:-4]}-{x}-{y}.png'\n",
    "            # mask_out_name = f'{img_id[0:-4]}-{x}-{y}.png'\n",
    "            if np.any(mask_patch == 1):\n",
    "                has_enough_leish = is_alpha(mask_patch, tot_img_area)\n",
    "                stride = WITH_LEISH_STRIDE\n",
    "                if has_enough_leish and img_patch.size > 0:\n",
    "                    cv2.imwrite(os.path.join(LEISH_OUTPUT_PATH, out_name), img_patch)\n",
    "                    # cv2.imwrite(LEISH_MASKS_OUTPUT_PATH+mask_out_name, mask_patch)\n",
    "            else:\n",
    "                stride = NO_LEISH_STRIDE\n",
    "                if np.count_nonzero(img_patch == 0) < 0.5 * tot_img_area and img_patch.size > 0: # change 255 to 0\n",
    "                    cv2.imwrite(os.path.join(NO_LEISH_OUTPUT_PATH, out_name), img_patch)\n",
    "\n",
    "            y += stride\n",
    "\n",
    "        x += stride\n",
    "        y = 0\n",
    "        if not is_looping:\n",
    "            break\n",
    "\n",
    "def dynamic_patcher(\n",
    "        IMGS_FOLDER_PATH=DST_FOLDER,\n",
    "        MASKS_FOLDER_PATH=BINMASK_FOLDER,\n",
    "        WITH_LEISH_STRIDE=WITH_LEISH_STRIDE,\n",
    "        NO_LEISH_STRIDE=NO_LEISH_STRIDE,\n",
    "    ):\n",
    "    \"\"\"\n",
    "    Processes a set of images and their corresponding masks, cropping and saving patches based on the presence of Leishmania.\n",
    "\n",
    "    Parameters:\n",
    "    - IMGS_FOLDER_PATH (str): Path to the folder containing images. Default from `config` module.\n",
    "    - MASKS_FOLDER_PATH (str): Path to the folder containing mask images. Default `config` module.\n",
    "    - WITH_LEISH_STRIDE (int): Stride for cropping images with Leishmania. Default `config` module.\n",
    "    - NO_LEISH_STRIDE (int): Stride for cropping images without Leishmania. Default `config` module.\n",
    "\n",
    "    Returns:\n",
    "    None\n",
    "    \"\"\"\n",
    "\n",
    "    all_imgs = os.listdir(IMGS_FOLDER_PATH)\n",
    "    all_imgs.remove('masks') # removed masks folder\n",
    "    all_masks = os.listdir(MASKS_FOLDER_PATH)\n",
    "\n",
    "    imgs_n_masks = zip(all_imgs, all_masks)\n",
    "    print('Total images = ', len(all_imgs), '\\nTotal masks = ', len(all_masks))\n",
    "\n",
    "    for img_id, mask_id in tqdm(imgs_n_masks, total=len(all_imgs)):\n",
    "        img = cv2.imread(os.path.join(IMGS_FOLDER_PATH,img_id))\n",
    "        img = cv2.cvtColor(img, cv2.COLOR_BGR2RGB)\n",
    "        # img = img / 255.0\n",
    "\n",
    "        mask = cv2.imread(os.path.join(MASKS_FOLDER_PATH,mask_id), 0)\n",
    "        mask = (mask > 0).astype(int)\n",
    "\n",
    "        crop(img, mask, img_id, WITH_LEISH_STRIDE, NO_LEISH_STRIDE)"
   ]
  },
  {
   "cell_type": "code",
   "execution_count": 119,
   "metadata": {},
   "outputs": [
    {
     "name": "stdout",
     "output_type": "stream",
     "text": [
      "Total images =  1825 \n",
      "Total masks =  1825\n"
     ]
    },
    {
     "name": "stderr",
     "output_type": "stream",
     "text": [
      " 40%|███▉      | 728/1825 [16:23<24:42,  1.35s/it]  \n"
     ]
    },
    {
     "ename": "KeyboardInterrupt",
     "evalue": "",
     "output_type": "error",
     "traceback": [
      "\u001b[1;31m---------------------------------------------------------------------------\u001b[0m",
      "\u001b[1;31mKeyboardInterrupt\u001b[0m                         Traceback (most recent call last)",
      "\u001b[1;32mc:\\Users\\ynk9a\\OneDrive\\Documentos\\malaria\\preprocess.ipynb Cell 10\u001b[0m line \u001b[0;36m1\n\u001b[1;32m----> <a href='vscode-notebook-cell:/c%3A/Users/ynk9a/OneDrive/Documentos/malaria/preprocess.ipynb#X41sZmlsZQ%3D%3D?line=0'>1</a>\u001b[0m dynamic_patcher()\n",
      "\u001b[1;32mc:\\Users\\ynk9a\\OneDrive\\Documentos\\malaria\\preprocess.ipynb Cell 10\u001b[0m line \u001b[0;36m9\n\u001b[0;32m     <a href='vscode-notebook-cell:/c%3A/Users/ynk9a/OneDrive/Documentos/malaria/preprocess.ipynb#X41sZmlsZQ%3D%3D?line=94'>95</a>\u001b[0m mask \u001b[39m=\u001b[39m cv2\u001b[39m.\u001b[39mimread(os\u001b[39m.\u001b[39mpath\u001b[39m.\u001b[39mjoin(MASKS_FOLDER_PATH,mask_id), \u001b[39m0\u001b[39m)\n\u001b[0;32m     <a href='vscode-notebook-cell:/c%3A/Users/ynk9a/OneDrive/Documentos/malaria/preprocess.ipynb#X41sZmlsZQ%3D%3D?line=95'>96</a>\u001b[0m mask \u001b[39m=\u001b[39m (mask \u001b[39m>\u001b[39m \u001b[39m0\u001b[39m)\u001b[39m.\u001b[39mastype(\u001b[39mint\u001b[39m)\n\u001b[1;32m---> <a href='vscode-notebook-cell:/c%3A/Users/ynk9a/OneDrive/Documentos/malaria/preprocess.ipynb#X41sZmlsZQ%3D%3D?line=97'>98</a>\u001b[0m crop(img, mask, img_id, WITH_LEISH_STRIDE, NO_LEISH_STRIDE)\n",
      "\u001b[1;32mc:\\Users\\ynk9a\\OneDrive\\Documentos\\malaria\\preprocess.ipynb Cell 10\u001b[0m line \u001b[0;36m5\n\u001b[0;32m     <a href='vscode-notebook-cell:/c%3A/Users/ynk9a/OneDrive/Documentos/malaria/preprocess.ipynb#X41sZmlsZQ%3D%3D?line=52'>53</a>\u001b[0m         stride \u001b[39m=\u001b[39m NO_LEISH_STRIDE\n\u001b[0;32m     <a href='vscode-notebook-cell:/c%3A/Users/ynk9a/OneDrive/Documentos/malaria/preprocess.ipynb#X41sZmlsZQ%3D%3D?line=53'>54</a>\u001b[0m         \u001b[39mif\u001b[39;00m np\u001b[39m.\u001b[39mcount_nonzero(img_patch \u001b[39m==\u001b[39m \u001b[39m0\u001b[39m) \u001b[39m<\u001b[39m \u001b[39m0.5\u001b[39m \u001b[39m*\u001b[39m tot_img_area \u001b[39mand\u001b[39;00m img_patch\u001b[39m.\u001b[39msize \u001b[39m>\u001b[39m \u001b[39m0\u001b[39m: \u001b[39m# change 255 to 0\u001b[39;00m\n\u001b[1;32m---> <a href='vscode-notebook-cell:/c%3A/Users/ynk9a/OneDrive/Documentos/malaria/preprocess.ipynb#X41sZmlsZQ%3D%3D?line=54'>55</a>\u001b[0m             cv2\u001b[39m.\u001b[39;49mimwrite(os\u001b[39m.\u001b[39;49mpath\u001b[39m.\u001b[39;49mjoin(NO_LEISH_OUTPUT_PATH, out_name), img_patch)\n\u001b[0;32m     <a href='vscode-notebook-cell:/c%3A/Users/ynk9a/OneDrive/Documentos/malaria/preprocess.ipynb#X41sZmlsZQ%3D%3D?line=56'>57</a>\u001b[0m     y \u001b[39m+\u001b[39m\u001b[39m=\u001b[39m stride\n\u001b[0;32m     <a href='vscode-notebook-cell:/c%3A/Users/ynk9a/OneDrive/Documentos/malaria/preprocess.ipynb#X41sZmlsZQ%3D%3D?line=58'>59</a>\u001b[0m x \u001b[39m+\u001b[39m\u001b[39m=\u001b[39m stride\n",
      "\u001b[1;31mKeyboardInterrupt\u001b[0m: "
     ]
    }
   ],
   "source": [
    "dynamic_patcher()"
   ]
  },
  {
   "cell_type": "markdown",
   "metadata": {},
   "source": [
    "# Downsample"
   ]
  },
  {
   "cell_type": "code",
   "execution_count": 10,
   "metadata": {},
   "outputs": [
    {
     "name": "stdout",
     "output_type": "stream",
     "text": [
      "Total leish images = 114789\n",
      "Total NO leish images = 43400\n"
     ]
    }
   ],
   "source": [
    "LEISH_OUTPUT_PATH = './patches-reduced/mal/'\n",
    "NO_LEISH_OUTPUT_PATH = './patches-reduced/no-mal/'\n",
    "leish_count = os.listdir(LEISH_OUTPUT_PATH)\n",
    "no_leish_count = os.listdir(NO_LEISH_OUTPUT_PATH)\n",
    "\n",
    "print(f'Total leish images = {len(leish_count)}\\nTotal NO leish images = {len(no_leish_count)}')"
   ]
  },
  {
   "cell_type": "code",
   "execution_count": 5,
   "metadata": {},
   "outputs": [],
   "source": [
    "k = 93089 # positive class\n",
    "w = 224608 # negative class"
   ]
  },
  {
   "cell_type": "code",
   "execution_count": 11,
   "metadata": {},
   "outputs": [
    {
     "name": "stdout",
     "output_type": "stream",
     "text": [
      "All 93089 images were removed from list of other images.\n",
      "Total mal images = 114789\n",
      "Total NO mal images = 43400\n"
     ]
    }
   ],
   "source": [
    "import random\n",
    "exclude_pos = random.sample(leish_count, k)\n",
    "# exclude_neg = random.sample(no_leish_count, w)\n",
    "\n",
    "for img_path in exclude_pos:\n",
    "    os.remove(os.path.join(LEISH_OUTPUT_PATH,img_path))\n",
    "\n",
    "print(f'All {k} images were removed from list of other images.')\n",
    "\n",
    "# for img_path in exclude_neg:\n",
    "#     os.remove(os.path.join(NO_LEISH_OUTPUT_PATH,img_path))\n",
    "\n",
    "# print(f'All {w} images were removed from list of other images.')\n",
    "# leish_count = os.listdir(LEISH_OUTPUT_PATH)\n",
    "# no_leish_count = os.listdir(NO_LEISH_OUTPUT_PATH)\n",
    "\n",
    "print(f'Total mal images = {len(leish_count)}\\nTotal NO mal images = {len(no_leish_count)}')"
   ]
  },
  {
   "cell_type": "code",
   "execution_count": 142,
   "metadata": {},
   "outputs": [
    {
     "name": "stdout",
     "output_type": "stream",
     "text": [
      "Removed 19215 images from list of priority images.\n"
     ]
    }
   ],
   "source": [
    "# priori_imgs = []\n",
    "\n",
    "# def is_all_black(img):\n",
    "#     return cv2.countNonZero(img) == 0\n",
    "\n",
    "# # Função para verificar se a imagem é totalmente branca\n",
    "# def is_all_white(img):\n",
    "#     return cv2.countNonZero(cv2.bitwise_not(img)) == 0\n",
    "\n",
    "# # Função para verificar se pelo menos 30% dos pixels são pretos\n",
    "# def has_threshold_black(img):\n",
    "#     total_pixels = img.shape[0] * img.shape[1]\n",
    "#     return cv2.countNonZero(img) / total_pixels < 0.7\n",
    "\n",
    "# for filename in leish_count:\n",
    "#     img_path = os.path.join(LEISH_OUTPUT_PATH, filename)\n",
    "\n",
    "#     # Carrega a imagem\n",
    "#     img = cv2.imread(img_path, cv2.IMREAD_GRAYSCALE)\n",
    "\n",
    "#     # Verifica se a imagem é totalmente preta\n",
    "#     if is_all_black(img) or is_all_white(img) or has_threshold_black(img):\n",
    "#         priori_imgs.append(img_path)\n",
    "\n",
    "# k = len(no_leish_count) - len(leish_count) * 2\n",
    "k = 0\n",
    "for img_path in priori_imgs:\n",
    "    os.remove(img_path)\n",
    "    k += 1\n",
    "\n",
    "print(f'Removed {k} images from list of priority images.')"
   ]
  },
  {
   "cell_type": "code",
   "execution_count": null,
   "metadata": {},
   "outputs": [],
   "source": []
  }
 ],
 "metadata": {
  "kernelspec": {
   "display_name": "tf_GPU2",
   "language": "python",
   "name": "python3"
  },
  "language_info": {
   "codemirror_mode": {
    "name": "ipython",
    "version": 3
   },
   "file_extension": ".py",
   "mimetype": "text/x-python",
   "name": "python",
   "nbconvert_exporter": "python",
   "pygments_lexer": "ipython3",
   "version": "3.9.18"
  }
 },
 "nbformat": 4,
 "nbformat_minor": 2
}
